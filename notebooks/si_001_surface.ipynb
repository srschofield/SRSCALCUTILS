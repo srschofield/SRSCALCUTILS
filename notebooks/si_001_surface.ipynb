{
 "cells": [
  {
   "cell_type": "markdown",
   "metadata": {},
   "source": [
    "<!-- # CNN autoencoder and Clustering from MTRX data\n",
    "\n",
    "Use this notebook to load Scienta Omicron Matrix format SPM data and create standardised images for machine learning training and analysis. The code can generate both JPG image data, useful for manually checking the data, and windowed numpy data that can be loaded into ML models. \n",
    "\n",
    "The notebook then creates an autoencoder for training on a large dataset, followed by KMEANS clustering. \n",
    "\n",
    "**Author**: Steven R. Schofield  \n",
    "**Created**: November, 2024 -->"
   ]
  },
  {
   "cell_type": "markdown",
   "metadata": {},
   "source": [
    "# CASTEP - Si 001 surface\n",
    "## Steven R. Schofield (Universtiy College London) May 2025"
   ]
  },
  {
   "cell_type": "markdown",
   "metadata": {},
   "source": [
    "### Load required modules"
   ]
  },
  {
   "cell_type": "code",
   "execution_count": 1,
   "metadata": {},
   "outputs": [
    {
     "name": "stdout",
     "output_type": "stream",
     "text": [
      "module_path = /Users/steven/academic-iCloud/Python/modules\n",
      "data_path = /Users/steven/academic-iCloud/Calculations/castep\n"
     ]
    }
   ],
   "source": [
    "import sys\n",
    "from pathlib import Path\n",
    "\n",
    "# Define candidate paths using Path objects\n",
    "module_path_list = [\n",
    "    Path('/Users/steven/academic-iCloud/Python/modules'),\n",
    "    Path('/hpc/srs/Python/modules')\n",
    "]\n",
    "\n",
    "data_path_list = [\n",
    "    Path('/Users/steven/academic-iCloud/Calculations/castep/'),\n",
    "    Path('/hpc/srs/castep')\n",
    "]\n",
    "\n",
    "# Resolve actual paths\n",
    "module_path = next((p for p in module_path_list if p.exists()), None)\n",
    "data_path = next((p for p in data_path_list if p.exists()), None)\n",
    "\n",
    "# Check and report missing paths\n",
    "if module_path is None:\n",
    "    print(\"Error: Could not locate a valid module path.\")\n",
    "if data_path is None:\n",
    "    print(\"Error: Could not locate a valid data path.\")\n",
    "\n",
    "if module_path is None or data_path is None:\n",
    "    sys.exit(1)\n",
    "\n",
    "# Add module_path to sys.path if needed\n",
    "if str(module_path) not in sys.path:\n",
    "    sys.path.insert(0, str(module_path))\n",
    "\n",
    "# Print resolved paths\n",
    "print(f\"module_path = {module_path}\")\n",
    "print(f\"data_path = {data_path}\")"
   ]
  },
  {
   "cell_type": "code",
   "execution_count": 2,
   "metadata": {},
   "outputs": [
    {
     "data": {
      "application/vnd.jupyter.widget-view+json": {
       "model_id": "55120c227eb644d79fa146372bf2285c",
       "version_major": 2,
       "version_minor": 0
      },
      "text/plain": []
     },
     "metadata": {},
     "output_type": "display_data"
    }
   ],
   "source": [
    "# # Ensure modules are reloaded \n",
    "%load_ext autoreload\n",
    "%autoreload 2\n",
    "\n",
    "# Import standard modules\n",
    "import numpy as np\n",
    "import pandas as pd\n",
    "import os\n",
    "from matplotlib import pyplot as plt\n",
    "\n",
    "# Import custom module\n",
    "import SRSCALCUTILS.castep_tools as ct\n",
    "\n",
    "from IPython.display import display"
   ]
  },
  {
   "cell_type": "markdown",
   "metadata": {},
   "source": [
    "### Job paths"
   ]
  },
  {
   "cell_type": "code",
   "execution_count": 3,
   "metadata": {},
   "outputs": [
    {
     "name": "stdout",
     "output_type": "stream",
     "text": [
      "job_path = /Users/steven/academic-iCloud/Calculations/castep/work-2025/si001_surf\n"
     ]
    }
   ],
   "source": [
    "# Parameters for windows creation\n",
    "# General\n",
    "job_folder = 'work-2025/si001_surf'\n",
    "job_path = data_path / job_folder\n",
    "verbose = False             # Set this True to print out more information\n",
    "\n",
    "# Print resolved paths\n",
    "print(f\"job_path = {job_path}\")"
   ]
  },
  {
   "cell_type": "code",
   "execution_count": 4,
   "metadata": {},
   "outputs": [
    {
     "name": "stdout",
     "output_type": "stream",
     "text": [
      "Now in: /Users/steven/Library/Mobile Documents/com~apple~CloudDocs/academic/Calculations/castep/work-2025/si001_surf\n",
      "Files: ['si001_test.cell', 'si001_test.param']\n"
     ]
    }
   ],
   "source": [
    "# If it doesn’t exist, create it (including any missing parent folders)\n",
    "if not os.path.isdir(job_path):\n",
    "    os.makedirs(job_path, exist_ok=True)\n",
    "\n",
    "# Now safely switch into it\n",
    "os.chdir(job_path)\n",
    "\n",
    "print(\"Now in:\", os.getcwd())\n",
    "print(\"Files:\", os.listdir())"
   ]
  },
  {
   "cell_type": "markdown",
   "metadata": {},
   "source": [
    "### Optimised params"
   ]
  },
  {
   "cell_type": "code",
   "execution_count": 5,
   "metadata": {},
   "outputs": [],
   "source": [
    "# Set up the param and cell files for the calculation\n",
    "\n",
    "filename = \"si001_surf\"\n",
    "title = \"silicon 001 surface tests\"\n",
    "\n",
    "params = {'task' : 'geomopt',\n",
    "          'xc_functional'           : 'PBE',\n",
    "          'cut_off_energy'          : 700,\n",
    "          'spin_polarised'          : 'false',\n",
    "          'write_cell_structure'    : 'true',\n",
    "          'charge'                  : 0,\n",
    "          'nextra_bands'            : 4,\n",
    "          'geom_energy_tol'         : 0.00005,          # default: 0.00005 eV \n",
    "          'geom_disp_tol'           : 0.002,            # default: 0.002 Ang.\n",
    "          'geom_max_iter'           : 100,              # default: 30\n",
    "          'geom_convergence_win'    : 2,                # default: 2\n",
    "          'max_scf_cycles'          : 300               # default: 30\n",
    "          }              \n",
    "\n",
    "lattice_cart = np.array([\n",
    "            [3.8641976,     0.0,     0.0],\n",
    "            [0.0,     3.8641976,     0.0],\n",
    "            [0.0,     0.0,     5.4648012]\n",
    "        ])\n",
    "\n",
    "positions_frac = np.array([\n",
    "            ['H', 0.0,  0.0,  0.0],\n",
    "            ['Si', 0.5,  0.0,  0.25],\n",
    "            ['Si', 0.5,  0.5,  0.5],\n",
    "            ['Si', 0.0,  0.5,  0.75],\n",
    "        ])\n",
    "\n",
    "cell_constraints = np.array([\n",
    "            [1,  1,  2],\n",
    "            [0,  0,  0]\n",
    "        ])\n",
    "\n",
    "kpoints_mp_grid = np.array([8, 8, 4])\n",
    "\n",
    "fix_all_ions = True\n",
    "symmetry_generate=False\n",
    "symmetry_tol = 0.01"
   ]
  },
  {
   "cell_type": "code",
   "execution_count": 6,
   "metadata": {},
   "outputs": [
    {
     "name": "stdout",
     "output_type": "stream",
     "text": [
      "[['Si' 0.5 0.75 0.75]\n",
      " ['Si' 0.0 0.75 0.75]\n",
      " ['Si' 0.5 0.25 0.75]\n",
      " ['Si' 0.0 0.25 0.75]\n",
      " ['Si' 0.75 0.75 0.5]\n",
      " ['Si' 0.25 0.75 0.5]\n",
      " ['Si' 0.75 0.25 0.5]\n",
      " ['Si' 0.25 0.25 0.5]\n",
      " ['Si' 0.75 0.5 0.25]\n",
      " ['Si' 0.25 0.5 0.25]\n",
      " ['Si' 0.75 0.0 0.25]\n",
      " ['Si' 0.25 0.0 0.25]\n",
      " ['H' 0.5 0.5 0.0]\n",
      " ['H' 0.0 0.5 0.0]\n",
      " ['H' 0.5 0.0 0.0]\n",
      " ['H' 0.0 0.0 0.0]]\n"
     ]
    }
   ],
   "source": [
    "na=2\n",
    "nb=2\n",
    "nc=1\n",
    "\n",
    "positions_frac = ct.create_supercell_from_fractional_coords(\n",
    "    positions_frac,\n",
    "    na=na,\n",
    "    nb=nb,\n",
    "    nc=nc)\n",
    "\n",
    "print(positions_frac)"
   ]
  },
  {
   "cell_type": "code",
   "execution_count": 61,
   "metadata": {},
   "outputs": [
    {
     "name": "stdout",
     "output_type": "stream",
     "text": [
      "[[1 False 'Si' 0.5 0.75 0.75]\n",
      " [2 False 'Si' 0.0 0.75 0.75]\n",
      " [3 False 'Si' 0.5 0.25 0.75]\n",
      " [4 False 'Si' 0.0 0.25 0.75]\n",
      " [5 False 'Si' 0.75 0.75 0.5]\n",
      " [6 False 'Si' 0.25 0.75 0.5]\n",
      " [7 False 'Si' 0.75 0.25 0.5]\n",
      " [8 False 'Si' 0.25 0.25 0.5]\n",
      " [9 True 'Si' 0.75 0.5 0.25]\n",
      " [10 True 'Si' 0.25 0.5 0.25]\n",
      " [11 True 'Si' 0.75 0.0 0.25]\n",
      " [12 True 'Si' 0.25 0.0 0.25]\n",
      " [13 True 'H' 0.5 0.5 0.0]\n",
      " [14 True 'H' 0.0 0.5 0.0]\n",
      " [15 True 'H' 0.5 0.0 0.0]\n",
      " [16 True 'H' 0.0 0.0 0.0]]\n",
      "%BLOCK ionic_constraints\n",
      "    1 Si         1    1.00000000    0.00000000    0.00000000\n",
      "    2 Si         1    0.00000000    1.00000000    0.00000000\n",
      "    3 Si         1    0.00000000    0.00000000    1.00000000\n",
      "    4 Si         2    1.00000000    0.00000000    0.00000000\n",
      "    5 Si         2    0.00000000    1.00000000    0.00000000\n",
      "    6 Si         2    0.00000000    0.00000000    1.00000000\n",
      "    7 Si         3    1.00000000    0.00000000    0.00000000\n",
      "    8 Si         3    0.00000000    1.00000000    0.00000000\n",
      "    9 Si         3    0.00000000    0.00000000    1.00000000\n",
      "   10 Si         4    1.00000000    0.00000000    0.00000000\n",
      "   11 Si         4    0.00000000    1.00000000    0.00000000\n",
      "   12 Si         4    0.00000000    0.00000000    1.00000000\n",
      "   13 H         5    1.00000000    0.00000000    0.00000000\n",
      "   14 H         5    0.00000000    1.00000000    0.00000000\n",
      "   15 H         5    0.00000000    0.00000000    1.00000000\n",
      "   16 H         6    1.00000000    0.00000000    0.00000000\n",
      "   17 H         6    0.00000000    1.00000000    0.00000000\n",
      "   18 H         6    0.00000000    0.00000000    1.00000000\n",
      "   19 H         7    1.00000000    0.00000000    0.00000000\n",
      "   20 H         7    0.00000000    1.00000000    0.00000000\n",
      "   21 H         7    0.00000000    0.00000000    1.00000000\n",
      "   22 H         8    1.00000000    0.00000000    0.00000000\n",
      "   23 H         8    0.00000000    1.00000000    0.00000000\n",
      "   24 H         8    0.00000000    0.00000000    1.00000000\n",
      "%ENDBLOCK ionic_constraints\n"
     ]
    }
   ],
   "source": [
    "import numpy as np\n",
    "\n",
    "\n",
    "\n",
    "# Select atoms with z < 3 Angstrom or atom Si\n",
    "cond = \"z < 2\"\n",
    "exclude = None\n",
    "include = None\n",
    "result = ct.select_atoms_by_region(positions_frac, lattice_cart, cond,exclude=exclude, include=include)\n",
    "print(result)\n",
    "cons = ct.write_ionic_constraints(result)\n",
    "for line in cons:\n",
    "    print(line)"
   ]
  },
  {
   "cell_type": "code",
   "execution_count": null,
   "metadata": {},
   "outputs": [],
   "source": []
  },
  {
   "cell_type": "code",
   "execution_count": null,
   "metadata": {},
   "outputs": [
    {
     "name": "stdout",
     "output_type": "stream",
     "text": [
      "%BLOCK ionic_constraints\n",
      "    1 Si         1    1.00000000    0.00000000    0.00000000\n",
      "    2 Si         1    0.00000000    1.00000000    0.00000000\n",
      "    3 Si         1    0.00000000    0.00000000    1.00000000\n",
      "    4 Si         2    1.00000000    0.00000000    0.00000000\n",
      "    5 Si         2    0.00000000    1.00000000    0.00000000\n",
      "    6 Si         2    0.00000000    0.00000000    1.00000000\n",
      "    7 Si         3    1.00000000    0.00000000    0.00000000\n",
      "    8 Si         3    0.00000000    1.00000000    0.00000000\n",
      "    9 Si         3    0.00000000    0.00000000    1.00000000\n",
      "   10 Si         4    1.00000000    0.00000000    0.00000000\n",
      "   11 Si         4    0.00000000    1.00000000    0.00000000\n",
      "   12 Si         4    0.00000000    0.00000000    1.00000000\n",
      "   13 H         5    1.00000000    0.00000000    0.00000000\n",
      "   14 H         5    0.00000000    1.00000000    0.00000000\n",
      "   15 H         5    0.00000000    0.00000000    1.00000000\n",
      "   16 H         6    1.00000000    0.00000000    0.00000000\n",
      "   17 H         6    0.00000000    1.00000000    0.00000000\n",
      "   18 H         6    0.00000000    0.00000000    1.00000000\n",
      "%ENDBLOCK ionic_constraints\n"
     ]
    }
   ],
   "source": []
  },
  {
   "cell_type": "code",
   "execution_count": null,
   "metadata": {},
   "outputs": [],
   "source": []
  },
  {
   "cell_type": "code",
   "execution_count": null,
   "metadata": {},
   "outputs": [
    {
     "name": "stdout",
     "output_type": "stream",
     "text": [
      "================================================================================\n",
      "CASTEP file: /Users/steven/academic-iCloud/Calculations/castep/work-2025/si001_surf/si001_test.castep\n",
      "================================================================================\n",
      "\n",
      "Wrote param file to: /Users/steven/academic-iCloud/Calculations/castep/work-2025/si001_surf/si001_test.param\n",
      "Wrote cell file to: /Users/steven/academic-iCloud/Calculations/castep/work-2025/si001_surf/si001_test.cell\n"
     ]
    }
   ],
   "source": [
    "filename = f\"si001_test\"\n",
    "castep_path = job_path / f\"{filename}.castep\"\n",
    "\n",
    "print('=' * 80 + f'\\nCASTEP file: {castep_path}\\n' + '=' * 80 + '\\n')   \n",
    "\n",
    "_ = ct.write_param_file(\n",
    "    params,\n",
    "    title = title,\n",
    "    filename=filename,\n",
    "    path=job_path,\n",
    "    display_file=False\n",
    "    )\n",
    "\n",
    "_ = ct.write_bulk_cell_file(\n",
    "    title = title,\n",
    "    path=job_path,\n",
    "    filename=filename,\n",
    "    lattice_cart=lattice_cart,\n",
    "    positions_frac=positions_frac,\n",
    "    cell_constraints=cell_constraints,\n",
    "    fix_all_ions=True,\n",
    "    symmetry_generate=symmetry_generate,\n",
    "    symmetry_tol = symmetry_tol,\n",
    "    kpoints_mp_grid=kpoints_mp_grid,\n",
    "    display_file=False\n",
    ")\n",
    "\n"
   ]
  },
  {
   "cell_type": "code",
   "execution_count": null,
   "metadata": {},
   "outputs": [],
   "source": [
    "# if str(module_path) == '/hpc/srs/Python/modules':\n",
    "#     !bash -l -c \"mpirun -np 62 castep.mpi {filename}\"\n",
    "# else:\n",
    "#     !zsh -l -c \"castepmpi {filename}\"\n",
    "\n",
    "# unit_cell, a, b, c, alpha, beta, gamma = ct.get_final_lattice_parameters(castep_path)\n",
    "# energy_optimisation = ct.get_LBFGS_energies(castep_path)\n",
    "# energies = [val for _, val in energy_optimisation]\n",
    "# energy = energies[-1]\n",
    "\n",
    "# print('Optimised energy {} eV'.format(energy))\n",
    "# print('Optimised lattice constants a,b = {} Ang., c = {} Ang.'.format(a,c))\n",
    "# print('Unit cell:')\n",
    "# for line in unit_cell:\n",
    "#     print(' '*2,np.abs(line))\n"
   ]
  }
 ],
 "metadata": {
  "kernelspec": {
   "display_name": "dfttools",
   "language": "python",
   "name": "python3"
  },
  "language_info": {
   "codemirror_mode": {
    "name": "ipython",
    "version": 3
   },
   "file_extension": ".py",
   "mimetype": "text/x-python",
   "name": "python",
   "nbconvert_exporter": "python",
   "pygments_lexer": "ipython3",
   "version": "3.11.8"
  }
 },
 "nbformat": 4,
 "nbformat_minor": 2
}
