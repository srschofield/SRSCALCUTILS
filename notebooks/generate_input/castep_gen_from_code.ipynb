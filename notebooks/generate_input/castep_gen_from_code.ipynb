{
 "cells": [
  {
   "cell_type": "markdown",
   "metadata": {},
   "source": [
    "<!-- # CNN autoencoder and Clustering from MTRX data\n",
    "\n",
    "Use this notebook to load Scienta Omicron Matrix format SPM data and create standardised images for machine learning training and analysis. The code can generate both JPG image data, useful for manually checking the data, and windowed numpy data that can be loaded into ML models. \n",
    "\n",
    "The notebook then creates an autoencoder for training on a large dataset, followed by KMEANS clustering. \n",
    "\n",
    "**Author**: Steven R. Schofield  \n",
    "**Created**: November, 2024 -->"
   ]
  },
  {
   "cell_type": "markdown",
   "metadata": {},
   "source": [
    "# CASTEP - Si 001 surface - from code\n",
    "## Steven R. Schofield (Universtiy College London) May 2025"
   ]
  },
  {
   "cell_type": "markdown",
   "metadata": {},
   "source": [
    "### Determine appropriate paths whether we are working on macbook or the cluster"
   ]
  },
  {
   "cell_type": "code",
   "execution_count": null,
   "metadata": {},
   "outputs": [
    {
     "name": "stdout",
     "output_type": "stream",
     "text": [
      "si001_bulk \n",
      " si001_bulk_123\n"
     ]
    }
   ],
   "source": [
    "import numpy as np \n",
    "\n",
    "# Supercell size\n",
    "n_supercell = (1,1,3)\n",
    "\n",
    "# Params\n",
    "cut_off_energy = 700\n",
    "spin_polarised = 'false'\n",
    "nextra_bands = 12\n",
    "\n",
    "# Cell params\n",
    "kpoints_mp_grid = np.array([8, 4, 1])\n",
    "vac = 15\n",
    "\n",
    "# Job queue params\n",
    "queue_name='A_192T_512G.q'\n",
    "available_cores=192\n",
    "available_memory='512G'\n",
    "threads=8\n",
    "\n",
    "a, b, c = n_supercell\n",
    "s = f\"{a}{b*2}{c}\"\n",
    "\n",
    "kx, ky, kz = kpoints_mp_grid\n",
    "kp = f\"{kx}x{ky}x{kz}\"\n",
    "\n",
    "job_folder = \"si001_bulk\"\n",
    "filename = \"si001_bulk_\"+s\n",
    "print(job_folder, \"\\n\", filename)"
   ]
  },
  {
   "cell_type": "code",
   "execution_count": 170,
   "metadata": {},
   "outputs": [
    {
     "name": "stdout",
     "output_type": "stream",
     "text": [
      "module_path = /Users/steven/academic-iCloud/Python/modules\n",
      "data_path = /Users/steven/Castep-data/work\n"
     ]
    }
   ],
   "source": [
    "import sys\n",
    "from pathlib import Path\n",
    "\n",
    "# Define candidate paths using Path objects\n",
    "module_path_list = [\n",
    "    Path('/Users/steven/academic-iCloud/Python/modules'),\n",
    "    Path('/hpc/srs/Python/modules')\n",
    "]\n",
    "\n",
    "data_path_list = [\n",
    "    Path('/Users/steven/Castep-data/work'),\n",
    "    Path('/hpc/srs/castep')\n",
    "]\n",
    "\n",
    "# Resolve actual paths\n",
    "module_path = next((p for p in module_path_list if p.exists()), None)\n",
    "data_path = next((p for p in data_path_list if p.exists()), None)\n",
    "\n",
    "# Check and report missing paths\n",
    "if module_path is None:\n",
    "    print(\"Error: Could not locate a valid module path.\")\n",
    "if data_path is None:\n",
    "    print(\"Error: Could not locate a valid data path.\")\n",
    "\n",
    "if module_path is None or data_path is None:\n",
    "    sys.exit(1)\n",
    "\n",
    "# Add module_path to sys.path if needed\n",
    "if str(module_path) not in sys.path:\n",
    "    sys.path.insert(0, str(module_path))\n",
    "\n",
    "# Print resolved paths\n",
    "print(f\"module_path = {module_path}\")\n",
    "print(f\"data_path = {data_path}\")"
   ]
  },
  {
   "cell_type": "markdown",
   "metadata": {},
   "source": [
    "### Import modules"
   ]
  },
  {
   "cell_type": "code",
   "execution_count": 171,
   "metadata": {},
   "outputs": [
    {
     "name": "stdout",
     "output_type": "stream",
     "text": [
      "The autoreload extension is already loaded. To reload it, use:\n",
      "  %reload_ext autoreload\n"
     ]
    }
   ],
   "source": [
    "# # Ensure modules are reloaded \n",
    "%load_ext autoreload\n",
    "%autoreload 2\n",
    "\n",
    "# Import standard modules\n",
    "import numpy as np\n",
    "import pandas as pd\n",
    "import os\n",
    "from matplotlib import pyplot as plt\n",
    "\n",
    "# Import custom module\n",
    "import SRSCALCUTILS.castep_tools as ct\n",
    "\n",
    "from IPython.display import display"
   ]
  },
  {
   "cell_type": "markdown",
   "metadata": {},
   "source": [
    "### Paths for the calculation"
   ]
  },
  {
   "cell_type": "code",
   "execution_count": 172,
   "metadata": {},
   "outputs": [
    {
     "name": "stdout",
     "output_type": "stream",
     "text": [
      "job_path = /Users/steven/Castep-data/work/si001_bulk\n"
     ]
    }
   ],
   "source": [
    "# General\n",
    "job_folder = job_folder\n",
    "filename = filename\n",
    "\n",
    "title = \"Job folder: {}. Filename: {}.\".format(job_folder, filename)\n",
    "job_path = data_path / job_folder\n",
    "verbose = False             # Set this True to print out more information\n",
    "\n",
    "# Print resolved paths\n",
    "print(f\"job_path = {job_path}\")\n",
    "\n",
    "# If it doesn’t exist, create it (including any missing parent folders)\n",
    "if not os.path.isdir(job_path):\n",
    "    os.makedirs(job_path, exist_ok=True)\n",
    "\n",
    "# Now safely switch into it\n",
    "os.chdir(job_path)\n",
    "\n",
    "#ct.delete_all_files_in_cwd(force=True)"
   ]
  },
  {
   "cell_type": "markdown",
   "metadata": {},
   "source": [
    "### Base parameters of calculation and unit cell"
   ]
  },
  {
   "cell_type": "code",
   "execution_count": 173,
   "metadata": {},
   "outputs": [],
   "source": [
    "params = {'task' : 'geomopt',\n",
    "          'xc_functional'           : 'PBE',\n",
    "          'cut_off_energy'          : cut_off_energy,\n",
    "          'spin_polarised'          : spin_polarised,\n",
    "          'write_cell_structure'    : 'true',\n",
    "          'charge'                  : 0,\n",
    "          'nextra_bands'            : nextra_bands,\n",
    "          'geom_energy_tol'         : 0.00005,          # default: 0.00005 eV \n",
    "          'geom_disp_tol'           : 0.002,            # default: 0.002 Ang.\n",
    "          'geom_max_iter'           : 100,              # default: 30\n",
    "          'geom_convergence_win'    : 2,                # default: 2\n",
    "          'max_scf_cycles'          : 300               # default: 30\n",
    "          }              \n",
    "\n",
    "cell_constraints = np.array([\n",
    "            [1,  1,  2],\n",
    "            [0,  0,  0]\n",
    "        ])\n",
    "\n",
    "kpoints_mp_grid = kpoints_mp_grid\n",
    "\n",
    "fix_all_ions = True\n",
    "symmetry_generate=True\n",
    "symmetry_tol = 0.01"
   ]
  },
  {
   "cell_type": "code",
   "execution_count": 174,
   "metadata": {},
   "outputs": [],
   "source": [
    "lattice_cart_bulk = np.array([\n",
    "            [3.8641976,     0.0,     0.0],\n",
    "            [0.0,     7.7283952,     0.0],\n",
    "            [0.0,     0.0,     5.4648012]\n",
    "        ])\n",
    "\n",
    "positions_frac_bulk = np.array([   \n",
    "   ['Si',       0.0000000000,    0.7500000000,    0.7500000000],\n",
    "   ['Si',       0.0000000000,    0.2500000000,    0.7500000000],\n",
    "   ['Si',       0.5000000000,    0.7500000000,    0.5000000000],\n",
    "   ['Si',       0.5000000000,    0.2500000000,    0.5000000000],\n",
    "   ['Si',       0.5000000000,    0.5000000000,    0.2500000000],\n",
    "   ['Si',       0.5000000000,    0.0000000000,    0.2500000000],\n",
    "   ['Si',       0.0000000000,    0.5000000000,    0.0000000000],\n",
    "   ['Si',       0.0000000000,    0.0000000000,    0.0000000000]\n",
    "], dtype=object)\n"
   ]
  },
  {
   "cell_type": "markdown",
   "metadata": {},
   "source": [
    "### Create supercell -- programatically"
   ]
  },
  {
   "cell_type": "code",
   "execution_count": 175,
   "metadata": {},
   "outputs": [],
   "source": [
    "n = n_supercell\n",
    "positions_frac, lattice_cart = ct.create_supercell_from_fractional_coords(positions_frac_bulk,lattice_cart_bulk,n)\n",
    "positions_frac = ct.sort_positions_frac(positions_frac)"
   ]
  },
  {
   "cell_type": "markdown",
   "metadata": {},
   "source": [
    "### Add hydrogen termination to cell bottom "
   ]
  },
  {
   "cell_type": "code",
   "execution_count": 176,
   "metadata": {},
   "outputs": [],
   "source": [
    "# # First select the atoms on the bottom layer \n",
    "# criteria = ('min','min','min')\n",
    "# selected_atom_frac, selected_atom_cart = ct.select_atom_by_conditions(positions_frac, lattice_cart, criteria)\n",
    "# reference_position = selected_atom_cart[1:]\n",
    "# plane = (0,0,1)\n",
    "# labelled_positions_frac = ct.select_atoms_by_plane(\n",
    "#     positions_frac,\n",
    "#     lattice_cart,\n",
    "#     plane,\n",
    "#     reference_position,\n",
    "#     tolerance=1\n",
    "# )\n",
    "\n",
    "# # Next calculate the relative bond vectors for the two hydrogen atoms (per Si)\n",
    "# phi = np.deg2rad(90)    \n",
    "# si_h_bond = 1.5                         \n",
    "# theta_h1 = np.deg2rad(180) - np.arccos(-1/3) / 2                \n",
    "# theta_h2 = np.deg2rad(180) + np.arccos(-1/3) / 2            \n",
    "# bond_h1  = ct.bond_vector_from_spherical(theta_h1, phi, si_h_bond)                   \n",
    "# bond_h2  = ct.bond_vector_from_spherical(theta_h2, phi, si_h_bond)\n",
    "\n",
    "# # Now add the hydrogen atoms to the silicon atoms selected above using the calculated bond vectors\n",
    "# positions_frac, lattice_cart = ct.add_atoms_to_positions_frac(\n",
    "#                                     labelled_positions_frac,\n",
    "#                                     lattice_cart,\n",
    "#                                     [bond_h1,bond_h2],\n",
    "#                                     extend_unit_cell=(0, 0, 1),\n",
    "#                                     atom=\"H\")\n",
    "# positions_frac = ct.sort_positions_frac(positions_frac)"
   ]
  },
  {
   "cell_type": "markdown",
   "metadata": {},
   "source": [
    "### Select the surface atoms"
   ]
  },
  {
   "cell_type": "code",
   "execution_count": 177,
   "metadata": {},
   "outputs": [],
   "source": [
    "# # Find a surface atom to define the surface plane\n",
    "# criteria = ('min','min','max')\n",
    "# selected_atom_frac, selected_atom_cart = ct.select_atom_by_conditions(positions_frac, lattice_cart, criteria)\n",
    "# reference_position = selected_atom_cart[1:]\n",
    "# plane = (0,0,1)\n",
    "\n",
    "# # Label the atoms at the 001 surface\n",
    "# labelled_positions_frac_surf = ct.select_atoms_by_plane(\n",
    "#     positions_frac,\n",
    "#     lattice_cart,\n",
    "#     plane,\n",
    "#     reference_position,\n",
    "#     tolerance=1\n",
    "# )\n",
    "\n",
    "# # Sublabel the two atoms of each dimer p(2x1)\n",
    "# labelled_positions_frac_dim1, labelled_positions_frac_dim2 = ct.selected_toggle_plane_selection(\n",
    "#     labelled_positions_frac_surf, \n",
    "#     fast='y', \n",
    "#     slow='x', \n",
    "#     alternate=False\n",
    "# )"
   ]
  },
  {
   "cell_type": "markdown",
   "metadata": {},
   "source": [
    "### Dimerise surface (2x1)"
   ]
  },
  {
   "cell_type": "code",
   "execution_count": 178,
   "metadata": {},
   "outputs": [],
   "source": [
    "# # Dimerise surface\n",
    "# disp_y = 0.734\n",
    "# disp_z = 0.242\n",
    "# v1 = (0,-disp_y,-disp_z)\n",
    "# v2 = (0,disp_y,-disp_z)\n",
    "# positions_frac = ct.selected_translate(labelled_positions_frac_dim1, lattice_cart, v1, return_labelled=False)\n",
    "\n",
    "# labelled_positions_frac_dim2 = ct.update_labelled_positions_frac(labelled_positions_frac_dim2,positions_frac)\n",
    "# positions_frac = ct.selected_translate(labelled_positions_frac_dim2, lattice_cart, v2, return_labelled=False)\n",
    "\n"
   ]
  },
  {
   "cell_type": "markdown",
   "metadata": {},
   "source": [
    "### Dimerise surface (add c4x2) buckling)"
   ]
  },
  {
   "cell_type": "code",
   "execution_count": 179,
   "metadata": {},
   "outputs": [],
   "source": [
    "# # Sublabel the two atoms of each dimer c(4x2)\n",
    "# labelled_positions_frac_buc1, labelled_positions_frac_buc2 = ct.selected_toggle_plane_selection(\n",
    "#     labelled_positions_frac_surf, \n",
    "#     fast='y', \n",
    "#     slow='x', \n",
    "#     alternate=True\n",
    "# )\n",
    "\n",
    "# disp_y = 0.0\n",
    "# disp_z = 0.4\n",
    "# v1 = (0,-disp_y,-disp_z)\n",
    "# v2 = (0,disp_y,disp_z)\n",
    "\n",
    "# labelled_positions_frac_buc1 = ct.update_labelled_positions_frac(labelled_positions_frac_buc1,positions_frac)\n",
    "# positions_frac = ct.selected_translate(labelled_positions_frac_buc1, lattice_cart, v1, return_labelled=False)\n",
    "\n",
    "# labelled_positions_frac_buc2 = ct.update_labelled_positions_frac(labelled_positions_frac_buc2,positions_frac)\n",
    "# positions_frac = ct.selected_translate(labelled_positions_frac_buc2, lattice_cart, v2, return_labelled=False)\n"
   ]
  },
  {
   "cell_type": "markdown",
   "metadata": {},
   "source": [
    "### Add hydrogen to the top"
   ]
  },
  {
   "cell_type": "code",
   "execution_count": 180,
   "metadata": {},
   "outputs": [],
   "source": [
    "# # Updated surface labels with current surface positions after dimerisation\n",
    "# labelled_positions_frac_surf = ct.update_labelled_positions_frac(labelled_positions_frac_surf,positions_frac)\n",
    "# labelled_positions_frac_dim1 = ct.update_labelled_positions_frac(labelled_positions_frac_dim1,positions_frac)\n",
    "# labelled_positions_frac_dim2 = ct.update_labelled_positions_frac(labelled_positions_frac_dim2,positions_frac)\n",
    "\n",
    "# # Next calculate the relative bond vectors for the two hydrogen atoms (per Si)\n",
    "# phi = np.deg2rad(90)    \n",
    "# si_h_bond = 1.5                         \n",
    "# # theta_h1 = np.deg2rad(0) + np.arccos(-1/3) / 2                \n",
    "# # theta_h2 = np.deg2rad(0) - np.arccos(-1/3) / 2            \n",
    "# theta = 20 # degrees\n",
    "# theta_h1 = np.deg2rad(theta)\n",
    "# theta_h2 = np.deg2rad(360 - theta)\n",
    "# bond_h1  = ct.bond_vector_from_spherical(theta_h1, phi, si_h_bond)                   \n",
    "# bond_h2  = ct.bond_vector_from_spherical(theta_h2, phi, si_h_bond)\n",
    "\n",
    "# # Now add the hydrogen atoms to the silicon atoms selected above using the calculated bond vectors\n",
    "# positions_frac_h1, lattice_cart = ct.add_atoms_to_positions_frac(\n",
    "#                                     labelled_positions_frac_dim1,\n",
    "#                                     lattice_cart,\n",
    "#                                     bond_h1,\n",
    "#                                     extend_unit_cell=(0, 0, 1),\n",
    "#                                     atom=\"H\")\n",
    "\n",
    "# # Now add the hydrogen atoms to the silicon atoms selected above using the calculated bond vectors\n",
    "# positions_frac_h2, lattice_cart = ct.add_atoms_to_positions_frac(\n",
    "#                                     labelled_positions_frac_dim2,\n",
    "#                                     lattice_cart,\n",
    "#                                     bond_h2,\n",
    "#                                     extend_unit_cell=(0, 0, 1),\n",
    "#                                     atom=\"H\")\n",
    "\n",
    "# # Merge the two sets of positions_frac for the two sets of surface hydrogen atoms and resort. \n",
    "# positions_frac = ct.merge_posfrac_or_labelled_posfrac(positions_frac_h1, positions_frac_h2)\n",
    "# positions_frac = ct.sort_positions_frac(positions_frac)"
   ]
  },
  {
   "cell_type": "markdown",
   "metadata": {},
   "source": [
    "### Add vacuum spacing"
   ]
  },
  {
   "cell_type": "code",
   "execution_count": 181,
   "metadata": {},
   "outputs": [],
   "source": [
    "# vac = vac\n",
    "# positions_frac, lattice_cart = ct.create_vacuum_spacing(positions_frac, lattice_cart, vac)"
   ]
  },
  {
   "cell_type": "markdown",
   "metadata": {},
   "source": [
    "### Add ionic contraints"
   ]
  },
  {
   "cell_type": "code",
   "execution_count": 182,
   "metadata": {},
   "outputs": [],
   "source": [
    "# # Create fixed ion constraints\n",
    "# conditions = \"z < 2.5\"\n",
    "# ionic_constraints = ct.select_atoms_by_region(positions_frac, lattice_cart, conditions)"
   ]
  },
  {
   "cell_type": "code",
   "execution_count": 183,
   "metadata": {},
   "outputs": [
    {
     "name": "stdout",
     "output_type": "stream",
     "text": [
      "================================================================================\n",
      "CASTEP file: /Users/steven/Castep-data/work/si001_bulk/si001_bulk_123.castep\n",
      "================================================================================\n",
      "\n",
      "Wrote param file to: /Users/steven/Castep-data/work/si001_bulk/si001_bulk_123.param\n",
      "!TITLE: Job folder: si001_bulk. Filename: si001_bulk_123.\n",
      "\n",
      "TASK                 : geomopt\n",
      "XC_FUNCTIONAL        : PBE\n",
      "CUT_OFF_ENERGY       : 700\n",
      "SPIN_POLARISED       : false\n",
      "WRITE_CELL_STRUCTURE : true\n",
      "CHARGE               : 0\n",
      "NEXTRA_BANDS         : 12\n",
      "GEOM_ENERGY_TOL      : 5e-05\n",
      "GEOM_DISP_TOL        : 0.002\n",
      "GEOM_MAX_ITER        : 100\n",
      "GEOM_CONVERGENCE_WIN : 2\n",
      "MAX_SCF_CYCLES       : 300\n",
      "\n",
      "\n",
      "Wrote cell file to: /Users/steven/Castep-data/work/si001_bulk/si001_bulk_123.cell\n",
      "! Job folder: si001_bulk. Filename: si001_bulk_123.\n",
      "\n",
      "%BLOCK lattice_cart\n",
      "   ANG\n",
      "       3.8641976000    0.0000000000    0.0000000000\n",
      "       0.0000000000    7.7283952000    0.0000000000\n",
      "       0.0000000000    0.0000000000   16.3944036000\n",
      "%ENDBLOCK lattice_cart\n",
      "\n",
      "%BLOCK CELL_CONSTRAINTS\n",
      "       1    1    2\n",
      "       0    0    0\n",
      "%ENDBLOCK CELL_CONSTRAINTS\n",
      "\n",
      "%BLOCK positions_frac\n",
      "   Si       0.0000000000    0.7500000000    0.9166666667\n",
      "   Si       0.0000000000    0.2500000000    0.9166666667\n",
      "   Si       0.5000000000    0.7500000000    0.8333333333\n",
      "   Si       0.5000000000    0.2500000000    0.8333333333\n",
      "   Si       0.5000000000    0.5000000000    0.7500000000\n",
      "   Si       0.5000000000    0.0000000000    0.7500000000\n",
      "   Si       0.0000000000    0.5000000000    0.6666666667\n",
      "   Si       0.0000000000    0.0000000000    0.6666666667\n",
      "   Si       0.0000000000    0.7500000000    0.5833333333\n",
      "   Si       0.0000000000    0.2500000000    0.5833333333\n",
      "   Si       0.5000000000    0.7500000000    0.5000000000\n",
      "   Si       0.5000000000    0.2500000000    0.5000000000\n",
      "   Si       0.5000000000    0.5000000000    0.4166666667\n",
      "   Si       0.5000000000    0.0000000000    0.4166666667\n",
      "   Si       0.0000000000    0.5000000000    0.3333333333\n",
      "   Si       0.0000000000    0.0000000000    0.3333333333\n",
      "   Si       0.0000000000    0.7500000000    0.2500000000\n",
      "   Si       0.0000000000    0.2500000000    0.2500000000\n",
      "   Si       0.5000000000    0.7500000000    0.1666666667\n",
      "   Si       0.5000000000    0.2500000000    0.1666666667\n",
      "   Si       0.5000000000    0.5000000000    0.0833333333\n",
      "   Si       0.5000000000    0.0000000000    0.0833333333\n",
      "   Si       0.0000000000    0.5000000000    0.0000000000\n",
      "   Si       0.0000000000    0.0000000000    0.0000000000\n",
      "%ENDBLOCK positions_frac\n",
      "\n",
      "SYMMETRY_GENERATE\n",
      "SYMMETRY_TOL : 0.01\n",
      "\n",
      "FIX_ALL_IONS : TRUE\n",
      "\n",
      "KPOINTS_MP_GRID : 8 4 1\n",
      "\n",
      "\n",
      "#!/bin/bash\n",
      "#$ -N si001_bulk_123                         # Job name\n",
      "#$ -q A_192T_1024G.q                    # Queue name\n",
      "#$ -l h_rt=72:00:00                     # Wall-clock time limit\n",
      "#$ -pe ompi-local 192                   # Request 192 CPU slots\n",
      "#$ -l vf=5352M                          # Memory per core slot (~5352M/core)\n",
      "#$ -V                                   # Export environment variables\n",
      "#$ -cwd                                 # Run in current working directory\n",
      "#$ -j y                                 # Join stdout and stderr\n",
      "#$ -o si001_bulk_123.apollo.log              # Combined log file\n",
      "#$ -S /bin/bash                         # Use bash shell\n",
      "\n",
      "# Set OpenMP threads\n",
      "export OMP_NUM_THREADS=4\n",
      "echo \"Threading set to: OMP_NUM_THREADS=4\"\n",
      "\n",
      "# Path to personal modules\n",
      "module use /hpc/srs/local/privatemodules/\n",
      "module purge\n",
      "module load CASTEP-24\n",
      "module load modules sge\n",
      "\n",
      "echo \"The following modules are loaded\"\n",
      "module list\n",
      "\n",
      "# Activate conda environment\n",
      "source /hpc/srs/local/miniconda3/etc/profile.d/conda.sh\n",
      "conda activate apollo_castep\n",
      "\n",
      "# Diagnostics\n",
      "echo \"Allocated slots: $NSLOTS\"\n",
      "echo \"Reserved memory per slot: $VF\"\n",
      "echo \"Host: $(hostname)\"\n",
      "echo \"Python executable: $(which python)\"\n",
      "echo \"Working directory: $(pwd)\"\n",
      "\n",
      "# Run the CASTEP calculation\n",
      "echo \"Running CASTEP calculation with 48 MPI ranks and 4 OpenMP threads per rank.\"\n",
      "mpirun -np 48 castep.mpi si001_bulk_123\n",
      "\n"
     ]
    }
   ],
   "source": [
    "castep_path = job_path / f\"{filename}.castep\"\n",
    "\n",
    "print('=' * 80 + f'\\nCASTEP file: {castep_path}\\n' + '=' * 80 + '\\n')   \n",
    "\n",
    "param_filename = ct.write_param_file(\n",
    "    params,\n",
    "    title = title,\n",
    "    filename=filename,\n",
    "    path=job_path,\n",
    "    display_file=True\n",
    "    )\n",
    "\n",
    "cell_filename = ct.write_cell_file(\n",
    "    title = title,\n",
    "    path=job_path,\n",
    "    filename=filename,\n",
    "    lattice_cart=lattice_cart,\n",
    "    positions_frac=positions_frac,\n",
    "    cell_constraints=cell_constraints,\n",
    " #   ionic_constraints=ionic_constraints,\n",
    "    fix_all_ions=fix_all_ions,\n",
    "    symmetry_generate=symmetry_generate,\n",
    "    symmetry_tol = symmetry_tol,\n",
    "    kpoints_mp_grid=kpoints_mp_grid,\n",
    "    display_file=True\n",
    ")\n",
    "\n",
    "\n",
    "# job_filename= ct.write_job_script(\n",
    "#     path=job_path,\n",
    "#     filename=filename,\n",
    "#     wall_time='72:00:00',\n",
    "#     queue_name='A_192T_1024G.q',\n",
    "#     available_cores=192,\n",
    "#     available_memory='1024G',\n",
    "#     threads=4,\n",
    "#     display_file=True\n",
    "# )\n",
    "\n",
    "job_filename= ct.write_job_script(\n",
    "    path=job_path,\n",
    "    filename=filename,\n",
    "    wall_time='72:00:00',\n",
    "    queue_name=queue_name,\n",
    "    available_cores=available_cores,\n",
    "    available_memory=available_memory,\n",
    "    threads=threads,\n",
    "    display_file=True\n",
    ")\n",
    "\n",
    "# # Convert to cart and write xyz\n",
    "# positions_cart = ct.frac_to_cart(lattice_cart, positions_frac)\n",
    "# xyz = ct.write_xyz(positions_cart, path=job_path, filename=filename, comment='Converted by SRSCALCUTILS')\n"
   ]
  },
  {
   "cell_type": "code",
   "execution_count": 184,
   "metadata": {},
   "outputs": [],
   "source": [
    "# if str(module_path) == '/hpc/srs/Python/modules':\n",
    "#     !bash -l -c \"mpirun -np 62 castep.mpi {filename}\"\n",
    "# else:\n",
    "#     !zsh -l -c \"castepmpi {filename}\"\n"
   ]
  }
 ],
 "metadata": {
  "kernelspec": {
   "display_name": "dfttools",
   "language": "python",
   "name": "python3"
  },
  "language_info": {
   "codemirror_mode": {
    "name": "ipython",
    "version": 3
   },
   "file_extension": ".py",
   "mimetype": "text/x-python",
   "name": "python",
   "nbconvert_exporter": "python",
   "pygments_lexer": "ipython3",
   "version": "3.11.8"
  }
 },
 "nbformat": 4,
 "nbformat_minor": 2
}
