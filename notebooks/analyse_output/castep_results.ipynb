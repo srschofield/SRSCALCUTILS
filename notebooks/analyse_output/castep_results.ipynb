{
 "cells": [
  {
   "cell_type": "markdown",
   "metadata": {},
   "source": [
    "<!-- # CNN autoencoder and Clustering from MTRX data\n",
    "\n",
    "Use this notebook to load Scienta Omicron Matrix format SPM data and create standardised images for machine learning training and analysis. The code can generate both JPG image data, useful for manually checking the data, and windowed numpy data that can be loaded into ML models. \n",
    "\n",
    "The notebook then creates an autoencoder for training on a large dataset, followed by KMEANS clustering. \n",
    "\n",
    "**Author**: Steven R. Schofield  \n",
    "**Created**: November, 2024 -->"
   ]
  },
  {
   "cell_type": "markdown",
   "metadata": {},
   "source": [
    "# CASTEP output analysis\n",
    "## Steven R. Schofield (Universtiy College London) May 2025"
   ]
  },
  {
   "cell_type": "markdown",
   "metadata": {},
   "source": [
    "### Load required modules"
   ]
  },
  {
   "cell_type": "code",
   "execution_count": 128,
   "metadata": {},
   "outputs": [
    {
     "name": "stdout",
     "output_type": "stream",
     "text": [
      "module_path = /Users/steven/academic-iCloud/Python/modules\n",
      "data_path = /Users/steven/Castep-data/work\n"
     ]
    }
   ],
   "source": [
    "import sys\n",
    "from pathlib import Path\n",
    "\n",
    "# Define candidate paths using Path objects\n",
    "module_path_list = [\n",
    "    Path('/Users/steven/academic-iCloud/Python/modules'),\n",
    "    Path('/hpc/srs/Python/modules')\n",
    "]\n",
    "\n",
    "data_path_list = [\n",
    "    Path('/Users/steven/Castep-data/work'),\n",
    "    Path('/hpc/srs/castep')\n",
    "]\n",
    "\n",
    "# Resolve actual paths\n",
    "module_path = next((p for p in module_path_list if p.exists()), None)\n",
    "data_path = next((p for p in data_path_list if p.exists()), None)\n",
    "\n",
    "# Check and report missing paths\n",
    "if module_path is None:\n",
    "    print(\"Error: Could not locate a valid module path.\")\n",
    "if data_path is None:\n",
    "    print(\"Error: Could not locate a valid data path.\")\n",
    "\n",
    "if module_path is None or data_path is None:\n",
    "    sys.exit(1)\n",
    "\n",
    "# Add module_path to sys.path if needed\n",
    "if str(module_path) not in sys.path:\n",
    "    sys.path.insert(0, str(module_path))\n",
    "\n",
    "# Print resolved paths\n",
    "print(f\"module_path = {module_path}\")\n",
    "print(f\"data_path = {data_path}\")"
   ]
  },
  {
   "cell_type": "code",
   "execution_count": 129,
   "metadata": {},
   "outputs": [
    {
     "name": "stdout",
     "output_type": "stream",
     "text": [
      "The autoreload extension is already loaded. To reload it, use:\n",
      "  %reload_ext autoreload\n"
     ]
    }
   ],
   "source": [
    "# # Ensure modules are reloaded \n",
    "%load_ext autoreload\n",
    "%autoreload 2\n",
    "\n",
    "# Import standard modules\n",
    "import numpy as np\n",
    "import pandas as pd\n",
    "import re\n",
    "# Import custom module\n",
    "import SRSCALCUTILS.castep_tools as ct\n",
    "\n",
    "from IPython.display import display, Image as StaticImage"
   ]
  },
  {
   "cell_type": "markdown",
   "metadata": {},
   "source": [
    "### Programme variable setup"
   ]
  },
  {
   "cell_type": "code",
   "execution_count": 130,
   "metadata": {},
   "outputs": [
    {
     "name": "stdout",
     "output_type": "stream",
     "text": [
      "job_path = /Users/steven/Castep-data/work/si001_cut_off\n"
     ]
    }
   ],
   "source": [
    "# Parameters for windows creation\n",
    "# General\n",
    "job_folder = 'si001_cut_off'\n",
    "job_path = data_path / job_folder\n",
    "verbose = False             # Set this True to print out more information\n",
    "\n",
    "# Print resolved paths\n",
    "print(f\"job_path = {job_path}\")"
   ]
  },
  {
   "cell_type": "code",
   "execution_count": 131,
   "metadata": {},
   "outputs": [],
   "source": [
    "file_list = ct.find_all_files_by_extension(job_path, extension=\".castep\")"
   ]
  },
  {
   "cell_type": "code",
   "execution_count": 132,
   "metadata": {},
   "outputs": [],
   "source": [
    "show_info = False\n",
    "\n",
    "energy_list = []\n",
    "cutoff_list = []\n",
    "for file in file_list:\n",
    "    \n",
    "    # Warnings and parameters\n",
    "    warnings = ct.get_warnings(file, verbose=True)\n",
    "    parameters = ct.get_calculation_parameters(file)\n",
    "\n",
    "    # Get cut-off energy\n",
    "    cutoff = parameters['plane wave basis set cut-off']\n",
    "    cutoff_list.append(int(float(cutoff.split()[0])))\n",
    "\n",
    "    # Get energy\n",
    "    energy = ct.get_LBFGS_final_enthalpy(file)\n",
    "    energy_list.append(energy)\n",
    "\n",
    "    if show_info:\n",
    "        ct.print_filename(file)\n",
    "        print(f\"Warnings: {warnings}\")\n",
    "        parameters_df = pd.DataFrame(list(parameters.items()), columns=['Parameter', 'Value'])\n",
    "        display(parameters_df)"
   ]
  },
  {
   "cell_type": "code",
   "execution_count": 133,
   "metadata": {},
   "outputs": [
    {
     "data": {
      "image/png": "[encoded data removed]",
      "text/plain": [
       "<Figure size 400x200 with 1 Axes>"
      ]
     },
     "metadata": {},
     "output_type": "display_data"
    },
    {
     "data": {
      "text/html": [
       "<div>\n",
       "<style scoped>\n",
       "    .dataframe tbody tr th:only-of-type {\n",
       "        vertical-align: middle;\n",
       "    }\n",
       "\n",
       "    .dataframe tbody tr th {\n",
       "        vertical-align: top;\n",
       "    }\n",
       "\n",
       "    .dataframe thead th {\n",
       "        text-align: right;\n",
       "    }\n",
       "</style>\n",
       "<table border=\"1\" class=\"dataframe\">\n",
       "  <thead>\n",
       "    <tr style=\"text-align: right;\">\n",
       "      <th></th>\n",
       "      <th>cutoff (eV)</th>\n",
       "      <th>energy (eV)</th>\n",
       "    </tr>\n",
       "  </thead>\n",
       "  <tbody>\n",
       "    <tr>\n",
       "      <th>0</th>\n",
       "      <td>300</td>\n",
       "      <td>-2787.16619</td>\n",
       "    </tr>\n",
       "    <tr>\n",
       "      <th>1</th>\n",
       "      <td>400</td>\n",
       "      <td>-2787.52813</td>\n",
       "    </tr>\n",
       "    <tr>\n",
       "      <th>2</th>\n",
       "      <td>500</td>\n",
       "      <td>-2787.67457</td>\n",
       "    </tr>\n",
       "    <tr>\n",
       "      <th>3</th>\n",
       "      <td>600</td>\n",
       "      <td>-2787.72853</td>\n",
       "    </tr>\n",
       "    <tr>\n",
       "      <th>4</th>\n",
       "      <td>700</td>\n",
       "      <td>-2787.75196</td>\n",
       "    </tr>\n",
       "    <tr>\n",
       "      <th>5</th>\n",
       "      <td>800</td>\n",
       "      <td>-2787.76083</td>\n",
       "    </tr>\n",
       "    <tr>\n",
       "      <th>6</th>\n",
       "      <td>900</td>\n",
       "      <td>-2787.76471</td>\n",
       "    </tr>\n",
       "  </tbody>\n",
       "</table>\n",
       "</div>"
      ],
      "text/plain": [
       "   cutoff (eV)  energy (eV)\n",
       "0          300  -2787.16619\n",
       "1          400  -2787.52813\n",
       "2          500  -2787.67457\n",
       "3          600  -2787.72853\n",
       "4          700  -2787.75196\n",
       "5          800  -2787.76083\n",
       "6          900  -2787.76471"
      ]
     },
     "metadata": {},
     "output_type": "display_data"
    }
   ],
   "source": [
    "ct.plot_sequence(\n",
    "    energy_list,\n",
    "    x=cutoff_list,\n",
    "    xlabel='Cutoff Energy (eV)',\n",
    "    ylabel='Energy (eV)',\n",
    "    title='Total Energy vs Cutoff Energy',\n",
    "    figsize=(4,2)\n",
    ")\n",
    "\n",
    "energy_df = pd.DataFrame({\n",
    "    'cutoff (eV)': cutoff_list,\n",
    "    'energy (eV)': energy_list\n",
    "})\n",
    "display(energy_df)"
   ]
  },
  {
   "cell_type": "code",
   "execution_count": 134,
   "metadata": {},
   "outputs": [
    {
     "name": "stdout",
     "output_type": "stream",
     "text": [
      "job_path = /Users/steven/Castep-data/work/si001_k_point\n"
     ]
    }
   ],
   "source": [
    "# Parameters for windows creation\n",
    "# General\n",
    "job_folder = 'si001_k_point'\n",
    "job_path = data_path / job_folder\n",
    "verbose = False             # Set this True to print out more information\n",
    "\n",
    "# Print resolved paths\n",
    "print(f\"job_path = {job_path}\")"
   ]
  },
  {
   "cell_type": "code",
   "execution_count": 135,
   "metadata": {},
   "outputs": [],
   "source": [
    "file_list = ct.find_all_files_by_extension(job_path, extension=\".castep\")"
   ]
  },
  {
   "cell_type": "code",
   "execution_count": 136,
   "metadata": {},
   "outputs": [],
   "source": [
    "show_info = False\n",
    "\n",
    "kenergy_list = []\n",
    "kpoints_list = []\n",
    "for file in file_list:\n",
    "    \n",
    "    # Warnings and parameters\n",
    "    warnings = ct.get_warnings(file, verbose=True)\n",
    "    parameters = ct.get_calculation_parameters(file)\n",
    "\n",
    "    # Get cut-off energy\n",
    "    kpoints = parameters['k_points_mp_grid']\n",
    "    kpoints_list.append(kpoints)\n",
    "\n",
    "    # Get energy\n",
    "    energy = ct.get_LBFGS_final_enthalpy(file)\n",
    "    kenergy_list.append(energy)\n",
    "\n",
    "    if show_info:\n",
    "        ct.print_filename(file)\n",
    "        print(f\"Warnings: {warnings}\")\n",
    "        parameters_df = pd.DataFrame(list(parameters.items()), columns=['Parameter', 'Value'])\n",
    "        display(parameters_df)"
   ]
  },
  {
   "cell_type": "code",
   "execution_count": 137,
   "metadata": {},
   "outputs": [
    {
     "data": {
      "text/html": [
       "<div>\n",
       "<style scoped>\n",
       "    .dataframe tbody tr th:only-of-type {\n",
       "        vertical-align: middle;\n",
       "    }\n",
       "\n",
       "    .dataframe tbody tr th {\n",
       "        vertical-align: top;\n",
       "    }\n",
       "\n",
       "    .dataframe thead th {\n",
       "        text-align: right;\n",
       "    }\n",
       "</style>\n",
       "<table border=\"1\" class=\"dataframe\">\n",
       "  <thead>\n",
       "    <tr style=\"text-align: right;\">\n",
       "      <th></th>\n",
       "      <th>kpoints</th>\n",
       "      <th>energy (eV)</th>\n",
       "    </tr>\n",
       "  </thead>\n",
       "  <tbody>\n",
       "    <tr>\n",
       "      <th>0</th>\n",
       "      <td>(4, 2, 1)</td>\n",
       "      <td>-2788.15866</td>\n",
       "    </tr>\n",
       "    <tr>\n",
       "      <th>1</th>\n",
       "      <td>(8, 4, 1)</td>\n",
       "      <td>-2787.75200</td>\n",
       "    </tr>\n",
       "    <tr>\n",
       "      <th>2</th>\n",
       "      <td>(8, 4, 4)</td>\n",
       "      <td>-2787.75198</td>\n",
       "    </tr>\n",
       "    <tr>\n",
       "      <th>3</th>\n",
       "      <td>(8, 8, 8)</td>\n",
       "      <td>-2787.74821</td>\n",
       "    </tr>\n",
       "  </tbody>\n",
       "</table>\n",
       "</div>"
      ],
      "text/plain": [
       "     kpoints  energy (eV)\n",
       "0  (4, 2, 1)  -2788.15866\n",
       "1  (8, 4, 1)  -2787.75200\n",
       "2  (8, 4, 4)  -2787.75198\n",
       "3  (8, 8, 8)  -2787.74821"
      ]
     },
     "metadata": {},
     "output_type": "display_data"
    },
    {
     "data": {
      "image/png": "[encoded data removed]",
      "text/plain": [
       "<Figure size 400x200 with 1 Axes>"
      ]
     },
     "metadata": {},
     "output_type": "display_data"
    }
   ],
   "source": [
    "energy_df = pd.DataFrame({\n",
    "    'kpoints': kpoints_list,\n",
    "    'energy (eV)': kenergy_list\n",
    "})\n",
    "display(energy_df)\n",
    "\n",
    "ct.plot_sequence(\n",
    "    kenergy_list,\n",
    "    x=None,\n",
    "    xlabel='kpoints',\n",
    "    ylabel='Energy (eV)',\n",
    "    title='Total Energy vs kpoints',\n",
    "    figsize=(4,2)\n",
    ")\n",
    "\n"
   ]
  },
  {
   "cell_type": "code",
   "execution_count": 138,
   "metadata": {},
   "outputs": [
    {
     "name": "stdout",
     "output_type": "stream",
     "text": [
      "job_path = /Users/steven/Castep-data/work/si001_vac\n"
     ]
    }
   ],
   "source": [
    "# Parameters for windows creation\n",
    "# General\n",
    "job_folder = 'si001_vac'\n",
    "job_path = data_path / job_folder\n",
    "verbose = False             # Set this True to print out more information\n",
    "\n",
    "# Print resolved paths\n",
    "print(f\"job_path = {job_path}\")"
   ]
  },
  {
   "cell_type": "code",
   "execution_count": 139,
   "metadata": {},
   "outputs": [
    {
     "data": {
      "text/plain": [
       "[PosixPath('/Users/steven/Castep-data/work/si001_vac/si001_122_vac_1.castep'),\n",
       " PosixPath('/Users/steven/Castep-data/work/si001_vac/si001_122_vac_2.castep'),\n",
       " PosixPath('/Users/steven/Castep-data/work/si001_vac/si001_122_vac_3.castep'),\n",
       " PosixPath('/Users/steven/Castep-data/work/si001_vac/si001_122_vac_4.castep'),\n",
       " PosixPath('/Users/steven/Castep-data/work/si001_vac/si001_122_vac_5.castep'),\n",
       " PosixPath('/Users/steven/Castep-data/work/si001_vac/si001_122_vac_6.castep'),\n",
       " PosixPath('/Users/steven/Castep-data/work/si001_vac/si001_122_vac_8.castep'),\n",
       " PosixPath('/Users/steven/Castep-data/work/si001_vac/si001_122_vac_10.castep'),\n",
       " PosixPath('/Users/steven/Castep-data/work/si001_vac/si001_122_vac_12.castep'),\n",
       " PosixPath('/Users/steven/Castep-data/work/si001_vac/si001_122_vac_14.castep'),\n",
       " PosixPath('/Users/steven/Castep-data/work/si001_vac/si001_122_vac_15.castep'),\n",
       " PosixPath('/Users/steven/Castep-data/work/si001_vac/si001_122_vac_16.castep'),\n",
       " PosixPath('/Users/steven/Castep-data/work/si001_vac/si001_122_vac_18.castep'),\n",
       " PosixPath('/Users/steven/Castep-data/work/si001_vac/si001_122_vac_20.castep'),\n",
       " PosixPath('/Users/steven/Castep-data/work/si001_vac/si001_122_vac_22.castep'),\n",
       " PosixPath('/Users/steven/Castep-data/work/si001_vac/si001_122_vac_24.castep')]"
      ]
     },
     "execution_count": 139,
     "metadata": {},
     "output_type": "execute_result"
    }
   ],
   "source": [
    "file_list = ct.find_all_files_by_extension(job_path, extension=\".castep\")\n",
    "file_list = ct.sort_file_list(file_list)\n",
    "file_list"
   ]
  },
  {
   "cell_type": "code",
   "execution_count": 140,
   "metadata": {},
   "outputs": [],
   "source": [
    "show_info = False\n",
    "\n",
    "venergy_list = []\n",
    "vac_list = []\n",
    "for file in file_list:\n",
    "    # Get the vacuum spacing from the filename\n",
    "    m = re.search(r'_(\\d+)\\.[^.]+$', str(file))\n",
    "    vac = int(m.group(1))\n",
    "    vac_list.append(vac)\n",
    "\n",
    "    # Warnings and parameters\n",
    "    warnings = ct.get_warnings(file, verbose=True)\n",
    "    parameters = ct.get_calculation_parameters(file)\n",
    "\n",
    "    # Get cut-off energy\n",
    "    kpoints = parameters['k_points_mp_grid']\n",
    "    kpoints_list.append(kpoints)\n",
    "\n",
    "    # Get energy\n",
    "    energy = ct.get_LBFGS_final_enthalpy(file)\n",
    "    venergy_list.append(energy)\n",
    "\n",
    "    if show_info:\n",
    "        ct.print_filename(file)\n",
    "        print(f\"Warnings: {warnings}\")\n",
    "        parameters_df = pd.DataFrame(list(parameters.items()), columns=['Parameter', 'Value'])\n",
    "        display(parameters_df)"
   ]
  },
  {
   "cell_type": "code",
   "execution_count": 142,
   "metadata": {},
   "outputs": [
    {
     "data": {
      "text/html": [
       "<div>\n",
       "<style scoped>\n",
       "    .dataframe tbody tr th:only-of-type {\n",
       "        vertical-align: middle;\n",
       "    }\n",
       "\n",
       "    .dataframe tbody tr th {\n",
       "        vertical-align: top;\n",
       "    }\n",
       "\n",
       "    .dataframe thead th {\n",
       "        text-align: right;\n",
       "    }\n",
       "</style>\n",
       "<table border=\"1\" class=\"dataframe\">\n",
       "  <thead>\n",
       "    <tr style=\"text-align: right;\">\n",
       "      <th></th>\n",
       "      <th>vac</th>\n",
       "      <th>energy (eV)</th>\n",
       "    </tr>\n",
       "  </thead>\n",
       "  <tbody>\n",
       "    <tr>\n",
       "      <th>0</th>\n",
       "      <td>1</td>\n",
       "      <td>-2787.76631</td>\n",
       "    </tr>\n",
       "    <tr>\n",
       "      <th>1</th>\n",
       "      <td>2</td>\n",
       "      <td>-2787.78746</td>\n",
       "    </tr>\n",
       "    <tr>\n",
       "      <th>2</th>\n",
       "      <td>3</td>\n",
       "      <td>-2787.76759</td>\n",
       "    </tr>\n",
       "    <tr>\n",
       "      <th>3</th>\n",
       "      <td>4</td>\n",
       "      <td>-2787.75674</td>\n",
       "    </tr>\n",
       "    <tr>\n",
       "      <th>4</th>\n",
       "      <td>5</td>\n",
       "      <td>-2787.75326</td>\n",
       "    </tr>\n",
       "    <tr>\n",
       "      <th>5</th>\n",
       "      <td>6</td>\n",
       "      <td>-2787.75195</td>\n",
       "    </tr>\n",
       "    <tr>\n",
       "      <th>6</th>\n",
       "      <td>8</td>\n",
       "      <td>-2787.75175</td>\n",
       "    </tr>\n",
       "    <tr>\n",
       "      <th>7</th>\n",
       "      <td>10</td>\n",
       "      <td>-2787.75104</td>\n",
       "    </tr>\n",
       "    <tr>\n",
       "      <th>8</th>\n",
       "      <td>12</td>\n",
       "      <td>-2787.75152</td>\n",
       "    </tr>\n",
       "    <tr>\n",
       "      <th>9</th>\n",
       "      <td>14</td>\n",
       "      <td>-2787.75235</td>\n",
       "    </tr>\n",
       "    <tr>\n",
       "      <th>10</th>\n",
       "      <td>15</td>\n",
       "      <td>-2787.75001</td>\n",
       "    </tr>\n",
       "    <tr>\n",
       "      <th>11</th>\n",
       "      <td>16</td>\n",
       "      <td>-2787.75109</td>\n",
       "    </tr>\n",
       "    <tr>\n",
       "      <th>12</th>\n",
       "      <td>18</td>\n",
       "      <td>-2787.75112</td>\n",
       "    </tr>\n",
       "    <tr>\n",
       "      <th>13</th>\n",
       "      <td>20</td>\n",
       "      <td>NaN</td>\n",
       "    </tr>\n",
       "    <tr>\n",
       "      <th>14</th>\n",
       "      <td>22</td>\n",
       "      <td>NaN</td>\n",
       "    </tr>\n",
       "    <tr>\n",
       "      <th>15</th>\n",
       "      <td>24</td>\n",
       "      <td>NaN</td>\n",
       "    </tr>\n",
       "  </tbody>\n",
       "</table>\n",
       "</div>"
      ],
      "text/plain": [
       "    vac  energy (eV)\n",
       "0     1  -2787.76631\n",
       "1     2  -2787.78746\n",
       "2     3  -2787.76759\n",
       "3     4  -2787.75674\n",
       "4     5  -2787.75326\n",
       "5     6  -2787.75195\n",
       "6     8  -2787.75175\n",
       "7    10  -2787.75104\n",
       "8    12  -2787.75152\n",
       "9    14  -2787.75235\n",
       "10   15  -2787.75001\n",
       "11   16  -2787.75109\n",
       "12   18  -2787.75112\n",
       "13   20          NaN\n",
       "14   22          NaN\n",
       "15   24          NaN"
      ]
     },
     "metadata": {},
     "output_type": "display_data"
    },
    {
     "data": {
      "image/png": "[encoded data removed]",
      "text/plain": [
       "<Figure size 400x1200 with 1 Axes>"
      ]
     },
     "metadata": {},
     "output_type": "display_data"
    }
   ],
   "source": [
    "energy_df = pd.DataFrame({\n",
    "    'vac': vac_list,\n",
    "    'energy (eV)': venergy_list\n",
    "})\n",
    "display(energy_df)\n",
    "\n",
    "ct.plot_sequence(\n",
    "    venergy_list,\n",
    "    x=vac_list,\n",
    "    xlabel='Vacuum Spacing (Angstrom)',\n",
    "    ylabel='Energy (eV)',\n",
    "    title='Total Energy vs vacuum spacing',\n",
    "    figsize=(4,12)\n",
    ")\n",
    "\n"
   ]
  },
  {
   "cell_type": "code",
   "execution_count": null,
   "metadata": {},
   "outputs": [],
   "source": []
  }
 ],
 "metadata": {
  "kernelspec": {
   "display_name": "dfttools",
   "language": "python",
   "name": "python3"
  },
  "language_info": {
   "codemirror_mode": {
    "name": "ipython",
    "version": 3
   },
   "file_extension": ".py",
   "mimetype": "text/x-python",
   "name": "python",
   "nbconvert_exporter": "python",
   "pygments_lexer": "ipython3",
   "version": "3.11.8"
  }
 },
 "nbformat": 4,
 "nbformat_minor": 2
}
