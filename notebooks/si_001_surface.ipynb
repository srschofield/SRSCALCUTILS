{
 "cells": [
  {
   "cell_type": "markdown",
   "metadata": {},
   "source": [
    "<!-- # CNN autoencoder and Clustering from MTRX data\n",
    "\n",
    "Use this notebook to load Scienta Omicron Matrix format SPM data and create standardised images for machine learning training and analysis. The code can generate both JPG image data, useful for manually checking the data, and windowed numpy data that can be loaded into ML models. \n",
    "\n",
    "The notebook then creates an autoencoder for training on a large dataset, followed by KMEANS clustering. \n",
    "\n",
    "**Author**: Steven R. Schofield  \n",
    "**Created**: November, 2024 -->"
   ]
  },
  {
   "cell_type": "markdown",
   "metadata": {},
   "source": [
    "# CASTEP - Si 001 surface\n",
    "## Steven R. Schofield (Universtiy College London) May 2025"
   ]
  },
  {
   "cell_type": "markdown",
   "metadata": {},
   "source": [
    "### Determine appropriate paths whether we are working on macbook or the cluster"
   ]
  },
  {
   "cell_type": "code",
   "execution_count": null,
   "metadata": {},
   "outputs": [],
   "source": [
    "import sys\n",
    "from pathlib import Path\n",
    "\n",
    "# Define candidate paths using Path objects\n",
    "module_path_list = [\n",
    "    Path('/Users/steven/academic-iCloud/Python/modules'),\n",
    "    Path('/hpc/srs/Python/modules')\n",
    "]\n",
    "\n",
    "data_path_list = [\n",
    "    Path('/Users/steven/academic-iCloud/Calculations/castep/'),\n",
    "    Path('/hpc/srs/castep')\n",
    "]\n",
    "\n",
    "# Resolve actual paths\n",
    "module_path = next((p for p in module_path_list if p.exists()), None)\n",
    "data_path = next((p for p in data_path_list if p.exists()), None)\n",
    "\n",
    "# Check and report missing paths\n",
    "if module_path is None:\n",
    "    print(\"Error: Could not locate a valid module path.\")\n",
    "if data_path is None:\n",
    "    print(\"Error: Could not locate a valid data path.\")\n",
    "\n",
    "if module_path is None or data_path is None:\n",
    "    sys.exit(1)\n",
    "\n",
    "# Add module_path to sys.path if needed\n",
    "if str(module_path) not in sys.path:\n",
    "    sys.path.insert(0, str(module_path))\n",
    "\n",
    "# Print resolved paths\n",
    "print(f\"module_path = {module_path}\")\n",
    "print(f\"data_path = {data_path}\")"
   ]
  },
  {
   "cell_type": "markdown",
   "metadata": {},
   "source": [
    "### Import modules"
   ]
  },
  {
   "cell_type": "code",
   "execution_count": null,
   "metadata": {},
   "outputs": [],
   "source": [
    "# # Ensure modules are reloaded \n",
    "%load_ext autoreload\n",
    "%autoreload 2\n",
    "\n",
    "# Import standard modules\n",
    "import numpy as np\n",
    "import pandas as pd\n",
    "import os\n",
    "from matplotlib import pyplot as plt\n",
    "\n",
    "# Import custom module\n",
    "import SRSCALCUTILS.castep_tools as ct\n",
    "\n",
    "from IPython.display import display"
   ]
  },
  {
   "cell_type": "markdown",
   "metadata": {},
   "source": [
    "### Paths for the calculation"
   ]
  },
  {
   "cell_type": "code",
   "execution_count": null,
   "metadata": {},
   "outputs": [],
   "source": [
    "# General\n",
    "job_folder = 'work-2025/si001_surf'\n",
    "job_path = data_path / job_folder\n",
    "verbose = False             # Set this True to print out more information\n",
    "\n",
    "# Print resolved paths\n",
    "print(f\"job_path = {job_path}\")\n",
    "\n",
    "# If it doesn’t exist, create it (including any missing parent folders)\n",
    "if not os.path.isdir(job_path):\n",
    "    os.makedirs(job_path, exist_ok=True)\n",
    "\n",
    "# Now safely switch into it\n",
    "os.chdir(job_path)\n",
    "\n",
    "print('Current files in this directory:')\n",
    "for file in os.listdir():\n",
    "    print(file)"
   ]
  },
  {
   "cell_type": "markdown",
   "metadata": {},
   "source": [
    "### Base parameters of calculation and unit cell"
   ]
  },
  {
   "cell_type": "code",
   "execution_count": null,
   "metadata": {},
   "outputs": [],
   "source": [
    "# Set up the param and cell files for the calculation\n",
    "\n",
    "filename = \"si001_surf\"\n",
    "title = \"silicon 001 surface tests\"\n",
    "\n",
    "params = {'task' : 'geomopt',\n",
    "          'xc_functional'           : 'PBE',\n",
    "          'cut_off_energy'          : 400,\n",
    "          'spin_polarised'          : 'false',\n",
    "          'write_cell_structure'    : 'true',\n",
    "          'charge'                  : 0,\n",
    "          'nextra_bands'            : 8,\n",
    "          'geom_energy_tol'         : 0.00005,          # default: 0.00005 eV \n",
    "          'geom_disp_tol'           : 0.002,            # default: 0.002 Ang.\n",
    "          'geom_max_iter'           : 100,              # default: 30\n",
    "          'geom_convergence_win'    : 2,                # default: 2\n",
    "          'max_scf_cycles'          : 300               # default: 30\n",
    "          }              \n",
    "\n",
    "lattice_cart = np.array([\n",
    "            [3.8641976,     0.0,     0.0],\n",
    "            [0.0,     3.8641976,     0.0],\n",
    "            [0.0,     0.0,     5.4648012]\n",
    "        ])\n",
    "\n",
    "positions_frac = np.array([\n",
    "            ['Si', 0.0,  0.0,  0.0],\n",
    "            ['Si', 0.5,  0.0,  0.25],\n",
    "            ['Si', 0.5,  0.5,  0.5],\n",
    "            ['Si', 0.0,  0.5,  0.75],\n",
    "        ])\n",
    "\n",
    "cell_constraints = np.array([\n",
    "            [0,  0,  0],\n",
    "            [0,  0,  0]\n",
    "        ])\n",
    "\n",
    "kpoints_mp_grid = np.array([2, 2, 2])\n",
    "\n",
    "fix_all_ions = False\n",
    "symmetry_generate=False\n",
    "symmetry_tol = 0.01\n"
   ]
  },
  {
   "cell_type": "markdown",
   "metadata": {},
   "source": [
    "### Build supercell"
   ]
  },
  {
   "cell_type": "code",
   "execution_count": null,
   "metadata": {},
   "outputs": [],
   "source": [
    "n = [2, 2, 1] \n",
    "super_positions_frac, super_lattice_cart = ct.create_supercell_from_fractional_coords(positions_frac,lattice_cart,n)"
   ]
  },
  {
   "cell_type": "code",
   "execution_count": null,
   "metadata": {},
   "outputs": [],
   "source": [
    "import numpy as np\n",
    "\n",
    "def select_atoms_by_plane(positions_frac, lattice_cart, axis, ref_value,\n",
    "                          tolerance=0.0, include=None, exclude=None):\n",
    "    \"\"\"\n",
    "    Select atoms near a specific plane perpendicular to a given axis.\n",
    "\n",
    "    Parameters\n",
    "    ----------\n",
    "    positions_frac : array-like, shape (N, 4)\n",
    "        Rows of [element_symbol, frac_x, frac_y, frac_z].\n",
    "    lattice_cart : array-like, shape (3, 3)\n",
    "        Cartesian lattice vectors (rows are unit cell vectors in Å).\n",
    "    axis : {'x', 'y', 'z'}\n",
    "        Axis perpendicular to the plane (e.g. 'z' selects x-y planes).\n",
    "    ref_value : float or numeric string\n",
    "        Cartesian coordinate along the given axis in Å defining the plane.\n",
    "    tolerance : float or numeric string, optional\n",
    "        Distance tolerance in Å (default=0.0). Atoms with |coord - ref_value| <= tolerance are selected.\n",
    "    include : list of int, range, slice, or tuple, optional\n",
    "        Atom indices (1-based) to force include.\n",
    "    exclude : list of int, range, slice, or tuple, optional\n",
    "        Atom indices to force exclude.\n",
    "\n",
    "    Returns\n",
    "    -------\n",
    "    result : list of lists, shape (N, 6)\n",
    "        Each entry: [index (1-based), is_selected (bool), element_symbol,\n",
    "                     frac_x, frac_y, frac_z].\n",
    "    \"\"\"\n",
    "    # Parse arrays\n",
    "    arr = np.array(positions_frac, dtype=object)\n",
    "    symbols = arr[:, 0]\n",
    "    frac = arr[:, 1:].astype(float)\n",
    "    lattice = np.array(lattice_cart, dtype=float)\n",
    "\n",
    "    # Build include/exclude index sets (0-based)\n",
    "    def build_index_set(spec):\n",
    "        s = set()\n",
    "        for item in spec or []:\n",
    "            if isinstance(item, int):\n",
    "                s.add(item - 1)\n",
    "            elif isinstance(item, range):\n",
    "                s.update(i - 1 for i in item)\n",
    "            elif isinstance(item, slice):\n",
    "                start = item.start or 1\n",
    "                stop = item.stop or len(arr)\n",
    "                s.update(i for i in range(start - 1, stop))\n",
    "            elif isinstance(item, tuple) and len(item) == 2:\n",
    "                start, end = item\n",
    "                s.update(i - 1 for i in range(start, end + 1))\n",
    "            else:\n",
    "                raise ValueError(f\"Invalid index specifier: {item}\")\n",
    "        return s\n",
    "\n",
    "    include_set = build_index_set(include)\n",
    "    exclude_set = build_index_set(exclude)\n",
    "\n",
    "    # Convert fractional to Cartesian coordinates\n",
    "    cart = frac.dot(lattice)\n",
    "\n",
    "    # Map axis to column\n",
    "    axis_map = {'x': 0, 'y': 1, 'z': 2}\n",
    "    try:\n",
    "        ai = axis_map[axis.lower()]\n",
    "    except KeyError:\n",
    "        raise ValueError(\"Axis must be one of 'x', 'y', or 'z'\")\n",
    "\n",
    "    # Reference and tolerance as floats\n",
    "    try:\n",
    "        ref = float(ref_value)\n",
    "        tol = float(tolerance)\n",
    "    except Exception:\n",
    "        raise ValueError(\"ref_value and tolerance must be numeric or numeric strings.\")\n",
    "\n",
    "    # Compute mask for numeric criteria\n",
    "    coords = cart[:, ai]\n",
    "    mask = np.abs(coords - ref) <= tol\n",
    "\n",
    "    # Build result list\n",
    "    result = []\n",
    "    for idx, (atom, fcoords) in enumerate(zip(symbols, frac)):\n",
    "        if idx in exclude_set:\n",
    "            sel = False\n",
    "        elif idx in include_set:\n",
    "            sel = True\n",
    "        else:\n",
    "            sel = bool(mask[idx])\n",
    "        result.append([idx + 1, sel, atom,\n",
    "                       float(fcoords[0]), float(fcoords[1]), float(fcoords[2])])\n",
    "\n",
    "    return result"
   ]
  },
  {
   "cell_type": "code",
   "execution_count": 41,
   "metadata": {},
   "outputs": [],
   "source": [
    "def find_plane_value(positions_frac, lattice_cart, axis, criteria):\n",
    "    \"\"\"\n",
    "    Determine the plane coordinate along an axis based on criteria.\n",
    "\n",
    "    Parameters\n",
    "    ----------\n",
    "    positions_frac : array-like, shape (N, 4)\n",
    "        Rows of [element_symbol, frac_x, frac_y, frac_z].\n",
    "    lattice_cart : array-like, shape (3, 3)\n",
    "        Cartesian lattice vectors (rows are unit cell vectors in Å).\n",
    "    axis : {'x', 'y', 'z'}\n",
    "        Axis perpendicular to the plane.\n",
    "    criteria : {'minimum', 'maximum', 'centre'}\n",
    "        'minimum' returns the smallest coordinate, 'maximum' the largest,\n",
    "        'centre' the midpoint between min and max.\n",
    "\n",
    "    Returns\n",
    "    -------\n",
    "    plane_cart : float\n",
    "        Cartesian coordinate in Å of the plane.\n",
    "    plane_frac : float\n",
    "        Fractional coordinate (0–1) along the axis of the plane.\n",
    "    \"\"\"\n",
    "    arr = np.array(positions_frac, dtype=object)\n",
    "    frac = arr[:, 1:].astype(float)\n",
    "    lattice = np.array(lattice_cart, dtype=float)\n",
    "\n",
    "    # Map axis to index\n",
    "    axis_map = {'x': 0, 'y': 1, 'z': 2}\n",
    "    try:\n",
    "        ai = axis_map[axis.lower()]\n",
    "    except KeyError:\n",
    "        raise ValueError(\"Axis must be one of 'x', 'y', or 'z'\")\n",
    "\n",
    "    # Fractional coordinates along axis\n",
    "    frac_coords = frac[:, ai]\n",
    "    if criteria == 'minimum':\n",
    "        plane_frac = frac_coords.min()\n",
    "    elif criteria == 'maximum':\n",
    "        plane_frac = frac_coords.max()\n",
    "    elif criteria == 'centre':\n",
    "        plane_frac = (frac_coords.min() + frac_coords.max()) / 2.0\n",
    "    else:\n",
    "        raise ValueError(\"Criteria must be 'minimum', 'maximum', or 'centre'\")\n",
    "\n",
    "    # Convert to Cartesian\n",
    "    cell_vec = lattice[ai]\n",
    "    plane_cart = plane_frac * np.linalg.norm(cell_vec)\n",
    "\n",
    "    return float(plane_cart), float(plane_frac)\n"
   ]
  },
  {
   "cell_type": "code",
   "execution_count": null,
   "metadata": {},
   "outputs": [
    {
     "data": {
      "text/plain": [
       "(4.0986009, 0.2650277133856722)"
      ]
     },
     "execution_count": 42,
     "metadata": {},
     "output_type": "execute_result"
    }
   ],
   "source": []
  },
  {
   "cell_type": "code",
   "execution_count": 46,
   "metadata": {},
   "outputs": [
    {
     "data": {
      "text/plain": [
       "[[1, False, 'Si', 0.5, 0.75, 0.2650277133856722],\n",
       " [2, False, 'Si', 0.0, 0.75, 0.2650277133856722],\n",
       " [3, False, 'Si', 0.5, 0.25, 0.2650277133856722],\n",
       " [4, False, 'Si', 0.0, 0.25, 0.2650277133856722],\n",
       " [5, False, 'Si', 0.75, 0.75, 0.17668514225711482],\n",
       " [6, False, 'Si', 0.25, 0.75, 0.17668514225711482],\n",
       " [7, False, 'Si', 0.75, 0.25, 0.17668514225711482],\n",
       " [8, False, 'Si', 0.25, 0.25, 0.17668514225711482],\n",
       " [9, False, 'Si', 0.75, 0.5, 0.08834257112855741],\n",
       " [10, False, 'Si', 0.25, 0.5, 0.08834257112855741],\n",
       " [11, False, 'Si', 0.75, 0.0, 0.08834257112855741],\n",
       " [12, False, 'Si', 0.25, 0.0, 0.08834257112855741],\n",
       " [13, False, 'Si', 0.5, 0.5, 0.0],\n",
       " [14, False, 'Si', 0.0, 0.5, 0.0],\n",
       " [15, False, 'Si', 0.5, 0.0, 0.0],\n",
       " [16, False, 'Si', 0.0, 0.0, 0.0]]"
      ]
     },
     "execution_count": 46,
     "metadata": {},
     "output_type": "execute_result"
    }
   ],
   "source": [
    "criteria = \"centre\"\n",
    "axis = 'z'\n",
    "ref_value, _ = find_plane_value(super_positions_frac, super_lattice_cart, axis, criteria)\n",
    "tolerance = 0.5\n",
    "\n",
    "select_atoms_by_plane(super_positions_frac, super_lattice_cart, axis, ref_value,\n",
    "                          tolerance=tolerance, include=None, exclude=None)"
   ]
  },
  {
   "cell_type": "code",
   "execution_count": null,
   "metadata": {},
   "outputs": [],
   "source": []
  },
  {
   "cell_type": "markdown",
   "metadata": {},
   "source": [
    "### Add vacuum spacing"
   ]
  },
  {
   "cell_type": "code",
   "execution_count": null,
   "metadata": {},
   "outputs": [],
   "source": [
    "vac = 10\n",
    "super_positions_frac, super_lattice_cart = ct.create_vacuum_spacing(super_positions_frac, super_lattice_cart, vac)"
   ]
  },
  {
   "cell_type": "markdown",
   "metadata": {},
   "source": [
    "### Add ionic contraints"
   ]
  },
  {
   "cell_type": "code",
   "execution_count": null,
   "metadata": {},
   "outputs": [],
   "source": [
    "# Create fixed ion constraints\n",
    "conditions = \"z < 2.5\"\n",
    "exclude = None\n",
    "include = None\n",
    "ionic_constraints = ct.select_atoms_by_region(super_positions_frac, super_lattice_cart, conditions, exclude=exclude, include=include)\n",
    "print(ionic_constraints)"
   ]
  },
  {
   "cell_type": "code",
   "execution_count": null,
   "metadata": {},
   "outputs": [],
   "source": [
    "filename = f\"si001_test\"\n",
    "castep_path = job_path / f\"{filename}.castep\"\n",
    "\n",
    "print('=' * 80 + f'\\nCASTEP file: {castep_path}\\n' + '=' * 80 + '\\n')   \n",
    "\n",
    "param_filename = ct.write_param_file(\n",
    "    params,\n",
    "    title = title,\n",
    "    filename=filename,\n",
    "    path=job_path,\n",
    "    display_file=True\n",
    "    )\n",
    "\n",
    "cell_filename = ct.write_cell_file(\n",
    "    title = title,\n",
    "    path=job_path,\n",
    "    filename=filename,\n",
    "    lattice_cart=super_lattice_cart,\n",
    "    positions_frac=super_positions_frac,\n",
    "    cell_constraints=cell_constraints,\n",
    "    ionic_constraints=ionic_constraints,\n",
    "    fix_all_ions=fix_all_ions,\n",
    "    symmetry_generate=symmetry_generate,\n",
    "    symmetry_tol = symmetry_tol,\n",
    "    kpoints_mp_grid=kpoints_mp_grid,\n",
    "    display_file=True\n",
    ")"
   ]
  },
  {
   "cell_type": "code",
   "execution_count": 11,
   "metadata": {},
   "outputs": [
    {
     "name": "stdout",
     "output_type": "stream",
     "text": [
      "^C\n",
      "Abort is in progress...hit ctrl-c again to forcibly terminate\n",
      "\n"
     ]
    }
   ],
   "source": [
    "if str(module_path) == '/hpc/srs/Python/modules':\n",
    "    !bash -l -c \"mpirun -np 62 castep.mpi {filename}\"\n",
    "else:\n",
    "    !zsh -l -c \"castepmpi {filename}\"\n"
   ]
  },
  {
   "cell_type": "code",
   "execution_count": null,
   "metadata": {},
   "outputs": [],
   "source": [
    "\n",
    "# unit_cell, a, b, c, alpha, beta, gamma = ct.get_final_lattice_parameters(castep_path)\n",
    "# energy_optimisation = ct.get_LBFGS_energies(castep_path)\n",
    "# energies = [val for _, val in energy_optimisation]\n",
    "# energy = energies[-1]\n",
    "\n",
    "# print('Optimised energy {} eV'.format(energy))\n",
    "# print('Optimised lattice constants a,b = {} Ang., c = {} Ang.'.format(a,c))\n",
    "# print('Unit cell:')\n",
    "# for line in unit_cell:\n",
    "#     print(' '*2,np.abs(line))\n"
   ]
  }
 ],
 "metadata": {
  "kernelspec": {
   "display_name": "dfttools",
   "language": "python",
   "name": "python3"
  },
  "language_info": {
   "codemirror_mode": {
    "name": "ipython",
    "version": 3
   },
   "file_extension": ".py",
   "mimetype": "text/x-python",
   "name": "python",
   "nbconvert_exporter": "python",
   "pygments_lexer": "ipython3",
   "version": "3.11.8"
  }
 },
 "nbformat": 4,
 "nbformat_minor": 2
}
