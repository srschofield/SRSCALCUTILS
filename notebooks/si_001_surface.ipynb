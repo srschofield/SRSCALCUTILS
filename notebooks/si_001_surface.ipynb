{
 "cells": [
  {
   "cell_type": "markdown",
   "metadata": {},
   "source": [
    "<!-- # CNN autoencoder and Clustering from MTRX data\n",
    "\n",
    "Use this notebook to load Scienta Omicron Matrix format SPM data and create standardised images for machine learning training and analysis. The code can generate both JPG image data, useful for manually checking the data, and windowed numpy data that can be loaded into ML models. \n",
    "\n",
    "The notebook then creates an autoencoder for training on a large dataset, followed by KMEANS clustering. \n",
    "\n",
    "**Author**: Steven R. Schofield  \n",
    "**Created**: November, 2024 -->"
   ]
  },
  {
   "cell_type": "markdown",
   "metadata": {},
   "source": [
    "# CASTEP - Si 001 surface\n",
    "## Steven R. Schofield (Universtiy College London) May 2025"
   ]
  },
  {
   "cell_type": "markdown",
   "metadata": {},
   "source": [
    "### Determine appropriate paths whether we are working on macbook or the cluster"
   ]
  },
  {
   "cell_type": "code",
   "execution_count": 44,
   "metadata": {},
   "outputs": [
    {
     "name": "stdout",
     "output_type": "stream",
     "text": [
      "module_path = /Users/steven/academic-iCloud/Python/modules\n",
      "data_path = /Users/steven/academic-iCloud/Calculations/castep\n"
     ]
    }
   ],
   "source": [
    "import sys\n",
    "from pathlib import Path\n",
    "\n",
    "# Define candidate paths using Path objects\n",
    "module_path_list = [\n",
    "    Path('/Users/steven/academic-iCloud/Python/modules'),\n",
    "    Path('/hpc/srs/Python/modules')\n",
    "]\n",
    "\n",
    "data_path_list = [\n",
    "    Path('/Users/steven/academic-iCloud/Calculations/castep/'),\n",
    "    Path('/hpc/srs/castep')\n",
    "]\n",
    "\n",
    "# Resolve actual paths\n",
    "module_path = next((p for p in module_path_list if p.exists()), None)\n",
    "data_path = next((p for p in data_path_list if p.exists()), None)\n",
    "\n",
    "# Check and report missing paths\n",
    "if module_path is None:\n",
    "    print(\"Error: Could not locate a valid module path.\")\n",
    "if data_path is None:\n",
    "    print(\"Error: Could not locate a valid data path.\")\n",
    "\n",
    "if module_path is None or data_path is None:\n",
    "    sys.exit(1)\n",
    "\n",
    "# Add module_path to sys.path if needed\n",
    "if str(module_path) not in sys.path:\n",
    "    sys.path.insert(0, str(module_path))\n",
    "\n",
    "# Print resolved paths\n",
    "print(f\"module_path = {module_path}\")\n",
    "print(f\"data_path = {data_path}\")"
   ]
  },
  {
   "cell_type": "markdown",
   "metadata": {},
   "source": [
    "### Import modules"
   ]
  },
  {
   "cell_type": "code",
   "execution_count": 45,
   "metadata": {},
   "outputs": [
    {
     "name": "stdout",
     "output_type": "stream",
     "text": [
      "The autoreload extension is already loaded. To reload it, use:\n",
      "  %reload_ext autoreload\n"
     ]
    }
   ],
   "source": [
    "# # Ensure modules are reloaded \n",
    "%load_ext autoreload\n",
    "%autoreload 2\n",
    "\n",
    "# Import standard modules\n",
    "import numpy as np\n",
    "import pandas as pd\n",
    "import os\n",
    "from matplotlib import pyplot as plt\n",
    "\n",
    "# Import custom module\n",
    "import SRSCALCUTILS.castep_tools as ct\n",
    "\n",
    "from IPython.display import display"
   ]
  },
  {
   "cell_type": "markdown",
   "metadata": {},
   "source": [
    "### Paths for the calculation"
   ]
  },
  {
   "cell_type": "code",
   "execution_count": 46,
   "metadata": {},
   "outputs": [
    {
     "name": "stdout",
     "output_type": "stream",
     "text": [
      "job_path = /Users/steven/academic-iCloud/Calculations/castep/work-2025/si001_surf\n",
      "Current files in this directory:\n",
      "si001_test.cell\n",
      "castep_input.xyz\n",
      "si001_test.param\n"
     ]
    }
   ],
   "source": [
    "# General\n",
    "job_folder = 'work-2025/si001_surf'\n",
    "job_path = data_path / job_folder\n",
    "verbose = False             # Set this True to print out more information\n",
    "\n",
    "# Print resolved paths\n",
    "print(f\"job_path = {job_path}\")\n",
    "\n",
    "# If it doesn’t exist, create it (including any missing parent folders)\n",
    "if not os.path.isdir(job_path):\n",
    "    os.makedirs(job_path, exist_ok=True)\n",
    "\n",
    "# Now safely switch into it\n",
    "os.chdir(job_path)\n",
    "\n",
    "print('Current files in this directory:')\n",
    "for file in os.listdir():\n",
    "    print(file)"
   ]
  },
  {
   "cell_type": "markdown",
   "metadata": {},
   "source": [
    "### Base parameters of calculation and unit cell"
   ]
  },
  {
   "cell_type": "code",
   "execution_count": 47,
   "metadata": {},
   "outputs": [],
   "source": [
    "# Set up the param and cell files for the calculation\n",
    "filename = \"si001_surf\"\n",
    "title = \"silicon 001 surface tests\"\n",
    "\n",
    "params = {'task' : 'geomopt',\n",
    "          'xc_functional'           : 'PBE',\n",
    "          'cut_off_energy'          : 400,\n",
    "          'spin_polarised'          : 'false',\n",
    "          'write_cell_structure'    : 'true',\n",
    "          'charge'                  : 0,\n",
    "          'nextra_bands'            : 8,\n",
    "          'geom_energy_tol'         : 0.00005,          # default: 0.00005 eV \n",
    "          'geom_disp_tol'           : 0.002,            # default: 0.002 Ang.\n",
    "          'geom_max_iter'           : 100,              # default: 30\n",
    "          'geom_convergence_win'    : 2,                # default: 2\n",
    "          'max_scf_cycles'          : 300               # default: 30\n",
    "          }              \n",
    "\n",
    "lattice_cart = np.array([\n",
    "            [3.8641976,     0.0,     0.0],\n",
    "            [0.0,     3.8641976,     0.0],\n",
    "            [0.0,     0.0,     5.4648012]\n",
    "        ])\n",
    "\n",
    "positions_frac = np.array([\n",
    "            ['Si', 0.0,  0.0,  0.0],\n",
    "            ['Si', 0.5,  0.0,  0.25],\n",
    "            ['Si', 0.5,  0.5,  0.5],\n",
    "            ['Si', 0.0,  0.5,  0.75],\n",
    "        ])\n",
    "\n",
    "cell_constraints = np.array([\n",
    "            [0,  0,  0],\n",
    "            [0,  0,  0]\n",
    "        ])\n",
    "\n",
    "kpoints_mp_grid = np.array([2, 2, 2])\n",
    "\n",
    "fix_all_ions = False\n",
    "symmetry_generate=False\n",
    "symmetry_tol = 0.01\n"
   ]
  },
  {
   "cell_type": "markdown",
   "metadata": {},
   "source": [
    "### Build supercell"
   ]
  },
  {
   "cell_type": "code",
   "execution_count": null,
   "metadata": {},
   "outputs": [],
   "source": [
    "n = [2, 2, 1] \n",
    "positions_frac, lattice_cart = ct.create_supercell_from_fractional_coords(positions_frac,lattice_cart,n)\n",
    "positions_frac = ct.sort_positions_frac(positions_frac)"
   ]
  },
  {
   "cell_type": "markdown",
   "metadata": {},
   "source": [
    "### TESTING"
   ]
  },
  {
   "cell_type": "code",
   "execution_count": 55,
   "metadata": {},
   "outputs": [
    {
     "name": "stdout",
     "output_type": "stream",
     "text": [
      "[['Si' 0.5 0.75 0.75]\n",
      " ['Si' 0.0 0.75 0.75]\n",
      " ['Si' 0.5 0.25 0.75]\n",
      " ['Si' 0.0 0.25 0.75]\n",
      " ['Si' 0.75 0.75 0.5]\n",
      " ['Si' 0.25 0.75 0.5]\n",
      " ['Si' 0.75 0.25 0.5]\n",
      " ['Si' 0.25 0.25 0.5]\n",
      " ['Si' 0.75 0.5 0.25]\n",
      " ['Si' 0.25 0.5 0.25]\n",
      " ['Si' 0.75 0.0 0.25]\n",
      " ['Si' 0.25 0.0 0.25]\n",
      " ['Si' 0.5 0.5 0.0]\n",
      " ['Si' 0.0 0.5 0.0]\n",
      " ['Si' 0.5 0.0 0.0]\n",
      " ['Si' 0.0 0.0 0.0]]\n",
      "\n",
      "[['Si' 3.8641976 5.796296399999999 4.0986009]\n",
      " ['Si' 0.0 5.796296399999999 4.0986009]\n",
      " ['Si' 3.8641976 1.9320988 4.0986009]\n",
      " ['Si' 0.0 1.9320988 4.0986009]\n",
      " ['Si' 5.796296399999999 5.796296399999999 2.7324006]\n",
      " ['Si' 1.9320988 5.796296399999999 2.7324006]\n",
      " ['Si' 5.796296399999999 1.9320988 2.7324006]\n",
      " ['Si' 1.9320988 1.9320988 2.7324006]\n",
      " ['Si' 5.796296399999999 3.8641976 1.3662003]\n",
      " ['Si' 1.9320988 3.8641976 1.3662003]\n",
      " ['Si' 5.796296399999999 0.0 1.3662003]\n",
      " ['Si' 1.9320988 0.0 1.3662003]\n",
      " ['Si' 3.8641976 3.8641976 0.0]\n",
      " ['Si' 0.0 3.8641976 0.0]\n",
      " ['Si' 3.8641976 0.0 0.0]\n",
      " ['Si' 0.0 0.0 0.0]]\n"
     ]
    }
   ],
   "source": [
    "# Convert\n",
    "positions_cart = ct.frac_to_cart(lattice_cart, positions_frac)\n",
    "\n",
    "# Write .xyz\n",
    "xyz = ct.write_xyz(positions_cart, path=job_path, filename='castep_input', comment='Converted by SRSCALCUTILS')\n",
    "print(positions_frac)\n",
    "print()\n",
    "print(positions_cart)"
   ]
  },
  {
   "cell_type": "code",
   "execution_count": null,
   "metadata": {},
   "outputs": [],
   "source": [
    "def select_atoms_by_plane(\n",
    "    positions_frac,\n",
    "    lattice_cart,\n",
    "    plane,\n",
    "    reference_position,\n",
    "    tolerance=0.0\n",
    "):\n",
    "    \"\"\"\n",
    "    Select atoms lying within a slab around a specified plane.\n",
    "\n",
    "    Parameters\n",
    "    ----------\n",
    "    positions_frac : array-like of shape (N, 4)\n",
    "        Rows of [element_symbol, frac_x, frac_y, frac_z].\n",
    "    lattice_cart : array-like of shape (3, 3)\n",
    "        Cartesian cell vectors (each row is a lattice vector in Å).\n",
    "    plane : array-like of length 3\n",
    "        Normal vector (in Cartesian coordinates) defining the plane.\n",
    "    reference_position : array-like of length 3\n",
    "        A point (in Cartesian coordinates) known to lie on the plane.\n",
    "    tolerance : float, optional\n",
    "        Distance tolerance in Å. Atoms whose perpendicular distance to the plane\n",
    "        is ≤ tolerance are selected (default = 0.0).\n",
    "\n",
    "    Returns\n",
    "    -------\n",
    "    result : list of lists, shape (M, 6)\n",
    "        Each entry corresponds to one atom and contains:\n",
    "        [index (1-based), is_selected (bool), element_symbol,\n",
    "         frac_x, frac_y, frac_z, distance]\n",
    "        where `distance` is the signed perpendicular distance (Å) from the atom\n",
    "        to the plane (positive on the side of the normal vector).\n",
    "    \"\"\"\n",
    "    # Convert inputs\n",
    "    arr = np.array(positions_frac, dtype=object)\n",
    "    symbols = arr[:, 0]\n",
    "    frac = arr[:, 1:].astype(float)\n",
    "    lattice = np.array(lattice_cart, dtype=float)\n",
    "\n",
    "    # Compute Cartesian positions of atoms\n",
    "    cart = frac.dot(lattice)\n",
    "\n",
    "    # Plane normal and reference point\n",
    "    normal = np.array(plane, dtype=float)\n",
    "    if np.allclose(normal, 0):\n",
    "        raise ValueError(\"Plane normal vector must be nonzero.\")\n",
    "    # unit normal\n",
    "    n_unit = normal / np.linalg.norm(normal)\n",
    "    ref_pt = np.array(reference_position, dtype=float)\n",
    "\n",
    "    # Compute signed distances\n",
    "    # For each atom: d = dot(r_i - ref_pt, n_unit)\n",
    "    deltas = cart - ref_pt\n",
    "    dists = deltas.dot(n_unit)\n",
    "\n",
    "    # Build result list\n",
    "    result = []\n",
    "    for i, (sym, fcoord, dist) in enumerate(zip(symbols, frac, dists)):\n",
    "        sel = abs(dist) <= tolerance\n",
    "        result.append([\n",
    "            i + 1,\n",
    "            bool(sel),\n",
    "            sym,\n",
    "            float(fcoord[0]),\n",
    "            float(fcoord[1]),\n",
    "            float(fcoord[2]),\n",
    "            float(dist)\n",
    "        ])\n",
    "\n",
    "    return result\n"
   ]
  },
  {
   "cell_type": "code",
   "execution_count": 64,
   "metadata": {},
   "outputs": [],
   "source": [
    "# First select the atoms on the bottom layer \n",
    "axis = 'z'\n",
    "criteria = \"maximum\"\n",
    "ref_value, _ = ct.find_plane_value(positions_frac, lattice_cart, axis, criteria)\n",
    "tolerance = 0.5\n",
    "\n",
    "plane = (0,0,1)\n",
    "reference_position = (3.8641976, 5.796296399999999, 4.0986009)\n",
    "\n",
    "labelled_positions_frac = select_atoms_by_plane(\n",
    "    positions_frac,\n",
    "    lattice_cart,\n",
    "    plane,\n",
    "    reference_position,\n",
    "    tolerance=tolerance\n",
    ")"
   ]
  },
  {
   "cell_type": "code",
   "execution_count": null,
   "metadata": {},
   "outputs": [],
   "source": []
  },
  {
   "cell_type": "code",
   "execution_count": 74,
   "metadata": {},
   "outputs": [],
   "source": [
    "(a,b) = ct.extract_plane_lattice_vectors(\n",
    "    labelled_positions_frac,\n",
    "    lattice_cart\n",
    ")"
   ]
  },
  {
   "cell_type": "code",
   "execution_count": null,
   "metadata": {},
   "outputs": [
    {
     "data": {
      "text/plain": [
       "array([ 0.       , -3.8641976,  0.       ])"
      ]
     },
     "execution_count": 75,
     "metadata": {},
     "output_type": "execute_result"
    }
   ],
   "source": []
  },
  {
   "cell_type": "markdown",
   "metadata": {},
   "source": [
    "### Add hydrogen termination to cell bottom "
   ]
  },
  {
   "cell_type": "code",
   "execution_count": null,
   "metadata": {},
   "outputs": [],
   "source": [
    "# # First select the atoms on the bottom layer \n",
    "# axis = 'z'\n",
    "# criteria = \"minimum\"\n",
    "# ref_value, _ = ct.find_plane_value(positions_frac, lattice_cart, axis, criteria)\n",
    "# tolerance = 0.5\n",
    "# labelled_positions_frac = ct.select_atoms_by_plane(positions_frac, lattice_cart, axis, ref_value,\n",
    "#                           tolerance=tolerance, include=None, exclude=None)\n",
    "\n",
    "# # Next calculate the relative bond vectors for the two hydrogen atoms (per Si)\n",
    "# phi = np.deg2rad(90)    \n",
    "# si_h_bond_length = 1.5                         \n",
    "# theta_h_1 = np.deg2rad(180) - np.arccos(-1/3) / 2                \n",
    "# theta_h_2 = np.deg2rad(180) + np.arccos(-1/3) / 2            \n",
    "# bond_h_1  = ct.bond_vector_from_spherical(theta_h_1, phi, si_h_bond_length)                   \n",
    "# bond_h_2  = ct.bond_vector_from_spherical(theta_h_2, phi, si_h_bond_length)\n",
    "\n",
    "# # Now add the hydrogen atoms to the silicon atoms selected above using the calculated bond vectors\n",
    "# positions_frac, lattice_cart = ct.add_atoms_to_positions_frac(\n",
    "#                                     labelled_positions_frac,\n",
    "#                                     lattice_cart,\n",
    "#                                     [bond_h_1,bond_h_2],\n",
    "#                                     extend_unit_cell=(0, 0, 1),\n",
    "#                                     atom=\"H\")\n",
    "# positions_frac = ct.sort_positions_frac(positions_frac)"
   ]
  },
  {
   "cell_type": "markdown",
   "metadata": {},
   "source": [
    "### Dimerise surface"
   ]
  },
  {
   "cell_type": "code",
   "execution_count": 7,
   "metadata": {},
   "outputs": [],
   "source": [
    "# # First select the atoms on the bottom layer \n",
    "# axis = 'z'\n",
    "# criteria = \"maximum\"\n",
    "# ref_value, _ = ct.find_plane_value(positions_frac, lattice_cart, axis, criteria)\n",
    "# tolerance = 0.5\n",
    "# labelled_positions_frac = ct.select_atoms_by_plane(positions_frac, lattice_cart, axis, ref_value,\n",
    "#                           tolerance=tolerance, include=None, exclude=None)\n",
    "\n",
    "# # Dimerise surface\n",
    "# dimer_direction = \"y\"\n",
    "# displacement_direction = \"y\"\n",
    "# displacement = 0.6\n",
    "# start_phase='+'\n",
    "# alternate=False\n",
    "# positions_frac = dimerise_displacement(labelled_positions_frac,\n",
    "#     lattice_cart,\n",
    "#     dimer_direction = dimer_direction,\n",
    "#     displacement_direction = displacement_direction,\n",
    "#     displacement = displacement,\n",
    "#     start_phase=start_phase,\n",
    "#     alternate=alternate,\n",
    "#     wrap_axes=(1,1,1)\n",
    "# )\n",
    "\n",
    "# # labelled_positions_frac = ct.select_atoms_by_plane(positions_frac, lattice_cart, axis, ref_value,\n",
    "# #                           tolerance=tolerance, include=None, exclude=None)\n",
    "\n",
    "# # displacement = 0.3\n",
    "# # displacement_direction = \"z\"\n",
    "# # alternate=True\n",
    "# # positions_frac = dimerise_displacement(labelled_positions_frac,\n",
    "# #     lattice_cart,\n",
    "# #     dimer_direction = dimer_direction,\n",
    "# #     displacement_direction = displacement_direction,\n",
    "# #     displacement = displacement,\n",
    "# #     start_phase=start_phase,\n",
    "# #     alternate=alternate,\n",
    "# #     wrap_axes=(1,1,1)\n",
    "# # )"
   ]
  },
  {
   "cell_type": "code",
   "execution_count": null,
   "metadata": {},
   "outputs": [
    {
     "data": {
      "text/plain": [
       "[[1, False, 'Si', 0.5, 0.75, 0.75, 3.6200908246],\n",
       " [2, False, 'Si', 0.0, 0.75, 0.75, 3.6200908246],\n",
       " [3, False, 'Si', 0.5, 0.25, 0.75, 3.6200908246],\n",
       " [4, False, 'Si', 0.0, 0.25, 0.75, 3.6200908246],\n",
       " [5, False, 'Si', 0.75, 0.75, 0.5, 2.2538905246],\n",
       " [6, False, 'Si', 0.25, 0.75, 0.5, 2.2538905246],\n",
       " [7, False, 'Si', 0.75, 0.25, 0.5, 2.2538905246],\n",
       " [8, False, 'Si', 0.25, 0.25, 0.5, 2.2538905246],\n",
       " [9, False, 'Si', 0.75, 0.5, 0.25, 0.8876902246],\n",
       " [10, False, 'Si', 0.25, 0.5, 0.25, 0.8876902246],\n",
       " [11, False, 'Si', 0.75, 0.0, 0.25, 0.8876902246],\n",
       " [12, False, 'Si', 0.25, 0.0, 0.25, 0.8876902246],\n",
       " [13, True, 'Si', 0.5, 0.5, 0.0, -0.4785100754],\n",
       " [14, True, 'Si', 0.0, 0.5, 0.0, -0.4785100754],\n",
       " [15, True, 'Si', 0.5, 0.0, 0.0, -0.4785100754],\n",
       " [16, True, 'Si', 0.0, 0.0, 0.0, -0.4785100754]]"
      ]
     },
     "execution_count": 25,
     "metadata": {},
     "output_type": "execute_result"
    }
   ],
   "source": []
  },
  {
   "cell_type": "code",
   "execution_count": null,
   "metadata": {},
   "outputs": [],
   "source": []
  },
  {
   "cell_type": "code",
   "execution_count": null,
   "metadata": {},
   "outputs": [],
   "source": []
  },
  {
   "cell_type": "markdown",
   "metadata": {},
   "source": [
    "### Add hydrogen to the top"
   ]
  },
  {
   "cell_type": "code",
   "execution_count": null,
   "metadata": {},
   "outputs": [],
   "source": [
    "# # First select the atoms on the bottom layer \n",
    "# axis = 'z'\n",
    "# criteria = \"maximum\"\n",
    "# ref_value, _ = ct.find_plane_value(positions_frac, lattice_cart, axis, criteria)\n",
    "# tolerance = 0.5\n",
    "# labelled_positions_frac = ct.select_atoms_by_plane(positions_frac, lattice_cart, axis, ref_value,\n",
    "#                           tolerance=tolerance, include=None, exclude=None)\n",
    "\n",
    "# # Next calculate the relative bond vectors for the two hydrogen atoms (per Si)\n",
    "# phi = np.deg2rad(90)    \n",
    "# si_h_bond_length = 1.5                         \n",
    "# theta_h_1 = np.arccos(-1/3) / 2                \n",
    "# theta_h_2 = np.arccos(-1/3) / 2            \n",
    "# bond_h_1  = ct.bond_vector_from_spherical(theta_h_1, phi, si_h_bond_length)                   \n",
    "# bond_h_2  = ct.bond_vector_from_spherical(theta_h_2, phi, si_h_bond_length)\n",
    "\n",
    "# # Now add the hydrogen atoms to the silicon atoms selected above using the calculated bond vectors\n",
    "# positions_frac, lattice_cart = ct.add_atoms_to_positions_frac(\n",
    "#                                     labelled_positions_frac,\n",
    "#                                     lattice_cart,\n",
    "#                                     [bond_h_1,bond_h_2],\n",
    "#                                     extend_unit_cell=(0, 0, 1),\n",
    "#                                     atom=\"H\")\n",
    "# positions_frac = ct.sort_positions_frac(positions_frac)"
   ]
  },
  {
   "cell_type": "markdown",
   "metadata": {},
   "source": [
    "### Add vacuum spacing"
   ]
  },
  {
   "cell_type": "code",
   "execution_count": null,
   "metadata": {},
   "outputs": [],
   "source": [
    "# vac = 10\n",
    "# positions_frac, lattice_cart = ct.create_vacuum_spacing(positions_frac, lattice_cart, vac)"
   ]
  },
  {
   "cell_type": "markdown",
   "metadata": {},
   "source": [
    "### Add ionic contraints"
   ]
  },
  {
   "cell_type": "code",
   "execution_count": null,
   "metadata": {},
   "outputs": [],
   "source": [
    "# # Create fixed ion constraints\n",
    "# conditions = \"z < 2.5\"\n",
    "# ionic_constraints = ct.select_atoms_by_region(positions_frac, lattice_cart, conditions)"
   ]
  },
  {
   "cell_type": "code",
   "execution_count": 13,
   "metadata": {},
   "outputs": [
    {
     "name": "stdout",
     "output_type": "stream",
     "text": [
      "================================================================================\n",
      "CASTEP file: /Users/steven/academic-iCloud/Calculations/castep/work-2025/si001_surf/si001_test.castep\n",
      "================================================================================\n",
      "\n",
      "Wrote param file to: /Users/steven/academic-iCloud/Calculations/castep/work-2025/si001_surf/si001_test.param\n",
      "!TITLE: silicon 001 surface tests\n",
      "\n",
      "TASK                 : geomopt\n",
      "XC_FUNCTIONAL        : PBE\n",
      "CUT_OFF_ENERGY       : 400\n",
      "SPIN_POLARISED       : false\n",
      "WRITE_CELL_STRUCTURE : true\n",
      "CHARGE               : 0\n",
      "NEXTRA_BANDS         : 8\n",
      "GEOM_ENERGY_TOL      : 5e-05\n",
      "GEOM_DISP_TOL        : 0.002\n",
      "GEOM_MAX_ITER        : 100\n",
      "GEOM_CONVERGENCE_WIN : 2\n",
      "MAX_SCF_CYCLES       : 300\n",
      "\n",
      "\n",
      "Wrote cell file to: /Users/steven/academic-iCloud/Calculations/castep/work-2025/si001_surf/si001_test.cell\n",
      "! silicon 001 surface tests\n",
      "\n",
      "%BLOCK lattice_cart\n",
      "   ANG\n",
      "       7.7283952000    0.0000000000    0.0000000000\n",
      "       0.0000000000    7.7283952000    0.0000000000\n",
      "       0.0000000000    0.0000000000   21.7956278038\n",
      "%ENDBLOCK lattice_cart\n",
      "\n",
      "%BLOCK CELL_CONSTRAINTS\n",
      "       0    0    0\n",
      "       0    0    0\n",
      "%ENDBLOCK CELL_CONSTRAINTS\n",
      "\n",
      "%BLOCK positions_frac\n",
      "   H        0.5000000000    0.9084733751    0.5182439804\n",
      "   H        0.5000000000    0.9084733751    0.5182439804\n",
      "   H        0.0000000000    0.9084733751    0.5182439804\n",
      "   H        0.0000000000    0.9084733751    0.5182439804\n",
      "   H        0.5000000000    0.4084733751    0.5182439804\n",
      "   H        0.5000000000    0.4084733751    0.5182439804\n",
      "   H        0.0000000000    0.4084733751    0.5182439804\n",
      "   H        0.0000000000    0.4084733751    0.5182439804\n",
      "   Si       0.5000000000    0.7500000000    0.4785100754\n",
      "   Si       0.0000000000    0.7500000000    0.4785100754\n",
      "   Si       0.5000000000    0.2500000000    0.4785100754\n",
      "   Si       0.0000000000    0.2500000000    0.4785100754\n",
      "   Si       0.7500000000    0.7500000000    0.4158277653\n",
      "   Si       0.2500000000    0.7500000000    0.4158277653\n",
      "   Si       0.7500000000    0.2500000000    0.4158277653\n",
      "   Si       0.2500000000    0.2500000000    0.4158277653\n",
      "   Si       0.7500000000    0.5000000000    0.3531454553\n",
      "   Si       0.2500000000    0.5000000000    0.3531454553\n",
      "   Si       0.7500000000    0.0000000000    0.3531454553\n",
      "   Si       0.2500000000    0.0000000000    0.3531454553\n",
      "   Si       0.5000000000    0.5000000000    0.2904631452\n",
      "   Si       0.0000000000    0.5000000000    0.2904631452\n",
      "   Si       0.5000000000    0.0000000000    0.2904631452\n",
      "   Si       0.0000000000    0.0000000000    0.2904631452\n",
      "   Si       0.5000000000    0.7500000000    0.2277808352\n",
      "   Si       0.0000000000    0.7500000000    0.2277808352\n",
      "   Si       0.5000000000    0.2500000000    0.2277808352\n",
      "   Si       0.0000000000    0.2500000000    0.2277808352\n",
      "   Si       0.7500000000    0.7500000000    0.1650985251\n",
      "   Si       0.2500000000    0.7500000000    0.1650985251\n",
      "   Si       0.7500000000    0.2500000000    0.1650985251\n",
      "   Si       0.2500000000    0.2500000000    0.1650985251\n",
      "   Si       0.7500000000    0.5000000000    0.1024162150\n",
      "   Si       0.2500000000    0.5000000000    0.1024162150\n",
      "   Si       0.7500000000    0.0000000000    0.1024162150\n",
      "   Si       0.2500000000    0.0000000000    0.1024162150\n",
      "   Si       0.5000000000    0.5000000000    0.0397339050\n",
      "   Si       0.0000000000    0.5000000000    0.0397339050\n",
      "   Si       0.5000000000    0.0000000000    0.0397339050\n",
      "   Si       0.0000000000    0.0000000000    0.0397339050\n",
      "   H        0.5000000000    0.8415266249    0.0000000000\n",
      "   H        0.0000000000    0.8415266249    0.0000000000\n",
      "   H        0.5000000000    0.3415266249    0.0000000000\n",
      "   H        0.0000000000    0.3415266249    0.0000000000\n",
      "   H        0.5000000000    0.6584733751    0.0000000000\n",
      "   H        0.0000000000    0.6584733751    0.0000000000\n",
      "   H        0.5000000000    0.1584733751    0.0000000000\n",
      "   H        0.0000000000    0.1584733751    0.0000000000\n",
      "%ENDBLOCK positions_frac\n",
      "\n",
      "%BLOCK ionic_constraints\n",
      "    1 Si        25    1.00000000    0.00000000    0.00000000\n",
      "    2 Si        25    0.00000000    1.00000000    0.00000000\n",
      "    3 Si        25    0.00000000    0.00000000    1.00000000\n",
      "    4 Si        26    1.00000000    0.00000000    0.00000000\n",
      "    5 Si        26    0.00000000    1.00000000    0.00000000\n",
      "    6 Si        26    0.00000000    0.00000000    1.00000000\n",
      "    7 Si        27    1.00000000    0.00000000    0.00000000\n",
      "    8 Si        27    0.00000000    1.00000000    0.00000000\n",
      "    9 Si        27    0.00000000    0.00000000    1.00000000\n",
      "   10 Si        28    1.00000000    0.00000000    0.00000000\n",
      "   11 Si        28    0.00000000    1.00000000    0.00000000\n",
      "   12 Si        28    0.00000000    0.00000000    1.00000000\n",
      "   13 Si        29    1.00000000    0.00000000    0.00000000\n",
      "   14 Si        29    0.00000000    1.00000000    0.00000000\n",
      "   15 Si        29    0.00000000    0.00000000    1.00000000\n",
      "   16 Si        30    1.00000000    0.00000000    0.00000000\n",
      "   17 Si        30    0.00000000    1.00000000    0.00000000\n",
      "   18 Si        30    0.00000000    0.00000000    1.00000000\n",
      "   19 Si        31    1.00000000    0.00000000    0.00000000\n",
      "   20 Si        31    0.00000000    1.00000000    0.00000000\n",
      "   21 Si        31    0.00000000    0.00000000    1.00000000\n",
      "   22 Si        32    1.00000000    0.00000000    0.00000000\n",
      "   23 Si        32    0.00000000    1.00000000    0.00000000\n",
      "   24 Si        32    0.00000000    0.00000000    1.00000000\n",
      "   25 H          9    1.00000000    0.00000000    0.00000000\n",
      "   26 H          9    0.00000000    1.00000000    0.00000000\n",
      "   27 H          9    0.00000000    0.00000000    1.00000000\n",
      "   28 H         10    1.00000000    0.00000000    0.00000000\n",
      "   29 H         10    0.00000000    1.00000000    0.00000000\n",
      "   30 H         10    0.00000000    0.00000000    1.00000000\n",
      "   31 H         11    1.00000000    0.00000000    0.00000000\n",
      "   32 H         11    0.00000000    1.00000000    0.00000000\n",
      "   33 H         11    0.00000000    0.00000000    1.00000000\n",
      "   34 H         12    1.00000000    0.00000000    0.00000000\n",
      "   35 H         12    0.00000000    1.00000000    0.00000000\n",
      "   36 H         12    0.00000000    0.00000000    1.00000000\n",
      "   37 H         13    1.00000000    0.00000000    0.00000000\n",
      "   38 H         13    0.00000000    1.00000000    0.00000000\n",
      "   39 H         13    0.00000000    0.00000000    1.00000000\n",
      "   40 H         14    1.00000000    0.00000000    0.00000000\n",
      "   41 H         14    0.00000000    1.00000000    0.00000000\n",
      "   42 H         14    0.00000000    0.00000000    1.00000000\n",
      "   43 H         15    1.00000000    0.00000000    0.00000000\n",
      "   44 H         15    0.00000000    1.00000000    0.00000000\n",
      "   45 H         15    0.00000000    0.00000000    1.00000000\n",
      "   46 H         16    1.00000000    0.00000000    0.00000000\n",
      "   47 H         16    0.00000000    1.00000000    0.00000000\n",
      "   48 H         16    0.00000000    0.00000000    1.00000000\n",
      "%ENDBLOCK ionic_constraints\n",
      "\n",
      "KPOINTS_MP_GRID : 2 2 2\n",
      "\n",
      "\n"
     ]
    }
   ],
   "source": [
    "filename = f\"si001_test\"\n",
    "castep_path = job_path / f\"{filename}.castep\"\n",
    "\n",
    "print('=' * 80 + f'\\nCASTEP file: {castep_path}\\n' + '=' * 80 + '\\n')   \n",
    "\n",
    "param_filename = ct.write_param_file(\n",
    "    params,\n",
    "    title = title,\n",
    "    filename=filename,\n",
    "    path=job_path,\n",
    "    display_file=True\n",
    "    )\n",
    "\n",
    "cell_filename = ct.write_cell_file(\n",
    "    title = title,\n",
    "    path=job_path,\n",
    "    filename=filename,\n",
    "    lattice_cart=lattice_cart,\n",
    "    positions_frac=positions_frac,\n",
    "    cell_constraints=cell_constraints,\n",
    "    ionic_constraints=ionic_constraints,\n",
    "    fix_all_ions=fix_all_ions,\n",
    "    symmetry_generate=symmetry_generate,\n",
    "    symmetry_tol = symmetry_tol,\n",
    "    kpoints_mp_grid=kpoints_mp_grid,\n",
    "    display_file=True\n",
    ")"
   ]
  },
  {
   "cell_type": "code",
   "execution_count": 14,
   "metadata": {},
   "outputs": [],
   "source": [
    "# if str(module_path) == '/hpc/srs/Python/modules':\n",
    "#     !bash -l -c \"mpirun -np 62 castep.mpi {filename}\"\n",
    "# else:\n",
    "#     !zsh -l -c \"castepmpi {filename}\"\n"
   ]
  },
  {
   "cell_type": "code",
   "execution_count": 15,
   "metadata": {},
   "outputs": [],
   "source": [
    "\n",
    "# unit_cell, a, b, c, alpha, beta, gamma = ct.get_final_lattice_parameters(castep_path)\n",
    "# energy_optimisation = ct.get_LBFGS_energies(castep_path)\n",
    "# energies = [val for _, val in energy_optimisation]\n",
    "# energy = energies[-1]\n",
    "\n",
    "# print('Optimised energy {} eV'.format(energy))\n",
    "# print('Optimised lattice constants a,b = {} Ang., c = {} Ang.'.format(a,c))\n",
    "# print('Unit cell:')\n",
    "# for line in unit_cell:\n",
    "#     print(' '*2,np.abs(line))\n"
   ]
  },
  {
   "cell_type": "code",
   "execution_count": null,
   "metadata": {},
   "outputs": [],
   "source": []
  }
 ],
 "metadata": {
  "kernelspec": {
   "display_name": "dfttools",
   "language": "python",
   "name": "python3"
  },
  "language_info": {
   "codemirror_mode": {
    "name": "ipython",
    "version": 3
   },
   "file_extension": ".py",
   "mimetype": "text/x-python",
   "name": "python",
   "nbconvert_exporter": "python",
   "pygments_lexer": "ipython3",
   "version": "3.11.8"
  }
 },
 "nbformat": 4,
 "nbformat_minor": 2
}
