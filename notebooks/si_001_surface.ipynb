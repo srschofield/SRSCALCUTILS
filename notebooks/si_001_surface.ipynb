{
 "cells": [
  {
   "cell_type": "markdown",
   "metadata": {},
   "source": [
    "<!-- # CNN autoencoder and Clustering from MTRX data\n",
    "\n",
    "Use this notebook to load Scienta Omicron Matrix format SPM data and create standardised images for machine learning training and analysis. The code can generate both JPG image data, useful for manually checking the data, and windowed numpy data that can be loaded into ML models. \n",
    "\n",
    "The notebook then creates an autoencoder for training on a large dataset, followed by KMEANS clustering. \n",
    "\n",
    "**Author**: Steven R. Schofield  \n",
    "**Created**: November, 2024 -->"
   ]
  },
  {
   "cell_type": "markdown",
   "metadata": {},
   "source": [
    "# CASTEP - Si 001 surface\n",
    "## Steven R. Schofield (Universtiy College London) May 2025"
   ]
  },
  {
   "cell_type": "markdown",
   "metadata": {},
   "source": [
    "### Determine appropriate paths whether we are working on macbook or the cluster"
   ]
  },
  {
   "cell_type": "code",
   "execution_count": 397,
   "metadata": {},
   "outputs": [
    {
     "name": "stdout",
     "output_type": "stream",
     "text": [
      "module_path = /Users/steven/academic-iCloud/Python/modules\n",
      "data_path = /Users/steven/academic-iCloud/Calculations/castep\n"
     ]
    }
   ],
   "source": [
    "import sys\n",
    "from pathlib import Path\n",
    "\n",
    "# Define candidate paths using Path objects\n",
    "module_path_list = [\n",
    "    Path('/Users/steven/academic-iCloud/Python/modules'),\n",
    "    Path('/hpc/srs/Python/modules')\n",
    "]\n",
    "\n",
    "data_path_list = [\n",
    "    Path('/Users/steven/academic-iCloud/Calculations/castep/'),\n",
    "    Path('/hpc/srs/castep')\n",
    "]\n",
    "\n",
    "# Resolve actual paths\n",
    "module_path = next((p for p in module_path_list if p.exists()), None)\n",
    "data_path = next((p for p in data_path_list if p.exists()), None)\n",
    "\n",
    "# Check and report missing paths\n",
    "if module_path is None:\n",
    "    print(\"Error: Could not locate a valid module path.\")\n",
    "if data_path is None:\n",
    "    print(\"Error: Could not locate a valid data path.\")\n",
    "\n",
    "if module_path is None or data_path is None:\n",
    "    sys.exit(1)\n",
    "\n",
    "# Add module_path to sys.path if needed\n",
    "if str(module_path) not in sys.path:\n",
    "    sys.path.insert(0, str(module_path))\n",
    "\n",
    "# Print resolved paths\n",
    "print(f\"module_path = {module_path}\")\n",
    "print(f\"data_path = {data_path}\")"
   ]
  },
  {
   "cell_type": "markdown",
   "metadata": {},
   "source": [
    "### Import modules"
   ]
  },
  {
   "cell_type": "code",
   "execution_count": 398,
   "metadata": {},
   "outputs": [
    {
     "name": "stdout",
     "output_type": "stream",
     "text": [
      "The autoreload extension is already loaded. To reload it, use:\n",
      "  %reload_ext autoreload\n"
     ]
    }
   ],
   "source": [
    "# # Ensure modules are reloaded \n",
    "%load_ext autoreload\n",
    "%autoreload 2\n",
    "\n",
    "# Import standard modules\n",
    "import numpy as np\n",
    "import pandas as pd\n",
    "import os\n",
    "from matplotlib import pyplot as plt\n",
    "\n",
    "# Import custom module\n",
    "import SRSCALCUTILS.castep_tools as ct\n",
    "\n",
    "from IPython.display import display"
   ]
  },
  {
   "cell_type": "markdown",
   "metadata": {},
   "source": [
    "### Paths for the calculation"
   ]
  },
  {
   "cell_type": "code",
   "execution_count": 399,
   "metadata": {},
   "outputs": [
    {
     "name": "stdout",
     "output_type": "stream",
     "text": [
      "job_path = /Users/steven/academic-iCloud/Calculations/castep/work-2025/si001_surf\n",
      "Done. 3 file(s) deleted.\n"
     ]
    }
   ],
   "source": [
    "# General\n",
    "job_folder = 'work-2025/si001_surf'\n",
    "job_path = data_path / job_folder\n",
    "verbose = False             # Set this True to print out more information\n",
    "\n",
    "# Print resolved paths\n",
    "print(f\"job_path = {job_path}\")\n",
    "\n",
    "# If it doesn’t exist, create it (including any missing parent folders)\n",
    "if not os.path.isdir(job_path):\n",
    "    os.makedirs(job_path, exist_ok=True)\n",
    "\n",
    "# Now safely switch into it\n",
    "os.chdir(job_path)\n",
    "\n",
    "ct.delete_all_files_in_cwd(force=True)"
   ]
  },
  {
   "cell_type": "markdown",
   "metadata": {},
   "source": [
    "### Base parameters of calculation and unit cell"
   ]
  },
  {
   "cell_type": "code",
   "execution_count": 400,
   "metadata": {},
   "outputs": [],
   "source": [
    "# Set up the param and cell files for the calculation\n",
    "filename = \"si001_surf\"\n",
    "title = \"silicon 001 surface tests\"\n",
    "\n",
    "params = {'task' : 'geomopt',\n",
    "          'xc_functional'           : 'PBE',\n",
    "          'cut_off_energy'          : 400,\n",
    "          'spin_polarised'          : 'false',\n",
    "          'write_cell_structure'    : 'true',\n",
    "          'charge'                  : 0,\n",
    "          'nextra_bands'            : 8,\n",
    "          'geom_energy_tol'         : 0.00005,          # default: 0.00005 eV \n",
    "          'geom_disp_tol'           : 0.002,            # default: 0.002 Ang.\n",
    "          'geom_max_iter'           : 100,              # default: 30\n",
    "          'geom_convergence_win'    : 2,                # default: 2\n",
    "          'max_scf_cycles'          : 300               # default: 30\n",
    "          }              \n",
    "\n",
    "lattice_cart = np.array([\n",
    "            [3.8641976,     0.0,     0.0],\n",
    "            [0.0,     3.8641976,     0.0],\n",
    "            [0.0,     0.0,     5.4648012]\n",
    "        ])\n",
    "\n",
    "positions_frac = np.array([\n",
    "            ['Si', 0.0,  0.0,  0.0],\n",
    "            ['Si', 0.5,  0.0,  0.25],\n",
    "            ['Si', 0.5,  0.5,  0.5],\n",
    "            ['Si', 0.0,  0.5,  0.75],\n",
    "        ])\n",
    "\n",
    "cell_constraints = np.array([\n",
    "            [0,  0,  0],\n",
    "            [0,  0,  0]\n",
    "        ])\n",
    "\n",
    "kpoints_mp_grid = np.array([2, 2, 2])\n",
    "\n",
    "fix_all_ions = False\n",
    "symmetry_generate=False\n",
    "symmetry_tol = 0.01\n"
   ]
  },
  {
   "cell_type": "markdown",
   "metadata": {},
   "source": [
    "### Build supercell"
   ]
  },
  {
   "cell_type": "code",
   "execution_count": 401,
   "metadata": {},
   "outputs": [],
   "source": [
    "n = [2,2,1] \n",
    "positions_frac, lattice_cart = ct.create_supercell_from_fractional_coords(positions_frac,lattice_cart,n)\n",
    "positions_frac = ct.sort_positions_frac(positions_frac)"
   ]
  },
  {
   "cell_type": "markdown",
   "metadata": {},
   "source": [
    "### Atom selection"
   ]
  },
  {
   "cell_type": "code",
   "execution_count": 402,
   "metadata": {},
   "outputs": [],
   "source": [
    "criteria = ('min','min','min')\n",
    "selected_frac, selected_cart = ct.select_atom_by_conditions(positions_frac, lattice_cart, criteria)\n",
    "reference_position = selected_cart[1:]"
   ]
  },
  {
   "cell_type": "code",
   "execution_count": 403,
   "metadata": {},
   "outputs": [],
   "source": [
    "# atom_number = 1\n",
    "# selected_frac, selected_cart = ct.select_atom_by_number(positions_frac, lattice_cart, atom_number, element=None)\n",
    "# reference_position = selected_cart[1:]"
   ]
  },
  {
   "cell_type": "markdown",
   "metadata": {},
   "source": [
    "### Select atom plane"
   ]
  },
  {
   "cell_type": "code",
   "execution_count": 404,
   "metadata": {},
   "outputs": [],
   "source": [
    "plane = (0,0,1)\n",
    "labelled_positions_frac = ct.select_atoms_by_plane(\n",
    "    positions_frac,\n",
    "    lattice_cart,\n",
    "    plane,\n",
    "    reference_position,\n",
    "    tolerance=1\n",
    ")"
   ]
  },
  {
   "cell_type": "code",
   "execution_count": 405,
   "metadata": {},
   "outputs": [
    {
     "data": {
      "text/plain": [
       "[[13, True, 'Si', 0.5, 0.5, 0.0],\n",
       " [14, True, 'Si', 0.0, 0.5, 0.0],\n",
       " [15, True, 'Si', 0.5, 0.0, 0.0],\n",
       " [16, True, 'Si', 0.0, 0.0, 0.0]]"
      ]
     },
     "execution_count": 405,
     "metadata": {},
     "output_type": "execute_result"
    }
   ],
   "source": [
    "ct.show_only_true(labelled_positions_frac)"
   ]
  },
  {
   "cell_type": "markdown",
   "metadata": {},
   "source": []
  },
  {
   "cell_type": "markdown",
   "metadata": {},
   "source": [
    "### Add hydrogen termination to cell bottom "
   ]
  },
  {
   "cell_type": "code",
   "execution_count": 406,
   "metadata": {},
   "outputs": [],
   "source": [
    "# # First select the atoms on the bottom layer \n",
    "# criteria = ('min','min','min')\n",
    "# selected_frac, selected_cart = ct.select_atom_by_conditions(positions_frac, lattice_cart, criteria)\n",
    "# reference_position = selected_cart[1:]\n",
    "# plane = (0,0,1)\n",
    "# labelled_positions_frac = ct.select_atoms_by_plane(\n",
    "#     positions_frac,\n",
    "#     lattice_cart,\n",
    "#     plane,\n",
    "#     reference_position,\n",
    "#     tolerance=1\n",
    "# )\n",
    "# # Next calculate the relative bond vectors for the two hydrogen atoms (per Si)\n",
    "# phi = np.deg2rad(90)    \n",
    "# si_h_bond_length = 1.5                         \n",
    "# theta_h_1 = np.deg2rad(180) - np.arccos(-1/3) / 2                \n",
    "# theta_h_2 = np.deg2rad(180) + np.arccos(-1/3) / 2            \n",
    "# bond_h_1  = ct.bond_vector_from_spherical(theta_h_1, phi, si_h_bond_length)                   \n",
    "# bond_h_2  = ct.bond_vector_from_spherical(theta_h_2, phi, si_h_bond_length)\n",
    "\n",
    "# # Now add the hydrogen atoms to the silicon atoms selected above using the calculated bond vectors\n",
    "# positions_frac, lattice_cart = ct.add_atoms_to_positions_frac(\n",
    "#                                     labelled_positions_frac,\n",
    "#                                     lattice_cart,\n",
    "#                                     [bond_h_1,bond_h_2],\n",
    "#                                     extend_unit_cell=(0, 0, 1),\n",
    "#                                     atom=\"H\")\n",
    "# positions_frac = ct.sort_positions_frac(positions_frac)"
   ]
  },
  {
   "cell_type": "markdown",
   "metadata": {},
   "source": [
    "### Dimerise surface"
   ]
  },
  {
   "cell_type": "code",
   "execution_count": 407,
   "metadata": {},
   "outputs": [],
   "source": [
    "# # First select the atoms on the bottom layer \n",
    "# axis = 'z'\n",
    "# criteria = \"maximum\"\n",
    "# ref_value, _ = ct.find_plane_value(positions_frac, lattice_cart, axis, criteria)\n",
    "# tolerance = 0.5\n",
    "# labelled_positions_frac = ct.select_atoms_by_plane(positions_frac, lattice_cart, axis, ref_value,\n",
    "#                           tolerance=tolerance, include=None, exclude=None)\n",
    "\n",
    "# # Dimerise surface\n",
    "# dimer_direction = \"y\"\n",
    "# displacement_direction = \"y\"\n",
    "# displacement = 0.6\n",
    "# start_phase='+'\n",
    "# alternate=False\n",
    "# positions_frac = dimerise_displacement(labelled_positions_frac,\n",
    "#     lattice_cart,\n",
    "#     dimer_direction = dimer_direction,\n",
    "#     displacement_direction = displacement_direction,\n",
    "#     displacement = displacement,\n",
    "#     start_phase=start_phase,\n",
    "#     alternate=alternate,\n",
    "#     wrap_axes=(1,1,1)\n",
    "# )\n",
    "\n",
    "# # labelled_positions_frac = ct.select_atoms_by_plane(positions_frac, lattice_cart, axis, ref_value,\n",
    "# #                           tolerance=tolerance, include=None, exclude=None)\n",
    "\n",
    "# # displacement = 0.3\n",
    "# # displacement_direction = \"z\"\n",
    "# # alternate=True\n",
    "# # positions_frac = dimerise_displacement(labelled_positions_frac,\n",
    "# #     lattice_cart,\n",
    "# #     dimer_direction = dimer_direction,\n",
    "# #     displacement_direction = displacement_direction,\n",
    "# #     displacement = displacement,\n",
    "# #     start_phase=start_phase,\n",
    "# #     alternate=alternate,\n",
    "# #     wrap_axes=(1,1,1)\n",
    "# # )"
   ]
  },
  {
   "cell_type": "code",
   "execution_count": null,
   "metadata": {},
   "outputs": [],
   "source": []
  },
  {
   "cell_type": "code",
   "execution_count": null,
   "metadata": {},
   "outputs": [],
   "source": []
  },
  {
   "cell_type": "code",
   "execution_count": null,
   "metadata": {},
   "outputs": [],
   "source": []
  },
  {
   "cell_type": "markdown",
   "metadata": {},
   "source": [
    "### Add hydrogen to the top"
   ]
  },
  {
   "cell_type": "code",
   "execution_count": 408,
   "metadata": {},
   "outputs": [],
   "source": [
    "# # First select the atoms on the bottom layer \n",
    "# axis = 'z'\n",
    "# criteria = \"maximum\"\n",
    "# ref_value, _ = ct.find_plane_value(positions_frac, lattice_cart, axis, criteria)\n",
    "# tolerance = 0.5\n",
    "# labelled_positions_frac = ct.select_atoms_by_plane(positions_frac, lattice_cart, axis, ref_value,\n",
    "#                           tolerance=tolerance, include=None, exclude=None)\n",
    "\n",
    "# # Next calculate the relative bond vectors for the two hydrogen atoms (per Si)\n",
    "# phi = np.deg2rad(90)    \n",
    "# si_h_bond_length = 1.5                         \n",
    "# theta_h_1 = np.arccos(-1/3) / 2                \n",
    "# theta_h_2 = np.arccos(-1/3) / 2            \n",
    "# bond_h_1  = ct.bond_vector_from_spherical(theta_h_1, phi, si_h_bond_length)                   \n",
    "# bond_h_2  = ct.bond_vector_from_spherical(theta_h_2, phi, si_h_bond_length)\n",
    "\n",
    "# # Now add the hydrogen atoms to the silicon atoms selected above using the calculated bond vectors\n",
    "# positions_frac, lattice_cart = ct.add_atoms_to_positions_frac(\n",
    "#                                     labelled_positions_frac,\n",
    "#                                     lattice_cart,\n",
    "#                                     [bond_h_1,bond_h_2],\n",
    "#                                     extend_unit_cell=(0, 0, 1),\n",
    "#                                     atom=\"H\")\n",
    "# positions_frac = ct.sort_positions_frac(positions_frac)"
   ]
  },
  {
   "cell_type": "markdown",
   "metadata": {},
   "source": [
    "### Add vacuum spacing"
   ]
  },
  {
   "cell_type": "code",
   "execution_count": 409,
   "metadata": {},
   "outputs": [],
   "source": [
    "vac = 6\n",
    "positions_frac, lattice_cart = ct.create_vacuum_spacing(positions_frac, lattice_cart, vac)"
   ]
  },
  {
   "cell_type": "markdown",
   "metadata": {},
   "source": [
    "### Add ionic contraints"
   ]
  },
  {
   "cell_type": "code",
   "execution_count": 410,
   "metadata": {},
   "outputs": [],
   "source": [
    "# # Create fixed ion constraints\n",
    "# conditions = \"z < 2.5\"\n",
    "# ionic_constraints = ct.select_atoms_by_region(positions_frac, lattice_cart, conditions)"
   ]
  },
  {
   "cell_type": "code",
   "execution_count": 411,
   "metadata": {},
   "outputs": [
    {
     "data": {
      "text/plain": [
       "array([['Si', 0.5, 0.75, 0.35749428433176844],\n",
       "       ['Si', 0.0, 0.75, 0.35749428433176844],\n",
       "       ['Si', 0.5, 0.25, 0.35749428433176844],\n",
       "       ['Si', 0.0, 0.25, 0.35749428433176844],\n",
       "       ['Si', 0.75, 0.75, 0.23832952288784562],\n",
       "       ['Si', 0.25, 0.75, 0.23832952288784562],\n",
       "       ['Si', 0.75, 0.25, 0.23832952288784562],\n",
       "       ['Si', 0.25, 0.25, 0.23832952288784562],\n",
       "       ['Si', 0.75, 0.5, 0.11916476144392281],\n",
       "       ['Si', 0.25, 0.5, 0.11916476144392281],\n",
       "       ['Si', 0.75, 0.0, 0.11916476144392281],\n",
       "       ['Si', 0.25, 0.0, 0.11916476144392281],\n",
       "       ['Si', 0.5, 0.5, 0.0],\n",
       "       ['Si', 0.0, 0.5, 0.0],\n",
       "       ['Si', 0.5, 0.0, 0.0],\n",
       "       ['Si', 0.0, 0.0, 0.0]], dtype=object)"
      ]
     },
     "execution_count": 411,
     "metadata": {},
     "output_type": "execute_result"
    }
   ],
   "source": [
    "positions_frac"
   ]
  },
  {
   "cell_type": "code",
   "execution_count": null,
   "metadata": {},
   "outputs": [],
   "source": []
  },
  {
   "cell_type": "code",
   "execution_count": 412,
   "metadata": {},
   "outputs": [
    {
     "name": "stdout",
     "output_type": "stream",
     "text": [
      "================================================================================\n",
      "CASTEP file: /Users/steven/academic-iCloud/Calculations/castep/work-2025/si001_surf/si001_test.castep\n",
      "================================================================================\n",
      "\n",
      "Wrote param file to: /Users/steven/academic-iCloud/Calculations/castep/work-2025/si001_surf/si001_test.param\n",
      "!TITLE: silicon 001 surface tests\n",
      "\n",
      "TASK                 : geomopt\n",
      "XC_FUNCTIONAL        : PBE\n",
      "CUT_OFF_ENERGY       : 400\n",
      "SPIN_POLARISED       : false\n",
      "WRITE_CELL_STRUCTURE : true\n",
      "CHARGE               : 0\n",
      "NEXTRA_BANDS         : 8\n",
      "GEOM_ENERGY_TOL      : 5e-05\n",
      "GEOM_DISP_TOL        : 0.002\n",
      "GEOM_MAX_ITER        : 100\n",
      "GEOM_CONVERGENCE_WIN : 2\n",
      "MAX_SCF_CYCLES       : 300\n",
      "\n",
      "\n",
      "Wrote cell file to: /Users/steven/academic-iCloud/Calculations/castep/work-2025/si001_surf/si001_test.cell\n",
      "! silicon 001 surface tests\n",
      "\n",
      "%BLOCK lattice_cart\n",
      "   ANG\n",
      "       7.7283952000    0.0000000000    0.0000000000\n",
      "       0.0000000000    7.7283952000    0.0000000000\n",
      "       0.0000000000    0.0000000000   11.4648012000\n",
      "%ENDBLOCK lattice_cart\n",
      "\n",
      "%BLOCK CELL_CONSTRAINTS\n",
      "       0    0    0\n",
      "       0    0    0\n",
      "%ENDBLOCK CELL_CONSTRAINTS\n",
      "\n",
      "%BLOCK positions_frac\n",
      "   Si       0.5000000000    0.7500000000    0.3574942843\n",
      "   Si       0.0000000000    0.7500000000    0.3574942843\n",
      "   Si       0.5000000000    0.2500000000    0.3574942843\n",
      "   Si       0.0000000000    0.2500000000    0.3574942843\n",
      "   Si       0.7500000000    0.7500000000    0.2383295229\n",
      "   Si       0.2500000000    0.7500000000    0.2383295229\n",
      "   Si       0.7500000000    0.2500000000    0.2383295229\n",
      "   Si       0.2500000000    0.2500000000    0.2383295229\n",
      "   Si       0.7500000000    0.5000000000    0.1191647614\n",
      "   Si       0.2500000000    0.5000000000    0.1191647614\n",
      "   Si       0.7500000000    0.0000000000    0.1191647614\n",
      "   Si       0.2500000000    0.0000000000    0.1191647614\n",
      "   Si       0.5000000000    0.5000000000    0.0000000000\n",
      "   Si       0.0000000000    0.5000000000    0.0000000000\n",
      "   Si       0.5000000000    0.0000000000    0.0000000000\n",
      "   Si       0.0000000000    0.0000000000    0.0000000000\n",
      "%ENDBLOCK positions_frac\n",
      "\n",
      "KPOINTS_MP_GRID : 2 2 2\n",
      "\n",
      "\n"
     ]
    }
   ],
   "source": [
    "filename = f\"si001_test\"\n",
    "castep_path = job_path / f\"{filename}.castep\"\n",
    "\n",
    "print('=' * 80 + f'\\nCASTEP file: {castep_path}\\n' + '=' * 80 + '\\n')   \n",
    "\n",
    "param_filename = ct.write_param_file(\n",
    "    params,\n",
    "    title = title,\n",
    "    filename=filename,\n",
    "    path=job_path,\n",
    "    display_file=True\n",
    "    )\n",
    "\n",
    "cell_filename = ct.write_cell_file(\n",
    "    title = title,\n",
    "    path=job_path,\n",
    "    filename=filename,\n",
    "    lattice_cart=lattice_cart,\n",
    "    positions_frac=positions_frac,\n",
    "    cell_constraints=cell_constraints,\n",
    "#    ionic_constraints=ionic_constraints,\n",
    "    fix_all_ions=fix_all_ions,\n",
    "    symmetry_generate=symmetry_generate,\n",
    "    symmetry_tol = symmetry_tol,\n",
    "    kpoints_mp_grid=kpoints_mp_grid,\n",
    "    display_file=True\n",
    ")\n",
    "\n",
    "# Convert to cart and write xyz\n",
    "positions_cart = ct.frac_to_cart(lattice_cart, positions_frac)\n",
    "xyz = ct.write_xyz(positions_cart, path=job_path, filename=filename, comment='Converted by SRSCALCUTILS')\n"
   ]
  },
  {
   "cell_type": "code",
   "execution_count": 413,
   "metadata": {},
   "outputs": [],
   "source": [
    "# if str(module_path) == '/hpc/srs/Python/modules':\n",
    "#     !bash -l -c \"mpirun -np 62 castep.mpi {filename}\"\n",
    "# else:\n",
    "#     !zsh -l -c \"castepmpi {filename}\"\n"
   ]
  },
  {
   "cell_type": "code",
   "execution_count": 414,
   "metadata": {},
   "outputs": [],
   "source": [
    "\n",
    "# unit_cell, a, b, c, alpha, beta, gamma = ct.get_final_lattice_parameters(castep_path)\n",
    "# energy_optimisation = ct.get_LBFGS_energies(castep_path)\n",
    "# energies = [val for _, val in energy_optimisation]\n",
    "# energy = energies[-1]\n",
    "\n",
    "# print('Optimised energy {} eV'.format(energy))\n",
    "# print('Optimised lattice constants a,b = {} Ang., c = {} Ang.'.format(a,c))\n",
    "# print('Unit cell:')\n",
    "# for line in unit_cell:\n",
    "#     print(' '*2,np.abs(line))\n"
   ]
  },
  {
   "cell_type": "code",
   "execution_count": null,
   "metadata": {},
   "outputs": [],
   "source": []
  }
 ],
 "metadata": {
  "kernelspec": {
   "display_name": "dfttools",
   "language": "python",
   "name": "python3"
  },
  "language_info": {
   "codemirror_mode": {
    "name": "ipython",
    "version": 3
   },
   "file_extension": ".py",
   "mimetype": "text/x-python",
   "name": "python",
   "nbconvert_exporter": "python",
   "pygments_lexer": "ipython3",
   "version": "3.11.8"
  }
 },
 "nbformat": 4,
 "nbformat_minor": 2
}
