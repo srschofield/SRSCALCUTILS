{
 "cells": [
  {
   "cell_type": "markdown",
   "metadata": {},
   "source": [
    "<!-- # CNN autoencoder and Clustering from MTRX data\n",
    "\n",
    "Use this notebook to load Scienta Omicron Matrix format SPM data and create standardised images for machine learning training and analysis. The code can generate both JPG image data, useful for manually checking the data, and windowed numpy data that can be loaded into ML models. \n",
    "\n",
    "The notebook then creates an autoencoder for training on a large dataset, followed by KMEANS clustering. \n",
    "\n",
    "**Author**: Steven R. Schofield  \n",
    "**Created**: November, 2024 -->"
   ]
  },
  {
   "cell_type": "markdown",
   "metadata": {},
   "source": [
    "# CASTEP - Remove the vacuum spacing from a surface template file\n",
    "## Steven R. Schofield (Universtiy College London) May 2025"
   ]
  },
  {
   "cell_type": "markdown",
   "metadata": {},
   "source": [
    "### Set parameters for calculation"
   ]
  },
  {
   "cell_type": "markdown",
   "metadata": {},
   "source": [
    "### Determine appropriate paths whether we are working on macbook or the cluster"
   ]
  },
  {
   "cell_type": "code",
   "execution_count": 59,
   "metadata": {},
   "outputs": [
    {
     "name": "stdout",
     "output_type": "stream",
     "text": [
      "module_path = /Users/steven/academic-iCloud/Python/modules\n",
      "data_path = /Users/steven/Castep-data/work\n"
     ]
    }
   ],
   "source": [
    "import sys\n",
    "from pathlib import Path\n",
    "\n",
    "# Define candidate paths using Path objects\n",
    "module_path_list = [\n",
    "    Path('/Users/steven/academic-iCloud/Python/modules'),\n",
    "    Path('/hpc/srs/Python/modules')\n",
    "]\n",
    "\n",
    "data_path_list = [\n",
    "    Path('/Users/steven/Castep-data/work'),\n",
    "    Path('/hpc/srs/castep')\n",
    "]\n",
    "\n",
    "# Resolve actual paths\n",
    "module_path = next((p for p in module_path_list if p.exists()), None)\n",
    "data_path = next((p for p in data_path_list if p.exists()), None)\n",
    "\n",
    "# Check and report missing paths\n",
    "if module_path is None:\n",
    "    print(\"Error: Could not locate a valid module path.\")\n",
    "if data_path is None:\n",
    "    print(\"Error: Could not locate a valid data path.\")\n",
    "\n",
    "if module_path is None or data_path is None:\n",
    "    sys.exit(1)\n",
    "\n",
    "# Add module_path to sys.path if needed\n",
    "if str(module_path) not in sys.path:\n",
    "    sys.path.insert(0, str(module_path))\n",
    "\n",
    "# Print resolved paths\n",
    "print(f\"module_path = {module_path}\")\n",
    "print(f\"data_path = {data_path}\")"
   ]
  },
  {
   "cell_type": "markdown",
   "metadata": {},
   "source": [
    "### Import modules"
   ]
  },
  {
   "cell_type": "code",
   "execution_count": 60,
   "metadata": {},
   "outputs": [
    {
     "name": "stdout",
     "output_type": "stream",
     "text": [
      "The autoreload extension is already loaded. To reload it, use:\n",
      "  %reload_ext autoreload\n"
     ]
    }
   ],
   "source": [
    "# # Ensure modules are reloaded \n",
    "%load_ext autoreload\n",
    "%autoreload 2\n",
    "\n",
    "# Import standard modules\n",
    "import numpy as np\n",
    "import pandas as pd\n",
    "import os\n",
    "from matplotlib import pyplot as plt\n",
    "\n",
    "# Import custom module\n",
    "import SRSCALCUTILS.castep_tools as ct\n",
    "\n",
    "from IPython.display import display"
   ]
  },
  {
   "cell_type": "code",
   "execution_count": 61,
   "metadata": {},
   "outputs": [
    {
     "name": "stdout",
     "output_type": "stream",
     "text": [
      "lattice_cart_new, c = 4:\n",
      "[3.8641976 0.        0.       ]\n",
      "[0.        7.7283952 0.       ]\n",
      "[ 0.         0.        21.8592048]\n"
     ]
    }
   ],
   "source": [
    "lattice_cart_bulk = np.array([\n",
    "            [3.8641976,     0.0,     0.0],\n",
    "            [0.0,     7.7283952,     0.0],\n",
    "            [0.0,     0.0,     5.4648012]\n",
    "        ])\n",
    "\n",
    "c = 4\n",
    "\n",
    "lattice_cart_new = lattice_cart_bulk.copy()\n",
    "lattice_cart_new[2] = c * lattice_cart_new[2]\n",
    "\n",
    "print(\"lattice_cart_new, c = {}:\".format(c))\n",
    "for line in lattice_cart_new:\n",
    "    print(line)"
   ]
  },
  {
   "cell_type": "markdown",
   "metadata": {},
   "source": [
    "### Load positions_frac_surface from template"
   ]
  },
  {
   "cell_type": "code",
   "execution_count": 62,
   "metadata": {},
   "outputs": [],
   "source": [
    "template_path = '/Users/steven/academic-iCloud/Python/modules/SRSCALCUTILS/data/templates'\n",
    "template_filename = \"si001_124-out.cell\"\n",
    "template_write_filename = \"si001_124\"\n",
    "\n",
    "# Read positions and lattice from template file\n",
    "positions_frac_template, lattice_cart_template = ct.read_positions_frac(template_path,template_filename)\n",
    "\n",
    "# Remove H atoms and shift z-coordinates down\n",
    "labelled_positions_frac_new = ct.select_atoms_by_region(positions_frac_template, lattice_cart_template, condition=\"atom=='H'\")\n",
    "positions_frac_new = ct.selected_delete(labelled_positions_frac_new)\n",
    "positions_frac_new = ct.remove_z_offset(positions_frac_new)\n",
    "\n",
    "# Rescale z-coordinates\n",
    "rescale = lattice_cart_template[2,2] / lattice_cart_new[2,2]\n",
    "for row in positions_frac_new:\n",
    "    row[3] = float(row[3]) * float(rescale)"
   ]
  },
  {
   "cell_type": "code",
   "execution_count": 63,
   "metadata": {},
   "outputs": [
    {
     "name": "stdout",
     "output_type": "stream",
     "text": [
      "Wrote cell file to: /Users/steven/academic-iCloud/Python/modules/SRSCALCUTILS/data/templates/si001_124.cell\n",
      "! Si(001) template file, processed from CASTEP output\n",
      "\n",
      "%BLOCK lattice_cart\n",
      "   ANG\n",
      "       3.8641976000    0.0000000000    0.0000000000\n",
      "       0.0000000000    7.7283952000    0.0000000000\n",
      "       0.0000000000    0.0000000000   21.8592048000\n",
      "%ENDBLOCK lattice_cart\n",
      "\n",
      "%BLOCK CELL_CONSTRAINTS\n",
      "       0    0    0\n",
      "       0    0    0\n",
      "%ENDBLOCK CELL_CONSTRAINTS\n",
      "\n",
      "%BLOCK positions_frac\n",
      "   Si       0.0000000000    0.6491282000    0.9274519173\n",
      "   Si       0.0000000000    0.3508672000    0.9274538157\n",
      "   Si       0.5000000000    0.7386160000    0.8774410428\n",
      "   Si       0.5000000000    0.2613854000    0.8774412154\n",
      "   Si       0.5000000000    0.0000008000    0.8205662047\n",
      "   Si       0.5000000000    0.4999999000    0.8088486947\n",
      "   Si      -0.0000000000    0.0000001000    0.7563082739\n",
      "   Si       0.0000000000    0.5000001000    0.7474829067\n",
      "   Si       0.0000000000    0.7560191000    0.6892296497\n",
      "   Si      -0.0000000000    0.2439810000    0.6892296497\n",
      "   Si       0.5000000000    0.7547626000    0.6263831012\n",
      "   Si       0.5000000000    0.2452373000    0.6263831012\n",
      "   Si       0.5000000000    0.5000000000    0.5651084369\n",
      "   Si       0.5000000000    0.0000000000    0.5619600086\n",
      "   Si      -0.0000000000    0.5000000000    0.5018395782\n",
      "   Si      -0.0000000000    0.0000000000    0.4995078118\n",
      "   Si      -0.0000000000    0.7484696000    0.4379480407\n",
      "   Si      -0.0000000000    0.2515304000    0.4379480407\n",
      "   Si       0.5000000000    0.7489853000    0.3752813235\n",
      "   Si       0.5000000000    0.2510149000    0.3752813235\n",
      "   Si       0.5000000000    0.5000000000    0.3123660870\n",
      "   Si       0.5000000000    0.0000000000    0.3130170694\n",
      "   Si       0.0000000000    0.5000001000    0.2498025743\n",
      "   Si      -0.0000000000    0.0000001000    0.2502535332\n",
      "   Si      -0.0000000000    0.7502990000    0.1874972454\n",
      "   Si       0.0000000000    0.2497011000    0.1874972454\n",
      "   Si       0.5000000000    0.7501333000    0.1249753252\n",
      "   Si       0.5000000000    0.2498668000    0.1249753252\n",
      "   Si       0.5000000000    0.5000000000    0.0625000023\n",
      "   Si       0.5000000000    0.0000000000    0.0625000023\n",
      "   Si       0.0000000000    0.5000000000    0.0000000000\n",
      "   Si      -0.0000000000    0.0000000000    0.0000000000\n",
      "%ENDBLOCK positions_frac\n",
      "\n",
      "\n"
     ]
    }
   ],
   "source": [
    "title = 'Si(001) template file, processed from CASTEP output'\n",
    "\n",
    "cell_filename = ct.write_cell_file(\n",
    "    title = title,\n",
    "    path=template_path,\n",
    "    filename=template_write_filename,\n",
    "    lattice_cart=lattice_cart_new,\n",
    "    positions_frac=positions_frac_new,\n",
    "    display_file=True\n",
    ")"
   ]
  },
  {
   "cell_type": "code",
   "execution_count": null,
   "metadata": {},
   "outputs": [],
   "source": []
  }
 ],
 "metadata": {
  "kernelspec": {
   "display_name": "dfttools",
   "language": "python",
   "name": "python3"
  },
  "language_info": {
   "codemirror_mode": {
    "name": "ipython",
    "version": 3
   },
   "file_extension": ".py",
   "mimetype": "text/x-python",
   "name": "python",
   "nbconvert_exporter": "python",
   "pygments_lexer": "ipython3",
   "version": "3.11.8"
  }
 },
 "nbformat": 4,
 "nbformat_minor": 2
}
