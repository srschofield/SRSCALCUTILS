{
 "cells": [
  {
   "cell_type": "markdown",
   "metadata": {},
   "source": [
    "<!-- # CNN autoencoder and Clustering from MTRX data\n",
    "\n",
    "Use this notebook to load Scienta Omicron Matrix format SPM data and create standardised images for machine learning training and analysis. The code can generate both JPG image data, useful for manually checking the data, and windowed numpy data that can be loaded into ML models. \n",
    "\n",
    "The notebook then creates an autoencoder for training on a large dataset, followed by KMEANS clustering. \n",
    "\n",
    "**Author**: Steven R. Schofield  \n",
    "**Created**: November, 2024 -->"
   ]
  },
  {
   "cell_type": "markdown",
   "metadata": {},
   "source": [
    "# CASTEP output analysis\n",
    "## Steven R. Schofield (Universtiy College London) May 2025"
   ]
  },
  {
   "cell_type": "markdown",
   "metadata": {},
   "source": [
    "### Load required modules"
   ]
  },
  {
   "cell_type": "code",
   "execution_count": 65,
   "metadata": {},
   "outputs": [
    {
     "name": "stdout",
     "output_type": "stream",
     "text": [
      "module_path = /Users/steven/academic-iCloud/Python/modules\n",
      "data_path = /Users/steven/academic-iCloud/Calculations/castep/Hydrogen_Bridge\n"
     ]
    }
   ],
   "source": [
    "import sys\n",
    "from pathlib import Path\n",
    "\n",
    "# Define candidate paths using Path objects\n",
    "module_path_list = [\n",
    "    Path('/Users/steven/academic-iCloud/Python/modules'),\n",
    "    Path('/hpc/srs/Python/modules')\n",
    "]\n",
    "\n",
    "data_path_list = [\n",
    "    Path('/Users/steven/academic-iCloud/Calculations/castep/Hydrogen_Bridge'),\n",
    "    Path('/hpc/srs/Python-data')\n",
    "]\n",
    "\n",
    "# Resolve actual paths\n",
    "module_path = next((p for p in module_path_list if p.exists()), None)\n",
    "data_path = next((p for p in data_path_list if p.exists()), None)\n",
    "\n",
    "# Check and report missing paths\n",
    "if module_path is None:\n",
    "    print(\"Error: Could not locate a valid module path.\")\n",
    "if data_path is None:\n",
    "    print(\"Error: Could not locate a valid data path.\")\n",
    "\n",
    "if module_path is None or data_path is None:\n",
    "    sys.exit(1)\n",
    "\n",
    "# Add module_path to sys.path if needed\n",
    "if str(module_path) not in sys.path:\n",
    "    sys.path.insert(0, str(module_path))\n",
    "\n",
    "# Print resolved paths\n",
    "print(f\"module_path = {module_path}\")\n",
    "print(f\"data_path = {data_path}\")\n"
   ]
  },
  {
   "cell_type": "code",
   "execution_count": 66,
   "metadata": {},
   "outputs": [
    {
     "name": "stdout",
     "output_type": "stream",
     "text": [
      "The autoreload extension is already loaded. To reload it, use:\n",
      "  %reload_ext autoreload\n"
     ]
    }
   ],
   "source": [
    "# # Ensure modules are reloaded \n",
    "%load_ext autoreload\n",
    "%autoreload 2\n",
    "\n",
    "# Import standard modules\n",
    "import numpy as np\n",
    "import pandas as pd\n",
    "\n",
    "# Import custom module\n",
    "import SRSCALCUTILS.castep_tools as ct"
   ]
  },
  {
   "cell_type": "markdown",
   "metadata": {},
   "source": [
    "### Programme variable setup"
   ]
  },
  {
   "cell_type": "code",
   "execution_count": 67,
   "metadata": {},
   "outputs": [
    {
     "name": "stdout",
     "output_type": "stream",
     "text": [
      "job_path = /Users/steven/academic-iCloud/Calculations/castep/Hydrogen_Bridge/1x6x8/1x6x8-821MP-SP-negative\n"
     ]
    }
   ],
   "source": [
    "# Parameters for windows creation\n",
    "# General\n",
    "job_folder = '1x6x8/1x6x8-821MP-SP-negative'\n",
    "job_path = data_path / job_folder\n",
    "verbose = False             # Set this True to print out more information\n",
    "\n",
    "# Print resolved paths\n",
    "print(f\"job_path = {job_path}\")"
   ]
  },
  {
   "cell_type": "code",
   "execution_count": 79,
   "metadata": {},
   "outputs": [
    {
     "name": "stdout",
     "output_type": "stream",
     "text": [
      "\n",
      "====================================================================================================================\n",
      "                                               FILE: L8_clean.castep                                                \n",
      "   PATH: /Users/steven/academic-iCloud/Calculations/castep/Hydrogen_Bridge/1x6x8/1x6x8-821MP-SP-negative/L8_clean   \n",
      "====================================================================================================================\n",
      "\n",
      "Final enthalpy = -8363.55887 eV.\n"
     ]
    },
    {
     "data": {
      "image/png": "[encoded data removed]",
      "text/plain": [
       "<Figure size 500x200 with 1 Axes>"
      ]
     },
     "metadata": {},
     "output_type": "display_data"
    },
    {
     "data": {
      "text/html": [
       "<div>\n",
       "<style scoped>\n",
       "    .dataframe tbody tr th:only-of-type {\n",
       "        vertical-align: middle;\n",
       "    }\n",
       "\n",
       "    .dataframe tbody tr th {\n",
       "        vertical-align: top;\n",
       "    }\n",
       "\n",
       "    .dataframe thead th {\n",
       "        text-align: right;\n",
       "    }\n",
       "</style>\n",
       "<table border=\"1\" class=\"dataframe\">\n",
       "  <thead>\n",
       "    <tr style=\"text-align: right;\">\n",
       "      <th></th>\n",
       "      <th>Cell parameters</th>\n",
       "      <th>Value</th>\n",
       "    </tr>\n",
       "  </thead>\n",
       "  <tbody>\n",
       "    <tr>\n",
       "      <th>0</th>\n",
       "      <td>ax</td>\n",
       "      <td>3.866835</td>\n",
       "    </tr>\n",
       "    <tr>\n",
       "      <th>1</th>\n",
       "      <td>ay</td>\n",
       "      <td>23.201008</td>\n",
       "    </tr>\n",
       "    <tr>\n",
       "      <th>2</th>\n",
       "      <td>az</td>\n",
       "      <td>25.937060</td>\n",
       "    </tr>\n",
       "    <tr>\n",
       "      <th>3</th>\n",
       "      <td>nx</td>\n",
       "      <td>1.000000</td>\n",
       "    </tr>\n",
       "    <tr>\n",
       "      <th>4</th>\n",
       "      <td>ny</td>\n",
       "      <td>6.000000</td>\n",
       "    </tr>\n",
       "    <tr>\n",
       "      <th>5</th>\n",
       "      <td>nz</td>\n",
       "      <td>8.000000</td>\n",
       "    </tr>\n",
       "    <tr>\n",
       "      <th>6</th>\n",
       "      <td>alpha</td>\n",
       "      <td>90.000000</td>\n",
       "    </tr>\n",
       "    <tr>\n",
       "      <th>7</th>\n",
       "      <td>beta</td>\n",
       "      <td>90.000000</td>\n",
       "    </tr>\n",
       "    <tr>\n",
       "      <th>8</th>\n",
       "      <td>gamma</td>\n",
       "      <td>90.000000</td>\n",
       "    </tr>\n",
       "  </tbody>\n",
       "</table>\n",
       "</div>"
      ],
      "text/plain": [
       "  Cell parameters      Value\n",
       "0              ax   3.866835\n",
       "1              ay  23.201008\n",
       "2              az  25.937060\n",
       "3              nx   1.000000\n",
       "4              ny   6.000000\n",
       "5              nz   8.000000\n",
       "6           alpha  90.000000\n",
       "7            beta  90.000000\n",
       "8           gamma  90.000000"
      ]
     },
     "metadata": {},
     "output_type": "display_data"
    },
    {
     "data": {
      "text/html": [
       "<div>\n",
       "<style scoped>\n",
       "    .dataframe tbody tr th:only-of-type {\n",
       "        vertical-align: middle;\n",
       "    }\n",
       "\n",
       "    .dataframe tbody tr th {\n",
       "        vertical-align: top;\n",
       "    }\n",
       "\n",
       "    .dataframe thead th {\n",
       "        text-align: right;\n",
       "    }\n",
       "</style>\n",
       "<table border=\"1\" class=\"dataframe\">\n",
       "  <thead>\n",
       "    <tr style=\"text-align: right;\">\n",
       "      <th></th>\n",
       "      <th>General parameter</th>\n",
       "      <th>Value</th>\n",
       "    </tr>\n",
       "  </thead>\n",
       "  <tbody>\n",
       "    <tr>\n",
       "      <th>0</th>\n",
       "      <td>plane wave basis set cut-off</td>\n",
       "      <td>800.0000   eV</td>\n",
       "    </tr>\n",
       "    <tr>\n",
       "      <th>1</th>\n",
       "      <td>finite basis set correction</td>\n",
       "      <td>none</td>\n",
       "    </tr>\n",
       "    <tr>\n",
       "      <th>2</th>\n",
       "      <td>number of  electrons</td>\n",
       "      <td>205.0</td>\n",
       "    </tr>\n",
       "    <tr>\n",
       "      <th>3</th>\n",
       "      <td>net charge of system</td>\n",
       "      <td>-1.0</td>\n",
       "    </tr>\n",
       "    <tr>\n",
       "      <th>4</th>\n",
       "      <td>net spin   of system</td>\n",
       "      <td>1.0</td>\n",
       "    </tr>\n",
       "    <tr>\n",
       "      <th>5</th>\n",
       "      <td>number of  up  spins</td>\n",
       "      <td>103.0</td>\n",
       "    </tr>\n",
       "    <tr>\n",
       "      <th>6</th>\n",
       "      <td>number of down spins</td>\n",
       "      <td>102.0</td>\n",
       "    </tr>\n",
       "    <tr>\n",
       "      <th>7</th>\n",
       "      <td>number of bands</td>\n",
       "      <td>124.0</td>\n",
       "    </tr>\n",
       "    <tr>\n",
       "      <th>8</th>\n",
       "      <td>total energy / atom convergence tol.</td>\n",
       "      <td>0.1000E-04   eV</td>\n",
       "    </tr>\n",
       "    <tr>\n",
       "      <th>9</th>\n",
       "      <td>eigen-energy convergence tolerance</td>\n",
       "      <td>0.1000E-05   eV</td>\n",
       "    </tr>\n",
       "    <tr>\n",
       "      <th>10</th>\n",
       "      <td>max force / atom convergence tol.</td>\n",
       "      <td>ignored</td>\n",
       "    </tr>\n",
       "    <tr>\n",
       "      <th>11</th>\n",
       "      <td>convergence tolerance window</td>\n",
       "      <td>2   steps</td>\n",
       "    </tr>\n",
       "    <tr>\n",
       "      <th>12</th>\n",
       "      <td>smearing scheme</td>\n",
       "      <td>Gaussian</td>\n",
       "    </tr>\n",
       "    <tr>\n",
       "      <th>13</th>\n",
       "      <td>smearing width</td>\n",
       "      <td>0.2000       eV</td>\n",
       "    </tr>\n",
       "    <tr>\n",
       "      <th>14</th>\n",
       "      <td>Fermi energy convergence tolerance</td>\n",
       "      <td>0.2721E-13   eV</td>\n",
       "    </tr>\n",
       "    <tr>\n",
       "      <th>15</th>\n",
       "      <td>periodic dipole correction</td>\n",
       "      <td>NONE</td>\n",
       "    </tr>\n",
       "    <tr>\n",
       "      <th>16</th>\n",
       "      <td>kx</td>\n",
       "      <td>8</td>\n",
       "    </tr>\n",
       "    <tr>\n",
       "      <th>17</th>\n",
       "      <td>ky</td>\n",
       "      <td>2</td>\n",
       "    </tr>\n",
       "    <tr>\n",
       "      <th>18</th>\n",
       "      <td>kz</td>\n",
       "      <td>1</td>\n",
       "    </tr>\n",
       "    <tr>\n",
       "      <th>19</th>\n",
       "      <td>k_offset</td>\n",
       "      <td>(0.0, 0.0, 0.0)</td>\n",
       "    </tr>\n",
       "    <tr>\n",
       "      <th>20</th>\n",
       "      <td>n_kpoints</td>\n",
       "      <td>4</td>\n",
       "    </tr>\n",
       "  </tbody>\n",
       "</table>\n",
       "</div>"
      ],
      "text/plain": [
       "                       General parameter            Value\n",
       "0           plane wave basis set cut-off    800.0000   eV\n",
       "1            finite basis set correction             none\n",
       "2                   number of  electrons            205.0\n",
       "3                   net charge of system             -1.0\n",
       "4                   net spin   of system              1.0\n",
       "5                   number of  up  spins            103.0\n",
       "6                   number of down spins            102.0\n",
       "7                        number of bands            124.0\n",
       "8   total energy / atom convergence tol.  0.1000E-04   eV\n",
       "9     eigen-energy convergence tolerance  0.1000E-05   eV\n",
       "10     max force / atom convergence tol.          ignored\n",
       "11          convergence tolerance window        2   steps\n",
       "12                       smearing scheme         Gaussian\n",
       "13                        smearing width  0.2000       eV\n",
       "14    Fermi energy convergence tolerance  0.2721E-13   eV\n",
       "15            periodic dipole correction             NONE\n",
       "16                                    kx                8\n",
       "17                                    ky                2\n",
       "18                                    kz                1\n",
       "19                              k_offset  (0.0, 0.0, 0.0)\n",
       "20                             n_kpoints                4"
      ]
     },
     "metadata": {},
     "output_type": "display_data"
    }
   ],
   "source": [
    "castep_paths = ct.find_all_files_by_extension(job_path, extension=\".castep\")\n",
    "\n",
    "for castep_path in castep_paths:\n",
    "    # Header and error information\n",
    "    ct.print_file_info(castep_path)\n",
    "    #ct.extract_warnings(castep_path,verbose=True)\n",
    "\n",
    "    # Energy convergence\n",
    "    convergence = ct.extract_LBFGS_energies(castep_path)\n",
    "    final_enthalpy = ct.extract_LBFGS_final_enthalpy(castep_path)\n",
    "    print('Final enthalpy = {} eV.'.format(final_enthalpy))\n",
    "    ct.plot_energy_vs_iteration(convergence, title=castep_path.stem+' '+str(final_enthalpy),figsize=(5,2))\n",
    "    \n",
    "    # Unit cell parameters\n",
    "    cell = ct.extract_lattice_parameters(castep_path,a0=3.8668346, vac=15.0)\n",
    "    cell_df = pd.DataFrame(cell.items(), columns=[\"Cell parameters\", \"Value\"])\n",
    "    display(cell_df) \n",
    "\n",
    "    # General parameters\n",
    "    general_params = ct.extract_summary_parameters(castep_path)\n",
    "    general_params_df = pd.DataFrame(general_params.items(), columns=[\"General parameter\", \"Value\"])\n",
    "    display(general_params_df) \n",
    "\n",
    "    break\n",
    "\n",
    "    \n",
    "    \n",
    "\n",
    "    \n",
    "    \n",
    "    "
   ]
  },
  {
   "cell_type": "code",
   "execution_count": 75,
   "metadata": {},
   "outputs": [
    {
     "data": {
      "text/html": [
       "<div>\n",
       "<style scoped>\n",
       "    .dataframe tbody tr th:only-of-type {\n",
       "        vertical-align: middle;\n",
       "    }\n",
       "\n",
       "    .dataframe tbody tr th {\n",
       "        vertical-align: top;\n",
       "    }\n",
       "\n",
       "    .dataframe thead th {\n",
       "        text-align: right;\n",
       "    }\n",
       "</style>\n",
       "<table border=\"1\" class=\"dataframe\">\n",
       "  <thead>\n",
       "    <tr style=\"text-align: right;\">\n",
       "      <th></th>\n",
       "      <th>File</th>\n",
       "      <th>RelPath</th>\n",
       "      <th>nx</th>\n",
       "      <th>ny</th>\n",
       "      <th>nz</th>\n",
       "      <th>kx</th>\n",
       "      <th>ky</th>\n",
       "      <th>kz</th>\n",
       "      <th>Cut-off (eV)</th>\n",
       "      <th>Net Charge</th>\n",
       "      <th>Net Spin</th>\n",
       "      <th>Final Enthalpy (eV)</th>\n",
       "    </tr>\n",
       "  </thead>\n",
       "  <tbody>\n",
       "    <tr>\n",
       "      <th>0</th>\n",
       "      <td>L8_clean</td>\n",
       "      <td>L8_clean</td>\n",
       "      <td>1</td>\n",
       "      <td>6</td>\n",
       "      <td>8</td>\n",
       "      <td>8</td>\n",
       "      <td>2</td>\n",
       "      <td>1</td>\n",
       "      <td>800.0000   eV</td>\n",
       "      <td>-1.0</td>\n",
       "      <td>1.0</td>\n",
       "      <td>-8363.55887</td>\n",
       "    </tr>\n",
       "    <tr>\n",
       "      <th>1</th>\n",
       "      <td>L8_Hbb</td>\n",
       "      <td>L8_Hbb</td>\n",
       "      <td>1</td>\n",
       "      <td>6</td>\n",
       "      <td>8</td>\n",
       "      <td>8</td>\n",
       "      <td>2</td>\n",
       "      <td>1</td>\n",
       "      <td>800.0000   eV</td>\n",
       "      <td>-1.0</td>\n",
       "      <td>0.0</td>\n",
       "      <td>-8479.38580</td>\n",
       "    </tr>\n",
       "    <tr>\n",
       "      <th>2</th>\n",
       "      <td>L8_1di</td>\n",
       "      <td>L8_1di</td>\n",
       "      <td>1</td>\n",
       "      <td>6</td>\n",
       "      <td>8</td>\n",
       "      <td>8</td>\n",
       "      <td>2</td>\n",
       "      <td>1</td>\n",
       "      <td>800.0000   eV</td>\n",
       "      <td>-1.0</td>\n",
       "      <td>1.0</td>\n",
       "      <td>-8496.08947</td>\n",
       "    </tr>\n",
       "    <tr>\n",
       "      <th>3</th>\n",
       "      <td>L8_DB</td>\n",
       "      <td>L8_DB</td>\n",
       "      <td>1</td>\n",
       "      <td>6</td>\n",
       "      <td>8</td>\n",
       "      <td>8</td>\n",
       "      <td>2</td>\n",
       "      <td>1</td>\n",
       "      <td>800.0000   eV</td>\n",
       "      <td>-1.0</td>\n",
       "      <td>0.0</td>\n",
       "      <td>-8447.71313</td>\n",
       "    </tr>\n",
       "    <tr>\n",
       "      <th>4</th>\n",
       "      <td>L8_mono</td>\n",
       "      <td>L8_mono</td>\n",
       "      <td>1</td>\n",
       "      <td>6</td>\n",
       "      <td>8</td>\n",
       "      <td>8</td>\n",
       "      <td>2</td>\n",
       "      <td>1</td>\n",
       "      <td>800.0000   eV</td>\n",
       "      <td>-1.0</td>\n",
       "      <td>1.0</td>\n",
       "      <td>-8464.20940</td>\n",
       "    </tr>\n",
       "    <tr>\n",
       "      <th>5</th>\n",
       "      <td>L8_Ob</td>\n",
       "      <td>L8_Ob</td>\n",
       "      <td>1</td>\n",
       "      <td>6</td>\n",
       "      <td>8</td>\n",
       "      <td>8</td>\n",
       "      <td>2</td>\n",
       "      <td>1</td>\n",
       "      <td>800.0000   eV</td>\n",
       "      <td>-1.0</td>\n",
       "      <td>1.0</td>\n",
       "      <td>-8905.24618</td>\n",
       "    </tr>\n",
       "    <tr>\n",
       "      <th>6</th>\n",
       "      <td>L8_3x1</td>\n",
       "      <td>L8_3x1</td>\n",
       "      <td>1</td>\n",
       "      <td>6</td>\n",
       "      <td>8</td>\n",
       "      <td>8</td>\n",
       "      <td>2</td>\n",
       "      <td>1</td>\n",
       "      <td>800.0000   eV</td>\n",
       "      <td>-1.0</td>\n",
       "      <td>1.0</td>\n",
       "      <td>-8496.17906</td>\n",
       "    </tr>\n",
       "    <tr>\n",
       "      <th>7</th>\n",
       "      <td>L8_di</td>\n",
       "      <td>L8_di</td>\n",
       "      <td>1</td>\n",
       "      <td>6</td>\n",
       "      <td>8</td>\n",
       "      <td>8</td>\n",
       "      <td>2</td>\n",
       "      <td>1</td>\n",
       "      <td>800.0000   eV</td>\n",
       "      <td>-1.0</td>\n",
       "      <td>1.0</td>\n",
       "      <td>-8558.20589</td>\n",
       "    </tr>\n",
       "    <tr>\n",
       "      <th>8</th>\n",
       "      <td>L8_Hb</td>\n",
       "      <td>L8_Hb</td>\n",
       "      <td>1</td>\n",
       "      <td>6</td>\n",
       "      <td>8</td>\n",
       "      <td>8</td>\n",
       "      <td>2</td>\n",
       "      <td>1</td>\n",
       "      <td>800.0000   eV</td>\n",
       "      <td>-1.0</td>\n",
       "      <td>0.0</td>\n",
       "      <td>-8479.09956</td>\n",
       "    </tr>\n",
       "  </tbody>\n",
       "</table>\n",
       "</div>"
      ],
      "text/plain": [
       "       File   RelPath  nx  ny  nz  kx  ky  kz   Cut-off (eV)  Net Charge  \\\n",
       "0  L8_clean  L8_clean   1   6   8   8   2   1  800.0000   eV        -1.0   \n",
       "1    L8_Hbb    L8_Hbb   1   6   8   8   2   1  800.0000   eV        -1.0   \n",
       "2    L8_1di    L8_1di   1   6   8   8   2   1  800.0000   eV        -1.0   \n",
       "3     L8_DB     L8_DB   1   6   8   8   2   1  800.0000   eV        -1.0   \n",
       "4   L8_mono   L8_mono   1   6   8   8   2   1  800.0000   eV        -1.0   \n",
       "5     L8_Ob     L8_Ob   1   6   8   8   2   1  800.0000   eV        -1.0   \n",
       "6    L8_3x1    L8_3x1   1   6   8   8   2   1  800.0000   eV        -1.0   \n",
       "7     L8_di     L8_di   1   6   8   8   2   1  800.0000   eV        -1.0   \n",
       "8     L8_Hb     L8_Hb   1   6   8   8   2   1  800.0000   eV        -1.0   \n",
       "\n",
       "   Net Spin  Final Enthalpy (eV)  \n",
       "0       1.0          -8363.55887  \n",
       "1       0.0          -8479.38580  \n",
       "2       1.0          -8496.08947  \n",
       "3       0.0          -8447.71313  \n",
       "4       1.0          -8464.20940  \n",
       "5       1.0          -8905.24618  \n",
       "6       1.0          -8496.17906  \n",
       "7       1.0          -8558.20589  \n",
       "8       0.0          -8479.09956  "
      ]
     },
     "metadata": {},
     "output_type": "display_data"
    }
   ],
   "source": [
    "data_summary = ct.collect_summary_table(job_path)\n",
    "with pd.option_context('display.max_rows', None, 'display.max_columns', None):\n",
    "    display(data_summary)"
   ]
  },
  {
   "cell_type": "code",
   "execution_count": 84,
   "metadata": {},
   "outputs": [
    {
     "data": {
      "text/plain": [
       "PosixPath('/Users/steven/academic-iCloud/Calculations/castep/Hydrogen_Bridge/1x6x8/1x6x8-821MP-SP-negative/L8_clean/L8_clean.castep')"
      ]
     },
     "execution_count": 84,
     "metadata": {},
     "output_type": "execute_result"
    }
   ],
   "source": [
    "castep_paths[0]"
   ]
  },
  {
   "cell_type": "code",
   "execution_count": 90,
   "metadata": {},
   "outputs": [
    {
     "ename": "AttributeError",
     "evalue": "'tuple' object has no attribute 'iterimages'",
     "output_type": "error",
     "traceback": [
      "\u001b[31m---------------------------------------------------------------------------\u001b[39m",
      "\u001b[31mAttributeError\u001b[39m                            Traceback (most recent call last)",
      "\u001b[36mCell\u001b[39m\u001b[36m \u001b[39m\u001b[32mIn[90]\u001b[39m\u001b[32m, line 2\u001b[39m\n\u001b[32m      1\u001b[39m atoms = ct.extract_final_fractional_positions(castep_paths[\u001b[32m0\u001b[39m])\n\u001b[32m----> \u001b[39m\u001b[32m2\u001b[39m \u001b[43mview\u001b[49m\u001b[43m(\u001b[49m\u001b[43matoms\u001b[49m\u001b[43m)\u001b[49m\n",
      "\u001b[36mFile \u001b[39m\u001b[32m/opt/anaconda3/envs/dfttools/lib/python3.11/site-packages/ase/visualize/__init__.py:13\u001b[39m, in \u001b[36mview\u001b[39m\u001b[34m(atoms, data, viewer, repeat, block, **kwargs)\u001b[39m\n\u001b[32m     10\u001b[39m     \u001b[38;5;28;01mreturn\u001b[39;00m \u001b[38;5;28;01mNone\u001b[39;00m\n\u001b[32m     12\u001b[39m vwr = VIEWERS[viewer.lower()]\n\u001b[32m---> \u001b[39m\u001b[32m13\u001b[39m handle = \u001b[43mvwr\u001b[49m\u001b[43m.\u001b[49m\u001b[43mview\u001b[49m\u001b[43m(\u001b[49m\u001b[43matoms\u001b[49m\u001b[43m,\u001b[49m\u001b[43m \u001b[49m\u001b[43mdata\u001b[49m\u001b[43m=\u001b[49m\u001b[43mdata\u001b[49m\u001b[43m,\u001b[49m\u001b[43m \u001b[49m\u001b[43mrepeat\u001b[49m\u001b[43m=\u001b[49m\u001b[43mrepeat\u001b[49m\u001b[43m,\u001b[49m\u001b[43m \u001b[49m\u001b[43m*\u001b[49m\u001b[43m*\u001b[49m\u001b[43mkwargs\u001b[49m\u001b[43m)\u001b[49m\n\u001b[32m     15\u001b[39m \u001b[38;5;28;01mif\u001b[39;00m block \u001b[38;5;129;01mand\u001b[39;00m \u001b[38;5;28mhasattr\u001b[39m(handle, \u001b[33m'\u001b[39m\u001b[33mwait\u001b[39m\u001b[33m'\u001b[39m):\n\u001b[32m     16\u001b[39m     status = handle.wait()\n",
      "\u001b[36mFile \u001b[39m\u001b[32m/opt/anaconda3/envs/dfttools/lib/python3.11/site-packages/ase/visualize/viewers.py:145\u001b[39m, in \u001b[36m_pipe_to_ase_gui\u001b[39m\u001b[34m(atoms, repeat, **kwargs)\u001b[39m\n\u001b[32m    143\u001b[39m \u001b[38;5;28;01mdef\u001b[39;00m\u001b[38;5;250m \u001b[39m\u001b[34m_pipe_to_ase_gui\u001b[39m(atoms, repeat, **kwargs):\n\u001b[32m    144\u001b[39m     buf = BytesIO()\n\u001b[32m--> \u001b[39m\u001b[32m145\u001b[39m     \u001b[43mwrite\u001b[49m\u001b[43m(\u001b[49m\u001b[43mbuf\u001b[49m\u001b[43m,\u001b[49m\u001b[43m \u001b[49m\u001b[43matoms\u001b[49m\u001b[43m,\u001b[49m\u001b[43m \u001b[49m\u001b[38;5;28;43mformat\u001b[39;49m\u001b[43m=\u001b[49m\u001b[33;43m\"\u001b[39;49m\u001b[33;43mtraj\u001b[39;49m\u001b[33;43m\"\u001b[39;49m\u001b[43m)\u001b[49m\n\u001b[32m    147\u001b[39m     args = [sys.executable, \u001b[33m\"\u001b[39m\u001b[33m-m\u001b[39m\u001b[33m\"\u001b[39m, \u001b[33m\"\u001b[39m\u001b[33mase\u001b[39m\u001b[33m\"\u001b[39m, \u001b[33m\"\u001b[39m\u001b[33mgui\u001b[39m\u001b[33m\"\u001b[39m, \u001b[33m\"\u001b[39m\u001b[33m-\u001b[39m\u001b[33m\"\u001b[39m]\n\u001b[32m    148\u001b[39m     \u001b[38;5;28;01mif\u001b[39;00m repeat:\n",
      "\u001b[36mFile \u001b[39m\u001b[32m/opt/anaconda3/envs/dfttools/lib/python3.11/site-packages/ase/io/formats.py:707\u001b[39m, in \u001b[36mwrite\u001b[39m\u001b[34m(filename, images, format, parallel, append, **kwargs)\u001b[39m\n\u001b[32m    703\u001b[39m \u001b[38;5;28mformat\u001b[39m = \u001b[38;5;28mformat\u001b[39m \u001b[38;5;129;01mor\u001b[39;00m \u001b[33m'\u001b[39m\u001b[33mjson\u001b[39m\u001b[33m'\u001b[39m  \u001b[38;5;66;03m# default is json\u001b[39;00m\n\u001b[32m    705\u001b[39m io = get_ioformat(\u001b[38;5;28mformat\u001b[39m)\n\u001b[32m--> \u001b[39m\u001b[32m707\u001b[39m \u001b[38;5;28;01mreturn\u001b[39;00m \u001b[43m_write\u001b[49m\u001b[43m(\u001b[49m\u001b[43mfilename\u001b[49m\u001b[43m,\u001b[49m\u001b[43m \u001b[49m\u001b[43mfd\u001b[49m\u001b[43m,\u001b[49m\u001b[43m \u001b[49m\u001b[38;5;28;43mformat\u001b[39;49m\u001b[43m,\u001b[49m\u001b[43m \u001b[49m\u001b[43mio\u001b[49m\u001b[43m,\u001b[49m\u001b[43m \u001b[49m\u001b[43mimages\u001b[49m\u001b[43m,\u001b[49m\n\u001b[32m    708\u001b[39m \u001b[43m              \u001b[49m\u001b[43mparallel\u001b[49m\u001b[43m=\u001b[49m\u001b[43mparallel\u001b[49m\u001b[43m,\u001b[49m\u001b[43m \u001b[49m\u001b[43mappend\u001b[49m\u001b[43m=\u001b[49m\u001b[43mappend\u001b[49m\u001b[43m,\u001b[49m\u001b[43m \u001b[49m\u001b[43m*\u001b[49m\u001b[43m*\u001b[49m\u001b[43mkwargs\u001b[49m\u001b[43m)\u001b[49m\n",
      "\u001b[36mFile \u001b[39m\u001b[32m/opt/anaconda3/envs/dfttools/lib/python3.11/site-packages/ase/parallel.py:274\u001b[39m, in \u001b[36mparallel_function.<locals>.new_func\u001b[39m\u001b[34m(*args, **kwargs)\u001b[39m\n\u001b[32m    268\u001b[39m \u001b[38;5;129m@functools\u001b[39m.wraps(func)\n\u001b[32m    269\u001b[39m \u001b[38;5;28;01mdef\u001b[39;00m\u001b[38;5;250m \u001b[39m\u001b[34mnew_func\u001b[39m(*args, **kwargs):\n\u001b[32m    270\u001b[39m     \u001b[38;5;28;01mif\u001b[39;00m (world.size == \u001b[32m1\u001b[39m \u001b[38;5;129;01mor\u001b[39;00m\n\u001b[32m    271\u001b[39m         args \u001b[38;5;129;01mand\u001b[39;00m \u001b[38;5;28mgetattr\u001b[39m(args[\u001b[32m0\u001b[39m], \u001b[33m'\u001b[39m\u001b[33mserial\u001b[39m\u001b[33m'\u001b[39m, \u001b[38;5;28;01mFalse\u001b[39;00m) \u001b[38;5;129;01mor\u001b[39;00m\n\u001b[32m    272\u001b[39m             \u001b[38;5;129;01mnot\u001b[39;00m kwargs.pop(\u001b[33m'\u001b[39m\u001b[33mparallel\u001b[39m\u001b[33m'\u001b[39m, \u001b[38;5;28;01mTrue\u001b[39;00m)):\n\u001b[32m    273\u001b[39m         \u001b[38;5;66;03m# Disable:\u001b[39;00m\n\u001b[32m--> \u001b[39m\u001b[32m274\u001b[39m         \u001b[38;5;28;01mreturn\u001b[39;00m \u001b[43mfunc\u001b[49m\u001b[43m(\u001b[49m\u001b[43m*\u001b[49m\u001b[43margs\u001b[49m\u001b[43m,\u001b[49m\u001b[43m \u001b[49m\u001b[43m*\u001b[49m\u001b[43m*\u001b[49m\u001b[43mkwargs\u001b[49m\u001b[43m)\u001b[49m\n\u001b[32m    276\u001b[39m     ex = \u001b[38;5;28;01mNone\u001b[39;00m\n\u001b[32m    277\u001b[39m     result = \u001b[38;5;28;01mNone\u001b[39;00m\n",
      "\u001b[36mFile \u001b[39m\u001b[32m/opt/anaconda3/envs/dfttools/lib/python3.11/site-packages/ase/io/formats.py:743\u001b[39m, in \u001b[36m_write\u001b[39m\u001b[34m(filename, fd, format, io, images, parallel, append, **kwargs)\u001b[39m\n\u001b[32m    740\u001b[39m         fd = open_with_compression(filename, mode)\n\u001b[32m    741\u001b[39m         \u001b[38;5;66;03m# XXX remember to re-enable compressed open\u001b[39;00m\n\u001b[32m    742\u001b[39m         \u001b[38;5;66;03m# fd = io.open(filename, mode)\u001b[39;00m\n\u001b[32m--> \u001b[39m\u001b[32m743\u001b[39m     \u001b[38;5;28;01mreturn\u001b[39;00m \u001b[43mio\u001b[49m\u001b[43m.\u001b[49m\u001b[43mwrite\u001b[49m\u001b[43m(\u001b[49m\u001b[43mfd\u001b[49m\u001b[43m,\u001b[49m\u001b[43m \u001b[49m\u001b[43mimages\u001b[49m\u001b[43m,\u001b[49m\u001b[43m \u001b[49m\u001b[43m*\u001b[49m\u001b[43m*\u001b[49m\u001b[43mkwargs\u001b[49m\u001b[43m)\u001b[49m\n\u001b[32m    744\u001b[39m \u001b[38;5;28;01mfinally\u001b[39;00m:\n\u001b[32m    745\u001b[39m     \u001b[38;5;28;01mif\u001b[39;00m open_new \u001b[38;5;129;01mand\u001b[39;00m fd \u001b[38;5;129;01mis\u001b[39;00m \u001b[38;5;129;01mnot\u001b[39;00m \u001b[38;5;28;01mNone\u001b[39;00m:\n",
      "\u001b[36mFile \u001b[39m\u001b[32m/opt/anaconda3/envs/dfttools/lib/python3.11/site-packages/ase/io/formats.py:204\u001b[39m, in \u001b[36mIOFormat._write_wrapper\u001b[39m\u001b[34m(self, *args, **kwargs)\u001b[39m\n\u001b[32m    202\u001b[39m \u001b[38;5;28;01mif\u001b[39;00m function \u001b[38;5;129;01mis\u001b[39;00m \u001b[38;5;28;01mNone\u001b[39;00m:\n\u001b[32m    203\u001b[39m     \u001b[38;5;28;01mraise\u001b[39;00m \u001b[38;5;167;01mValueError\u001b[39;00m(\u001b[33mf\u001b[39m\u001b[33m'\u001b[39m\u001b[33mCannot write to \u001b[39m\u001b[38;5;132;01m{\u001b[39;00m\u001b[38;5;28mself\u001b[39m.name\u001b[38;5;132;01m}\u001b[39;00m\u001b[33m-format\u001b[39m\u001b[33m'\u001b[39m)\n\u001b[32m--> \u001b[39m\u001b[32m204\u001b[39m \u001b[38;5;28;01mreturn\u001b[39;00m \u001b[43mfunction\u001b[49m\u001b[43m(\u001b[49m\u001b[43m*\u001b[49m\u001b[43margs\u001b[49m\u001b[43m,\u001b[49m\u001b[43m \u001b[49m\u001b[43m*\u001b[49m\u001b[43m*\u001b[49m\u001b[43mkwargs\u001b[49m\u001b[43m)\u001b[49m\n",
      "\u001b[36mFile \u001b[39m\u001b[32m/opt/anaconda3/envs/dfttools/lib/python3.11/site-packages/ase/io/trajectory.py:455\u001b[39m, in \u001b[36mwrite_traj\u001b[39m\u001b[34m(fd, images)\u001b[39m\n\u001b[32m    453\u001b[39m trj = TrajectoryWriter(fd_uncompressed)\n\u001b[32m    454\u001b[39m \u001b[38;5;28;01mfor\u001b[39;00m atoms \u001b[38;5;129;01min\u001b[39;00m images:\n\u001b[32m--> \u001b[39m\u001b[32m455\u001b[39m     \u001b[43mtrj\u001b[49m\u001b[43m.\u001b[49m\u001b[43mwrite\u001b[49m\u001b[43m(\u001b[49m\u001b[43matoms\u001b[49m\u001b[43m)\u001b[49m\n",
      "\u001b[36mFile \u001b[39m\u001b[32m/opt/anaconda3/envs/dfttools/lib/python3.11/site-packages/ase/io/trajectory.py:148\u001b[39m, in \u001b[36mTrajectoryWriter.write\u001b[39m\u001b[34m(self, atoms, **kwargs)\u001b[39m\n\u001b[32m    145\u001b[39m \u001b[38;5;28;01mif\u001b[39;00m atoms \u001b[38;5;129;01mis\u001b[39;00m \u001b[38;5;28;01mNone\u001b[39;00m:\n\u001b[32m    146\u001b[39m     atoms = \u001b[38;5;28mself\u001b[39m.atoms\n\u001b[32m--> \u001b[39m\u001b[32m148\u001b[39m \u001b[38;5;28;01mfor\u001b[39;00m image \u001b[38;5;129;01min\u001b[39;00m \u001b[43matoms\u001b[49m\u001b[43m.\u001b[49m\u001b[43miterimages\u001b[49m():\n\u001b[32m    149\u001b[39m     \u001b[38;5;28mself\u001b[39m._write_atoms(image, **kwargs)\n",
      "\u001b[31mAttributeError\u001b[39m: 'tuple' object has no attribute 'iterimages'"
     ]
    }
   ],
   "source": [
    "atoms = ct.extract_final_fractional_positions(castep_paths[0])\n",
    "view(atoms)"
   ]
  },
  {
   "cell_type": "code",
   "execution_count": null,
   "metadata": {},
   "outputs": [
    {
     "ename": "KeyError",
     "evalue": "'H:D'",
     "output_type": "error",
     "traceback": [
      "\u001b[31m---------------------------------------------------------------------------\u001b[39m",
      "\u001b[31mKeyError\u001b[39m                                  Traceback (most recent call last)",
      "\u001b[36mCell\u001b[39m\u001b[36m \u001b[39m\u001b[32mIn[78]\u001b[39m\u001b[32m, line 4\u001b[39m\n\u001b[32m      1\u001b[39m \u001b[38;5;28;01mfrom\u001b[39;00m\u001b[38;5;250m \u001b[39m\u001b[34;01mase\u001b[39;00m\u001b[34;01m.\u001b[39;00m\u001b[34;01mio\u001b[39;00m\u001b[38;5;250m \u001b[39m\u001b[38;5;28;01mimport\u001b[39;00m read\n\u001b[32m      2\u001b[39m \u001b[38;5;28;01mfrom\u001b[39;00m\u001b[38;5;250m \u001b[39m\u001b[34;01mase\u001b[39;00m\u001b[34;01m.\u001b[39;00m\u001b[34;01mvisualize\u001b[39;00m\u001b[38;5;250m \u001b[39m\u001b[38;5;28;01mimport\u001b[39;00m view\n\u001b[32m----> \u001b[39m\u001b[32m4\u001b[39m atoms = \u001b[43mread\u001b[49m\u001b[43m(\u001b[49m\u001b[43mgeom_paths\u001b[49m\u001b[43m[\u001b[49m\u001b[32;43m0\u001b[39;49m\u001b[43m]\u001b[49m\u001b[43m)\u001b[49m  \u001b[38;5;66;03m# or .castep, .traj, etc.\u001b[39;00m\n\u001b[32m      5\u001b[39m view(atoms)\n",
      "\u001b[36mFile \u001b[39m\u001b[32m/opt/anaconda3/envs/dfttools/lib/python3.11/site-packages/ase/io/formats.py:815\u001b[39m, in \u001b[36mread\u001b[39m\u001b[34m(filename, index, format, parallel, do_not_split_by_at_sign, **kwargs)\u001b[39m\n\u001b[32m    812\u001b[39m     \u001b[38;5;28;01mreturn\u001b[39;00m \u001b[38;5;28mlist\u001b[39m(_iread(filename, index, \u001b[38;5;28mformat\u001b[39m, io, parallel=parallel,\n\u001b[32m    813\u001b[39m                        **kwargs))\n\u001b[32m    814\u001b[39m \u001b[38;5;28;01melse\u001b[39;00m:\n\u001b[32m--> \u001b[39m\u001b[32m815\u001b[39m     \u001b[38;5;28;01mreturn\u001b[39;00m \u001b[38;5;28;43mnext\u001b[39;49m\u001b[43m(\u001b[49m\u001b[43m_iread\u001b[49m\u001b[43m(\u001b[49m\u001b[43mfilename\u001b[49m\u001b[43m,\u001b[49m\u001b[43m \u001b[49m\u001b[38;5;28;43mslice\u001b[39;49m\u001b[43m(\u001b[49m\u001b[43mindex\u001b[49m\u001b[43m,\u001b[49m\u001b[43m \u001b[49m\u001b[38;5;28;43;01mNone\u001b[39;49;00m\u001b[43m)\u001b[49m\u001b[43m,\u001b[49m\u001b[43m \u001b[49m\u001b[38;5;28;43mformat\u001b[39;49m\u001b[43m,\u001b[49m\u001b[43m \u001b[49m\u001b[43mio\u001b[49m\u001b[43m,\u001b[49m\n\u001b[32m    816\u001b[39m \u001b[43m                       \u001b[49m\u001b[43mparallel\u001b[49m\u001b[43m=\u001b[49m\u001b[43mparallel\u001b[49m\u001b[43m,\u001b[49m\u001b[43m \u001b[49m\u001b[43m*\u001b[49m\u001b[43m*\u001b[49m\u001b[43mkwargs\u001b[49m\u001b[43m)\u001b[49m\u001b[43m)\u001b[49m\n",
      "\u001b[36mFile \u001b[39m\u001b[32m/opt/anaconda3/envs/dfttools/lib/python3.11/site-packages/ase/parallel.py:305\u001b[39m, in \u001b[36mparallel_generator.<locals>.new_generator\u001b[39m\u001b[34m(*args, **kwargs)\u001b[39m\n\u001b[32m    299\u001b[39m \u001b[38;5;129m@functools\u001b[39m.wraps(generator)\n\u001b[32m    300\u001b[39m \u001b[38;5;28;01mdef\u001b[39;00m\u001b[38;5;250m \u001b[39m\u001b[34mnew_generator\u001b[39m(*args, **kwargs):\n\u001b[32m    301\u001b[39m     \u001b[38;5;28;01mif\u001b[39;00m (world.size == \u001b[32m1\u001b[39m \u001b[38;5;129;01mor\u001b[39;00m\n\u001b[32m    302\u001b[39m         args \u001b[38;5;129;01mand\u001b[39;00m \u001b[38;5;28mgetattr\u001b[39m(args[\u001b[32m0\u001b[39m], \u001b[33m'\u001b[39m\u001b[33mserial\u001b[39m\u001b[33m'\u001b[39m, \u001b[38;5;28;01mFalse\u001b[39;00m) \u001b[38;5;129;01mor\u001b[39;00m\n\u001b[32m    303\u001b[39m             \u001b[38;5;129;01mnot\u001b[39;00m kwargs.pop(\u001b[33m'\u001b[39m\u001b[33mparallel\u001b[39m\u001b[33m'\u001b[39m, \u001b[38;5;28;01mTrue\u001b[39;00m)):\n\u001b[32m    304\u001b[39m         \u001b[38;5;66;03m# Disable:\u001b[39;00m\n\u001b[32m--> \u001b[39m\u001b[32m305\u001b[39m \u001b[43m        \u001b[49m\u001b[38;5;28;43;01mfor\u001b[39;49;00m\u001b[43m \u001b[49m\u001b[43mresult\u001b[49m\u001b[43m \u001b[49m\u001b[38;5;129;43;01min\u001b[39;49;00m\u001b[43m \u001b[49m\u001b[43mgenerator\u001b[49m\u001b[43m(\u001b[49m\u001b[43m*\u001b[49m\u001b[43margs\u001b[49m\u001b[43m,\u001b[49m\u001b[43m \u001b[49m\u001b[43m*\u001b[49m\u001b[43m*\u001b[49m\u001b[43mkwargs\u001b[49m\u001b[43m)\u001b[49m\u001b[43m:\u001b[49m\n\u001b[32m    306\u001b[39m \u001b[43m            \u001b[49m\u001b[38;5;28;43;01myield\u001b[39;49;00m\u001b[43m \u001b[49m\u001b[43mresult\u001b[49m\n\u001b[32m    307\u001b[39m         \u001b[38;5;28;01mreturn\u001b[39;00m\n",
      "\u001b[36mFile \u001b[39m\u001b[32m/opt/anaconda3/envs/dfttools/lib/python3.11/site-packages/ase/io/formats.py:881\u001b[39m, in \u001b[36m_iread\u001b[39m\u001b[34m(filename, index, format, io, parallel, full_output, **kwargs)\u001b[39m\n\u001b[32m    879\u001b[39m \u001b[38;5;66;03m# Make sure fd is closed in case loop doesn't finish:\u001b[39;00m\n\u001b[32m    880\u001b[39m \u001b[38;5;28;01mtry\u001b[39;00m:\n\u001b[32m--> \u001b[39m\u001b[32m881\u001b[39m \u001b[43m    \u001b[49m\u001b[38;5;28;43;01mfor\u001b[39;49;00m\u001b[43m \u001b[49m\u001b[43mdct\u001b[49m\u001b[43m \u001b[49m\u001b[38;5;129;43;01min\u001b[39;49;00m\u001b[43m \u001b[49m\u001b[43mio\u001b[49m\u001b[43m.\u001b[49m\u001b[43mread\u001b[49m\u001b[43m(\u001b[49m\u001b[43mfd\u001b[49m\u001b[43m,\u001b[49m\u001b[43m \u001b[49m\u001b[43m*\u001b[49m\u001b[43margs\u001b[49m\u001b[43m,\u001b[49m\u001b[43m \u001b[49m\u001b[43m*\u001b[49m\u001b[43m*\u001b[49m\u001b[43mkwargs\u001b[49m\u001b[43m)\u001b[49m\u001b[43m:\u001b[49m\n\u001b[32m    882\u001b[39m \u001b[43m        \u001b[49m\u001b[38;5;28;43;01mif\u001b[39;49;00m\u001b[43m \u001b[49m\u001b[38;5;129;43;01mnot\u001b[39;49;00m\u001b[43m \u001b[49m\u001b[38;5;28;43misinstance\u001b[39;49m\u001b[43m(\u001b[49m\u001b[43mdct\u001b[49m\u001b[43m,\u001b[49m\u001b[43m \u001b[49m\u001b[38;5;28;43mdict\u001b[39;49m\u001b[43m)\u001b[49m\u001b[43m:\u001b[49m\n\u001b[32m    883\u001b[39m \u001b[43m            \u001b[49m\u001b[43mdct\u001b[49m\u001b[43m \u001b[49m\u001b[43m=\u001b[49m\u001b[43m \u001b[49m\u001b[43m{\u001b[49m\u001b[33;43m'\u001b[39;49m\u001b[33;43matoms\u001b[39;49m\u001b[33;43m'\u001b[39;49m\u001b[43m:\u001b[49m\u001b[43m \u001b[49m\u001b[43mdct\u001b[49m\u001b[43m}\u001b[49m\n",
      "\u001b[36mFile \u001b[39m\u001b[32m/opt/anaconda3/envs/dfttools/lib/python3.11/site-packages/ase/io/formats.py:639\u001b[39m, in \u001b[36mwrap_read_function\u001b[39m\u001b[34m(read, filename, index, **kwargs)\u001b[39m\n\u001b[32m    637\u001b[39m     \u001b[38;5;28;01myield\u001b[39;00m read(filename, **kwargs)\n\u001b[32m    638\u001b[39m \u001b[38;5;28;01melse\u001b[39;00m:\n\u001b[32m--> \u001b[39m\u001b[32m639\u001b[39m     \u001b[38;5;28;01myield from\u001b[39;00m \u001b[43mread\u001b[49m\u001b[43m(\u001b[49m\u001b[43mfilename\u001b[49m\u001b[43m,\u001b[49m\u001b[43m \u001b[49m\u001b[43mindex\u001b[49m\u001b[43m,\u001b[49m\u001b[43m \u001b[49m\u001b[43m*\u001b[49m\u001b[43m*\u001b[49m\u001b[43mkwargs\u001b[49m\u001b[43m)\u001b[49m\n",
      "\u001b[36mFile \u001b[39m\u001b[32m/opt/anaconda3/envs/dfttools/lib/python3.11/site-packages/ase/utils/__init__.py:599\u001b[39m, in \u001b[36miofunction.__call__.<locals>.iofunc\u001b[39m\u001b[34m(file, *args, **kwargs)\u001b[39m\n\u001b[32m    597\u001b[39m     \u001b[38;5;28;01melse\u001b[39;00m:\n\u001b[32m    598\u001b[39m         fd = file\n\u001b[32m--> \u001b[39m\u001b[32m599\u001b[39m     obj = \u001b[43mfunc\u001b[49m\u001b[43m(\u001b[49m\u001b[43mfd\u001b[49m\u001b[43m,\u001b[49m\u001b[43m \u001b[49m\u001b[43m*\u001b[49m\u001b[43margs\u001b[49m\u001b[43m,\u001b[49m\u001b[43m \u001b[49m\u001b[43m*\u001b[49m\u001b[43m*\u001b[49m\u001b[43mkwargs\u001b[49m\u001b[43m)\u001b[49m\n\u001b[32m    600\u001b[39m     \u001b[38;5;28;01mreturn\u001b[39;00m obj\n\u001b[32m    601\u001b[39m \u001b[38;5;28;01mfinally\u001b[39;00m:\n",
      "\u001b[36mFile \u001b[39m\u001b[32m/opt/anaconda3/envs/dfttools/lib/python3.11/site-packages/ase/io/castep/geom_md_ts.py:82\u001b[39m, in \u001b[36m_read_images\u001b[39m\u001b[34m(fd, index, units)\u001b[39m\n\u001b[32m     80\u001b[39m \u001b[38;5;28;01mif\u001b[39;00m \u001b[38;5;28misinstance\u001b[39m(index, \u001b[38;5;28mstr\u001b[39m):\n\u001b[32m     81\u001b[39m     \u001b[38;5;28;01mraise\u001b[39;00m \u001b[38;5;167;01mValueError\u001b[39;00m(index)\n\u001b[32m---> \u001b[39m\u001b[32m82\u001b[39m \u001b[38;5;28;01mreturn\u001b[39;00m \u001b[38;5;28;43mlist\u001b[39;49m\u001b[43m(\u001b[49m\u001b[43m_iread_images\u001b[49m\u001b[43m(\u001b[49m\u001b[43mfd\u001b[49m\u001b[43m,\u001b[49m\u001b[43m \u001b[49m\u001b[43munits\u001b[49m\u001b[43m)\u001b[49m\u001b[43m)\u001b[49m[index]\n",
      "\u001b[36mFile \u001b[39m\u001b[32m/opt/anaconda3/envs/dfttools/lib/python3.11/site-packages/ase/io/castep/geom_md_ts.py:98\u001b[39m, in \u001b[36m_iread_images\u001b[39m\u001b[34m(fd, units)\u001b[39m\n\u001b[32m     96\u001b[39m     lines.append(line)\n\u001b[32m     97\u001b[39m \u001b[38;5;28;01melse\u001b[39;00m:\n\u001b[32m---> \u001b[39m\u001b[32m98\u001b[39m     \u001b[38;5;28;01myield\u001b[39;00m \u001b[43m_read_atoms\u001b[49m\u001b[43m(\u001b[49m\u001b[43mlines\u001b[49m\u001b[43m,\u001b[49m\u001b[43m \u001b[49m\u001b[43mparser\u001b[49m\u001b[43m)\u001b[49m\n\u001b[32m     99\u001b[39m     lines = []\n",
      "\u001b[36mFile \u001b[39m\u001b[32m/opt/anaconda3/envs/dfttools/lib/python3.11/site-packages/ase/io/castep/geom_md_ts.py:122\u001b[39m, in \u001b[36m_read_atoms\u001b[39m\u001b[34m(lines, parser)\u001b[39m\n\u001b[32m    114\u001b[39m forces = parser.parse(lines, \u001b[33m'\u001b[39m\u001b[33m<-- F\u001b[39m\u001b[33m'\u001b[39m, _read_forces)\n\u001b[32m    116\u001b[39m \u001b[38;5;66;03m# Currently unused tags:\u001b[39;00m\n\u001b[32m    117\u001b[39m \u001b[38;5;66;03m#\u001b[39;00m\n\u001b[32m    118\u001b[39m \u001b[38;5;66;03m# temperature = parser.parse(lines, '<-- T', _read_temperature)\u001b[39;00m\n\u001b[32m    119\u001b[39m \u001b[38;5;66;03m# pressure = parser.parse(lines, '<-- P', _read_pressure)\u001b[39;00m\n\u001b[32m    120\u001b[39m \u001b[38;5;66;03m# cell_velocities = parser.extract(lines, '<-- hv', _read_cell_velocities)\u001b[39;00m\n\u001b[32m--> \u001b[39m\u001b[32m122\u001b[39m atoms = \u001b[43mAtoms\u001b[49m\u001b[43m(\u001b[49m\u001b[43msymbols\u001b[49m\u001b[43m,\u001b[49m\u001b[43m \u001b[49m\u001b[43mpositions\u001b[49m\u001b[43m,\u001b[49m\u001b[43m \u001b[49m\u001b[43mcell\u001b[49m\u001b[43m=\u001b[49m\u001b[43mcell\u001b[49m\u001b[43m,\u001b[49m\u001b[43m \u001b[49m\u001b[43mpbc\u001b[49m\u001b[43m=\u001b[49m\u001b[38;5;28;43;01mTrue\u001b[39;49;00m\u001b[43m)\u001b[49m\n\u001b[32m    124\u001b[39m \u001b[38;5;28;01mif\u001b[39;00m velocities \u001b[38;5;129;01mis\u001b[39;00m \u001b[38;5;129;01mnot\u001b[39;00m \u001b[38;5;28;01mNone\u001b[39;00m:  \u001b[38;5;66;03m# MolecularDynamics\u001b[39;00m\n\u001b[32m    125\u001b[39m     units = parser.units\n",
      "\u001b[36mFile \u001b[39m\u001b[32m/opt/anaconda3/envs/dfttools/lib/python3.11/site-packages/ase/atoms.py:210\u001b[39m, in \u001b[36mAtoms.__init__\u001b[39m\u001b[34m(self, symbols, positions, numbers, tags, momenta, masses, magmoms, charges, scaled_positions, cell, pbc, celldisp, constraint, calculator, info, velocities)\u001b[39m\n\u001b[32m    208\u001b[39m     \u001b[38;5;28;01mraise\u001b[39;00m \u001b[38;5;167;01mTypeError\u001b[39;00m(\u001b[33m'\u001b[39m\u001b[33mUse only one of \u001b[39m\u001b[33m\"\u001b[39m\u001b[33msymbols\u001b[39m\u001b[33m\"\u001b[39m\u001b[33m and \u001b[39m\u001b[33m\"\u001b[39m\u001b[33mnumbers\u001b[39m\u001b[33m\"\u001b[39m\u001b[33m.\u001b[39m\u001b[33m'\u001b[39m)\n\u001b[32m    209\u001b[39m \u001b[38;5;28;01mif\u001b[39;00m symbols \u001b[38;5;129;01mis\u001b[39;00m \u001b[38;5;129;01mnot\u001b[39;00m \u001b[38;5;28;01mNone\u001b[39;00m:\n\u001b[32m--> \u001b[39m\u001b[32m210\u001b[39m     numbers = \u001b[43msymbols2numbers\u001b[49m\u001b[43m(\u001b[49m\u001b[43msymbols\u001b[49m\u001b[43m)\u001b[49m\n\u001b[32m    211\u001b[39m \u001b[38;5;28;01melif\u001b[39;00m numbers \u001b[38;5;129;01mis\u001b[39;00m \u001b[38;5;28;01mNone\u001b[39;00m:\n\u001b[32m    212\u001b[39m     \u001b[38;5;28;01mif\u001b[39;00m positions \u001b[38;5;129;01mis\u001b[39;00m \u001b[38;5;129;01mnot\u001b[39;00m \u001b[38;5;28;01mNone\u001b[39;00m:\n",
      "\u001b[36mFile \u001b[39m\u001b[32m/opt/anaconda3/envs/dfttools/lib/python3.11/site-packages/ase/symbols.py:27\u001b[39m, in \u001b[36msymbols2numbers\u001b[39m\u001b[34m(symbols)\u001b[39m\n\u001b[32m     25\u001b[39m \u001b[38;5;28;01mfor\u001b[39;00m s \u001b[38;5;129;01min\u001b[39;00m symbols:\n\u001b[32m     26\u001b[39m     \u001b[38;5;28;01mif\u001b[39;00m \u001b[38;5;28misinstance\u001b[39m(s, \u001b[38;5;28mstr\u001b[39m):\n\u001b[32m---> \u001b[39m\u001b[32m27\u001b[39m         numbers.append(\u001b[43matomic_numbers\u001b[49m\u001b[43m[\u001b[49m\u001b[43ms\u001b[49m\u001b[43m]\u001b[49m)\n\u001b[32m     28\u001b[39m     \u001b[38;5;28;01melse\u001b[39;00m:\n\u001b[32m     29\u001b[39m         numbers.append(\u001b[38;5;28mint\u001b[39m(s))\n",
      "\u001b[31mKeyError\u001b[39m: 'H:D'"
     ]
    }
   ],
   "source": [
    "from ase.io import read\n",
    "from ase.visualize import view\n",
    "\n",
    "\n",
    "atoms = read(geom_paths[0])  # or .castep, .traj, etc.\n",
    "view(atoms)\n"
   ]
  },
  {
   "cell_type": "code",
   "execution_count": 102,
   "metadata": {},
   "outputs": [],
   "source": [
    "from ase import Atoms\n",
    "from ase.visualize import view  # opens an external GUI window\n",
    "# or for inline Jupyter:\n",
    "import nglview as nv        # pip install nglview\n",
    "\n",
    "def view_fractional_structure(castep_path):\n",
    "    # 1. extract fractional positions and lattice\n",
    "    fracs = ct.extract_final_fractional_positions(castep_path)   # returns [(symbol,u,v,w),…]\n",
    "    lat   = ct.extract_lattice_parameters(castep_path)           # {'a':…, 'b':…, 'c':…, …}\n",
    "\n",
    "    print(fracs)\n",
    "    print(lat)\n",
    "    # 2. clean up symbols and build lists\n",
    "    symbols = [s.split(':')[0] for s, u, v, w in fracs]  # drop any “:D” suffix\n",
    "    scaled_positions = [(u, v, w) for s, u, v, w in fracs]\n",
    "\n",
    "    # 3. assemble cell matrix (orthogonal example)\n",
    "    a, b, c = lat['ax'], lat['ay'], lat['az']\n",
    "    cell = [[a, 0, 0],\n",
    "            [0, b, 0],\n",
    "            [0, 0, c]]\n",
    "\n",
    "    # 4. build the Atoms object\n",
    "    atoms = Atoms(symbols=symbols,\n",
    "                  scaled_positions=scaled_positions,\n",
    "                  cell=cell,\n",
    "                  pbc=True)\n",
    "\n",
    "    # 5a. external viewer\n",
    "    nv(atoms)\n",
    "\n",
    "    # 5b. or inline with NGLView\n",
    "    # return nv.show_ase(atoms)\n"
   ]
  },
  {
   "cell_type": "code",
   "execution_count": null,
   "metadata": {},
   "outputs": [],
   "source": []
  },
  {
   "cell_type": "code",
   "execution_count": 103,
   "metadata": {},
   "outputs": [
    {
     "name": "stdout",
     "output_type": "stream",
     "text": [
      "[('Si', 0.0, 0.116965, 0.359051), ('Si', 0.0, 0.216369, 0.359051), ('Si', -0.0, 0.450298, 0.359051), ('Si', 0.0, 0.549702, 0.359051), ('Si', -0.0, 0.783631, 0.359051), ('Si', -0.0, 0.883035, 0.359051), ('Si', 0.5, 0.087961, 0.315851), ('Si', 0.5, 0.245372, 0.315851), ('Si', 0.5, 0.421295, 0.315851), ('Si', 0.5, 0.578705, 0.315851), ('Si', 0.5, 0.754628, 0.315851), ('Si', 0.5, 0.912039, 0.315851), ('Si', 0.5, 0.0, 0.26856), ('Si', 0.5, 0.166667, 0.258103), ('Si', 0.5, 0.333333, 0.26856), ('Si', 0.5, 0.5, 0.258103), ('Si', 0.5, 0.666667, 0.26856), ('Si', 0.5, 0.833333, 0.258103), ('Si', 0.0, 0.0, 0.214099), ('Si', 0.0, 0.166667, 0.206948), ('Si', -0.0, 0.333333, 0.214099), ('Si', 0.0, 0.5, 0.206948), ('Si', 0.0, 0.666667, 0.214099), ('Si', -0.0, 0.833333, 0.206948), ('Si', 0.0, 0.081716, 0.157815), ('Si', 0.0, 0.251617, 0.157815), ('Si', -0.0, 0.415049, 0.157815), ('Si', -0.0, 0.584951, 0.157815), ('Si', 0.0, 0.748383, 0.157815), ('Si', -0.0, 0.918284, 0.157815), ('Si', 0.5, 0.082461, 0.10521), ('Si', 0.5, 0.250872, 0.10521), ('Si', 0.5, 0.415795, 0.10521), ('Si', 0.5, 0.584205, 0.10521), ('Si', 0.5, 0.749128, 0.10521), ('Si', 0.5, 0.917539, 0.10521), ('Si', 0.5, 0.0, 0.05271), ('Si', 0.5, 0.166667, 0.05271), ('Si', 0.5, 0.333333, 0.05271), ('Si', 0.5, 0.5, 0.05271), ('Si', 0.5, 0.666667, 0.05271), ('Si', 0.5, 0.833333, 0.05271), ('Si', 0.0, 0.0, 0.0), ('Si', 0.0, 0.166667, 0.0), ('Si', 0.0, 0.333333, 0.0), ('Si', 0.0, 0.5, 0.0), ('Si', 0.0, 0.666667, 0.0), ('Si', 0.0, 0.833333, 0.0), ('H:D', 0.0, -0.052, -0.032891), ('H:D', -0.0, 0.052, -0.032891), ('H:D', 0.0, 0.114667, -0.032891), ('H:D', 0.0, 0.218667, -0.032891), ('H:D', 0.0, 0.281333, -0.032891), ('H:D', -0.0, 0.385333, -0.032891), ('H:D', 0.0, 0.448, -0.032891), ('H:D', -0.0, 0.552, -0.032891), ('H:D', 0.0, 0.614667, -0.032891), ('H:D', -0.0, 0.718667, -0.032891), ('H:D', -0.0, 0.781333, -0.032891), ('H:D', -0.0, 0.885333, -0.032891)]\n",
      "{'ax': 3.866835, 'ay': 23.201008, 'az': 25.93706, 'nx': 1, 'ny': 6, 'nz': 8, 'alpha': 90.0, 'beta': 90.0, 'gamma': 90.0}\n"
     ]
    },
    {
     "ename": "TypeError",
     "evalue": "'module' object is not callable",
     "output_type": "error",
     "traceback": [
      "\u001b[31m---------------------------------------------------------------------------\u001b[39m",
      "\u001b[31mTypeError\u001b[39m                                 Traceback (most recent call last)",
      "\u001b[36mCell\u001b[39m\u001b[36m \u001b[39m\u001b[32mIn[103]\u001b[39m\u001b[32m, line 1\u001b[39m\n\u001b[32m----> \u001b[39m\u001b[32m1\u001b[39m \u001b[43mview_fractional_structure\u001b[49m\u001b[43m(\u001b[49m\u001b[43mcastep_paths\u001b[49m\u001b[43m[\u001b[49m\u001b[32;43m0\u001b[39;49m\u001b[43m]\u001b[49m\u001b[43m)\u001b[49m\n",
      "\u001b[36mCell\u001b[39m\u001b[36m \u001b[39m\u001b[32mIn[102]\u001b[39m\u001b[32m, line 30\u001b[39m, in \u001b[36mview_fractional_structure\u001b[39m\u001b[34m(castep_path)\u001b[39m\n\u001b[32m     24\u001b[39m atoms = Atoms(symbols=symbols,\n\u001b[32m     25\u001b[39m               scaled_positions=scaled_positions,\n\u001b[32m     26\u001b[39m               cell=cell,\n\u001b[32m     27\u001b[39m               pbc=\u001b[38;5;28;01mTrue\u001b[39;00m)\n\u001b[32m     29\u001b[39m \u001b[38;5;66;03m# 5a. external viewer\u001b[39;00m\n\u001b[32m---> \u001b[39m\u001b[32m30\u001b[39m \u001b[43mnv\u001b[49m\u001b[43m(\u001b[49m\u001b[43matoms\u001b[49m\u001b[43m)\u001b[49m\n",
      "\u001b[31mTypeError\u001b[39m: 'module' object is not callable"
     ]
    }
   ],
   "source": [
    "view_fractional_structure(castep_paths[0])"
   ]
  },
  {
   "cell_type": "code",
   "execution_count": 104,
   "metadata": {},
   "outputs": [],
   "source": [
    "params = {'task' : 'geomopt',\n",
    "          'xc_functional' : 'PBE',\n",
    "          'cut_off_energy' : 750,\n",
    "          'spin_polarised' : 'true',\n",
    "          'write_cell_structure' : 'true',\n",
    "          'charge' : 0}"
   ]
  },
  {
   "cell_type": "code",
   "execution_count": 108,
   "metadata": {},
   "outputs": [
    {
     "name": "stdout",
     "output_type": "stream",
     "text": [
      "geomopt\n"
     ]
    }
   ],
   "source": [
    "print(params['task'])"
   ]
  },
  {
   "cell_type": "code",
   "execution_count": null,
   "metadata": {},
   "outputs": [],
   "source": [
    "def write_param_file(params):\n",
    "    width = max(len(k) for k in params)\n",
    "    for param, value in params.items():\n",
    "        print(f'{param:<{width+1}} : {value}')"
   ]
  },
  {
   "cell_type": "code",
   "execution_count": null,
   "metadata": {},
   "outputs": [
    {
     "name": "stdout",
     "output_type": "stream",
     "text": [
      "task                  : geomopt\n",
      "xc_functional         : PBE\n",
      "cut_off_energy        : 750\n",
      "spin_polarised        : true\n",
      "write_cell_structure  : true\n",
      "charge                : 0\n"
     ]
    }
   ],
   "source": [
    "\n"
   ]
  },
  {
   "cell_type": "code",
   "execution_count": null,
   "metadata": {},
   "outputs": [],
   "source": []
  }
 ],
 "metadata": {
  "kernelspec": {
   "display_name": "dfttools",
   "language": "python",
   "name": "python3"
  },
  "language_info": {
   "codemirror_mode": {
    "name": "ipython",
    "version": 3
   },
   "file_extension": ".py",
   "mimetype": "text/x-python",
   "name": "python",
   "nbconvert_exporter": "python",
   "pygments_lexer": "ipython3",
   "version": "3.11.8"
  }
 },
 "nbformat": 4,
 "nbformat_minor": 2
}
