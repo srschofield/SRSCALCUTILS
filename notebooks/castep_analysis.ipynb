{
 "cells": [
  {
   "cell_type": "markdown",
   "metadata": {},
   "source": [
    "<!-- # CNN autoencoder and Clustering from MTRX data\n",
    "\n",
    "Use this notebook to load Scienta Omicron Matrix format SPM data and create standardised images for machine learning training and analysis. The code can generate both JPG image data, useful for manually checking the data, and windowed numpy data that can be loaded into ML models. \n",
    "\n",
    "The notebook then creates an autoencoder for training on a large dataset, followed by KMEANS clustering. \n",
    "\n",
    "**Author**: Steven R. Schofield  \n",
    "**Created**: November, 2024 -->"
   ]
  },
  {
   "cell_type": "markdown",
   "metadata": {},
   "source": [
    "# CASTEP output analysis\n",
    "## Steven R. Schofield (Universtiy College London) May 2025"
   ]
  },
  {
   "cell_type": "markdown",
   "metadata": {},
   "source": [
    "### Load required modules"
   ]
  },
  {
   "cell_type": "code",
   "execution_count": 38,
   "metadata": {},
   "outputs": [
    {
     "name": "stdout",
     "output_type": "stream",
     "text": [
      "module_path = /Users/steven/academic-iCloud/Python/modules\n",
      "data_path = /Users/steven/academic-iCloud/Calculations/castep/Hydrogen_Bridge\n"
     ]
    }
   ],
   "source": [
    "import sys\n",
    "from pathlib import Path\n",
    "\n",
    "# Define candidate paths using Path objects\n",
    "module_path_list = [\n",
    "    Path('/Users/steven/academic-iCloud/Python/modules'),\n",
    "    Path('/hpc/srs/Python/modules')\n",
    "]\n",
    "\n",
    "data_path_list = [\n",
    "    Path('/Users/steven/academic-iCloud/Calculations/castep/Hydrogen_Bridge'),\n",
    "    Path('/hpc/srs/Python-data')\n",
    "]\n",
    "\n",
    "# Resolve actual paths\n",
    "module_path = next((p for p in module_path_list if p.exists()), None)\n",
    "data_path = next((p for p in data_path_list if p.exists()), None)\n",
    "\n",
    "# Check and report missing paths\n",
    "if module_path is None:\n",
    "    print(\"Error: Could not locate a valid module path.\")\n",
    "if data_path is None:\n",
    "    print(\"Error: Could not locate a valid data path.\")\n",
    "\n",
    "if module_path is None or data_path is None:\n",
    "    sys.exit(1)\n",
    "\n",
    "# Add module_path to sys.path if needed\n",
    "if str(module_path) not in sys.path:\n",
    "    sys.path.insert(0, str(module_path))\n",
    "\n",
    "# Print resolved paths\n",
    "print(f\"module_path = {module_path}\")\n",
    "print(f\"data_path = {data_path}\")\n"
   ]
  },
  {
   "cell_type": "code",
   "execution_count": 39,
   "metadata": {},
   "outputs": [
    {
     "name": "stdout",
     "output_type": "stream",
     "text": [
      "The autoreload extension is already loaded. To reload it, use:\n",
      "  %reload_ext autoreload\n"
     ]
    }
   ],
   "source": [
    "# # Ensure modules are reloaded \n",
    "%load_ext autoreload\n",
    "%autoreload 2\n",
    "\n",
    "# Import standard modules\n",
    "import numpy as np\n",
    "import pandas as pd\n",
    "\n",
    "# Import custom module\n",
    "import SRSCALCUTILS.castep_tools as ct"
   ]
  },
  {
   "cell_type": "markdown",
   "metadata": {},
   "source": [
    "### Programme variable setup"
   ]
  },
  {
   "cell_type": "code",
   "execution_count": 40,
   "metadata": {},
   "outputs": [
    {
     "name": "stdout",
     "output_type": "stream",
     "text": [
      "job_path = /Users/steven/academic-iCloud/Calculations/castep/Hydrogen_Bridge/1x6x8/1x6x8-821MP-SP-negative\n"
     ]
    }
   ],
   "source": [
    "# Parameters for windows creation\n",
    "# General\n",
    "job_folder = '1x6x8/1x6x8-821MP-SP-negative'\n",
    "job_path = data_path / job_folder\n",
    "verbose = False             # Set this True to print out more information\n",
    "\n",
    "# Print resolved paths\n",
    "print(f\"job_path = {job_path}\")"
   ]
  },
  {
   "cell_type": "code",
   "execution_count": null,
   "metadata": {},
   "outputs": [
    {
     "name": "stdout",
     "output_type": "stream",
     "text": [
      "\n",
      "====================================================================================================================\n",
      "                                               FILE: L8_clean.castep                                                \n",
      "   PATH: /Users/steven/academic-iCloud/Calculations/castep/Hydrogen_Bridge/1x6x8/1x6x8-821MP-SP-negative/L8_clean   \n",
      "====================================================================================================================\n",
      "\n",
      "Final enthalpy = -8363.55887 eV.\n"
     ]
    },
    {
     "data": {
      "image/png": "[encoded data removed]",
      "text/plain": [
       "<Figure size 500x200 with 1 Axes>"
      ]
     },
     "metadata": {},
     "output_type": "display_data"
    },
    {
     "data": {
      "text/html": [
       "<div>\n",
       "<style scoped>\n",
       "    .dataframe tbody tr th:only-of-type {\n",
       "        vertical-align: middle;\n",
       "    }\n",
       "\n",
       "    .dataframe tbody tr th {\n",
       "        vertical-align: top;\n",
       "    }\n",
       "\n",
       "    .dataframe thead th {\n",
       "        text-align: right;\n",
       "    }\n",
       "</style>\n",
       "<table border=\"1\" class=\"dataframe\">\n",
       "  <thead>\n",
       "    <tr style=\"text-align: right;\">\n",
       "      <th></th>\n",
       "      <th>cell parameter</th>\n",
       "      <th>Value</th>\n",
       "    </tr>\n",
       "  </thead>\n",
       "  <tbody>\n",
       "    <tr>\n",
       "      <th>0</th>\n",
       "      <td>ax</td>\n",
       "      <td>3.866835</td>\n",
       "    </tr>\n",
       "    <tr>\n",
       "      <th>1</th>\n",
       "      <td>ay</td>\n",
       "      <td>23.201008</td>\n",
       "    </tr>\n",
       "    <tr>\n",
       "      <th>2</th>\n",
       "      <td>az</td>\n",
       "      <td>25.93706</td>\n",
       "    </tr>\n",
       "    <tr>\n",
       "      <th>3</th>\n",
       "      <td>nx</td>\n",
       "      <td>1</td>\n",
       "    </tr>\n",
       "    <tr>\n",
       "      <th>4</th>\n",
       "      <td>ny</td>\n",
       "      <td>6</td>\n",
       "    </tr>\n",
       "    <tr>\n",
       "      <th>5</th>\n",
       "      <td>nz</td>\n",
       "      <td>err</td>\n",
       "    </tr>\n",
       "    <tr>\n",
       "      <th>6</th>\n",
       "      <td>alpha</td>\n",
       "      <td>90.0</td>\n",
       "    </tr>\n",
       "    <tr>\n",
       "      <th>7</th>\n",
       "      <td>beta</td>\n",
       "      <td>90.0</td>\n",
       "    </tr>\n",
       "    <tr>\n",
       "      <th>8</th>\n",
       "      <td>gamma</td>\n",
       "      <td>90.0</td>\n",
       "    </tr>\n",
       "  </tbody>\n",
       "</table>\n",
       "</div>"
      ],
      "text/plain": [
       "  cell parameter      Value\n",
       "0             ax   3.866835\n",
       "1             ay  23.201008\n",
       "2             az   25.93706\n",
       "3             nx          1\n",
       "4             ny          6\n",
       "5             nz        err\n",
       "6          alpha       90.0\n",
       "7           beta       90.0\n",
       "8          gamma       90.0"
      ]
     },
     "metadata": {},
     "output_type": "display_data"
    }
   ],
   "source": [
    "castep_paths = ct.find_all_castep_files(job_path)\n",
    "\n",
    "for castep_path in castep_paths:\n",
    "    # Header and error information\n",
    "    ct.print_file_info(castep_path)\n",
    "    #ct.extract_warnings(castep_path,verbose=True)\n",
    "\n",
    "    # Energy convergence\n",
    "    convergence = ct.extract_LBFGS_energies(castep_path)\n",
    "    final_enthalpy = ct.extract_LBFGS_final_enthalpy(castep_path)\n",
    "    print('Final enthalpy = {} eV.'.format(final_enthalpy))\n",
    "    ct.plot_energy_vs_iteration(convergence, title=castep_path.stem+' '+str(final_enthalpy),figsize=(5,2))\n",
    "    \n",
    "    # Unit cell parameters\n",
    "    cell = ct.extract_lattice_parameters(castep_path,a0=3.8668346, vac=15.0)\n",
    "    cell_df = pd.DataFrame(cell.items(), columns=[\"cell parameter\", \"Value\"])\n",
    "    display(cell_df) \n",
    "\n",
    "    break\n",
    "\n",
    "    \n",
    "    \n",
    "    "
   ]
  },
  {
   "cell_type": "code",
   "execution_count": null,
   "metadata": {},
   "outputs": [],
   "source": [
    "#!/Users/steven/opt/anaconda3/bin/python\n",
    "\n",
    "import os\n",
    "import re\n",
    "import numpy as np\n",
    "\n",
    "import os\n",
    "from pathlib import Path\n",
    "\n",
    "\n",
    "def natural_sort_key(s):\n",
    "    \"\"\"\n",
    "    A sort key function for natural (human) sorting. It converts the string into a list of strings and integers.\n",
    "    \"\"\"\n",
    "    return [int(text) if text.isdigit() else text.lower() for text in re.split('([0-9]+)', s)]\n",
    "\n",
    "def extract_info_from_castep(file_path):\n",
    "    enthalpy = 'N/A'\n",
    "    total_time_hours = 'N/A'\n",
    "    cut_off_energy = 'N/A'  # Initialize the variable\n",
    "    with open(file_path, 'r') as file:\n",
    "        lines = file.readlines()\n",
    "    \n",
    "    for line in reversed(lines):\n",
    "        if \"LBFGS: Final Enthalpy\" in line and enthalpy == 'N/A':\n",
    "            parts = line.split()\n",
    "            enthalpy = parts[4]\n",
    "        elif \"Total time\" in line and total_time_hours == 'N/A':\n",
    "            parts = line.split('=')\n",
    "            total_time_seconds = float(parts[1].split()[0])\n",
    "            total_time_hours = total_time_seconds / 3600\n",
    "        elif \"Calculating total energy with cut-off of\" in line:\n",
    "            cut_off_energy = re.findall(r\"\\d+\\.\\d+\", line)[0]  # Extract the numerical value\n",
    "\n",
    "        if all(value != 'N/A' for value in [enthalpy, total_time_hours, cut_off_energy]):\n",
    "            break\n",
    "\n",
    "    return enthalpy, total_time_hours, cut_off_energy  # Return the extracted cut-off energy\n",
    "\n",
    "\n",
    "def extract_kpoint_from_cell(file_path):\n",
    "    \"\"\"\n",
    "    Extracts k-point mesh from a .cell file and returns the values as three separate variables: kx, ky, kz\n",
    "    \"\"\"\n",
    "    kx, ky, kz = 'N/A', 'N/A', 'N/A'\n",
    "    with open(file_path, 'r') as file:\n",
    "        for line in file:\n",
    "            if \"kpoint_mp_grid\" in line:\n",
    "                parts = line.split(':')\n",
    "                kpoints = parts[1].strip().split()\n",
    "                if len(kpoints) == 3:\n",
    "                    kx, ky, kz = kpoints\n",
    "                break\n",
    "    return kx, ky, kz\n",
    "\n",
    "def extract_params_from_param(file_path):\n",
    "    \"\"\"\n",
    "    Extracts cut off energy and spin polarisation status from a .param file\n",
    "    \"\"\"\n",
    "    cut_off_energy = 'N/A'\n",
    "    spin_polarised = 'N/A'\n",
    "    charge = 'N/A'\n",
    "    with open(file_path, 'r') as file:\n",
    "        for line in file:\n",
    "            line = line.strip()\n",
    "            if \"cut_off_energy\" in line:\n",
    "                cut_off_energy = line.split(':')[1].strip()\n",
    "            elif \"spin_polarised\" in line:\n",
    "                spin_polarised = line.split(':')[1].strip()\n",
    "            elif \"charge\" in line:\n",
    "                charge = line.split(':')[1].strip()\n",
    "    return cut_off_energy, spin_polarised, charge\n",
    "\n",
    "\n",
    "\n",
    "\n",
    "\n",
    "def process_directories(job_path):\n",
    "    \"\"\"\n",
    "    Processes all immediate subdirectories of job_path, extracting CASTEP-related info.\n",
    "    \n",
    "    Parameters:\n",
    "        job_path (str or Path): Path to the directory containing job subfolders.\n",
    "    \"\"\"\n",
    "    job_path = Path(job_path)\n",
    "    directories = [d for d in job_path.iterdir() if d.is_dir()]\n",
    "    directories = sorted(directories, key=lambda p: natural_sort_key(p.name))\n",
    "\n",
    "    results = []\n",
    "\n",
    "    for directory in directories:\n",
    "        castep_path = None\n",
    "        cell_path = None\n",
    "        param_path = None\n",
    "        out_cell_path = None\n",
    "        usp_file_path = None\n",
    "\n",
    "        for file in directory.iterdir():\n",
    "            if file.name.endswith('-out.cell'):\n",
    "                out_cell_path = file\n",
    "            elif file.name.endswith('.castep'):\n",
    "                castep_path = file\n",
    "            elif file.name.endswith('.cell'):\n",
    "                cell_path = file\n",
    "            elif file.name.endswith('.param'):\n",
    "                param_path = file\n",
    "\n",
    "        usp_files = list(directory.glob('Si*.usp'))\n",
    "        usp_file_path = usp_files[0].name if usp_files else 'N/A'\n",
    "\n",
    "        if castep_path:\n",
    "            enthalpy, total_time_hours, cut_off_energy = extract_info_from_castep(castep_path)\n",
    "            total_time_hours = round(total_time_hours, 4) if total_time_hours != 'N/A' else 'N/A'\n",
    "            kx, ky, kz = extract_kpoint_from_cell(cell_path) if cell_path else ('err', 'err', 'err')\n",
    "            ax, ay, az, nx, ny, nz = extract_lattice_params(out_cell_path) if out_cell_path else ('err', 'err', 'err', 'err', 'err', 'err')\n",
    "            _, spin_polarised, charge = extract_params_from_param(param_path) if param_path else ('err', 'N/A', 'N/A')\n",
    "\n",
    "            enthalpy = f\"{float(enthalpy):.6f}\" if enthalpy != 'N/A' else 'N/A'\n",
    "\n",
    "            results.append([\n",
    "                directory.name, usp_file_path, total_time_hours,\n",
    "                ax, ay, az, nx, ny, nz, kx, ky, kz,\n",
    "                cut_off_energy, spin_polarised, charge, enthalpy\n",
    "            ])\n",
    "\n",
    "    # Print output header\n",
    "    header = [\n",
    "        \"Directory\", \"Si usp File\", \"Time(h)\", \"ax\", \"ay\", \"az\", \"nx\", \"ny\", \"nz\",\n",
    "        \"kx\", \"ky\", \"kz\", \"cut\", \"spin\", \"charge\", \"Enthalpy(eV)\"\n",
    "    ]\n",
    "    format_str = \"{:<20} {:<20} {:<10} {:<10} {:<10} {:<10} {:<5} {:<5} {:<5} {:<5} {:<5} {:<5} {:<8} {:<7} {:<7} {:<20}\"\n",
    "\n",
    "    print(format_str.format(*header))\n",
    "    for result in results:\n",
    "        print(format_str.format(*result))\n"
   ]
  },
  {
   "cell_type": "code",
   "execution_count": 76,
   "metadata": {},
   "outputs": [
    {
     "name": "stdout",
     "output_type": "stream",
     "text": [
      "Directory            Si usp File          Time(h)    ax         ay         az         nx    ny    nz    kx    ky    kz    cut      spin    charge  Enthalpy(eV)        \n",
      "L8_1di               Si_EXT_PBE_OTF.usp   2.5391     3.866835   23.201008  25.93706   1     6     8     8     2     1     800.000  true    -1      -8496.089470        \n",
      "L8_3x1               Si_EXT_PBE_OTF.usp   9.4557     3.866835   23.201008  25.93706   1     6     8     8     2     1     800.000  true    -1      -8496.179060        \n",
      "L8_clean             Si_EXT_PBE_OTF.usp   5.7342     3.866835   23.201008  25.93706   1     6     8     8     2     1     800.000  true    -1      -8363.558870        \n",
      "L8_DB                Si_C19_PBE_OTF.usp   9.7595     3.866835   23.201008  25.93706   1     6     8     8     2     1     800.000  true    -1      -8447.713130        \n",
      "L8_di                Si_EXT_PBE_OTF.usp   7.5937     3.866835   23.201008  25.93706   1     6     8     8     2     1     800.000  true    -1      -8558.205890        \n",
      "L8_Hb                Si_EXT_PBE_OTF.usp   10.4968    3.866835   23.201008  25.93706   1     6     8     8     2     1     800.000  true    -1      -8479.099560        \n",
      "L8_Hbb               Si_EXT_PBE_OTF.usp   13.3663    3.866835   23.201008  25.93706   1     6     8     8     2     1     800.000  true    -1      -8479.385800        \n",
      "L8_mono              Si_EXT_PBE_OTF.usp   0.7703     3.866835   23.201008  25.93706   1     6     8     8     2     1     800.000  true    -1      -8464.209400        \n",
      "L8_Ob                Si_EXT_PBE_OTF.usp   12.3212    3.866835   23.201008  25.93706   1     6     8     8     2     1     800.000  true    -1      -8905.246180        \n"
     ]
    }
   ],
   "source": [
    "process_directories(job_path)"
   ]
  },
  {
   "cell_type": "code",
   "execution_count": 1,
   "metadata": {},
   "outputs": [
    {
     "ename": "ModuleNotFoundError",
     "evalue": "No module named 'dft'",
     "output_type": "error",
     "traceback": [
      "\u001b[31m---------------------------------------------------------------------------\u001b[39m",
      "\u001b[31mModuleNotFoundError\u001b[39m                       Traceback (most recent call last)",
      "\u001b[36mCell\u001b[39m\u001b[36m \u001b[39m\u001b[32mIn[1]\u001b[39m\u001b[32m, line 1\u001b[39m\n\u001b[32m----> \u001b[39m\u001b[32m1\u001b[39m \u001b[38;5;28;01mimport\u001b[39;00m\u001b[38;5;250m \u001b[39m\u001b[34;01mdft\u001b[39;00m\n\u001b[32m      2\u001b[39m \u001b[38;5;28mprint\u001b[39m(\u001b[38;5;28mdir\u001b[39m(dft))\n",
      "\u001b[31mModuleNotFoundError\u001b[39m: No module named 'dft'"
     ]
    }
   ],
   "source": [
    "import dft\n",
    "print(dir(dft))\n"
   ]
  },
  {
   "cell_type": "code",
   "execution_count": null,
   "metadata": {},
   "outputs": [],
   "source": []
  }
 ],
 "metadata": {
  "kernelspec": {
   "display_name": "dfttools",
   "language": "python",
   "name": "python3"
  },
  "language_info": {
   "codemirror_mode": {
    "name": "ipython",
    "version": 3
   },
   "file_extension": ".py",
   "mimetype": "text/x-python",
   "name": "python",
   "nbconvert_exporter": "python",
   "pygments_lexer": "ipython3",
   "version": "3.11.8"
  }
 },
 "nbformat": 4,
 "nbformat_minor": 2
}
