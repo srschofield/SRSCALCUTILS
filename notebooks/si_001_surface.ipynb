{
 "cells": [
  {
   "cell_type": "markdown",
   "metadata": {},
   "source": [
    "<!-- # CNN autoencoder and Clustering from MTRX data\n",
    "\n",
    "Use this notebook to load Scienta Omicron Matrix format SPM data and create standardised images for machine learning training and analysis. The code can generate both JPG image data, useful for manually checking the data, and windowed numpy data that can be loaded into ML models. \n",
    "\n",
    "The notebook then creates an autoencoder for training on a large dataset, followed by KMEANS clustering. \n",
    "\n",
    "**Author**: Steven R. Schofield  \n",
    "**Created**: November, 2024 -->"
   ]
  },
  {
   "cell_type": "markdown",
   "metadata": {},
   "source": [
    "# CASTEP - Si 001 surface\n",
    "## Steven R. Schofield (Universtiy College London) May 2025"
   ]
  },
  {
   "cell_type": "markdown",
   "metadata": {},
   "source": [
    "### Determine appropriate paths whether we are working on macbook or the cluster"
   ]
  },
  {
   "cell_type": "code",
   "execution_count": 44,
   "metadata": {},
   "outputs": [
    {
     "name": "stdout",
     "output_type": "stream",
     "text": [
      "module_path = /Users/steven/academic-iCloud/Python/modules\n",
      "data_path = /Users/steven/academic-iCloud/Calculations/castep/work-2025/si001_templates\n"
     ]
    }
   ],
   "source": [
    "import sys\n",
    "from pathlib import Path\n",
    "\n",
    "# Define candidate paths using Path objects\n",
    "module_path_list = [\n",
    "    Path('/Users/steven/academic-iCloud/Python/modules'),\n",
    "    Path('/hpc/srs/Python/modules')\n",
    "]\n",
    "\n",
    "data_path_list = [\n",
    "    Path('/Users/steven/academic-iCloud/Calculations/castep/work-2025/si001_templates'),\n",
    "    Path('/hpc/srs/castep')\n",
    "]\n",
    "\n",
    "# Resolve actual paths\n",
    "module_path = next((p for p in module_path_list if p.exists()), None)\n",
    "data_path = next((p for p in data_path_list if p.exists()), None)\n",
    "\n",
    "# Check and report missing paths\n",
    "if module_path is None:\n",
    "    print(\"Error: Could not locate a valid module path.\")\n",
    "if data_path is None:\n",
    "    print(\"Error: Could not locate a valid data path.\")\n",
    "\n",
    "if module_path is None or data_path is None:\n",
    "    sys.exit(1)\n",
    "\n",
    "# Add module_path to sys.path if needed\n",
    "if str(module_path) not in sys.path:\n",
    "    sys.path.insert(0, str(module_path))\n",
    "\n",
    "# Print resolved paths\n",
    "print(f\"module_path = {module_path}\")\n",
    "print(f\"data_path = {data_path}\")"
   ]
  },
  {
   "cell_type": "markdown",
   "metadata": {},
   "source": [
    "### Import modules"
   ]
  },
  {
   "cell_type": "code",
   "execution_count": 45,
   "metadata": {},
   "outputs": [
    {
     "name": "stdout",
     "output_type": "stream",
     "text": [
      "The autoreload extension is already loaded. To reload it, use:\n",
      "  %reload_ext autoreload\n"
     ]
    }
   ],
   "source": [
    "# # Ensure modules are reloaded \n",
    "%load_ext autoreload\n",
    "%autoreload 2\n",
    "\n",
    "# Import standard modules\n",
    "import numpy as np\n",
    "import pandas as pd\n",
    "import os\n",
    "from matplotlib import pyplot as plt\n",
    "\n",
    "# Import custom module\n",
    "import SRSCALCUTILS.castep_tools as ct\n",
    "\n",
    "from IPython.display import display"
   ]
  },
  {
   "cell_type": "markdown",
   "metadata": {},
   "source": [
    "### Paths for the calculation"
   ]
  },
  {
   "cell_type": "code",
   "execution_count": 46,
   "metadata": {},
   "outputs": [
    {
     "name": "stdout",
     "output_type": "stream",
     "text": [
      "job_path = /Users/steven/academic-iCloud/Calculations/castep/work-2025/si001_templates/si001_templates\n",
      "No files found in /Users/steven/Library/Mobile Documents/com~apple~CloudDocs/academic/Calculations/castep/work-2025/si001_templates/si001_templates. Nothing to delete.\n"
     ]
    }
   ],
   "source": [
    "# General\n",
    "job_folder = \"si001_templates\"\n",
    "filename = job_folder\n",
    "\n",
    "\n",
    "title = \"Job folder: {}. Filename: {}.\".format(job_folder, filename)\n",
    "job_path = data_path / job_folder\n",
    "verbose = False             # Set this True to print out more information\n",
    "\n",
    "# Print resolved paths\n",
    "print(f\"job_path = {job_path}\")\n",
    "\n",
    "# If it doesn’t exist, create it (including any missing parent folders)\n",
    "if not os.path.isdir(job_path):\n",
    "    os.makedirs(job_path, exist_ok=True)\n",
    "\n",
    "# Now safely switch into it\n",
    "os.chdir(job_path)\n",
    "\n",
    "ct.delete_all_files_in_cwd(force=True)"
   ]
  },
  {
   "cell_type": "markdown",
   "metadata": {},
   "source": [
    "### Base parameters of calculation and unit cell"
   ]
  },
  {
   "cell_type": "code",
   "execution_count": 47,
   "metadata": {},
   "outputs": [],
   "source": [
    "params = {'task' : 'geomopt',\n",
    "          'xc_functional'           : 'PBE',\n",
    "          'cut_off_energy'          : 300,\n",
    "          'spin_polarised'          : 'true',\n",
    "          'write_cell_structure'    : 'true',\n",
    "          'charge'                  : 0,\n",
    "          'nextra_bands'            : 12,\n",
    "          'geom_energy_tol'         : 0.00005,          # default: 0.00005 eV \n",
    "          'geom_disp_tol'           : 0.002,            # default: 0.002 Ang.\n",
    "          'geom_max_iter'           : 100,              # default: 30\n",
    "          'geom_convergence_win'    : 2,                # default: 2\n",
    "          'max_scf_cycles'          : 300               # default: 30\n",
    "          }              \n",
    "\n",
    "cell_constraints = np.array([\n",
    "            [0,  0,  0],\n",
    "            [0,  0,  0]\n",
    "        ])\n",
    "\n",
    "kpoints_mp_grid = np.array([2, 2, 2])\n",
    "\n",
    "fix_all_ions = False\n",
    "symmetry_generate=False\n",
    "symmetry_tol = 0.01"
   ]
  },
  {
   "cell_type": "code",
   "execution_count": 48,
   "metadata": {},
   "outputs": [],
   "source": [
    "lattice_cart = np.array([\n",
    "            [3.8641976,     0.0,     0.0],\n",
    "            [0.0,     7.7283952,     0.0],\n",
    "            [0.0,     0.0,     5.4648012]\n",
    "        ])\n",
    "\n",
    "positions_frac = np.array([   \n",
    "   ['Si',       0.0000000000,    0.7500000000,    0.7500000000],\n",
    "   ['Si',       0.0000000000,    0.2500000000,    0.7500000000],\n",
    "   ['Si',       0.5000000000,    0.7500000000,    0.5000000000],\n",
    "   ['Si',       0.5000000000,    0.2500000000,    0.5000000000],\n",
    "   ['Si',       0.5000000000,    0.5000000000,    0.2500000000],\n",
    "   ['Si',       0.5000000000,    0.0000000000,    0.2500000000],\n",
    "   ['Si',       0.0000000000,    0.5000000000,    0.0000000000],\n",
    "   ['Si',       0.0000000000,    0.0000000000,    0.0000000000]\n",
    "], dtype=object)\n",
    "\n"
   ]
  },
  {
   "cell_type": "code",
   "execution_count": null,
   "metadata": {},
   "outputs": [],
   "source": []
  },
  {
   "cell_type": "markdown",
   "metadata": {},
   "source": [
    "### Load positions_frac_surface from template"
   ]
  },
  {
   "cell_type": "code",
   "execution_count": 49,
   "metadata": {},
   "outputs": [],
   "source": [
    "def read_positions_frac_from_template(\n",
    "        path=\".\",\n",
    "        filename=\"filename\", \n",
    "        lattice_cart_bulk=np.array([\n",
    "            [3.8641976,     0.0,     0.0],\n",
    "            [0.0,     7.7283952,     0.0],\n",
    "            [0.0,     0.0,     5.4648012]\n",
    "        ]),\n",
    "        positions_frac_bulk = np.array([   \n",
    "            ['Si',       0.0000000000,    0.7500000000,    0.7500000000],\n",
    "            ['Si',       0.0000000000,    0.2500000000,    0.7500000000],\n",
    "            ['Si',       0.5000000000,    0.7500000000,    0.5000000000],\n",
    "            ['Si',       0.5000000000,    0.2500000000,    0.5000000000],\n",
    "            ['Si',       0.5000000000,    0.5000000000,    0.2500000000],\n",
    "            ['Si',       0.5000000000,    0.0000000000,    0.2500000000],\n",
    "            ['Si',       0.0000000000,    0.5000000000,    0.0000000000],\n",
    "            ['Si',       0.0000000000,    0.0000000000,    0.0000000000]\n",
    "            ], dtype=object),\n",
    "        surface_unit_cell_dims = np.array([1,1,2]), \n",
    "        sort_order=['z', 'y', 'x', 'atom']\n",
    "    ):\n",
    "    \"\"\"\n",
    "    Read positions in fractional coordinates from a template file.\n",
    "    \"\"\"\n",
    "    # Load the template file and make sure it is sorted\n",
    "    positions_frac_surf, lattice_cart_surf = ct.load_atoms_from_castep(path, filename)\n",
    "    positions_frac_surf = ct.sort_positions_frac(positions_frac_surf, order=sort_order)\n",
    "\n",
    "    # Convert template to cartesian coordinates\n",
    "    positions_cart_surf = ct.frac_to_cart(lattice_cart_surf,positions_frac_surf)\n",
    "\n",
    "    # Calculate the number of atoms in the surface unit cell to take from the template\n",
    "    number_of_atoms_surf = positions_frac_bulk.shape[0] * surface_unit_cell_dims[2]\n",
    "\n",
    "    # Select the correct number of atoms from the template\n",
    "    positions_cart_surf = positions_cart_surf[:number_of_atoms_surf,:]\n",
    "\n",
    "    # Adjust the lattice vectors for the surface unit cell (multiply the z-dimension)\n",
    "    lattice_cart_surf = lattice_cart_bulk.copy()\n",
    "    lattice_cart_surf[-1, :] *= surface_unit_cell_dims[2]  # Adjust the z-dimension\n",
    "\n",
    "    # Remove the z-offset from the fractional coordinates\n",
    "    positions_cart_surf = ct.remove_z_offset(positions_cart_surf)   \n",
    "\n",
    "    # Convert the selected positions back to fractional coordinates\n",
    "    positions_frac_surf = ct.cart_to_frac(lattice_cart_surf, positions_cart_surf)\n",
    "\n",
    "    return positions_frac_surf, lattice_cart_surf"
   ]
  },
  {
   "cell_type": "code",
   "execution_count": 50,
   "metadata": {},
   "outputs": [],
   "source": [
    "template_path = data_path / 'templates'\n",
    "template_filename = \"si001_clean-out.cell\"\n",
    "\n",
    "positions_frac_surf, lattice_cart_surf = read_positions_frac_from_template(\n",
    "        path=template_path,\n",
    "        filename=template_filename,\n",
    "        lattice_cart_bulk=lattice_cart,\n",
    "        positions_frac_bulk = positions_frac,\n",
    "        surface_unit_cell_dims = np.array([1,1,2])\n",
    "    )"
   ]
  },
  {
   "cell_type": "code",
   "execution_count": 51,
   "metadata": {},
   "outputs": [
    {
     "data": {
      "text/plain": [
       "array([[ 3.8641976,  0.       ,  0.       ],\n",
       "       [ 0.       ,  7.7283952,  0.       ],\n",
       "       [ 0.       ,  0.       , 10.9296024]])"
      ]
     },
     "execution_count": 51,
     "metadata": {},
     "output_type": "execute_result"
    }
   ],
   "source": [
    "lattice_cart_surf"
   ]
  },
  {
   "cell_type": "code",
   "execution_count": null,
   "metadata": {},
   "outputs": [],
   "source": []
  },
  {
   "cell_type": "code",
   "execution_count": 52,
   "metadata": {},
   "outputs": [
    {
     "name": "stdout",
     "output_type": "stream",
     "text": [
      "Wrote XYZ file to: /Users/steven/academic-iCloud/Calculations/castep/work-2025/si001_templates/templates/si001_templates.xyz\n"
     ]
    }
   ],
   "source": [
    "positions_cart_surf = ct.frac_to_cart(lattice_cart_surf, positions_frac_surf)\n",
    "_ = ct.write_xyz(positions_cart_surf, template_path, filename)"
   ]
  },
  {
   "cell_type": "code",
   "execution_count": null,
   "metadata": {},
   "outputs": [],
   "source": []
  },
  {
   "cell_type": "code",
   "execution_count": 68,
   "metadata": {},
   "outputs": [],
   "source": [
    "import numpy as np\n",
    "\n",
    "def create_surface_supercell(\n",
    "    lattice_cart_bulk: np.ndarray,\n",
    "    positions_frac_bulk: np.ndarray,\n",
    "    lattice_cart_surf: np.ndarray,\n",
    "    positions_frac_surf: np.ndarray,\n",
    "    n: tuple[int,int,int],\n",
    "    tol: float = 1e-6\n",
    ") -> tuple[np.ndarray, np.ndarray]:\n",
    "    \"\"\"\n",
    "    Build an (na x nb x nc) supercell whose bottom 1/nc is the bulk motif\n",
    "    and whose top (z_multiple/nc) is the surface motif.\n",
    "\n",
    "    Returns\n",
    "    -------\n",
    "    supercell_frac : (M*na*nb, 4) object-array\n",
    "      Fractional [label, x,y,z] in the supercell.\n",
    "    lattice_cart_super : (3,3) float-array\n",
    "    The Cartesian lattice = bulk_lattice * diag(na,nb,nc).\n",
    "    \"\"\"\n",
    "    na, nb, nc = n\n",
    "\n",
    "    # Check user input \n",
    "    if nc < 2:\n",
    "        raise ValueError(\"n[2] (z-multiple) must be at least 2 for a surface supercell.\")\n",
    "    \n",
    "    atoms_bulk = positions_frac_bulk.shape[0]\n",
    "    atoms_surf = positions_frac_surf.shape[0]\n",
    "\n",
    "    # if atoms_surf divides evenly by atoms_bulk, ratio is integer\n",
    "    if atoms_surf % atoms_bulk == 0:\n",
    "        surfbulkratio = atoms_surf // atoms_bulk\n",
    "    else:\n",
    "        raise ValueError(\"The number of atoms in the surface motif must be a multiple of the number of atoms in the bulk motif.\")\n",
    "\n",
    "    if nc > surfbulkratio:\n",
    "        n_bulk = nc - surfbulkratio\n",
    "    elif nc <= surfbulkratio:\n",
    "        n_bulk = 1\n",
    "        atoms_surf = atoms_surf - atoms_bulk * (nc - 1)\n",
    "       \n",
    "    \n",
    "      \n",
    "    # labels_b = positions_frac_bulk[:,0]\n",
    "    # coords_b = positions_frac_bulk[:,1:].astype(float)\n",
    "    # labels_s = positions_frac_surf[:,0]\n",
    "    # coords_s = positions_frac_surf[:,1:].astype(float)\n",
    "\n",
    "\n",
    "    # Calculate the final unit cell\n",
    "    lattice_cart_super = lattice_cart.copy()\n",
    "    lattice_cart_super[0] = lattice_cart_super[0] * na\n",
    "    lattice_cart_super[1] = lattice_cart_super[1] * nb\n",
    "    lattice_cart_super[2] = lattice_cart_super[2] * nc\n",
    "\n",
    "    # blocks = []\n",
    "\n",
    "\n",
    "    # for i in range(na):\n",
    "    #     for j in range(nb):\n",
    "    #         # bulk layer (bottom)\n",
    "    #         bf = coords_b.copy()\n",
    "    #         print('bf')\n",
    "    #         print(bf)\n",
    "    #         print('endbf ')\n",
    "    #         bf[:,2] = bf[:,2] / nc\n",
    "    #         bf = (bf + np.array([i,j,0])) / np.array([na,nb,1])\n",
    "    #         blk_b = np.empty((len(bf),4), dtype=object)\n",
    "    #         blk_b[:,0] = labels_b\n",
    "    #         blk_b[:,1:] = bf\n",
    "    #         blocks.append(blk_b)\n",
    "\n",
    "    #         # surface layer (top)\n",
    "    #         sf = coords_s.copy()\n",
    "    #         # scale by z_multiple and translate up by (nc - z_multiple)\n",
    "    #         sf[:,2] = (sf[:,2]*z_multiple + (nc - z_multiple)) / nc\n",
    "    #         sf = (sf + np.array([i,j,0])) / np.array([na,nb,1])\n",
    "    #         blk_s = np.empty((len(sf),4), dtype=object)\n",
    "    #         blk_s[:,0] = labels_s\n",
    "    #         blk_s[:,1:] = sf\n",
    "    #         blocks.append(blk_s)\n",
    "\n",
    "    # print('blocks')\n",
    "    # print(blocks)\n",
    "    # print('blpocks end')\n",
    "\n",
    "    # # 3) concatenate and sort if desired\n",
    "    # supercell_frac = np.vstack(blocks)\n",
    "\n",
    "    # # 4) new Cartesian lattice\n",
    "    # lattice_cart_super = lattice_cart_bulk * np.array(n)[:,None]\n",
    "\n",
    "    # return supercell_frac, lattice_cart_super\n",
    "    return lattice_cart_super, positions_frac_surf\n",
    "\n",
    "n=(1,1,5)\n",
    "lattice_cart_super, positions_frac_super = create_surface_supercell(\n",
    "    lattice_cart_bulk=lattice_cart,\n",
    "    positions_frac_bulk=positions_frac,\n",
    "    lattice_cart_surf=lattice_cart_surf,\n",
    "    positions_frac_surf=positions_frac_surf,\n",
    "    n=n\n",
    ")"
   ]
  },
  {
   "cell_type": "code",
   "execution_count": 67,
   "metadata": {},
   "outputs": [
    {
     "ename": "NameError",
     "evalue": "name 'lattice_cart_super' is not defined",
     "output_type": "error",
     "traceback": [
      "\u001b[31m---------------------------------------------------------------------------\u001b[39m",
      "\u001b[31mNameError\u001b[39m                                 Traceback (most recent call last)",
      "\u001b[36mCell\u001b[39m\u001b[36m \u001b[39m\u001b[32mIn[67]\u001b[39m\u001b[32m, line 1\u001b[39m\n\u001b[32m----> \u001b[39m\u001b[32m1\u001b[39m \u001b[43mlattice_cart_super\u001b[49m\n",
      "\u001b[31mNameError\u001b[39m: name 'lattice_cart_super' is not defined"
     ]
    }
   ],
   "source": [
    "lattice_cart_super"
   ]
  },
  {
   "cell_type": "code",
   "execution_count": 56,
   "metadata": {},
   "outputs": [
    {
     "data": {
      "text/plain": [
       "array([['Si', 0.0, 0.75, 0.75],\n",
       "       ['Si', 0.0, 0.25, 0.75],\n",
       "       ['Si', 0.5, 0.75, 0.5],\n",
       "       ['Si', 0.5, 0.25, 0.5],\n",
       "       ['Si', 0.5, 0.5, 0.25],\n",
       "       ['Si', 0.5, 0.0, 0.25],\n",
       "       ['Si', 0.0, 0.5, 0.0],\n",
       "       ['Si', 0.0, 0.0, 0.0]], dtype=object)"
      ]
     },
     "execution_count": 56,
     "metadata": {},
     "output_type": "execute_result"
    }
   ],
   "source": [
    "positions_frac"
   ]
  },
  {
   "cell_type": "code",
   "execution_count": 56,
   "metadata": {},
   "outputs": [],
   "source": [
    "# n = [1,2,1] \n",
    "# positions_frac_surf = np.array([\n",
    "#             ['Si', 0.0,  0.0,  0.0],\n",
    "#             ['Si', 0.5,  0.0,  0.25],\n",
    "#             ['Si', 0.5,  0.5,  0.5],\n",
    "#             ['O', 0.0,  0.7,  0.75],\n",
    "#         ])\n",
    "# positions_frac, lattice_cart = create_supercell_from_fractional_coord_with_surf(positions_frac,lattice_cart,n,positions_frac_surf)"
   ]
  },
  {
   "cell_type": "markdown",
   "metadata": {},
   "source": [
    "### Build supercell"
   ]
  },
  {
   "cell_type": "code",
   "execution_count": 57,
   "metadata": {},
   "outputs": [],
   "source": [
    "# n = [1,2,3] \n",
    "# positions_frac, lattice_cart = ct.create_supercell_from_fractional_coords(positions_frac,lattice_cart,n)\n",
    "# positions_frac = ct.sort_positions_frac(positions_frac)"
   ]
  },
  {
   "cell_type": "code",
   "execution_count": null,
   "metadata": {},
   "outputs": [],
   "source": []
  },
  {
   "cell_type": "code",
   "execution_count": null,
   "metadata": {},
   "outputs": [],
   "source": []
  },
  {
   "cell_type": "markdown",
   "metadata": {},
   "source": [
    "### Add hydrogen termination to cell bottom "
   ]
  },
  {
   "cell_type": "code",
   "execution_count": 58,
   "metadata": {},
   "outputs": [],
   "source": [
    "# # First select the atoms on the bottom layer \n",
    "# criteria = ('min','min','min')\n",
    "# selected_atom_frac, selected_atom_cart = ct.select_atom_by_conditions(positions_frac, lattice_cart, criteria)\n",
    "# reference_position = selected_atom_cart[1:]\n",
    "# plane = (0,0,1)\n",
    "# labelled_positions_frac = ct.select_atoms_by_plane(\n",
    "#     positions_frac,\n",
    "#     lattice_cart,\n",
    "#     plane,\n",
    "#     reference_position,\n",
    "#     tolerance=1\n",
    "# )\n",
    "\n",
    "# # Next calculate the relative bond vectors for the two hydrogen atoms (per Si)\n",
    "# phi = np.deg2rad(90)    \n",
    "# si_h_bond = 1.5                         \n",
    "# theta_h1 = np.deg2rad(180) - np.arccos(-1/3) / 2                \n",
    "# theta_h2 = np.deg2rad(180) + np.arccos(-1/3) / 2            \n",
    "# bond_h1  = ct.bond_vector_from_spherical(theta_h1, phi, si_h_bond)                   \n",
    "# bond_h2  = ct.bond_vector_from_spherical(theta_h2, phi, si_h_bond)\n",
    "\n",
    "# # Now add the hydrogen atoms to the silicon atoms selected above using the calculated bond vectors\n",
    "# positions_frac, lattice_cart = ct.add_atoms_to_positions_frac(\n",
    "#                                     labelled_positions_frac,\n",
    "#                                     lattice_cart,\n",
    "#                                     [bond_h1,bond_h2],\n",
    "#                                     extend_unit_cell=(0, 0, 1),\n",
    "#                                     atom=\"H\")\n",
    "# positions_frac = ct.sort_positions_frac(positions_frac)"
   ]
  },
  {
   "cell_type": "markdown",
   "metadata": {},
   "source": [
    "### Dimerise surface (2x1)"
   ]
  },
  {
   "cell_type": "code",
   "execution_count": 59,
   "metadata": {},
   "outputs": [],
   "source": [
    "# # Find a surface atom to define the surface plane\n",
    "# criteria = ('min','min','max')\n",
    "# selected_atom_frac, selected_atom_cart = ct.select_atom_by_conditions(positions_frac, lattice_cart, criteria)\n",
    "# reference_position = selected_atom_cart[1:]\n",
    "# plane = (0,0,1)\n",
    "\n",
    "# # Label the atoms at the 001 surface\n",
    "# labelled_positions_frac_surf = ct.select_atoms_by_plane(\n",
    "#     positions_frac,\n",
    "#     lattice_cart,\n",
    "#     plane,\n",
    "#     reference_position,\n",
    "#     tolerance=1\n",
    "# )\n",
    "\n",
    "# # Sublabel the two atoms of each dimer p(2x1)\n",
    "# labelled_positions_frac_dim1, labelled_positions_frac_dim2 = ct.selected_toggle_plane_selection(\n",
    "#     labelled_positions_frac_surf, \n",
    "#     fast='y', \n",
    "#     slow='x', \n",
    "#     alternate=False\n",
    "# )\n",
    "\n",
    "# # Dimerise surface\n",
    "# disp_y = 0.734\n",
    "# disp_z = 0.242\n",
    "# v1 = (0,-disp_y,-disp_z)\n",
    "# v2 = (0,disp_y,-disp_z)\n",
    "# positions_frac = ct.selected_translate(labelled_positions_frac_dim1, lattice_cart, v1, return_labelled=False)\n",
    "\n",
    "# labelled_positions_frac_dim2 = ct.update_labelled_positions_frac(labelled_positions_frac_dim2,positions_frac)\n",
    "# positions_frac = ct.selected_translate(labelled_positions_frac_dim2, lattice_cart, v2, return_labelled=False)\n",
    "\n"
   ]
  },
  {
   "cell_type": "markdown",
   "metadata": {},
   "source": [
    "### Dimerise surface (add c4x2) buckling)"
   ]
  },
  {
   "cell_type": "code",
   "execution_count": 60,
   "metadata": {},
   "outputs": [],
   "source": [
    "# # Sublabel the two atoms of each dimer c(4x2)\n",
    "# labelled_positions_frac_buc1, labelled_positions_frac_buc2 = ct.selected_toggle_plane_selection(\n",
    "#     labelled_positions_frac_surf, \n",
    "#     fast='y', \n",
    "#     slow='x', \n",
    "#     alternate=True\n",
    "# )\n",
    "\n",
    "# disp_y = 0.0\n",
    "# disp_z = 0.4\n",
    "# v1 = (0,-disp_y,-disp_z)\n",
    "# v2 = (0,disp_y,disp_z)\n",
    "\n",
    "# labelled_positions_frac_buc1 = ct.update_labelled_positions_frac(labelled_positions_frac_buc1,positions_frac)\n",
    "# positions_frac = ct.selected_translate(labelled_positions_frac_buc1, lattice_cart, v1, return_labelled=False)\n",
    "\n",
    "# labelled_positions_frac_buc2 = ct.update_labelled_positions_frac(labelled_positions_frac_buc2,positions_frac)\n",
    "# positions_frac = ct.selected_translate(labelled_positions_frac_buc2, lattice_cart, v2, return_labelled=False)\n"
   ]
  },
  {
   "cell_type": "markdown",
   "metadata": {},
   "source": [
    "### Add hydrogen to the top"
   ]
  },
  {
   "cell_type": "code",
   "execution_count": 61,
   "metadata": {},
   "outputs": [],
   "source": [
    "# # Updated surface labels with current surface positions after dimerisation\n",
    "# labelled_positions_frac_surf = ct.update_labelled_positions_frac(labelled_positions_frac_surf,positions_frac)\n",
    "# labelled_positions_frac_dim1 = ct.update_labelled_positions_frac(labelled_positions_frac_dim1,positions_frac)\n",
    "# labelled_positions_frac_dim2 = ct.update_labelled_positions_frac(labelled_positions_frac_dim2,positions_frac)\n",
    "\n",
    "# # Next calculate the relative bond vectors for the two hydrogen atoms (per Si)\n",
    "# phi = np.deg2rad(90)    \n",
    "# si_h_bond = 1.5                         \n",
    "# # theta_h1 = np.deg2rad(0) + np.arccos(-1/3) / 2                \n",
    "# # theta_h2 = np.deg2rad(0) - np.arccos(-1/3) / 2            \n",
    "# theta = 20 # degrees\n",
    "# theta_h1 = np.deg2rad(theta)\n",
    "# theta_h2 = np.deg2rad(360 - theta)\n",
    "# bond_h1  = ct.bond_vector_from_spherical(theta_h1, phi, si_h_bond)                   \n",
    "# bond_h2  = ct.bond_vector_from_spherical(theta_h2, phi, si_h_bond)\n",
    "\n",
    "# # Now add the hydrogen atoms to the silicon atoms selected above using the calculated bond vectors\n",
    "# positions_frac_h1, lattice_cart = ct.add_atoms_to_positions_frac(\n",
    "#                                     labelled_positions_frac_dim1,\n",
    "#                                     lattice_cart,\n",
    "#                                     bond_h1,\n",
    "#                                     extend_unit_cell=(0, 0, 1),\n",
    "#                                     atom=\"H\")\n",
    "\n",
    "# # Now add the hydrogen atoms to the silicon atoms selected above using the calculated bond vectors\n",
    "# positions_frac_h2, lattice_cart = ct.add_atoms_to_positions_frac(\n",
    "#                                     labelled_positions_frac_dim2,\n",
    "#                                     lattice_cart,\n",
    "#                                     bond_h2,\n",
    "#                                     extend_unit_cell=(0, 0, 1),\n",
    "#                                     atom=\"H\")\n",
    "\n",
    "# # Merge the two sets of positions_frac for the two sets of surface hydrogen atoms and resort. \n",
    "# positions_frac = ct.merge_posfrac_or_labelled_posfrac(positions_frac_h1, positions_frac_h2)\n",
    "# positions_frac = ct.sort_positions_frac(positions_frac)"
   ]
  },
  {
   "cell_type": "markdown",
   "metadata": {},
   "source": [
    "### Add vacuum spacing"
   ]
  },
  {
   "cell_type": "code",
   "execution_count": 62,
   "metadata": {},
   "outputs": [],
   "source": [
    "# vac = 8\n",
    "# positions_frac, lattice_cart = ct.create_vacuum_spacing(positions_frac, lattice_cart, vac)"
   ]
  },
  {
   "cell_type": "markdown",
   "metadata": {},
   "source": [
    "### Add ionic contraints"
   ]
  },
  {
   "cell_type": "code",
   "execution_count": 63,
   "metadata": {},
   "outputs": [],
   "source": [
    "# Create fixed ion constraints\n",
    "conditions = \"z < 2.5\"\n",
    "ionic_constraints = ct.select_atoms_by_region(positions_frac, lattice_cart, conditions)"
   ]
  },
  {
   "cell_type": "code",
   "execution_count": 64,
   "metadata": {},
   "outputs": [
    {
     "name": "stdout",
     "output_type": "stream",
     "text": [
      "================================================================================\n",
      "CASTEP file: /Users/steven/academic-iCloud/Calculations/castep/work-2025/si001_templates/si001_templates/si001_templates.castep\n",
      "================================================================================\n",
      "\n",
      "Wrote param file to: /Users/steven/academic-iCloud/Calculations/castep/work-2025/si001_templates/si001_templates/si001_templates.param\n",
      "!TITLE: Job folder: si001_templates. Filename: si001_templates.\n",
      "\n",
      "TASK                 : geomopt\n",
      "XC_FUNCTIONAL        : PBE\n",
      "CUT_OFF_ENERGY       : 300\n",
      "SPIN_POLARISED       : true\n",
      "WRITE_CELL_STRUCTURE : true\n",
      "CHARGE               : 0\n",
      "NEXTRA_BANDS         : 12\n",
      "GEOM_ENERGY_TOL      : 5e-05\n",
      "GEOM_DISP_TOL        : 0.002\n",
      "GEOM_MAX_ITER        : 100\n",
      "GEOM_CONVERGENCE_WIN : 2\n",
      "MAX_SCF_CYCLES       : 300\n",
      "\n",
      "\n",
      "Wrote cell file to: /Users/steven/academic-iCloud/Calculations/castep/work-2025/si001_templates/si001_templates/si001_templates.cell\n",
      "! Job folder: si001_templates. Filename: si001_templates.\n",
      "\n",
      "%BLOCK lattice_cart\n",
      "   ANG\n",
      "       3.8641976000    0.0000000000    0.0000000000\n",
      "       0.0000000000    7.7283952000    0.0000000000\n",
      "       0.0000000000    0.0000000000   10.9296024000\n",
      "%ENDBLOCK lattice_cart\n",
      "\n",
      "%BLOCK CELL_CONSTRAINTS\n",
      "       0    0    0\n",
      "       0    0    0\n",
      "%ENDBLOCK CELL_CONSTRAINTS\n",
      "\n",
      "%BLOCK positions_frac\n",
      "   Si       0.0000000000    0.7500000000    0.3750000000\n",
      "   Si       0.0000000000    0.2500000000    0.3750000000\n",
      "   Si       0.5000000000    0.7500000000    0.2500000000\n",
      "   Si       0.5000000000    0.2500000000    0.2500000000\n",
      "   Si       0.5000000000    0.5000000000    0.1250000000\n",
      "   Si       0.5000000000    0.0000000000    0.1250000000\n",
      "   Si       0.0000000000    0.5000000000    0.0000000000\n",
      "   Si       0.0000000000    0.0000000000    0.0000000000\n",
      "   Si       0.0000000000    0.3440660000    0.8659740000\n",
      "   Si       0.0000000000    0.6559340000    0.8659740000\n",
      "   Si       0.5000000000    0.7349460000    0.7530460000\n",
      "   Si       0.5000000000    0.2650540000    0.7530460000\n",
      "   Si       0.5000000000    0.0000000000    0.6405290000\n",
      "   Si       0.5000000000    0.5000000000    0.6140770000\n",
      "   Si       0.0000000000    0.0000000000    0.5120200000\n",
      "   Si       0.0000000000    0.5000000000    0.4916780000\n",
      "   Si       0.0000000000    0.2424050000    0.3765460000\n",
      "   Si       0.0000000000    0.7575950000    0.3765460000\n",
      "   Si       0.5000000000    0.2446430000    0.2513650000\n",
      "   Si       0.5000000000    0.7553560000    0.2513650000\n",
      "   Si       0.5000000000    0.5000000000    0.1297240000\n",
      "   Si       0.5000000000    0.0000000000    0.1232130000\n",
      "   Si       0.0000000000    0.5000000000    0.0036200000\n",
      "   Si       0.0000000000    0.0000000000    0.0000000000\n",
      "%ENDBLOCK positions_frac\n",
      "\n",
      "%BLOCK ionic_constraints\n",
      "    1 Si         5    1.00000000    0.00000000    0.00000000\n",
      "    2 Si         5    0.00000000    1.00000000    0.00000000\n",
      "    3 Si         5    0.00000000    0.00000000    1.00000000\n",
      "    4 Si         6    1.00000000    0.00000000    0.00000000\n",
      "    5 Si         6    0.00000000    1.00000000    0.00000000\n",
      "    6 Si         6    0.00000000    0.00000000    1.00000000\n",
      "    7 Si         7    1.00000000    0.00000000    0.00000000\n",
      "    8 Si         7    0.00000000    1.00000000    0.00000000\n",
      "    9 Si         7    0.00000000    0.00000000    1.00000000\n",
      "   10 Si         8    1.00000000    0.00000000    0.00000000\n",
      "   11 Si         8    0.00000000    1.00000000    0.00000000\n",
      "   12 Si         8    0.00000000    0.00000000    1.00000000\n",
      "   13 Si        21    1.00000000    0.00000000    0.00000000\n",
      "   14 Si        21    0.00000000    1.00000000    0.00000000\n",
      "   15 Si        21    0.00000000    0.00000000    1.00000000\n",
      "   16 Si        22    1.00000000    0.00000000    0.00000000\n",
      "   17 Si        22    0.00000000    1.00000000    0.00000000\n",
      "   18 Si        22    0.00000000    0.00000000    1.00000000\n",
      "   19 Si        23    1.00000000    0.00000000    0.00000000\n",
      "   20 Si        23    0.00000000    1.00000000    0.00000000\n",
      "   21 Si        23    0.00000000    0.00000000    1.00000000\n",
      "   22 Si        24    1.00000000    0.00000000    0.00000000\n",
      "   23 Si        24    0.00000000    1.00000000    0.00000000\n",
      "   24 Si        24    0.00000000    0.00000000    1.00000000\n",
      "%ENDBLOCK ionic_constraints\n",
      "\n",
      "KPOINTS_MP_GRID : 2 2 2\n",
      "\n",
      "\n"
     ]
    }
   ],
   "source": [
    "castep_path = job_path / f\"{filename}.castep\"\n",
    "\n",
    "print('=' * 80 + f'\\nCASTEP file: {castep_path}\\n' + '=' * 80 + '\\n')   \n",
    "\n",
    "param_filename = ct.write_param_file(\n",
    "    params,\n",
    "    title = title,\n",
    "    filename=filename,\n",
    "    path=job_path,\n",
    "    display_file=True\n",
    "    )\n",
    "\n",
    "cell_filename = ct.write_cell_file(\n",
    "    title = title,\n",
    "    path=job_path,\n",
    "    filename=filename,\n",
    "    lattice_cart=lattice_cart,\n",
    "    positions_frac=positions_frac,\n",
    "    cell_constraints=cell_constraints,\n",
    "    ionic_constraints=ionic_constraints,\n",
    "    fix_all_ions=fix_all_ions,\n",
    "    symmetry_generate=symmetry_generate,\n",
    "    symmetry_tol = symmetry_tol,\n",
    "    kpoints_mp_grid=kpoints_mp_grid,\n",
    "    display_file=True\n",
    ")\n",
    "\n",
    "job_filename= ct.write_job_script(\n",
    "    path=job_path,\n",
    "    filename=filename,\n",
    "    wall_time='72:00:00',\n",
    "    mem_per_slot='5500M',\n",
    "    threads=4,\n",
    "    total_slots=192,\n",
    "    display_file=False\n",
    ")\n",
    "\n",
    "# # Convert to cart and write xyz\n",
    "# positions_cart = ct.frac_to_cart(lattice_cart, positions_frac)\n",
    "# xyz = ct.write_xyz(positions_cart, path=job_path, filename=filename, comment='Converted by SRSCALCUTILS')\n"
   ]
  },
  {
   "cell_type": "code",
   "execution_count": 65,
   "metadata": {},
   "outputs": [],
   "source": [
    "# if str(module_path) == '/hpc/srs/Python/modules':\n",
    "#     !bash -l -c \"mpirun -np 62 castep.mpi {filename}\"\n",
    "# else:\n",
    "#     !zsh -l -c \"castepmpi {filename}\"\n"
   ]
  },
  {
   "cell_type": "code",
   "execution_count": 66,
   "metadata": {},
   "outputs": [],
   "source": [
    "\n",
    "# unit_cell, a, b, c, alpha, beta, gamma = ct.get_final_lattice_parameters(castep_path)\n",
    "# energy_optimisation = ct.get_LBFGS_energies(castep_path)\n",
    "# energies = [val for _, val in energy_optimisation]\n",
    "# energy = energies[-1]\n",
    "\n",
    "# print('Optimised energy {} eV'.format(energy))\n",
    "# print('Optimised lattice constants a,b = {} Ang., c = {} Ang.'.format(a,c))\n",
    "# print('Unit cell:')\n",
    "# for line in unit_cell:\n",
    "#     print(' '*2,np.abs(line))\n"
   ]
  },
  {
   "cell_type": "code",
   "execution_count": null,
   "metadata": {},
   "outputs": [],
   "source": []
  }
 ],
 "metadata": {
  "kernelspec": {
   "display_name": "dfttools",
   "language": "python",
   "name": "python3"
  },
  "language_info": {
   "codemirror_mode": {
    "name": "ipython",
    "version": 3
   },
   "file_extension": ".py",
   "mimetype": "text/x-python",
   "name": "python",
   "nbconvert_exporter": "python",
   "pygments_lexer": "ipython3",
   "version": "3.11.8"
  }
 },
 "nbformat": 4,
 "nbformat_minor": 2
}
