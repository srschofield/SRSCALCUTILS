{
 "cells": [
  {
   "cell_type": "markdown",
   "metadata": {},
   "source": [
    "<!-- # CNN autoencoder and Clustering from MTRX data\n",
    "\n",
    "Use this notebook to load Scienta Omicron Matrix format SPM data and create standardised images for machine learning training and analysis. The code can generate both JPG image data, useful for manually checking the data, and windowed numpy data that can be loaded into ML models. \n",
    "\n",
    "The notebook then creates an autoencoder for training on a large dataset, followed by KMEANS clustering. \n",
    "\n",
    "**Author**: Steven R. Schofield  \n",
    "**Created**: November, 2024 -->"
   ]
  },
  {
   "cell_type": "markdown",
   "metadata": {},
   "source": [
    "# CASTEP - Si 001 surface\n",
    "## Steven R. Schofield (Universtiy College London) May 2025"
   ]
  },
  {
   "cell_type": "markdown",
   "metadata": {},
   "source": [
    "### Determine appropriate paths whether we are working on macbook or the cluster"
   ]
  },
  {
   "cell_type": "code",
   "execution_count": 1,
   "metadata": {},
   "outputs": [
    {
     "name": "stdout",
     "output_type": "stream",
     "text": [
      "module_path = /Users/steven/academic-iCloud/Python/modules\n",
      "data_path = /Users/steven/academic-iCloud/Calculations/castep\n"
     ]
    }
   ],
   "source": [
    "import sys\n",
    "from pathlib import Path\n",
    "\n",
    "# Define candidate paths using Path objects\n",
    "module_path_list = [\n",
    "    Path('/Users/steven/academic-iCloud/Python/modules'),\n",
    "    Path('/hpc/srs/Python/modules')\n",
    "]\n",
    "\n",
    "data_path_list = [\n",
    "    Path('/Users/steven/academic-iCloud/Calculations/castep/'),\n",
    "    Path('/hpc/srs/castep')\n",
    "]\n",
    "\n",
    "# Resolve actual paths\n",
    "module_path = next((p for p in module_path_list if p.exists()), None)\n",
    "data_path = next((p for p in data_path_list if p.exists()), None)\n",
    "\n",
    "# Check and report missing paths\n",
    "if module_path is None:\n",
    "    print(\"Error: Could not locate a valid module path.\")\n",
    "if data_path is None:\n",
    "    print(\"Error: Could not locate a valid data path.\")\n",
    "\n",
    "if module_path is None or data_path is None:\n",
    "    sys.exit(1)\n",
    "\n",
    "# Add module_path to sys.path if needed\n",
    "if str(module_path) not in sys.path:\n",
    "    sys.path.insert(0, str(module_path))\n",
    "\n",
    "# Print resolved paths\n",
    "print(f\"module_path = {module_path}\")\n",
    "print(f\"data_path = {data_path}\")"
   ]
  },
  {
   "cell_type": "markdown",
   "metadata": {},
   "source": [
    "### Import modules"
   ]
  },
  {
   "cell_type": "code",
   "execution_count": 2,
   "metadata": {},
   "outputs": [
    {
     "data": {
      "application/vnd.jupyter.widget-view+json": {
       "model_id": "2de4ec914ca748e6959a28450500fbec",
       "version_major": 2,
       "version_minor": 0
      },
      "text/plain": []
     },
     "metadata": {},
     "output_type": "display_data"
    }
   ],
   "source": [
    "# # Ensure modules are reloaded \n",
    "%load_ext autoreload\n",
    "%autoreload 2\n",
    "\n",
    "# Import standard modules\n",
    "import numpy as np\n",
    "import pandas as pd\n",
    "import os\n",
    "from matplotlib import pyplot as plt\n",
    "\n",
    "# Import custom module\n",
    "import SRSCALCUTILS.castep_tools as ct\n",
    "\n",
    "from IPython.display import display"
   ]
  },
  {
   "cell_type": "markdown",
   "metadata": {},
   "source": [
    "### Paths for the calculation"
   ]
  },
  {
   "cell_type": "code",
   "execution_count": 3,
   "metadata": {},
   "outputs": [
    {
     "name": "stdout",
     "output_type": "stream",
     "text": [
      "job_path = /Users/steven/academic-iCloud/Calculations/castep/work-2025/si001_surf\n",
      "Done. 5 file(s) deleted.\n"
     ]
    }
   ],
   "source": [
    "# General\n",
    "job_folder = 'work-2025/si001_surf'\n",
    "job_path = data_path / job_folder\n",
    "verbose = False             # Set this True to print out more information\n",
    "\n",
    "# Print resolved paths\n",
    "print(f\"job_path = {job_path}\")\n",
    "\n",
    "# If it doesn’t exist, create it (including any missing parent folders)\n",
    "if not os.path.isdir(job_path):\n",
    "    os.makedirs(job_path, exist_ok=True)\n",
    "\n",
    "# Now safely switch into it\n",
    "os.chdir(job_path)\n",
    "\n",
    "ct.delete_all_files_in_cwd(force=True)"
   ]
  },
  {
   "cell_type": "markdown",
   "metadata": {},
   "source": [
    "### Base parameters of calculation and unit cell"
   ]
  },
  {
   "cell_type": "code",
   "execution_count": 4,
   "metadata": {},
   "outputs": [],
   "source": [
    "# Set up the param and cell files for the calculation\n",
    "filename = \"si001_surf\"\n",
    "title = \"silicon 001 surface tests\"\n",
    "\n",
    "params = {'task' : 'geomopt',\n",
    "          'xc_functional'           : 'PBE',\n",
    "          'cut_off_energy'          : 400,\n",
    "          'spin_polarised'          : 'false',\n",
    "          'write_cell_structure'    : 'true',\n",
    "          'charge'                  : 0,\n",
    "          'nextra_bands'            : 8,\n",
    "          'geom_energy_tol'         : 0.00005,          # default: 0.00005 eV \n",
    "          'geom_disp_tol'           : 0.002,            # default: 0.002 Ang.\n",
    "          'geom_max_iter'           : 100,              # default: 30\n",
    "          'geom_convergence_win'    : 2,                # default: 2\n",
    "          'max_scf_cycles'          : 300               # default: 30\n",
    "          }              \n",
    "\n",
    "lattice_cart = np.array([\n",
    "            [3.8641976,     0.0,     0.0],\n",
    "            [0.0,     3.8641976,     0.0],\n",
    "            [0.0,     0.0,     5.4648012]\n",
    "        ])\n",
    "\n",
    "positions_frac = np.array([\n",
    "            ['Si', 0.0,  0.0,  0.0],\n",
    "            ['Si', 0.5,  0.0,  0.25],\n",
    "            ['Si', 0.5,  0.5,  0.5],\n",
    "            ['Si', 0.0,  0.5,  0.75],\n",
    "        ])\n",
    "\n",
    "cell_constraints = np.array([\n",
    "            [0,  0,  0],\n",
    "            [0,  0,  0]\n",
    "        ])\n",
    "\n",
    "kpoints_mp_grid = np.array([2, 2, 2])\n",
    "\n",
    "fix_all_ions = False\n",
    "symmetry_generate=False\n",
    "symmetry_tol = 0.01\n"
   ]
  },
  {
   "cell_type": "markdown",
   "metadata": {},
   "source": [
    "### Build supercell"
   ]
  },
  {
   "cell_type": "code",
   "execution_count": 5,
   "metadata": {},
   "outputs": [],
   "source": [
    "n = [4,4,1] \n",
    "positions_frac, lattice_cart = ct.create_supercell_from_fractional_coords(positions_frac,lattice_cart,n)\n",
    "positions_frac = ct.sort_positions_frac(positions_frac)"
   ]
  },
  {
   "cell_type": "markdown",
   "metadata": {},
   "source": [
    "### Atom selection"
   ]
  },
  {
   "cell_type": "code",
   "execution_count": 6,
   "metadata": {},
   "outputs": [],
   "source": [
    "criteria = ('min','min','max')\n",
    "selected_frac, selected_cart = ct.select_atom_by_conditions(positions_frac, lattice_cart, criteria)\n",
    "reference_position = selected_cart[1:]"
   ]
  },
  {
   "cell_type": "code",
   "execution_count": 7,
   "metadata": {},
   "outputs": [],
   "source": [
    "# atom_number = 1\n",
    "# selected_frac, selected_cart = ct.select_atom_by_number(positions_frac, lattice_cart, atom_number, element=None)\n",
    "# reference_position = selected_cart[1:]"
   ]
  },
  {
   "cell_type": "markdown",
   "metadata": {},
   "source": [
    "### Select atom plane"
   ]
  },
  {
   "cell_type": "code",
   "execution_count": 8,
   "metadata": {},
   "outputs": [],
   "source": [
    "# import numpy as np\n",
    "\n",
    "# def selected_toggle_by_periodicity(labelled_positions_frac, n=(2,1,1)):\n",
    "#     \"\"\"\n",
    "#     Toggle True→False every n[i] atoms along axis i within each constant-(other-axes)\n",
    "#     slice.  No phase offsets.\n",
    "\n",
    "#     Parameters\n",
    "#     ----------\n",
    "#     labelled_positions_frac : array-like of shape (N,6)\n",
    "#       Rows = [index, is_selected (bool), element, fx, fy, fz]\n",
    "#     n : tuple of ints (nx,ny,nz)\n",
    "#       Periodicity along x,y,z. Axes with n[i]==1 are skipped.\n",
    "\n",
    "#     Returns\n",
    "#     -------\n",
    "#     out, out_inverse : np.ndarray of shape (N,6), dtype object\n",
    "#       - out: toggled version\n",
    "#       - out_inverse: inverse of out but only among rows originally True\n",
    "#     \"\"\"\n",
    "#     arr = np.asarray(labelled_positions_frac, dtype=object)\n",
    "#     orig_flags = arr[:,1].astype(bool)\n",
    "#     fx = arr[:,3].astype(float)\n",
    "#     fy = arr[:,4].astype(float)\n",
    "#     fz = arr[:,5].astype(float)\n",
    "#     coords = [fx, fy, fz]\n",
    "\n",
    "#     # compute integer grid indices for each axis\n",
    "#     idxs = [np.searchsorted(np.unique(coords[i]), coords[i]) for i in range(3)]\n",
    "#     nx, ny, nz = n\n",
    "\n",
    "#     def _toggle_along_axis(i, flags):\n",
    "#         Ni = n[i]\n",
    "#         if Ni <= 1:\n",
    "#             return flags\n",
    "#         # the two other axes\n",
    "#         other = [ax for ax in (0,1,2) if ax != i]\n",
    "#         u0 = np.unique(idxs[other[0]])\n",
    "#         u1 = np.unique(idxs[other[1]])\n",
    "\n",
    "#         new_flags = flags.copy()\n",
    "#         for g0 in u0:\n",
    "#             for g1 in u1:\n",
    "#                 # rows in this slice that were originally True\n",
    "#                 mask = (idxs[other[0]] == g0) & (idxs[other[1]] == g1) & orig_flags\n",
    "#                 rows = np.where(mask)[0]\n",
    "#                 if rows.size == 0:\n",
    "#                     continue\n",
    "#                 # sort by axis-i coordinate\n",
    "#                 order = np.argsort(coords[i][rows])\n",
    "#                 for pos, r in enumerate(rows[order]):\n",
    "#                     # flip every Ni-th in this slice\n",
    "#                     if pos % Ni == 0:\n",
    "#                         new_flags[r] = False\n",
    "#         return new_flags\n",
    "\n",
    "#     # apply toggles axis by axis\n",
    "#     flags = orig_flags.copy()\n",
    "#     for axis in (0,1,2):\n",
    "#         flags = _toggle_along_axis(axis, flags)\n",
    "\n",
    "#     # build the “out” array\n",
    "#     out = arr.copy()\n",
    "#     out[:,1] = flags.tolist()\n",
    "\n",
    "#     # build the inverse—only flipping among originally True rows\n",
    "#     inv_flags = orig_flags & (~flags)\n",
    "#     out_inv = arr.copy()\n",
    "#     out_inv[:,1] = inv_flags.tolist()\n",
    "\n",
    "#     return out, out_inv\n"
   ]
  },
  {
   "cell_type": "code",
   "execution_count": null,
   "metadata": {},
   "outputs": [],
   "source": []
  },
  {
   "cell_type": "code",
   "execution_count": 9,
   "metadata": {},
   "outputs": [],
   "source": [
    "plane = (0,0,1)\n",
    "labelled_positions_frac = ct.select_atoms_by_plane(\n",
    "    positions_frac,\n",
    "    lattice_cart,\n",
    "    plane,\n",
    "    reference_position,\n",
    "    tolerance=1\n",
    ")"
   ]
  },
  {
   "cell_type": "code",
   "execution_count": 10,
   "metadata": {},
   "outputs": [
    {
     "data": {
      "text/plain": [
       "[[1, True, 'Si', 0.75, 0.875, 0.75],\n",
       " [2, True, 'Si', 0.5, 0.875, 0.75],\n",
       " [3, True, 'Si', 0.25, 0.875, 0.75],\n",
       " [4, True, 'Si', 0.0, 0.875, 0.75],\n",
       " [5, True, 'Si', 0.75, 0.625, 0.75],\n",
       " [6, True, 'Si', 0.5, 0.625, 0.75],\n",
       " [7, True, 'Si', 0.25, 0.625, 0.75],\n",
       " [8, True, 'Si', 0.0, 0.625, 0.75],\n",
       " [9, True, 'Si', 0.75, 0.375, 0.75],\n",
       " [10, True, 'Si', 0.5, 0.375, 0.75],\n",
       " [11, True, 'Si', 0.25, 0.375, 0.75],\n",
       " [12, True, 'Si', 0.0, 0.375, 0.75],\n",
       " [13, True, 'Si', 0.75, 0.125, 0.75],\n",
       " [14, True, 'Si', 0.5, 0.125, 0.75],\n",
       " [15, True, 'Si', 0.25, 0.125, 0.75],\n",
       " [16, True, 'Si', 0.0, 0.125, 0.75],\n",
       " [17, False, 'Si', 0.875, 0.875, 0.5],\n",
       " [18, False, 'Si', 0.625, 0.875, 0.5],\n",
       " [19, False, 'Si', 0.375, 0.875, 0.5],\n",
       " [20, False, 'Si', 0.125, 0.875, 0.5],\n",
       " [21, False, 'Si', 0.875, 0.625, 0.5],\n",
       " [22, False, 'Si', 0.625, 0.625, 0.5],\n",
       " [23, False, 'Si', 0.375, 0.625, 0.5],\n",
       " [24, False, 'Si', 0.125, 0.625, 0.5],\n",
       " [25, False, 'Si', 0.875, 0.375, 0.5],\n",
       " [26, False, 'Si', 0.625, 0.375, 0.5],\n",
       " [27, False, 'Si', 0.375, 0.375, 0.5],\n",
       " [28, False, 'Si', 0.125, 0.375, 0.5],\n",
       " [29, False, 'Si', 0.875, 0.125, 0.5],\n",
       " [30, False, 'Si', 0.625, 0.125, 0.5],\n",
       " [31, False, 'Si', 0.375, 0.125, 0.5],\n",
       " [32, False, 'Si', 0.125, 0.125, 0.5],\n",
       " [33, False, 'Si', 0.875, 0.75, 0.25],\n",
       " [34, False, 'Si', 0.625, 0.75, 0.25],\n",
       " [35, False, 'Si', 0.375, 0.75, 0.25],\n",
       " [36, False, 'Si', 0.125, 0.75, 0.25],\n",
       " [37, False, 'Si', 0.875, 0.5, 0.25],\n",
       " [38, False, 'Si', 0.625, 0.5, 0.25],\n",
       " [39, False, 'Si', 0.375, 0.5, 0.25],\n",
       " [40, False, 'Si', 0.125, 0.5, 0.25],\n",
       " [41, False, 'Si', 0.875, 0.25, 0.25],\n",
       " [42, False, 'Si', 0.625, 0.25, 0.25],\n",
       " [43, False, 'Si', 0.375, 0.25, 0.25],\n",
       " [44, False, 'Si', 0.125, 0.25, 0.25],\n",
       " [45, False, 'Si', 0.875, 0.0, 0.25],\n",
       " [46, False, 'Si', 0.625, 0.0, 0.25],\n",
       " [47, False, 'Si', 0.375, 0.0, 0.25],\n",
       " [48, False, 'Si', 0.125, 0.0, 0.25],\n",
       " [49, False, 'Si', 0.75, 0.75, 0.0],\n",
       " [50, False, 'Si', 0.5, 0.75, 0.0],\n",
       " [51, False, 'Si', 0.25, 0.75, 0.0],\n",
       " [52, False, 'Si', 0.0, 0.75, 0.0],\n",
       " [53, False, 'Si', 0.75, 0.5, 0.0],\n",
       " [54, False, 'Si', 0.5, 0.5, 0.0],\n",
       " [55, False, 'Si', 0.25, 0.5, 0.0],\n",
       " [56, False, 'Si', 0.0, 0.5, 0.0],\n",
       " [57, False, 'Si', 0.75, 0.25, 0.0],\n",
       " [58, False, 'Si', 0.5, 0.25, 0.0],\n",
       " [59, False, 'Si', 0.25, 0.25, 0.0],\n",
       " [60, False, 'Si', 0.0, 0.25, 0.0],\n",
       " [61, False, 'Si', 0.75, 0.0, 0.0],\n",
       " [62, False, 'Si', 0.5, 0.0, 0.0],\n",
       " [63, False, 'Si', 0.25, 0.0, 0.0],\n",
       " [64, False, 'Si', 0.0, 0.0, 0.0]]"
      ]
     },
     "execution_count": 10,
     "metadata": {},
     "output_type": "execute_result"
    }
   ],
   "source": [
    "labelled_positions_frac"
   ]
  },
  {
   "cell_type": "code",
   "execution_count": null,
   "metadata": {},
   "outputs": [],
   "source": []
  },
  {
   "cell_type": "code",
   "execution_count": 25,
   "metadata": {},
   "outputs": [],
   "source": [
    "labelled_positions_frac_dimer1, labelled_positions_frac_dimer2 = toggle_plane_selection(\n",
    "    labelled_positions_frac,\n",
    "    fast='y',\n",
    "    slow='x',\n",
    "    alternate=True\n",
    ")\n",
    "\n",
    "filename=\"dimer1\"\n",
    "positions_frac = ct.selected_replace(labelled_positions_frac_dimer1, element=\"Si\", replacewith=\"O\", return_labelled=False)\n",
    "positions_cart = ct.frac_to_cart(lattice_cart, positions_frac)\n",
    "xyz = ct.write_xyz(positions_cart, path=job_path, filename=filename, comment='Converted by SRSCALCUTILS')\n",
    "\n",
    "filename=\"dimer2\"\n",
    "positions_frac = ct.selected_replace(labelled_positions_frac_dimer2, element=\"Si\", replacewith=\"O\", return_labelled=False)\n",
    "positions_cart = ct.frac_to_cart(lattice_cart, positions_frac)\n",
    "xyz = ct.write_xyz(positions_cart, path=job_path, filename=filename, comment='Converted by SRSCALCUTILS')\n",
    "\n",
    "\n"
   ]
  },
  {
   "cell_type": "code",
   "execution_count": null,
   "metadata": {},
   "outputs": [],
   "source": []
  },
  {
   "cell_type": "code",
   "execution_count": null,
   "metadata": {},
   "outputs": [],
   "source": []
  },
  {
   "cell_type": "markdown",
   "metadata": {},
   "source": []
  },
  {
   "cell_type": "markdown",
   "metadata": {},
   "source": [
    "### Add hydrogen termination to cell bottom "
   ]
  },
  {
   "cell_type": "code",
   "execution_count": null,
   "metadata": {},
   "outputs": [],
   "source": [
    "# # First select the atoms on the bottom layer \n",
    "# criteria = ('min','min','min')\n",
    "# selected_frac, selected_cart = ct.select_atom_by_conditions(positions_frac, lattice_cart, criteria)\n",
    "# reference_position = selected_cart[1:]\n",
    "# plane = (0,0,1)\n",
    "# labelled_positions_frac = ct.select_atoms_by_plane(\n",
    "#     positions_frac,\n",
    "#     lattice_cart,\n",
    "#     plane,\n",
    "#     reference_position,\n",
    "#     tolerance=1\n",
    "# )\n",
    "# # Next calculate the relative bond vectors for the two hydrogen atoms (per Si)\n",
    "# phi = np.deg2rad(90)    \n",
    "# si_h_bond_length = 1.5                         \n",
    "# theta_h_1 = np.deg2rad(180) - np.arccos(-1/3) / 2                \n",
    "# theta_h_2 = np.deg2rad(180) + np.arccos(-1/3) / 2            \n",
    "# bond_h_1  = ct.bond_vector_from_spherical(theta_h_1, phi, si_h_bond_length)                   \n",
    "# bond_h_2  = ct.bond_vector_from_spherical(theta_h_2, phi, si_h_bond_length)\n",
    "\n",
    "# # Now add the hydrogen atoms to the silicon atoms selected above using the calculated bond vectors\n",
    "# positions_frac, lattice_cart = ct.add_atoms_to_positions_frac(\n",
    "#                                     labelled_positions_frac,\n",
    "#                                     lattice_cart,\n",
    "#                                     [bond_h_1,bond_h_2],\n",
    "#                                     extend_unit_cell=(0, 0, 1),\n",
    "#                                     atom=\"H\")\n",
    "# positions_frac = ct.sort_positions_frac(positions_frac)"
   ]
  },
  {
   "cell_type": "markdown",
   "metadata": {},
   "source": [
    "### Dimerise surface"
   ]
  },
  {
   "cell_type": "code",
   "execution_count": null,
   "metadata": {},
   "outputs": [],
   "source": [
    "# # First select the atoms on the bottom layer \n",
    "# axis = 'z'\n",
    "# criteria = \"maximum\"\n",
    "# ref_value, _ = ct.find_plane_value(positions_frac, lattice_cart, axis, criteria)\n",
    "# tolerance = 0.5\n",
    "# labelled_positions_frac = ct.select_atoms_by_plane(positions_frac, lattice_cart, axis, ref_value,\n",
    "#                           tolerance=tolerance, include=None, exclude=None)\n",
    "\n",
    "# # Dimerise surface\n",
    "# dimer_direction = \"y\"\n",
    "# displacement_direction = \"y\"\n",
    "# displacement = 0.6\n",
    "# start_phase='+'\n",
    "# alternate=False\n",
    "# positions_frac = dimerise_displacement(labelled_positions_frac,\n",
    "#     lattice_cart,\n",
    "#     dimer_direction = dimer_direction,\n",
    "#     displacement_direction = displacement_direction,\n",
    "#     displacement = displacement,\n",
    "#     start_phase=start_phase,\n",
    "#     alternate=alternate,\n",
    "#     wrap_axes=(1,1,1)\n",
    "# )\n",
    "\n",
    "# # labelled_positions_frac = ct.select_atoms_by_plane(positions_frac, lattice_cart, axis, ref_value,\n",
    "# #                           tolerance=tolerance, include=None, exclude=None)\n",
    "\n",
    "# # displacement = 0.3\n",
    "# # displacement_direction = \"z\"\n",
    "# # alternate=True\n",
    "# # positions_frac = dimerise_displacement(labelled_positions_frac,\n",
    "# #     lattice_cart,\n",
    "# #     dimer_direction = dimer_direction,\n",
    "# #     displacement_direction = displacement_direction,\n",
    "# #     displacement = displacement,\n",
    "# #     start_phase=start_phase,\n",
    "# #     alternate=alternate,\n",
    "# #     wrap_axes=(1,1,1)\n",
    "# # )"
   ]
  },
  {
   "cell_type": "code",
   "execution_count": null,
   "metadata": {},
   "outputs": [],
   "source": []
  },
  {
   "cell_type": "code",
   "execution_count": null,
   "metadata": {},
   "outputs": [],
   "source": []
  },
  {
   "cell_type": "code",
   "execution_count": null,
   "metadata": {},
   "outputs": [],
   "source": []
  },
  {
   "cell_type": "markdown",
   "metadata": {},
   "source": [
    "### Add hydrogen to the top"
   ]
  },
  {
   "cell_type": "code",
   "execution_count": null,
   "metadata": {},
   "outputs": [],
   "source": [
    "# # First select the atoms on the bottom layer \n",
    "# axis = 'z'\n",
    "# criteria = \"maximum\"\n",
    "# ref_value, _ = ct.find_plane_value(positions_frac, lattice_cart, axis, criteria)\n",
    "# tolerance = 0.5\n",
    "# labelled_positions_frac = ct.select_atoms_by_plane(positions_frac, lattice_cart, axis, ref_value,\n",
    "#                           tolerance=tolerance, include=None, exclude=None)\n",
    "\n",
    "# # Next calculate the relative bond vectors for the two hydrogen atoms (per Si)\n",
    "# phi = np.deg2rad(90)    \n",
    "# si_h_bond_length = 1.5                         \n",
    "# theta_h_1 = np.arccos(-1/3) / 2                \n",
    "# theta_h_2 = np.arccos(-1/3) / 2            \n",
    "# bond_h_1  = ct.bond_vector_from_spherical(theta_h_1, phi, si_h_bond_length)                   \n",
    "# bond_h_2  = ct.bond_vector_from_spherical(theta_h_2, phi, si_h_bond_length)\n",
    "\n",
    "# # Now add the hydrogen atoms to the silicon atoms selected above using the calculated bond vectors\n",
    "# positions_frac, lattice_cart = ct.add_atoms_to_positions_frac(\n",
    "#                                     labelled_positions_frac,\n",
    "#                                     lattice_cart,\n",
    "#                                     [bond_h_1,bond_h_2],\n",
    "#                                     extend_unit_cell=(0, 0, 1),\n",
    "#                                     atom=\"H\")\n",
    "# positions_frac = ct.sort_positions_frac(positions_frac)"
   ]
  },
  {
   "cell_type": "markdown",
   "metadata": {},
   "source": [
    "### Add vacuum spacing"
   ]
  },
  {
   "cell_type": "code",
   "execution_count": null,
   "metadata": {},
   "outputs": [],
   "source": [
    "vac = 6\n",
    "positions_frac, lattice_cart = ct.create_vacuum_spacing(positions_frac, lattice_cart, vac)"
   ]
  },
  {
   "cell_type": "markdown",
   "metadata": {},
   "source": [
    "### Add ionic contraints"
   ]
  },
  {
   "cell_type": "code",
   "execution_count": null,
   "metadata": {},
   "outputs": [],
   "source": [
    "# # Create fixed ion constraints\n",
    "# conditions = \"z < 2.5\"\n",
    "# ionic_constraints = ct.select_atoms_by_region(positions_frac, lattice_cart, conditions)"
   ]
  },
  {
   "cell_type": "code",
   "execution_count": null,
   "metadata": {},
   "outputs": [],
   "source": [
    "positions_frac"
   ]
  },
  {
   "cell_type": "code",
   "execution_count": null,
   "metadata": {},
   "outputs": [],
   "source": []
  },
  {
   "cell_type": "code",
   "execution_count": null,
   "metadata": {},
   "outputs": [],
   "source": [
    "filename = f\"si001_test\"\n",
    "castep_path = job_path / f\"{filename}.castep\"\n",
    "\n",
    "print('=' * 80 + f'\\nCASTEP file: {castep_path}\\n' + '=' * 80 + '\\n')   \n",
    "\n",
    "param_filename = ct.write_param_file(\n",
    "    params,\n",
    "    title = title,\n",
    "    filename=filename,\n",
    "    path=job_path,\n",
    "    display_file=True\n",
    "    )\n",
    "\n",
    "cell_filename = ct.write_cell_file(\n",
    "    title = title,\n",
    "    path=job_path,\n",
    "    filename=filename,\n",
    "    lattice_cart=lattice_cart,\n",
    "    positions_frac=positions_frac,\n",
    "    cell_constraints=cell_constraints,\n",
    "#    ionic_constraints=ionic_constraints,\n",
    "    fix_all_ions=fix_all_ions,\n",
    "    symmetry_generate=symmetry_generate,\n",
    "    symmetry_tol = symmetry_tol,\n",
    "    kpoints_mp_grid=kpoints_mp_grid,\n",
    "    display_file=True\n",
    ")\n",
    "\n",
    "# Convert to cart and write xyz\n",
    "positions_cart = ct.frac_to_cart(lattice_cart, positions_frac)\n",
    "xyz = ct.write_xyz(positions_cart, path=job_path, filename=filename, comment='Converted by SRSCALCUTILS')\n"
   ]
  },
  {
   "cell_type": "code",
   "execution_count": null,
   "metadata": {},
   "outputs": [],
   "source": [
    "# if str(module_path) == '/hpc/srs/Python/modules':\n",
    "#     !bash -l -c \"mpirun -np 62 castep.mpi {filename}\"\n",
    "# else:\n",
    "#     !zsh -l -c \"castepmpi {filename}\"\n"
   ]
  },
  {
   "cell_type": "code",
   "execution_count": null,
   "metadata": {},
   "outputs": [],
   "source": [
    "\n",
    "# unit_cell, a, b, c, alpha, beta, gamma = ct.get_final_lattice_parameters(castep_path)\n",
    "# energy_optimisation = ct.get_LBFGS_energies(castep_path)\n",
    "# energies = [val for _, val in energy_optimisation]\n",
    "# energy = energies[-1]\n",
    "\n",
    "# print('Optimised energy {} eV'.format(energy))\n",
    "# print('Optimised lattice constants a,b = {} Ang., c = {} Ang.'.format(a,c))\n",
    "# print('Unit cell:')\n",
    "# for line in unit_cell:\n",
    "#     print(' '*2,np.abs(line))\n"
   ]
  },
  {
   "cell_type": "code",
   "execution_count": null,
   "metadata": {},
   "outputs": [],
   "source": []
  }
 ],
 "metadata": {
  "kernelspec": {
   "display_name": "dfttools",
   "language": "python",
   "name": "python3"
  },
  "language_info": {
   "codemirror_mode": {
    "name": "ipython",
    "version": 3
   },
   "file_extension": ".py",
   "mimetype": "text/x-python",
   "name": "python",
   "nbconvert_exporter": "python",
   "pygments_lexer": "ipython3",
   "version": "3.11.8"
  }
 },
 "nbformat": 4,
 "nbformat_minor": 2
}
