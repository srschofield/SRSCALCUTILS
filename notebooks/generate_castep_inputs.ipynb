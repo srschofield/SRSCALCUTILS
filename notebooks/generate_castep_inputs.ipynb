{
 "cells": [
  {
   "cell_type": "markdown",
   "id": "f4fa81ec",
   "metadata": {},
   "source": [
    "# CASTEP input generation\n",
    "## Steven R. Schofield (Universtiy College London) May 2025"
   ]
  },
  {
   "cell_type": "code",
   "execution_count": 1,
   "id": "2e4a4769",
   "metadata": {},
   "outputs": [
    {
     "name": "stdout",
     "output_type": "stream",
     "text": [
      "module_path = /Users/steven/academic-iCloud/Python/modules\n",
      "data_path = /Users/steven/academic-iCloud/Calculations/castep/Hydrogen_Bridge/Structure\n"
     ]
    }
   ],
   "source": [
    "import sys\n",
    "from pathlib import Path\n",
    "\n",
    "# Define candidate paths using Path objects\n",
    "module_path_list = [\n",
    "    Path('/Users/steven/academic-iCloud/Python/modules'),\n",
    "    Path('/hpc/srs/Python/modules')\n",
    "]\n",
    "\n",
    "data_path_list = [\n",
    "    Path('/Users/steven/academic-iCloud/Calculations/castep/Hydrogen_Bridge/Structure'),\n",
    "    Path('/hpc/srs/Python-data')\n",
    "]\n",
    "\n",
    "# Resolve actual paths\n",
    "module_path = next((p for p in module_path_list if p.exists()), None)\n",
    "data_path = next((p for p in data_path_list if p.exists()), None)\n",
    "\n",
    "# Check and report missing paths\n",
    "if module_path is None:\n",
    "    print(\"Error: Could not locate a valid module path.\")\n",
    "if data_path is None:\n",
    "    print(\"Error: Could not locate a valid data path.\")\n",
    "\n",
    "if module_path is None or data_path is None:\n",
    "    sys.exit(1)\n",
    "\n",
    "# Add module_path to sys.path if needed\n",
    "if str(module_path) not in sys.path:\n",
    "    sys.path.insert(0, str(module_path))\n",
    "\n",
    "# Print resolved paths\n",
    "print(f\"module_path = {module_path}\")\n",
    "print(f\"data_path = {data_path}\")"
   ]
  },
  {
   "cell_type": "code",
   "execution_count": 2,
   "id": "cd66982e",
   "metadata": {},
   "outputs": [
    {
     "data": {
      "application/vnd.jupyter.widget-view+json": {
       "model_id": "1d54e073ff664359a2e0b16f56b09d21",
       "version_major": 2,
       "version_minor": 0
      },
      "text/plain": []
     },
     "metadata": {},
     "output_type": "display_data"
    }
   ],
   "source": [
    "# # Ensure modules are reloaded \n",
    "%load_ext autoreload\n",
    "%autoreload 2\n",
    "\n",
    "# Import standard modules\n",
    "import numpy as np\n",
    "import pandas as pd\n",
    "\n",
    "# Import custom module\n",
    "import SRSCALCUTILS.castep_tools as ct\n",
    "\n",
    "from IPython.display import display, Image as StaticImage"
   ]
  },
  {
   "cell_type": "code",
   "execution_count": 3,
   "id": "364c5255",
   "metadata": {},
   "outputs": [],
   "source": [
    "def write_param_file(params):\n",
    "    width = max(len(k) for k in params)\n",
    "    for param, value in params.items():\n",
    "        print(f'{param:<{width+1}} : {value}')"
   ]
  },
  {
   "cell_type": "code",
   "execution_count": 4,
   "id": "df6d133f",
   "metadata": {},
   "outputs": [
    {
     "name": "stdout",
     "output_type": "stream",
     "text": [
      "task                  : geomopt\n",
      "xc_functional         : PBE\n",
      "cut_off_energy        : 750\n",
      "spin_polarised        : true\n",
      "write_cell_structure  : true\n",
      "charge                : 0\n",
      "max_scf_cycles        : 300\n"
     ]
    }
   ],
   "source": [
    "params = {'task' : 'geomopt',\n",
    "          'xc_functional' : 'PBE',\n",
    "          'cut_off_energy' : 750,\n",
    "          'spin_polarised' : 'true',\n",
    "          'write_cell_structure' : 'true',\n",
    "          'charge' : 0,\n",
    "          'max_scf_cycles' : 300}\n",
    "\n",
    "\n",
    "write_param_file(params)"
   ]
  },
  {
   "cell_type": "code",
   "execution_count": 34,
   "id": "8fce0971",
   "metadata": {},
   "outputs": [
    {
     "name": "stdout",
     "output_type": "stream",
     "text": [
      "%BLOCK CELL_CONSTRAINTS\n",
      "       1    1    2\n",
      "       0    0    0\n",
      "%ENDBLOCK CELL_CONSTRAINTS\n"
     ]
    }
   ],
   "source": [
    "constraints = np.array([\n",
    "            [1,  1,  2],\n",
    "            [0,  0,  0]\n",
    "        ])\n",
    "print(ct.write_cell_constraints(constraints=constraints))"
   ]
  },
  {
   "cell_type": "code",
   "execution_count": null,
   "id": "a4528112",
   "metadata": {},
   "outputs": [],
   "source": []
  },
  {
   "cell_type": "code",
   "execution_count": 61,
   "id": "e2edfa5c",
   "metadata": {},
   "outputs": [
    {
     "ename": "TypeError",
     "evalue": "write_cell_file() got an unexpected keyword argument 'kpoint_mp_grid'",
     "output_type": "error",
     "traceback": [
      "\u001b[31m---------------------------------------------------------------------------\u001b[39m",
      "\u001b[31mTypeError\u001b[39m                                 Traceback (most recent call last)",
      "\u001b[36mCell\u001b[39m\u001b[36m \u001b[39m\u001b[32mIn[61]\u001b[39m\u001b[32m, line 32\u001b[39m\n\u001b[32m     29\u001b[39m filename = \u001b[33m\"\u001b[39m\u001b[33msi_bulk.cell\u001b[39m\u001b[33m\"\u001b[39m\n\u001b[32m     30\u001b[39m title = filename\n\u001b[32m---> \u001b[39m\u001b[32m32\u001b[39m _ = \u001b[43mct\u001b[49m\u001b[43m.\u001b[49m\u001b[43mwrite_cell_file\u001b[49m\u001b[43m(\u001b[49m\n\u001b[32m     33\u001b[39m \u001b[43m        \u001b[49m\u001b[43mnx\u001b[49m\u001b[43m=\u001b[49m\u001b[43mnx\u001b[49m\u001b[43m,\u001b[49m\n\u001b[32m     34\u001b[39m \u001b[43m        \u001b[49m\u001b[43mny\u001b[49m\u001b[43m=\u001b[49m\u001b[43mny\u001b[49m\u001b[43m,\u001b[49m\n\u001b[32m     35\u001b[39m \u001b[43m        \u001b[49m\u001b[43mnz\u001b[49m\u001b[43m=\u001b[49m\u001b[43mnz\u001b[49m\u001b[43m,\u001b[49m\n\u001b[32m     36\u001b[39m \u001b[43m        \u001b[49m\u001b[43ma\u001b[49m\u001b[43m=\u001b[49m\u001b[43ma\u001b[49m\u001b[43m,\u001b[49m\n\u001b[32m     37\u001b[39m \u001b[43m        \u001b[49m\u001b[43mb\u001b[49m\u001b[43m=\u001b[49m\u001b[43mb\u001b[49m\u001b[43m,\u001b[49m\n\u001b[32m     38\u001b[39m \u001b[43m        \u001b[49m\u001b[43mc\u001b[49m\u001b[43m=\u001b[49m\u001b[43mc\u001b[49m\u001b[43m,\u001b[49m\n\u001b[32m     39\u001b[39m \u001b[43m        \u001b[49m\u001b[43matom\u001b[49m\u001b[43m=\u001b[49m\u001b[43matom\u001b[49m\u001b[43m,\u001b[49m\n\u001b[32m     40\u001b[39m \u001b[43m        \u001b[49m\u001b[43munit_cell\u001b[49m\u001b[43m=\u001b[49m\u001b[43munit_cell\u001b[49m\u001b[43m,\u001b[49m\n\u001b[32m     41\u001b[39m \u001b[43m        \u001b[49m\u001b[43mconstraints\u001b[49m\u001b[43m=\u001b[49m\u001b[43mconstraints\u001b[49m\u001b[43m,\u001b[49m\n\u001b[32m     42\u001b[39m \u001b[43m        \u001b[49m\u001b[43mfix_all_ions\u001b[49m\u001b[43m=\u001b[49m\u001b[38;5;28;43;01mTrue\u001b[39;49;00m\u001b[43m,\u001b[49m\n\u001b[32m     43\u001b[39m \u001b[43m        \u001b[49m\u001b[43msymmetry_generate\u001b[49m\u001b[43m=\u001b[49m\u001b[43msymmetry_generate\u001b[49m\u001b[43m,\u001b[49m\n\u001b[32m     44\u001b[39m \u001b[43m        \u001b[49m\u001b[43msymmetry_tol\u001b[49m\u001b[43m \u001b[49m\u001b[43m=\u001b[49m\u001b[43m \u001b[49m\u001b[43msymmetry_tol\u001b[49m\u001b[43m,\u001b[49m\n\u001b[32m     45\u001b[39m \u001b[43m        \u001b[49m\u001b[43mkpoint_mp_grid\u001b[49m\u001b[43m=\u001b[49m\u001b[43mkpoint_mp_grid\u001b[49m\u001b[43m,\u001b[49m\n\u001b[32m     46\u001b[39m \u001b[43m        \u001b[49m\u001b[43mtitle\u001b[49m\u001b[43m \u001b[49m\u001b[43m=\u001b[49m\u001b[43m \u001b[49m\u001b[43mtitle\u001b[49m\u001b[43m,\u001b[49m\n\u001b[32m     47\u001b[39m \u001b[43m        \u001b[49m\u001b[43mfilename\u001b[49m\u001b[43m=\u001b[49m\u001b[43mfilename\u001b[49m\u001b[43m,\u001b[49m\n\u001b[32m     48\u001b[39m \u001b[43m        \u001b[49m\u001b[43mpath\u001b[49m\u001b[43m=\u001b[49m\u001b[43mpath\u001b[49m\u001b[43m,\u001b[49m\n\u001b[32m     49\u001b[39m \u001b[43m        \u001b[49m\u001b[43mdisplay_file\u001b[49m\u001b[43m=\u001b[49m\u001b[38;5;28;43;01mTrue\u001b[39;49;00m\n\u001b[32m     50\u001b[39m \u001b[43m    \u001b[49m\u001b[43m)\u001b[49m\n",
      "\u001b[31mTypeError\u001b[39m: write_cell_file() got an unexpected keyword argument 'kpoint_mp_grid'"
     ]
    }
   ],
   "source": [
    "# Bulk FCC 8-atom unit cell\n",
    "nx=1\n",
    "ny=1\n",
    "nz=1\n",
    "a=5.4685299\n",
    "b=5.4685299\n",
    "c=5.4685299\n",
    "atom='Si'\n",
    "unit_cell = np.array([\n",
    "            [0.0,  0.0,  0.0],\n",
    "            [0.5,  0.5,  0.0],\n",
    "            [0.5,  0.0,  0.5],\n",
    "            [0.0,  0.5,  0.5],\n",
    "            [0.25,  0.25,  0.25],\n",
    "            [0.75,  0.75,  0.25],\n",
    "            [0.75,  0.25,  0.75],\n",
    "            [0.25,  0.75,  0.75],\n",
    "        ])\n",
    "constraints = np.array([\n",
    "            [0,  0,  0],\n",
    "            [0,  0,  0]\n",
    "        ])\n",
    "kpoint_mp_grid = np.array([8, 8, 8])\n",
    "\n",
    "fix_all_ions = False\n",
    "symmetry_generate=True\n",
    "symmetry_tol = 0.01\n",
    "path=\"/Users/steven/academic-iCloud/Calculations/castep/work-2025/tmp\"\n",
    "filename = \"si_bulk.cell\"\n",
    "title = filename\n",
    "\n",
    "_ = ct.write_cell_file(\n",
    "        nx=nx,\n",
    "        ny=ny,\n",
    "        nz=nz,\n",
    "        a=a,\n",
    "        b=b,\n",
    "        c=c,\n",
    "        atom=atom,\n",
    "        unit_cell=unit_cell,\n",
    "        constraints=constraints,\n",
    "        fix_all_ions=True,\n",
    "        symmetry_generate=symmetry_generate,\n",
    "        symmetry_tol = symmetry_tol,\n",
    "        kpoint_mp_grid=kpoint_mp_grid,\n",
    "        title = title,\n",
    "        filename=filename,\n",
    "        path=path,\n",
    "        display_file=True\n",
    "    )"
   ]
  },
  {
   "cell_type": "code",
   "execution_count": 55,
   "id": "4f3332ed",
   "metadata": {},
   "outputs": [
    {
     "name": "stdout",
     "output_type": "stream",
     "text": [
      "Wrote cell file to: /Users/steven/academic-iCloud/Calculations/castep/work-2025/tmp/si_001_bulk.cell\n",
      "!TITLE: si_001_bulk.cell\n",
      "\n",
      "%BLOCK lattice_cart\n",
      "   ANG\n",
      "       3.8668346000    0.0000000000    0.0000000000\n",
      "       0.0000000000    3.8668346000    0.0000000000\n",
      "       0.0000000000    0.0000000000    5.4685299000\n",
      "%ENDBLOCK lattice_cart\n",
      "\n",
      "%BLOCK CELL_CONSTRAINTS\n",
      "       0    0    0\n",
      "       0    0    0\n",
      "%ENDBLOCK CELL_CONSTRAINTS\n",
      "\n",
      "%BLOCK positions_frac\n",
      "   Si       0.0000000000    0.0000000000    0.0000000000\n",
      "   Si       0.5000000000    0.0000000000    0.2500000000\n",
      "   Si       0.5000000000    0.5000000000    0.5000000000\n",
      "   Si       0.0000000000    0.5000000000    0.7500000000\n",
      "%ENDBLOCK positions_frac\n",
      "\n",
      "SYMMETRY_GENERATE\n",
      "SYMMETRY_TOL : 0.01\n"
     ]
    }
   ],
   "source": [
    "# Bulk FCC Si(001) 1x1 4 atom unit cell\n",
    "nx=1\n",
    "ny=1\n",
    "nz=1\n",
    "a=3.8668346\n",
    "b=3.8668346\n",
    "c=5.4685299\n",
    "atom='Si'\n",
    "unit_cell = np.array([\n",
    "            [0.0,  0.0,  0.0],\n",
    "            [0.5,  0.0,  0.25],\n",
    "            [0.5,  0.5,  0.5],\n",
    "            [0.0,  0.5,  0.75],\n",
    "        ])\n",
    "path=\"/Users/steven/academic-iCloud/Calculations/castep/work-2025/tmp\"\n",
    "symmetry_generate=True\n",
    "symmetry_tol = 0.01\n",
    "path=\"/Users/steven/academic-iCloud/Calculations/castep/work-2025/tmp\"\n",
    "filename = \"si_001_bulk.cell\"\n",
    "title = filename\n",
    "\n",
    "_ = ct.write_cell_file(\n",
    "        nx=nx,\n",
    "        ny=ny,\n",
    "        nz=nz,\n",
    "        a=a,\n",
    "        b=b,\n",
    "        c=c,\n",
    "        atom=atom,\n",
    "        unit_cell=unit_cell,\n",
    "        constraints=constraints,\n",
    "        symmetry_generate=symmetry_generate,\n",
    "        symmetry_tol = symmetry_tol,\n",
    "        title = title,\n",
    "        filename=filename,\n",
    "        path=path,\n",
    "        display_file=True\n",
    "    )"
   ]
  },
  {
   "cell_type": "code",
   "execution_count": null,
   "id": "76a84e6e",
   "metadata": {},
   "outputs": [],
   "source": []
  }
 ],
 "metadata": {
  "kernelspec": {
   "display_name": "dfttools",
   "language": "python",
   "name": "python3"
  },
  "language_info": {
   "codemirror_mode": {
    "name": "ipython",
    "version": 3
   },
   "file_extension": ".py",
   "mimetype": "text/x-python",
   "name": "python",
   "nbconvert_exporter": "python",
   "pygments_lexer": "ipython3",
   "version": "3.11.8"
  }
 },
 "nbformat": 4,
 "nbformat_minor": 5
}
