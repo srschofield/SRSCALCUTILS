{
 "cells": [
  {
   "cell_type": "markdown",
   "metadata": {},
   "source": [
    "<!-- # CNN autoencoder and Clustering from MTRX data\n",
    "\n",
    "Use this notebook to load Scienta Omicron Matrix format SPM data and create standardised images for machine learning training and analysis. The code can generate both JPG image data, useful for manually checking the data, and windowed numpy data that can be loaded into ML models. \n",
    "\n",
    "The notebook then creates an autoencoder for training on a large dataset, followed by KMEANS clustering. \n",
    "\n",
    "**Author**: Steven R. Schofield  \n",
    "**Created**: November, 2024 -->"
   ]
  },
  {
   "cell_type": "markdown",
   "metadata": {},
   "source": [
    "# CASTEP - Si 001 surface\n",
    "## Steven R. Schofield (Universtiy College London) May 2025"
   ]
  },
  {
   "cell_type": "markdown",
   "metadata": {},
   "source": [
    "### Determine appropriate paths whether we are working on macbook or the cluster"
   ]
  },
  {
   "cell_type": "code",
   "execution_count": 85,
   "metadata": {},
   "outputs": [
    {
     "name": "stdout",
     "output_type": "stream",
     "text": [
      "module_path = /Users/steven/academic-iCloud/Python/modules\n",
      "data_path = /Users/steven/academic-iCloud/Calculations/castep/work-2025/si001_templates\n"
     ]
    }
   ],
   "source": [
    "import sys\n",
    "from pathlib import Path\n",
    "\n",
    "# Define candidate paths using Path objects\n",
    "module_path_list = [\n",
    "    Path('/Users/steven/academic-iCloud/Python/modules'),\n",
    "    Path('/hpc/srs/Python/modules')\n",
    "]\n",
    "\n",
    "data_path_list = [\n",
    "    Path('/Users/steven/academic-iCloud/Calculations/castep/work-2025/si001_templates'),\n",
    "    Path('/hpc/srs/castep')\n",
    "]\n",
    "\n",
    "# Resolve actual paths\n",
    "module_path = next((p for p in module_path_list if p.exists()), None)\n",
    "data_path = next((p for p in data_path_list if p.exists()), None)\n",
    "\n",
    "# Check and report missing paths\n",
    "if module_path is None:\n",
    "    print(\"Error: Could not locate a valid module path.\")\n",
    "if data_path is None:\n",
    "    print(\"Error: Could not locate a valid data path.\")\n",
    "\n",
    "if module_path is None or data_path is None:\n",
    "    sys.exit(1)\n",
    "\n",
    "# Add module_path to sys.path if needed\n",
    "if str(module_path) not in sys.path:\n",
    "    sys.path.insert(0, str(module_path))\n",
    "\n",
    "# Print resolved paths\n",
    "print(f\"module_path = {module_path}\")\n",
    "print(f\"data_path = {data_path}\")"
   ]
  },
  {
   "cell_type": "markdown",
   "metadata": {},
   "source": [
    "### Import modules"
   ]
  },
  {
   "cell_type": "code",
   "execution_count": 86,
   "metadata": {},
   "outputs": [
    {
     "name": "stdout",
     "output_type": "stream",
     "text": [
      "The autoreload extension is already loaded. To reload it, use:\n",
      "  %reload_ext autoreload\n"
     ]
    }
   ],
   "source": [
    "# # Ensure modules are reloaded \n",
    "%load_ext autoreload\n",
    "%autoreload 2\n",
    "\n",
    "# Import standard modules\n",
    "import numpy as np\n",
    "import pandas as pd\n",
    "import os\n",
    "from matplotlib import pyplot as plt\n",
    "\n",
    "# Import custom module\n",
    "import SRSCALCUTILS.castep_tools as ct\n",
    "\n",
    "from IPython.display import display"
   ]
  },
  {
   "cell_type": "markdown",
   "metadata": {},
   "source": [
    "### Paths for the calculation"
   ]
  },
  {
   "cell_type": "code",
   "execution_count": 87,
   "metadata": {},
   "outputs": [
    {
     "name": "stdout",
     "output_type": "stream",
     "text": [
      "job_path = /Users/steven/academic-iCloud/Calculations/castep/work-2025/si001_templates/si001\n"
     ]
    }
   ],
   "source": [
    "# General\n",
    "job_folder = \"si001\"\n",
    "filename = job_folder\n",
    "\n",
    "\n",
    "title = \"Job folder: {}. Filename: {}.\".format(job_folder, filename)\n",
    "job_path = data_path / job_folder\n",
    "verbose = False             # Set this True to print out more information\n",
    "\n",
    "# Print resolved paths\n",
    "print(f\"job_path = {job_path}\")\n",
    "\n",
    "# If it doesn’t exist, create it (including any missing parent folders)\n",
    "if not os.path.isdir(job_path):\n",
    "    os.makedirs(job_path, exist_ok=True)\n",
    "\n",
    "# Now safely switch into it\n",
    "os.chdir(job_path)\n",
    "\n",
    "#ct.delete_all_files_in_cwd(force=False)"
   ]
  },
  {
   "cell_type": "markdown",
   "metadata": {},
   "source": [
    "### Base parameters of calculation and unit cell"
   ]
  },
  {
   "cell_type": "code",
   "execution_count": 88,
   "metadata": {},
   "outputs": [],
   "source": [
    "params = {'task' : 'geomopt',\n",
    "          'xc_functional'           : 'PBE',\n",
    "          'cut_off_energy'          : 400,\n",
    "          'spin_polarised'          : 'false',\n",
    "          'write_cell_structure'    : 'true',\n",
    "          'charge'                  : 0,\n",
    "          'nextra_bands'            : 24,\n",
    "          'geom_energy_tol'         : 0.00005,          # default: 0.00005 eV \n",
    "          'geom_disp_tol'           : 0.002,            # default: 0.002 Ang.\n",
    "          'geom_max_iter'           : 100,              # default: 30\n",
    "          'geom_convergence_win'    : 2,                # default: 2\n",
    "          'max_scf_cycles'          : 300               # default: 30\n",
    "          }              \n",
    "\n",
    "lattice_cart = np.array([\n",
    "            [3.8641976,     0.0,     0.0],\n",
    "            [0.0,     3.8641976,     0.0],\n",
    "            [0.0,     0.0,     5.4648012]\n",
    "        ])\n",
    "\n",
    "positions_frac = np.array([\n",
    "            ['Si', 0.0,  0.0,  0.0],\n",
    "            ['Si', 0.5,  0.0,  0.25],\n",
    "            ['Si', 0.5,  0.5,  0.5],\n",
    "            ['Si', 0.0,  0.5,  0.75],\n",
    "        ])\n",
    "\n",
    "cell_constraints = np.array([\n",
    "            [0,  0,  0],\n",
    "            [0,  0,  0]\n",
    "        ])\n",
    "\n",
    "kpoints_mp_grid = np.array([2, 2, 2])\n",
    "\n",
    "fix_all_ions = False\n",
    "symmetry_generate=False\n",
    "symmetry_tol = 0.01\n"
   ]
  },
  {
   "cell_type": "code",
   "execution_count": 89,
   "metadata": {},
   "outputs": [],
   "source": [
    "import numpy as np\n",
    "from typing import Tuple\n",
    "\n",
    "\n",
    "def create_supercell_from_fractional_coord_with_surf(\n",
    "    positions_frac: np.ndarray,\n",
    "    lattice_cart: np.ndarray,\n",
    "    n: np.ndarray,\n",
    "    positions_frac_surf: np.ndarray\n",
    ") -> Tuple[np.ndarray, np.ndarray]:\n",
    "    \"\"\"\n",
    "    Generate a supercell from fractional atomic positions, using a different top layer.\n",
    "\n",
    "    Parameters\n",
    "    ----------\n",
    "    positions_frac : ndarray, shape (M,4), dtype object\n",
    "        Each row is [atom_label, frac_x, frac_y, frac_z] for bulk layers.\n",
    "    lattice_cart : ndarray, shape (3,3)\n",
    "        The Cartesian lattice vectors of a single unit cell.\n",
    "    n : array-like of int, length 3\n",
    "        Number of repetitions along x (na), y (nb), and z (nc).\n",
    "    positions_frac_surf : ndarray, shape (Msurf,4), dtype object\n",
    "        Each row is [atom_label, frac_x, frac_y, frac_z] for the surface layer.\n",
    "\n",
    "    Returns\n",
    "    -------\n",
    "    supercell_frac : ndarray, shape (na*nb*(nc-1)*M + na*nb*Msurf, 4), dtype object\n",
    "        Fractional coordinates of all atoms in the supercell.\n",
    "    supercell_lattice_cart : ndarray, shape (3,3)\n",
    "        The Cartesian lattice vectors of the supercell.\n",
    "    \"\"\"\n",
    "    # Validate input arrays\n",
    "    positions_frac = np.asarray(positions_frac, dtype=object)\n",
    "    positions_frac_surf = np.asarray(positions_frac_surf, dtype=object)\n",
    "\n",
    "    if positions_frac.ndim != 2 or positions_frac.shape[1] != 4:\n",
    "        raise ValueError(\n",
    "            \"positions_frac must be array-like of shape (M,4)\"\n",
    "        )\n",
    "    if positions_frac_surf.ndim != 2 or positions_frac_surf.shape[1] != 4:\n",
    "        raise ValueError(\n",
    "            \"positions_frac_surf must be array-like of shape (Msurf,4)\"\n",
    "        )\n",
    "\n",
    "    # Extract labels and coords\n",
    "    labels_bulk = positions_frac[:, 0]\n",
    "    coords_bulk = positions_frac[:, 1:].astype(float)\n",
    "    labels_surf = positions_frac_surf[:, 0]\n",
    "    coords_surf = positions_frac_surf[:, 1:].astype(float)\n",
    "\n",
    "    na, nb, nc = map(int, n)\n",
    "    supercell_list = []\n",
    "\n",
    "    # Build layers: bulk for k < nc-1, surface for k == nc-1\n",
    "    for i in range(na):\n",
    "        for j in range(nb):\n",
    "            for k in range(nc):\n",
    "                if k < nc - 1:\n",
    "                    labels = labels_bulk\n",
    "                    coords = coords_bulk\n",
    "                else:\n",
    "                    labels = labels_surf\n",
    "                    coords = coords_surf\n",
    "\n",
    "                # shift coordinates and normalize\n",
    "                shift = np.array([i, j, k])\n",
    "                norm = np.array([na, nb, nc])\n",
    "                shifted = (coords + shift) / norm\n",
    "\n",
    "                # assemble block\n",
    "                block = np.empty((shifted.shape[0], 4), dtype=object)\n",
    "                block[:, 0] = labels\n",
    "                block[:, 1:] = shifted\n",
    "                supercell_list.append(block)\n",
    "\n",
    "    # Concatenate all blocks\n",
    "    supercell_frac = np.vstack(supercell_list)\n",
    "\n",
    "    # Sort positions: highest z first, then y, x, atom label\n",
    "    supercell_frac = ct.sort_positions_frac(\n",
    "        supercell_frac,\n",
    "        order=['z', 'y', 'x', 'atom'],\n",
    "        descending=True\n",
    "    )\n",
    "\n",
    "    # Scale lattice vectors to supercell size\n",
    "    supercell_lattice_cart = (lattice_cart.T * np.array([na, nb, nc])).T\n",
    "\n",
    "    return supercell_frac, supercell_lattice_cart\n"
   ]
  },
  {
   "cell_type": "code",
   "execution_count": 90,
   "metadata": {},
   "outputs": [],
   "source": [
    "# n = [1,2,1] \n",
    "# positions_frac_surf = np.array([\n",
    "#             ['Si', 0.0,  0.0,  0.0],\n",
    "#             ['Si', 0.5,  0.0,  0.25],\n",
    "#             ['Si', 0.5,  0.5,  0.5],\n",
    "#             ['O', 0.0,  0.7,  0.75],\n",
    "#         ])\n",
    "# positions_frac, lattice_cart = create_supercell_from_fractional_coord_with_surf(positions_frac,lattice_cart,n,positions_frac_surf)"
   ]
  },
  {
   "cell_type": "markdown",
   "metadata": {},
   "source": [
    "### Build supercell"
   ]
  },
  {
   "cell_type": "code",
   "execution_count": 91,
   "metadata": {},
   "outputs": [],
   "source": [
    "n = [1,2,1] \n",
    "positions_frac, lattice_cart = ct.create_supercell_from_fractional_coords(positions_frac,lattice_cart,n)\n",
    "positions_frac = ct.sort_positions_frac(positions_frac)"
   ]
  },
  {
   "cell_type": "code",
   "execution_count": null,
   "metadata": {},
   "outputs": [],
   "source": []
  },
  {
   "cell_type": "code",
   "execution_count": null,
   "metadata": {},
   "outputs": [],
   "source": []
  },
  {
   "cell_type": "markdown",
   "metadata": {},
   "source": [
    "### Add hydrogen termination to cell bottom "
   ]
  },
  {
   "cell_type": "code",
   "execution_count": 92,
   "metadata": {},
   "outputs": [],
   "source": [
    "# # First select the atoms on the bottom layer \n",
    "# criteria = ('min','min','min')\n",
    "# selected_atom_frac, selected_atom_cart = ct.select_atom_by_conditions(positions_frac, lattice_cart, criteria)\n",
    "# reference_position = selected_atom_cart[1:]\n",
    "# plane = (0,0,1)\n",
    "# labelled_positions_frac = ct.select_atoms_by_plane(\n",
    "#     positions_frac,\n",
    "#     lattice_cart,\n",
    "#     plane,\n",
    "#     reference_position,\n",
    "#     tolerance=1\n",
    "# )\n",
    "\n",
    "# # Next calculate the relative bond vectors for the two hydrogen atoms (per Si)\n",
    "# phi = np.deg2rad(90)    \n",
    "# si_h_bond = 1.5                         \n",
    "# theta_h1 = np.deg2rad(180) - np.arccos(-1/3) / 2                \n",
    "# theta_h2 = np.deg2rad(180) + np.arccos(-1/3) / 2            \n",
    "# bond_h1  = ct.bond_vector_from_spherical(theta_h1, phi, si_h_bond)                   \n",
    "# bond_h2  = ct.bond_vector_from_spherical(theta_h2, phi, si_h_bond)\n",
    "\n",
    "# # Now add the hydrogen atoms to the silicon atoms selected above using the calculated bond vectors\n",
    "# positions_frac, lattice_cart = ct.add_atoms_to_positions_frac(\n",
    "#                                     labelled_positions_frac,\n",
    "#                                     lattice_cart,\n",
    "#                                     [bond_h1,bond_h2],\n",
    "#                                     extend_unit_cell=(0, 0, 1),\n",
    "#                                     atom=\"H\")\n",
    "# positions_frac = ct.sort_positions_frac(positions_frac)"
   ]
  },
  {
   "cell_type": "markdown",
   "metadata": {},
   "source": [
    "### Dimerise surface (2x1)"
   ]
  },
  {
   "cell_type": "code",
   "execution_count": 93,
   "metadata": {},
   "outputs": [],
   "source": [
    "# # Find a surface atom to define the surface plane\n",
    "# criteria = ('min','min','max')\n",
    "# selected_atom_frac, selected_atom_cart = ct.select_atom_by_conditions(positions_frac, lattice_cart, criteria)\n",
    "# reference_position = selected_atom_cart[1:]\n",
    "# plane = (0,0,1)\n",
    "\n",
    "# # Label the atoms at the 001 surface\n",
    "# labelled_positions_frac_surf = ct.select_atoms_by_plane(\n",
    "#     positions_frac,\n",
    "#     lattice_cart,\n",
    "#     plane,\n",
    "#     reference_position,\n",
    "#     tolerance=1\n",
    "# )\n",
    "\n",
    "# # Sublabel the two atoms of each dimer p(2x1)\n",
    "# labelled_positions_frac_dim1, labelled_positions_frac_dim2 = ct.selected_toggle_plane_selection(\n",
    "#     labelled_positions_frac_surf, \n",
    "#     fast='y', \n",
    "#     slow='x', \n",
    "#     alternate=False\n",
    "# )\n",
    "\n",
    "# # Dimerise surface\n",
    "# disp_y = 0.734\n",
    "# disp_z = 0.242\n",
    "# v1 = (0,-disp_y,-disp_z)\n",
    "# v2 = (0,disp_y,-disp_z)\n",
    "# positions_frac = ct.selected_translate(labelled_positions_frac_dim1, lattice_cart, v1, return_labelled=False)\n",
    "\n",
    "# labelled_positions_frac_dim2 = ct.update_labelled_positions_frac(labelled_positions_frac_dim2,positions_frac)\n",
    "# positions_frac = ct.selected_translate(labelled_positions_frac_dim2, lattice_cart, v2, return_labelled=False)\n",
    "\n"
   ]
  },
  {
   "cell_type": "markdown",
   "metadata": {},
   "source": [
    "### Dimerise surface (add c4x2) buckling)"
   ]
  },
  {
   "cell_type": "code",
   "execution_count": 94,
   "metadata": {},
   "outputs": [],
   "source": [
    "# # Sublabel the two atoms of each dimer c(4x2)\n",
    "# labelled_positions_frac_buc1, labelled_positions_frac_buc2 = ct.selected_toggle_plane_selection(\n",
    "#     labelled_positions_frac_surf, \n",
    "#     fast='y', \n",
    "#     slow='x', \n",
    "#     alternate=True\n",
    "# )\n",
    "\n",
    "# disp_y = 0.0\n",
    "# disp_z = 0.4\n",
    "# v1 = (0,-disp_y,-disp_z)\n",
    "# v2 = (0,disp_y,disp_z)\n",
    "\n",
    "# labelled_positions_frac_buc1 = ct.update_labelled_positions_frac(labelled_positions_frac_buc1,positions_frac)\n",
    "# positions_frac = ct.selected_translate(labelled_positions_frac_buc1, lattice_cart, v1, return_labelled=False)\n",
    "\n",
    "# labelled_positions_frac_buc2 = ct.update_labelled_positions_frac(labelled_positions_frac_buc2,positions_frac)\n",
    "# positions_frac = ct.selected_translate(labelled_positions_frac_buc2, lattice_cart, v2, return_labelled=False)\n"
   ]
  },
  {
   "cell_type": "markdown",
   "metadata": {},
   "source": [
    "### Add hydrogen to the top"
   ]
  },
  {
   "cell_type": "code",
   "execution_count": 95,
   "metadata": {},
   "outputs": [],
   "source": [
    "# # Updated surface labels with current surface positions after dimerisation\n",
    "# labelled_positions_frac_surf = ct.update_labelled_positions_frac(labelled_positions_frac_surf,positions_frac)\n",
    "# labelled_positions_frac_dim1 = ct.update_labelled_positions_frac(labelled_positions_frac_dim1,positions_frac)\n",
    "# labelled_positions_frac_dim2 = ct.update_labelled_positions_frac(labelled_positions_frac_dim2,positions_frac)\n",
    "\n",
    "# # Next calculate the relative bond vectors for the two hydrogen atoms (per Si)\n",
    "# phi = np.deg2rad(90)    \n",
    "# si_h_bond = 1.5                         \n",
    "# # theta_h1 = np.deg2rad(0) + np.arccos(-1/3) / 2                \n",
    "# # theta_h2 = np.deg2rad(0) - np.arccos(-1/3) / 2            \n",
    "# theta = 20 # degrees\n",
    "# theta_h1 = np.deg2rad(theta)\n",
    "# theta_h2 = np.deg2rad(360 - theta)\n",
    "# bond_h1  = ct.bond_vector_from_spherical(theta_h1, phi, si_h_bond)                   \n",
    "# bond_h2  = ct.bond_vector_from_spherical(theta_h2, phi, si_h_bond)\n",
    "\n",
    "# # Now add the hydrogen atoms to the silicon atoms selected above using the calculated bond vectors\n",
    "# positions_frac_h1, lattice_cart = ct.add_atoms_to_positions_frac(\n",
    "#                                     labelled_positions_frac_dim1,\n",
    "#                                     lattice_cart,\n",
    "#                                     bond_h1,\n",
    "#                                     extend_unit_cell=(0, 0, 1),\n",
    "#                                     atom=\"H\")\n",
    "\n",
    "# # Now add the hydrogen atoms to the silicon atoms selected above using the calculated bond vectors\n",
    "# positions_frac_h2, lattice_cart = ct.add_atoms_to_positions_frac(\n",
    "#                                     labelled_positions_frac_dim2,\n",
    "#                                     lattice_cart,\n",
    "#                                     bond_h2,\n",
    "#                                     extend_unit_cell=(0, 0, 1),\n",
    "#                                     atom=\"H\")\n",
    "\n",
    "# # Merge the two sets of positions_frac for the two sets of surface hydrogen atoms and resort. \n",
    "# positions_frac = ct.merge_posfrac_or_labelled_posfrac(positions_frac_h1, positions_frac_h2)\n",
    "# positions_frac = ct.sort_positions_frac(positions_frac)"
   ]
  },
  {
   "cell_type": "markdown",
   "metadata": {},
   "source": [
    "### Add vacuum spacing"
   ]
  },
  {
   "cell_type": "code",
   "execution_count": 96,
   "metadata": {},
   "outputs": [],
   "source": [
    "# vac = 8\n",
    "# positions_frac, lattice_cart = ct.create_vacuum_spacing(positions_frac, lattice_cart, vac)"
   ]
  },
  {
   "cell_type": "markdown",
   "metadata": {},
   "source": [
    "### Add ionic contraints"
   ]
  },
  {
   "cell_type": "code",
   "execution_count": 97,
   "metadata": {},
   "outputs": [],
   "source": [
    "# Create fixed ion constraints\n",
    "conditions = \"z < 2.5\"\n",
    "ionic_constraints = ct.select_atoms_by_region(positions_frac, lattice_cart, conditions)"
   ]
  },
  {
   "cell_type": "code",
   "execution_count": 98,
   "metadata": {},
   "outputs": [
    {
     "name": "stdout",
     "output_type": "stream",
     "text": [
      "================================================================================\n",
      "CASTEP file: /Users/steven/academic-iCloud/Calculations/castep/work-2025/si001_templates/si001/si001.castep\n",
      "================================================================================\n",
      "\n",
      "Wrote param file to: /Users/steven/academic-iCloud/Calculations/castep/work-2025/si001_templates/si001/si001.param\n",
      "!TITLE: Job folder: si001. Filename: si001.\n",
      "\n",
      "TASK                 : geomopt\n",
      "XC_FUNCTIONAL        : PBE\n",
      "CUT_OFF_ENERGY       : 400\n",
      "SPIN_POLARISED       : false\n",
      "WRITE_CELL_STRUCTURE : true\n",
      "CHARGE               : 0\n",
      "NEXTRA_BANDS         : 24\n",
      "GEOM_ENERGY_TOL      : 5e-05\n",
      "GEOM_DISP_TOL        : 0.002\n",
      "GEOM_MAX_ITER        : 100\n",
      "GEOM_CONVERGENCE_WIN : 2\n",
      "MAX_SCF_CYCLES       : 300\n",
      "\n",
      "\n",
      "Wrote cell file to: /Users/steven/academic-iCloud/Calculations/castep/work-2025/si001_templates/si001/si001.cell\n",
      "! Job folder: si001. Filename: si001.\n",
      "\n",
      "%BLOCK lattice_cart\n",
      "   ANG\n",
      "       3.8641976000    0.0000000000    0.0000000000\n",
      "       0.0000000000    7.7283952000    0.0000000000\n",
      "       0.0000000000    0.0000000000    5.4648012000\n",
      "%ENDBLOCK lattice_cart\n",
      "\n",
      "%BLOCK CELL_CONSTRAINTS\n",
      "       0    0    0\n",
      "       0    0    0\n",
      "%ENDBLOCK CELL_CONSTRAINTS\n",
      "\n",
      "%BLOCK positions_frac\n",
      "   Si       0.0000000000    0.7500000000    0.7500000000\n",
      "   Si       0.0000000000    0.2500000000    0.7500000000\n",
      "   Si       0.5000000000    0.7500000000    0.5000000000\n",
      "   Si       0.5000000000    0.2500000000    0.5000000000\n",
      "   Si       0.5000000000    0.5000000000    0.2500000000\n",
      "   Si       0.5000000000    0.0000000000    0.2500000000\n",
      "   Si       0.0000000000    0.5000000000    0.0000000000\n",
      "   Si       0.0000000000    0.0000000000    0.0000000000\n",
      "%ENDBLOCK positions_frac\n",
      "\n",
      "KPOINTS_MP_GRID : 2 2 2\n",
      "\n",
      "\n"
     ]
    }
   ],
   "source": [
    "castep_path = job_path / f\"{filename}.castep\"\n",
    "\n",
    "print('=' * 80 + f'\\nCASTEP file: {castep_path}\\n' + '=' * 80 + '\\n')   \n",
    "\n",
    "param_filename = ct.write_param_file(\n",
    "    params,\n",
    "    title = title,\n",
    "    filename=filename,\n",
    "    path=job_path,\n",
    "    display_file=True\n",
    "    )\n",
    "\n",
    "cell_filename = ct.write_cell_file(\n",
    "    title = title,\n",
    "    path=job_path,\n",
    "    filename=filename,\n",
    "    lattice_cart=lattice_cart,\n",
    "    positions_frac=positions_frac,\n",
    "    cell_constraints=cell_constraints,\n",
    "    #ionic_constraints=ionic_constraints,\n",
    "    fix_all_ions=fix_all_ions,\n",
    "    symmetry_generate=symmetry_generate,\n",
    "    symmetry_tol = symmetry_tol,\n",
    "    kpoints_mp_grid=kpoints_mp_grid,\n",
    "    display_file=True\n",
    ")\n",
    "\n",
    "job_filename= ct.write_job_script(\n",
    "    path=job_path,\n",
    "    filename=filename,\n",
    "    wall_time='72:00:00',\n",
    "    mem_per_slot='5500M',\n",
    "    threads=4,\n",
    "    total_slots=192,\n",
    "    display_file=False\n",
    ")\n",
    "\n",
    "# # Convert to cart and write xyz\n",
    "# positions_cart = ct.frac_to_cart(lattice_cart, positions_frac)\n",
    "# xyz = ct.write_xyz(positions_cart, path=job_path, filename=filename, comment='Converted by SRSCALCUTILS')\n"
   ]
  },
  {
   "cell_type": "code",
   "execution_count": 99,
   "metadata": {},
   "outputs": [],
   "source": [
    "# if str(module_path) == '/hpc/srs/Python/modules':\n",
    "#     !bash -l -c \"mpirun -np 62 castep.mpi {filename}\"\n",
    "# else:\n",
    "#     !zsh -l -c \"castepmpi {filename}\"\n"
   ]
  },
  {
   "cell_type": "code",
   "execution_count": 100,
   "metadata": {},
   "outputs": [],
   "source": [
    "\n",
    "# unit_cell, a, b, c, alpha, beta, gamma = ct.get_final_lattice_parameters(castep_path)\n",
    "# energy_optimisation = ct.get_LBFGS_energies(castep_path)\n",
    "# energies = [val for _, val in energy_optimisation]\n",
    "# energy = energies[-1]\n",
    "\n",
    "# print('Optimised energy {} eV'.format(energy))\n",
    "# print('Optimised lattice constants a,b = {} Ang., c = {} Ang.'.format(a,c))\n",
    "# print('Unit cell:')\n",
    "# for line in unit_cell:\n",
    "#     print(' '*2,np.abs(line))\n"
   ]
  },
  {
   "cell_type": "code",
   "execution_count": null,
   "metadata": {},
   "outputs": [],
   "source": []
  }
 ],
 "metadata": {
  "kernelspec": {
   "display_name": "dfttools",
   "language": "python",
   "name": "python3"
  },
  "language_info": {
   "codemirror_mode": {
    "name": "ipython",
    "version": 3
   },
   "file_extension": ".py",
   "mimetype": "text/x-python",
   "name": "python",
   "nbconvert_exporter": "python",
   "pygments_lexer": "ipython3",
   "version": "3.11.8"
  }
 },
 "nbformat": 4,
 "nbformat_minor": 2
}
