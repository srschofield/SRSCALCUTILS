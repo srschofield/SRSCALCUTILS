{
 "cells": [
  {
   "cell_type": "markdown",
   "metadata": {},
   "source": [
    "<!-- # CNN autoencoder and Clustering from MTRX data\n",
    "\n",
    "Use this notebook to load Scienta Omicron Matrix format SPM data and create standardised images for machine learning training and analysis. The code can generate both JPG image data, useful for manually checking the data, and windowed numpy data that can be loaded into ML models. \n",
    "\n",
    "The notebook then creates an autoencoder for training on a large dataset, followed by KMEANS clustering. \n",
    "\n",
    "**Author**: Steven R. Schofield  \n",
    "**Created**: November, 2024 -->"
   ]
  },
  {
   "cell_type": "markdown",
   "metadata": {},
   "source": [
    "# CASTEP - Remove the vacuum spacing from a surface template file\n",
    "## Steven R. Schofield (Universtiy College London) May 2025"
   ]
  },
  {
   "cell_type": "markdown",
   "metadata": {},
   "source": [
    "### Set parameters for calculation"
   ]
  },
  {
   "cell_type": "markdown",
   "metadata": {},
   "source": [
    "### Determine appropriate paths whether we are working on macbook or the cluster"
   ]
  },
  {
   "cell_type": "code",
   "execution_count": 16,
   "metadata": {},
   "outputs": [
    {
     "name": "stdout",
     "output_type": "stream",
     "text": [
      "module_path = /Users/steven/academic-iCloud/Python/modules\n",
      "data_path = /Users/steven/Castep-data/work\n"
     ]
    }
   ],
   "source": [
    "import sys\n",
    "from pathlib import Path\n",
    "\n",
    "# Define candidate paths using Path objects\n",
    "module_path_list = [\n",
    "    Path('/Users/steven/academic-iCloud/Python/modules'),\n",
    "    Path('/hpc/srs/Python/modules')\n",
    "]\n",
    "\n",
    "data_path_list = [\n",
    "    Path('/Users/steven/Castep-data/work'),\n",
    "    Path('/hpc/srs/castep')\n",
    "]\n",
    "\n",
    "# Resolve actual paths\n",
    "module_path = next((p for p in module_path_list if p.exists()), None)\n",
    "data_path = next((p for p in data_path_list if p.exists()), None)\n",
    "\n",
    "# Check and report missing paths\n",
    "if module_path is None:\n",
    "    print(\"Error: Could not locate a valid module path.\")\n",
    "if data_path is None:\n",
    "    print(\"Error: Could not locate a valid data path.\")\n",
    "\n",
    "if module_path is None or data_path is None:\n",
    "    sys.exit(1)\n",
    "\n",
    "# Add module_path to sys.path if needed\n",
    "if str(module_path) not in sys.path:\n",
    "    sys.path.insert(0, str(module_path))\n",
    "\n",
    "# Print resolved paths\n",
    "print(f\"module_path = {module_path}\")\n",
    "print(f\"data_path = {data_path}\")"
   ]
  },
  {
   "cell_type": "markdown",
   "metadata": {},
   "source": [
    "### Import modules"
   ]
  },
  {
   "cell_type": "code",
   "execution_count": 17,
   "metadata": {},
   "outputs": [
    {
     "name": "stdout",
     "output_type": "stream",
     "text": [
      "The autoreload extension is already loaded. To reload it, use:\n",
      "  %reload_ext autoreload\n"
     ]
    }
   ],
   "source": [
    "# # Ensure modules are reloaded \n",
    "%load_ext autoreload\n",
    "%autoreload 2\n",
    "\n",
    "# Import standard modules\n",
    "import numpy as np\n",
    "import pandas as pd\n",
    "import os\n",
    "from matplotlib import pyplot as plt\n",
    "\n",
    "# Import custom module\n",
    "import SRSCALCUTILS.castep_tools as ct\n",
    "\n",
    "from IPython.display import display"
   ]
  },
  {
   "cell_type": "code",
   "execution_count": 18,
   "metadata": {},
   "outputs": [
    {
     "name": "stdout",
     "output_type": "stream",
     "text": [
      "lattice_cart_new, c = 2:\n",
      "[3.8641976 0.        0.       ]\n",
      "[0.        7.7283952 0.       ]\n",
      "[ 0.         0.        10.9296024]\n"
     ]
    }
   ],
   "source": [
    "lattice_cart_bulk = np.array([\n",
    "            [3.8641976,     0.0,     0.0],\n",
    "            [0.0,     7.7283952,     0.0],\n",
    "            [0.0,     0.0,     5.4648012]\n",
    "        ])\n",
    "\n",
    "c = 2\n",
    "\n",
    "lattice_cart_new = lattice_cart_bulk.copy()\n",
    "lattice_cart_new[2] = c * lattice_cart_new[2]\n",
    "\n",
    "print(\"lattice_cart_new, c = {}:\".format(c))\n",
    "for line in lattice_cart_new:\n",
    "    print(line)"
   ]
  },
  {
   "cell_type": "markdown",
   "metadata": {},
   "source": [
    "### Load positions_frac_surface from template"
   ]
  },
  {
   "cell_type": "code",
   "execution_count": 19,
   "metadata": {},
   "outputs": [],
   "source": [
    "template_path = '/Users/steven/academic-iCloud/Python/modules/SRSCALCUTILS/data/templates'\n",
    "template_filename = \"si001_H_1_2_8-out.cell\"\n",
    "template_write_filename = \"si001_H_1_2_8\"\n",
    "\n",
    "# Read positions and lattice from template file\n",
    "positions_frac_template, lattice_cart_template = ct.read_positions_frac(template_path,template_filename)\n",
    "\n",
    "# Remove H atoms and shift z-coordinates down\n",
    "labelled_positions_frac_new = ct.select_atoms_by_region(positions_frac_template, lattice_cart_template, condition=\"atom=='H'\")\n",
    "positions_frac_new = ct.selected_delete(labelled_positions_frac_new)\n",
    "positions_frac_new = ct.remove_z_offset(positions_frac_new)\n",
    "\n",
    "# Rescale z-coordinates\n",
    "rescale = lattice_cart_template[2,2] / lattice_cart_new[2,2]\n",
    "for row in positions_frac_new:\n",
    "    row[3] = float(row[3]) * float(rescale)"
   ]
  },
  {
   "cell_type": "code",
   "execution_count": 20,
   "metadata": {},
   "outputs": [],
   "source": [
    "# # This can be used for testing\n",
    "# selected_positions_frac_new = ct.select_atoms_by_region(positions_frac_new, lattice_cart_new, \"atom=='Si'\")\n",
    "# positions_frac_new = ct.selected_replace(selected_positions_frac_new, \"Si\", \"Ge\")"
   ]
  },
  {
   "cell_type": "code",
   "execution_count": 21,
   "metadata": {},
   "outputs": [
    {
     "name": "stdout",
     "output_type": "stream",
     "text": [
      "Wrote cell file to: /Users/steven/academic-iCloud/Python/modules/SRSCALCUTILS/data/templates/si001_H_1_2_8.cell\n",
      "! Si(001) template file, processed from CASTEP output\n",
      "\n",
      "%BLOCK lattice_cart\n",
      "   ANG\n",
      "       3.8641976000    0.0000000000    0.0000000000\n",
      "       0.0000000000    7.7283952000    0.0000000000\n",
      "       0.0000000000    0.0000000000   10.9296024000\n",
      "%ENDBLOCK lattice_cart\n",
      "\n",
      "%BLOCK CELL_CONSTRAINTS\n",
      "       0    0    0\n",
      "       0    0    0\n",
      "%ENDBLOCK CELL_CONSTRAINTS\n",
      "\n",
      "%BLOCK positions_frac\n",
      "   Si       0.0000000000    0.3436379000    0.8624653249\n",
      "   Si       0.0000000000    0.6563561000    0.8624607334\n",
      "   Si       0.5000000000    0.2650442000    0.7504105946\n",
      "   Si       0.5000000000    0.7349558000    0.7504076001\n",
      "   Si       0.5000000000    0.0000000000    0.6372115890\n",
      "   Si       0.5000000000    0.5000000000    0.6125581669\n",
      "   Si       0.0000000000    0.0000000000    0.5082119230\n",
      "   Si       0.0000000000    0.5000000000    0.4909777244\n",
      "   Si       0.0000000000    0.7553354000    0.3747487450\n",
      "   Si       0.0000000000    0.2446646000    0.3747487450\n",
      "   Si       0.5000000000    0.7520678000    0.2499273206\n",
      "   Si       0.5000000000    0.2479322000    0.2499273206\n",
      "   Si       0.5000000000    0.5000000000    0.1252638030\n",
      "   Si       0.5000000000    0.0000000000    0.1252638030\n",
      "   Si       0.0000000000    0.5000000000    0.0000000000\n",
      "   Si       0.0000000000    0.0000000000    0.0000000000\n",
      "%ENDBLOCK positions_frac\n",
      "\n",
      "\n"
     ]
    }
   ],
   "source": [
    "title = 'Si(001) template file, processed from CASTEP output'\n",
    "\n",
    "cell_filename = ct.write_cell_file(\n",
    "    title = title,\n",
    "    path=template_path,\n",
    "    filename=template_write_filename,\n",
    "    lattice_cart=lattice_cart_new,\n",
    "    positions_frac=positions_frac_new,\n",
    "    display_file=True\n",
    ")"
   ]
  },
  {
   "cell_type": "code",
   "execution_count": null,
   "metadata": {},
   "outputs": [],
   "source": []
  }
 ],
 "metadata": {
  "kernelspec": {
   "display_name": "dfttools",
   "language": "python",
   "name": "python3"
  },
  "language_info": {
   "codemirror_mode": {
    "name": "ipython",
    "version": 3
   },
   "file_extension": ".py",
   "mimetype": "text/x-python",
   "name": "python",
   "nbconvert_exporter": "python",
   "pygments_lexer": "ipython3",
   "version": "3.11.8"
  }
 },
 "nbformat": 4,
 "nbformat_minor": 2
}
