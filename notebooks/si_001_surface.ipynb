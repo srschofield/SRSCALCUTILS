{
 "cells": [
  {
   "cell_type": "markdown",
   "metadata": {},
   "source": [
    "<!-- # CNN autoencoder and Clustering from MTRX data\n",
    "\n",
    "Use this notebook to load Scienta Omicron Matrix format SPM data and create standardised images for machine learning training and analysis. The code can generate both JPG image data, useful for manually checking the data, and windowed numpy data that can be loaded into ML models. \n",
    "\n",
    "The notebook then creates an autoencoder for training on a large dataset, followed by KMEANS clustering. \n",
    "\n",
    "**Author**: Steven R. Schofield  \n",
    "**Created**: November, 2024 -->"
   ]
  },
  {
   "cell_type": "markdown",
   "metadata": {},
   "source": [
    "# CASTEP - Si 001 surface\n",
    "## Steven R. Schofield (Universtiy College London) May 2025"
   ]
  },
  {
   "cell_type": "markdown",
   "metadata": {},
   "source": [
    "### Load required modules"
   ]
  },
  {
   "cell_type": "code",
   "execution_count": 14,
   "metadata": {},
   "outputs": [
    {
     "name": "stdout",
     "output_type": "stream",
     "text": [
      "module_path = /Users/steven/academic-iCloud/Python/modules\n",
      "data_path = /Users/steven/academic-iCloud/Calculations/castep\n"
     ]
    }
   ],
   "source": [
    "import sys\n",
    "from pathlib import Path\n",
    "\n",
    "# Define candidate paths using Path objects\n",
    "module_path_list = [\n",
    "    Path('/Users/steven/academic-iCloud/Python/modules'),\n",
    "    Path('/hpc/srs/Python/modules')\n",
    "]\n",
    "\n",
    "data_path_list = [\n",
    "    Path('/Users/steven/academic-iCloud/Calculations/castep/'),\n",
    "    Path('/hpc/srs/castep')\n",
    "]\n",
    "\n",
    "# Resolve actual paths\n",
    "module_path = next((p for p in module_path_list if p.exists()), None)\n",
    "data_path = next((p for p in data_path_list if p.exists()), None)\n",
    "\n",
    "# Check and report missing paths\n",
    "if module_path is None:\n",
    "    print(\"Error: Could not locate a valid module path.\")\n",
    "if data_path is None:\n",
    "    print(\"Error: Could not locate a valid data path.\")\n",
    "\n",
    "if module_path is None or data_path is None:\n",
    "    sys.exit(1)\n",
    "\n",
    "# Add module_path to sys.path if needed\n",
    "if str(module_path) not in sys.path:\n",
    "    sys.path.insert(0, str(module_path))\n",
    "\n",
    "# Print resolved paths\n",
    "print(f\"module_path = {module_path}\")\n",
    "print(f\"data_path = {data_path}\")"
   ]
  },
  {
   "cell_type": "code",
   "execution_count": 15,
   "metadata": {},
   "outputs": [
    {
     "name": "stdout",
     "output_type": "stream",
     "text": [
      "The autoreload extension is already loaded. To reload it, use:\n",
      "  %reload_ext autoreload\n"
     ]
    }
   ],
   "source": [
    "# # Ensure modules are reloaded \n",
    "%load_ext autoreload\n",
    "%autoreload 2\n",
    "\n",
    "# Import standard modules\n",
    "import numpy as np\n",
    "import pandas as pd\n",
    "import os\n",
    "from matplotlib import pyplot as plt\n",
    "\n",
    "# Import custom module\n",
    "import SRSCALCUTILS.castep_tools as ct\n",
    "\n",
    "from IPython.display import display"
   ]
  },
  {
   "cell_type": "markdown",
   "metadata": {},
   "source": [
    "### Job paths"
   ]
  },
  {
   "cell_type": "code",
   "execution_count": 16,
   "metadata": {},
   "outputs": [
    {
     "name": "stdout",
     "output_type": "stream",
     "text": [
      "job_path = /Users/steven/academic-iCloud/Calculations/castep/work-2025/si001_surf\n"
     ]
    }
   ],
   "source": [
    "# Parameters for windows creation\n",
    "# General\n",
    "job_folder = 'work-2025/si001_surf'\n",
    "job_path = data_path / job_folder\n",
    "verbose = False             # Set this True to print out more information\n",
    "\n",
    "# Print resolved paths\n",
    "print(f\"job_path = {job_path}\")"
   ]
  },
  {
   "cell_type": "code",
   "execution_count": 17,
   "metadata": {},
   "outputs": [
    {
     "name": "stdout",
     "output_type": "stream",
     "text": [
      "Now in: /Users/steven/Library/Mobile Documents/com~apple~CloudDocs/academic/Calculations/castep/work-2025/si001_surf\n",
      "Files: ['si001_test.castep_bin', 'si001_test.cell', 'si001_test.check', 'si001_test.geom', 'si001_test.castep', 'si001_test-out.cell', 'si001_test.cst_esp', 'si001_test.bib', 'Si_C19_PBE_OTF.usp', 'si001_test.bands', 'si001_test.param']\n"
     ]
    }
   ],
   "source": [
    "# If it doesn’t exist, create it (including any missing parent folders)\n",
    "if not os.path.isdir(job_path):\n",
    "    os.makedirs(job_path, exist_ok=True)\n",
    "\n",
    "# Now safely switch into it\n",
    "os.chdir(job_path)\n",
    "\n",
    "print(\"Now in:\", os.getcwd())\n",
    "print(\"Files:\", os.listdir())"
   ]
  },
  {
   "cell_type": "markdown",
   "metadata": {},
   "source": [
    "### Optimised params"
   ]
  },
  {
   "cell_type": "code",
   "execution_count": 18,
   "metadata": {},
   "outputs": [],
   "source": [
    "# Set up the param and cell files for the calculation\n",
    "\n",
    "filename = \"si001_surf\"\n",
    "title = \"silicon 001 surface tests\"\n",
    "\n",
    "params = {'task' : 'geomopt',\n",
    "          'xc_functional'           : 'PBE',\n",
    "          'cut_off_energy'          : 700,\n",
    "          'spin_polarised'          : 'false',\n",
    "          'write_cell_structure'    : 'true',\n",
    "          'charge'                  : 0,\n",
    "          'nextra_bands'            : 8,\n",
    "          'geom_energy_tol'         : 0.00005,          # default: 0.00005 eV \n",
    "          'geom_disp_tol'           : 0.002,            # default: 0.002 Ang.\n",
    "          'geom_max_iter'           : 100,              # default: 30\n",
    "          'geom_convergence_win'    : 2,                # default: 2\n",
    "          'max_scf_cycles'          : 300               # default: 30\n",
    "          }              \n",
    "\n",
    "lattice_cart = np.array([\n",
    "            [3.8641976,     0.0,     0.0],\n",
    "            [0.0,     3.8641976,     0.0],\n",
    "            [0.0,     0.0,     5.4648012]\n",
    "        ])\n",
    "\n",
    "positions_frac = np.array([\n",
    "            ['Si', 0.0,  0.0,  0.0],\n",
    "            ['Si', 0.5,  0.0,  0.25],\n",
    "            ['Si', 0.5,  0.5,  0.5],\n",
    "            ['Si', 0.0,  0.5,  0.75],\n",
    "        ])\n",
    "\n",
    "cell_constraints = np.array([\n",
    "            [1,  1,  2],\n",
    "            [0,  0,  0]\n",
    "        ])\n",
    "\n",
    "kpoints_mp_grid = np.array([4, 4, 4])\n",
    "\n",
    "fix_all_ions = True\n",
    "symmetry_generate=False\n",
    "symmetry_tol = 0.01\n"
   ]
  },
  {
   "cell_type": "markdown",
   "metadata": {},
   "source": [
    "### Build supercell"
   ]
  },
  {
   "cell_type": "code",
   "execution_count": 19,
   "metadata": {},
   "outputs": [],
   "source": [
    "n = [2, 2, 1] \n",
    "\n",
    "super_positions_frac, super_lattice_cart = ct.create_supercell_from_fractional_coords(positions_frac,lattice_cart,n)"
   ]
  },
  {
   "cell_type": "code",
   "execution_count": 20,
   "metadata": {},
   "outputs": [],
   "source": [
    "\n",
    "# Create fixed ion constraints\n",
    "conditions = \"z >= 0\"\n",
    "exclude = None\n",
    "include = None\n",
    "ionic_constraints = ct.select_atoms_by_region(positions_frac, lattice_cart, conditions, exclude=exclude, include=include)\n",
    "\n"
   ]
  },
  {
   "cell_type": "code",
   "execution_count": null,
   "metadata": {},
   "outputs": [
    {
     "name": "stdout",
     "output_type": "stream",
     "text": [
      "================================================================================\n",
      "CASTEP file: /Users/steven/academic-iCloud/Calculations/castep/work-2025/si001_surf/si001_test.castep\n",
      "================================================================================\n",
      "\n",
      "Wrote param file to: /Users/steven/academic-iCloud/Calculations/castep/work-2025/si001_surf/si001_test.param\n",
      "Wrote cell file to: /Users/steven/academic-iCloud/Calculations/castep/work-2025/si001_surf/si001_test.cell\n"
     ]
    }
   ],
   "source": [
    "filename = f\"si001_test\"\n",
    "castep_path = job_path / f\"{filename}.castep\"\n",
    "\n",
    "print('=' * 80 + f'\\nCASTEP file: {castep_path}\\n' + '=' * 80 + '\\n')   \n",
    "\n",
    "_ = ct.write_param_file(\n",
    "    params,\n",
    "    title = title,\n",
    "    filename=filename,\n",
    "    path=job_path,\n",
    "    display_file=False\n",
    "    )\n",
    "\n",
    "_ = ct.write_bulk_cell_file(\n",
    "    title = title,\n",
    "    path=job_path,\n",
    "    filename=filename,\n",
    "    lattice_cart=super_lattice_cart,\n",
    "    positions_frac=super_positions_frac,\n",
    "    cell_constraints=cell_constraints,\n",
    "    ionic_constraints=ionic_constraints,\n",
    "    fix_all_ions=fix_all_ions,\n",
    "    symmetry_generate=symmetry_generate,\n",
    "    symmetry_tol = symmetry_tol,\n",
    "    kpoints_mp_grid=kpoints_mp_grid,\n",
    "    display_file=False\n",
    ")\n",
    "\n"
   ]
  },
  {
   "cell_type": "code",
   "execution_count": null,
   "metadata": {},
   "outputs": [
    {
     "name": "stdout",
     "output_type": "stream",
     "text": [
      "\n",
      "\"You'll pay to know what you really think.\"\n",
      "-- J.R. \"Bob\" Dobbs\n",
      "\n",
      "Optimised energy -2727.78724 eV\n",
      "Optimised lattice constants a,b = 7.731161 Ang., c = 5.467116 Ang.\n",
      "Unit cell:\n",
      "   [7.7311612 0.        0.       ]\n",
      "   [0.        7.7311612 0.       ]\n",
      "   [0.        0.        5.4671159]\n"
     ]
    }
   ],
   "source": [
    "# if str(module_path) == '/hpc/srs/Python/modules':\n",
    "#     !bash -l -c \"mpirun -np 62 castep.mpi {filename}\"\n",
    "# else:\n",
    "#     !zsh -l -c \"castepmpi {filename}\"\n",
    "\n",
    "# unit_cell, a, b, c, alpha, beta, gamma = ct.get_final_lattice_parameters(castep_path)\n",
    "# energy_optimisation = ct.get_LBFGS_energies(castep_path)\n",
    "# energies = [val for _, val in energy_optimisation]\n",
    "# energy = energies[-1]\n",
    "\n",
    "# print('Optimised energy {} eV'.format(energy))\n",
    "# print('Optimised lattice constants a,b = {} Ang., c = {} Ang.'.format(a,c))\n",
    "# print('Unit cell:')\n",
    "# for line in unit_cell:\n",
    "#     print(' '*2,np.abs(line))\n"
   ]
  }
 ],
 "metadata": {
  "kernelspec": {
   "display_name": "dfttools",
   "language": "python",
   "name": "python3"
  },
  "language_info": {
   "codemirror_mode": {
    "name": "ipython",
    "version": 3
   },
   "file_extension": ".py",
   "mimetype": "text/x-python",
   "name": "python",
   "nbconvert_exporter": "python",
   "pygments_lexer": "ipython3",
   "version": "3.11.8"
  }
 },
 "nbformat": 4,
 "nbformat_minor": 2
}
