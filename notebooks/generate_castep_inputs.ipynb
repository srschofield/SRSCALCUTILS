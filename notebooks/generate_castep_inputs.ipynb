{
 "cells": [
  {
   "cell_type": "markdown",
   "id": "f4fa81ec",
   "metadata": {},
   "source": [
    "# CASTEP input generation\n",
    "## Steven R. Schofield (Universtiy College London) May 2025"
   ]
  },
  {
   "cell_type": "code",
   "execution_count": 1,
   "id": "2e4a4769",
   "metadata": {},
   "outputs": [
    {
     "name": "stdout",
     "output_type": "stream",
     "text": [
      "module_path = /Users/steven/academic-iCloud/Python/modules\n",
      "data_path = /Users/steven/academic-iCloud/Calculations/castep/Hydrogen_Bridge/Structure\n"
     ]
    }
   ],
   "source": [
    "import sys\n",
    "from pathlib import Path\n",
    "\n",
    "# Define candidate paths using Path objects\n",
    "module_path_list = [\n",
    "    Path('/Users/steven/academic-iCloud/Python/modules'),\n",
    "    Path('/hpc/srs/Python/modules')\n",
    "]\n",
    "\n",
    "data_path_list = [\n",
    "    Path('/Users/steven/academic-iCloud/Calculations/castep/Hydrogen_Bridge/Structure'),\n",
    "    Path('/hpc/srs/Python-data')\n",
    "]\n",
    "\n",
    "# Resolve actual paths\n",
    "module_path = next((p for p in module_path_list if p.exists()), None)\n",
    "data_path = next((p for p in data_path_list if p.exists()), None)\n",
    "\n",
    "# Check and report missing paths\n",
    "if module_path is None:\n",
    "    print(\"Error: Could not locate a valid module path.\")\n",
    "if data_path is None:\n",
    "    print(\"Error: Could not locate a valid data path.\")\n",
    "\n",
    "if module_path is None or data_path is None:\n",
    "    sys.exit(1)\n",
    "\n",
    "# Add module_path to sys.path if needed\n",
    "if str(module_path) not in sys.path:\n",
    "    sys.path.insert(0, str(module_path))\n",
    "\n",
    "# Print resolved paths\n",
    "print(f\"module_path = {module_path}\")\n",
    "print(f\"data_path = {data_path}\")"
   ]
  },
  {
   "cell_type": "code",
   "execution_count": 2,
   "id": "cd66982e",
   "metadata": {},
   "outputs": [
    {
     "data": {
      "application/vnd.jupyter.widget-view+json": {
       "model_id": "1d54e073ff664359a2e0b16f56b09d21",
       "version_major": 2,
       "version_minor": 0
      },
      "text/plain": []
     },
     "metadata": {},
     "output_type": "display_data"
    }
   ],
   "source": [
    "# # Ensure modules are reloaded \n",
    "%load_ext autoreload\n",
    "%autoreload 2\n",
    "\n",
    "# Import standard modules\n",
    "import numpy as np\n",
    "import pandas as pd\n",
    "\n",
    "# Import custom module\n",
    "import SRSCALCUTILS.castep_tools as ct\n",
    "\n",
    "from IPython.display import display, Image as StaticImage"
   ]
  },
  {
   "cell_type": "code",
   "execution_count": 3,
   "id": "364c5255",
   "metadata": {},
   "outputs": [],
   "source": [
    "def write_param_file(params):\n",
    "    width = max(len(k) for k in params)\n",
    "    for param, value in params.items():\n",
    "        print(f'{param:<{width+1}} : {value}')"
   ]
  },
  {
   "cell_type": "code",
   "execution_count": 4,
   "id": "df6d133f",
   "metadata": {},
   "outputs": [
    {
     "name": "stdout",
     "output_type": "stream",
     "text": [
      "task                  : geomopt\n",
      "xc_functional         : PBE\n",
      "cut_off_energy        : 750\n",
      "spin_polarised        : true\n",
      "write_cell_structure  : true\n",
      "charge                : 0\n",
      "max_scf_cycles        : 300\n"
     ]
    }
   ],
   "source": [
    "params = {'task' : 'geomopt',\n",
    "          'xc_functional' : 'PBE',\n",
    "          'cut_off_energy' : 750,\n",
    "          'spin_polarised' : 'true',\n",
    "          'write_cell_structure' : 'true',\n",
    "          'charge' : 0,\n",
    "          'max_scf_cycles' : 300}\n",
    "\n",
    "\n",
    "write_param_file(params)"
   ]
  },
  {
   "cell_type": "code",
   "execution_count": 9,
   "id": "e2edfa5c",
   "metadata": {},
   "outputs": [
    {
     "name": "stdout",
     "output_type": "stream",
     "text": [
      "Wrote cell file to: /Users/steven/academic-iCloud/Calculations/castep/work-2025/tmp/bulk_cell.cell\n",
      "%BLOCK lattice_cart\n",
      "   ANG\n",
      "       3.8668346000    0.0000000000    0.0000000000\n",
      "       0.0000000000    3.8668346000    0.0000000000\n",
      "       0.0000000000    0.0000000000    5.4685299348\n",
      "%ENDBLOCK lattice_cart\n",
      "\n",
      "%BLOCK cell_constraints\n",
      "      0   0   0\n",
      "      0   0   0\n",
      "%ENDBLOCK cell_constraints\n",
      "\n",
      "%BLOCK positions_frac\n",
      "   Si       0.0000000000    0.0000000000    0.0000000000\n",
      "   Si       0.5000000000    0.0000000000    0.2500000000\n",
      "   Si       0.5000000000    0.5000000000    0.5000000000\n",
      "   Si       0.0000000000    0.5000000000    0.7500000000\n",
      "%ENDBLOCK positions_frac\n"
     ]
    },
    {
     "data": {
      "text/plain": [
       "PosixPath('/Users/steven/academic-iCloud/Calculations/castep/work-2025/tmp/bulk_cell.cell')"
      ]
     },
     "execution_count": 9,
     "metadata": {},
     "output_type": "execute_result"
    }
   ],
   "source": [
    "nx=1\n",
    "ny=1\n",
    "nz=1\n",
    "atom='Ge'\n",
    "unit_cell = np.array([\n",
    "            [0.0,  0.0,  0.0],\n",
    "            [0.5,  0.0,  0.25],\n",
    "            [0.5,  0.5,  0.5],\n",
    "            [0.0,  0.5,  0.75],\n",
    "        ])\n",
    "atom='Si'\n",
    "path=\"/Users/steven/academic-iCloud/Calculations/castep/work-2025/tmp\"\n",
    "filename = \"bulk_cell.cell\"\n",
    "ct.write_cell_file(\n",
    "        nx=nx,\n",
    "        ny=ny,\n",
    "        nz=nz,\n",
    "        atom=atom,\n",
    "        filename=filename,\n",
    "        path=path,\n",
    "        unit_cell=unit_cell,\n",
    "        display_file=True\n",
    "    )"
   ]
  },
  {
   "cell_type": "code",
   "execution_count": null,
   "id": "5f12172f",
   "metadata": {},
   "outputs": [],
   "source": [
    "\n"
   ]
  },
  {
   "cell_type": "code",
   "execution_count": 6,
   "id": "efdc1993",
   "metadata": {},
   "outputs": [
    {
     "ename": "NameError",
     "evalue": "name 'math' is not defined",
     "output_type": "error",
     "traceback": [
      "\u001b[31m---------------------------------------------------------------------------\u001b[39m",
      "\u001b[31mNameError\u001b[39m                                 Traceback (most recent call last)",
      "\u001b[36mCell\u001b[39m\u001b[36m \u001b[39m\u001b[32mIn[6]\u001b[39m\u001b[32m, line 1\u001b[39m\n\u001b[32m----> \u001b[39m\u001b[32m1\u001b[39m \u001b[32m3.8668346\u001b[39m * \u001b[43mmath\u001b[49m.sqrt(\u001b[32m2\u001b[39m)\n",
      "\u001b[31mNameError\u001b[39m: name 'math' is not defined"
     ]
    }
   ],
   "source": [
    "3.8668346 * math.sqrt(2)"
   ]
  },
  {
   "cell_type": "code",
   "execution_count": null,
   "id": "a1bf1635",
   "metadata": {},
   "outputs": [],
   "source": []
  }
 ],
 "metadata": {
  "kernelspec": {
   "display_name": "dfttools",
   "language": "python",
   "name": "python3"
  },
  "language_info": {
   "codemirror_mode": {
    "name": "ipython",
    "version": 3
   },
   "file_extension": ".py",
   "mimetype": "text/x-python",
   "name": "python",
   "nbconvert_exporter": "python",
   "pygments_lexer": "ipython3",
   "version": "3.11.8"
  }
 },
 "nbformat": 4,
 "nbformat_minor": 5
}
