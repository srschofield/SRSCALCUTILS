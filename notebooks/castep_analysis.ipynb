{
 "cells": [
  {
   "cell_type": "markdown",
   "metadata": {},
   "source": [
    "<!-- # CNN autoencoder and Clustering from MTRX data\n",
    "\n",
    "Use this notebook to load Scienta Omicron Matrix format SPM data and create standardised images for machine learning training and analysis. The code can generate both JPG image data, useful for manually checking the data, and windowed numpy data that can be loaded into ML models. \n",
    "\n",
    "The notebook then creates an autoencoder for training on a large dataset, followed by KMEANS clustering. \n",
    "\n",
    "**Author**: Steven R. Schofield  \n",
    "**Created**: November, 2024 -->"
   ]
  },
  {
   "cell_type": "markdown",
   "metadata": {},
   "source": [
    "# CASTEP output analysis\n",
    "## Steven R. Schofield (Universtiy College London) May 2025"
   ]
  },
  {
   "cell_type": "markdown",
   "metadata": {},
   "source": [
    "### Load required modules"
   ]
  },
  {
   "cell_type": "code",
   "execution_count": 3,
   "metadata": {},
   "outputs": [
    {
     "name": "stdout",
     "output_type": "stream",
     "text": [
      "module_path = /Users/steven/academic-iCloud/Python/modules\n",
      "data_path = /Users/steven/academic-iCloud/Calculations/castep/Hydrogen_Bridge\n"
     ]
    }
   ],
   "source": [
    "import sys\n",
    "from pathlib import Path\n",
    "\n",
    "# Define candidate paths using Path objects\n",
    "module_path_list = [\n",
    "    Path('/Users/steven/academic-iCloud/Python/modules'),\n",
    "    Path('/hpc/srs/Python/modules')\n",
    "]\n",
    "\n",
    "data_path_list = [\n",
    "    Path('/Users/steven/academic-iCloud/Calculations/castep/Hydrogen_Bridge'),\n",
    "    Path('/hpc/srs/Python-data')\n",
    "]\n",
    "\n",
    "# Resolve actual paths\n",
    "module_path = next((p for p in module_path_list if p.exists()), None)\n",
    "data_path = next((p for p in data_path_list if p.exists()), None)\n",
    "\n",
    "# Check and report missing paths\n",
    "if module_path is None:\n",
    "    print(\"Error: Could not locate a valid module path.\")\n",
    "if data_path is None:\n",
    "    print(\"Error: Could not locate a valid data path.\")\n",
    "\n",
    "if module_path is None or data_path is None:\n",
    "    sys.exit(1)\n",
    "\n",
    "# Add module_path to sys.path if needed\n",
    "if str(module_path) not in sys.path:\n",
    "    sys.path.insert(0, str(module_path))\n",
    "\n",
    "# Print resolved paths\n",
    "print(f\"module_path = {module_path}\")\n",
    "print(f\"data_path = {data_path}\")\n"
   ]
  },
  {
   "cell_type": "code",
   "execution_count": 4,
   "metadata": {},
   "outputs": [],
   "source": [
    "# # Ensure modules are reloaded \n",
    "%load_ext autoreload\n",
    "%autoreload 2\n",
    "\n",
    "# Import standard modules\n",
    "import numpy as np\n",
    "\n",
    "# Import custom module\n",
    "import SRSCALCUTILS.castep_tools as ct"
   ]
  },
  {
   "cell_type": "markdown",
   "metadata": {},
   "source": [
    "### Programme variable setup"
   ]
  },
  {
   "cell_type": "code",
   "execution_count": 31,
   "metadata": {},
   "outputs": [],
   "source": [
    "# Parameters for windows creation\n",
    "# General\n",
    "job_folder = '1x6x8/1x6x8-821MP-SP-negative'\n",
    "job_path = data_path / job_folder\n",
    "verbose = False             # Set this True to print out more information"
   ]
  },
  {
   "cell_type": "code",
   "execution_count": 32,
   "metadata": {},
   "outputs": [
    {
     "name": "stdout",
     "output_type": "stream",
     "text": [
      "\n",
      "===== WARNINGS in: L8_clean.castep =====\n",
      "      full path: /Users/steven/academic-iCloud/Calculations/castep/Hydrogen_Bridge/1x6x8/1x6x8-821MP-SP-negative/L8_clean\n",
      "\n",
      "Line 492: WARNING - user ionic constraints and symmetry specified\n",
      "Line 2321: LBFGS: WARNING - trial step suggests complex energy landscape\n",
      "Line 3199: LBFGS: WARNING - looks like bisection search has failed?\n",
      "Line 4592: *** There were at least     3 warnings during this run ***\n",
      "\n",
      "===== WARNINGS in: L8_Hbb.castep =====\n",
      "      full path: /Users/steven/academic-iCloud/Calculations/castep/Hydrogen_Bridge/1x6x8/1x6x8-821MP-SP-negative/L8_Hbb\n",
      "\n",
      "Line 508: WARNING - user ionic constraints and symmetry specified\n",
      "Line 11405: LBFGS: WARNING - Geometry optimization failed to converge after         30 steps\n",
      "Line 11493: *** There were at least     2 warnings during this run ***\n",
      "\n",
      "===== WARNINGS in: L8_1di.castep =====\n",
      "      full path: /Users/steven/academic-iCloud/Calculations/castep/Hydrogen_Bridge/1x6x8/1x6x8-821MP-SP-negative/L8_1di\n",
      "\n",
      "Line 499: *Warning* max. SCF cycles performed but system has not reached the groundstate.\n",
      "Line 508: Warning: electronic minimisation did not converge when finding ground state.\n",
      "Line 1016: WARNING - user ionic constraints and symmetry specified\n",
      "Line 3424: *** There were at least     1 warnings during this run ***\n",
      "\n",
      "===== WARNINGS in: L8_DB.castep =====\n",
      "      full path: /Users/steven/academic-iCloud/Calculations/castep/Hydrogen_Bridge/1x6x8/1x6x8-821MP-SP-negative/L8_DB\n",
      "\n",
      "Line 507: WARNING - user ionic constraints and symmetry specified\n",
      "Line 7312: LBFGS: WARNING - trial step suggests complex energy landscape\n",
      "Line 7787: *** There were at least     2 warnings during this run ***\n",
      "\n",
      "===== WARNINGS in: L8_mono.castep =====\n",
      "      full path: /Users/steven/academic-iCloud/Calculations/castep/Hydrogen_Bridge/1x6x8/1x6x8-821MP-SP-negative/L8_mono\n",
      "\n",
      "Line 516: *Warning* max. SCF cycles performed but system has not reached the groundstate.\n",
      "Line 525: Warning: electronic minimisation did not converge when finding ground state.\n",
      "Line 1050: WARNING - user ionic constraints and symmetry specified\n",
      "Line 1837: *** There were at least     1 warnings during this run ***\n",
      "\n",
      "===== WARNINGS in: L8_Ob.castep =====\n",
      "      full path: /Users/steven/academic-iCloud/Calculations/castep/Hydrogen_Bridge/1x6x8/1x6x8-821MP-SP-negative/L8_Ob\n",
      "\n",
      "Line 552: WARNING - user ionic constraints and symmetry specified\n",
      "Line 12172: *** There were at least     1 warnings during this run ***\n",
      "\n",
      "===== WARNINGS in: L8_3x1.castep =====\n",
      "      full path: /Users/steven/academic-iCloud/Calculations/castep/Hydrogen_Bridge/1x6x8/1x6x8-821MP-SP-negative/L8_3x1\n",
      "\n",
      "Line 500: *Warning* max. SCF cycles performed but system has not reached the groundstate.\n",
      "Line 509: Warning: electronic minimisation did not converge when finding ground state.\n",
      "Line 1018: WARNING - user ionic constraints and symmetry specified\n",
      "Line 4717: LBFGS: WARNING - trial step suggests complex energy landscape\n",
      "Line 5675: LBFGS: WARNING - looks like bisection search has failed?\n",
      "Line 9600: *** There were at least     3 warnings during this run ***\n",
      "\n",
      "===== WARNINGS in: L8_di.castep =====\n",
      "      full path: /Users/steven/academic-iCloud/Calculations/castep/Hydrogen_Bridge/1x6x8/1x6x8-821MP-SP-negative/L8_di\n",
      "\n",
      "Line 522: *Warning* max. SCF cycles performed but system has not reached the groundstate.\n",
      "Line 531: Warning: electronic minimisation did not converge when finding ground state.\n",
      "Line 1062: WARNING - user ionic constraints and symmetry specified\n",
      "Line 6465: LBFGS: WARNING - trial step suggests complex energy landscape\n",
      "Line 7463: LBFGS: WARNING - looks like bisection search has failed?\n",
      "Line 8204: *** There were at least     3 warnings during this run ***\n",
      "\n",
      "===== WARNINGS in: L8_Hb.castep =====\n",
      "      full path: /Users/steven/academic-iCloud/Calculations/castep/Hydrogen_Bridge/1x6x8/1x6x8-821MP-SP-negative/L8_Hb\n",
      "\n",
      "Line 508: WARNING - user ionic constraints and symmetry specified\n",
      "Line 9442: *** There were at least     1 warnings during this run ***\n"
     ]
    }
   ],
   "source": [
    "castep_paths = ct.find_all_castep_files(job_path)\n",
    "for castep_path in castep_paths:\n",
    "    ct.extract_warnings(castep_path,verbose=verbose)\n"
   ]
  },
  {
   "cell_type": "code",
   "execution_count": null,
   "metadata": {},
   "outputs": [],
   "source": []
  }
 ],
 "metadata": {
  "kernelspec": {
   "display_name": "dfttools",
   "language": "python",
   "name": "python3"
  },
  "language_info": {
   "codemirror_mode": {
    "name": "ipython",
    "version": 3
   },
   "file_extension": ".py",
   "mimetype": "text/x-python",
   "name": "python",
   "nbconvert_exporter": "python",
   "pygments_lexer": "ipython3",
   "version": "3.11.8"
  }
 },
 "nbformat": 4,
 "nbformat_minor": 2
}
