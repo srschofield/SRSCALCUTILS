{
 "cells": [
  {
   "cell_type": "markdown",
   "metadata": {},
   "source": [
    "<!-- # CNN autoencoder and Clustering from MTRX data\n",
    "\n",
    "Use this notebook to load Scienta Omicron Matrix format SPM data and create standardised images for machine learning training and analysis. The code can generate both JPG image data, useful for manually checking the data, and windowed numpy data that can be loaded into ML models. \n",
    "\n",
    "The notebook then creates an autoencoder for training on a large dataset, followed by KMEANS clustering. \n",
    "\n",
    "**Author**: Steven R. Schofield  \n",
    "**Created**: November, 2024 -->"
   ]
  },
  {
   "cell_type": "markdown",
   "metadata": {},
   "source": [
    "# CASTEP - Si 001 surface\n",
    "## Steven R. Schofield (Universtiy College London) May 2025"
   ]
  },
  {
   "cell_type": "markdown",
   "metadata": {},
   "source": [
    "### Determine appropriate paths whether we are working on macbook or the cluster"
   ]
  },
  {
   "cell_type": "code",
   "execution_count": 1,
   "metadata": {},
   "outputs": [
    {
     "name": "stdout",
     "output_type": "stream",
     "text": [
      "module_path = /Users/steven/academic-iCloud/Python/modules\n",
      "data_path = /Users/steven/academic-iCloud/Calculations/castep\n"
     ]
    }
   ],
   "source": [
    "import sys\n",
    "from pathlib import Path\n",
    "\n",
    "# Define candidate paths using Path objects\n",
    "module_path_list = [\n",
    "    Path('/Users/steven/academic-iCloud/Python/modules'),\n",
    "    Path('/hpc/srs/Python/modules')\n",
    "]\n",
    "\n",
    "data_path_list = [\n",
    "    Path('/Users/steven/academic-iCloud/Calculations/castep/'),\n",
    "    Path('/hpc/srs/castep')\n",
    "]\n",
    "\n",
    "# Resolve actual paths\n",
    "module_path = next((p for p in module_path_list if p.exists()), None)\n",
    "data_path = next((p for p in data_path_list if p.exists()), None)\n",
    "\n",
    "# Check and report missing paths\n",
    "if module_path is None:\n",
    "    print(\"Error: Could not locate a valid module path.\")\n",
    "if data_path is None:\n",
    "    print(\"Error: Could not locate a valid data path.\")\n",
    "\n",
    "if module_path is None or data_path is None:\n",
    "    sys.exit(1)\n",
    "\n",
    "# Add module_path to sys.path if needed\n",
    "if str(module_path) not in sys.path:\n",
    "    sys.path.insert(0, str(module_path))\n",
    "\n",
    "# Print resolved paths\n",
    "print(f\"module_path = {module_path}\")\n",
    "print(f\"data_path = {data_path}\")"
   ]
  },
  {
   "cell_type": "markdown",
   "metadata": {},
   "source": [
    "### Import modules"
   ]
  },
  {
   "cell_type": "code",
   "execution_count": 2,
   "metadata": {},
   "outputs": [
    {
     "data": {
      "application/vnd.jupyter.widget-view+json": {
       "model_id": "f9063566ee884f5e94531b80ffd197e2",
       "version_major": 2,
       "version_minor": 0
      },
      "text/plain": []
     },
     "metadata": {},
     "output_type": "display_data"
    }
   ],
   "source": [
    "# # Ensure modules are reloaded \n",
    "%load_ext autoreload\n",
    "%autoreload 2\n",
    "\n",
    "# Import standard modules\n",
    "import numpy as np\n",
    "import pandas as pd\n",
    "import os\n",
    "from matplotlib import pyplot as plt\n",
    "\n",
    "# Import custom module\n",
    "import SRSCALCUTILS.castep_tools as ct\n",
    "\n",
    "from IPython.display import display"
   ]
  },
  {
   "cell_type": "markdown",
   "metadata": {},
   "source": [
    "### Paths for the calculation"
   ]
  },
  {
   "cell_type": "code",
   "execution_count": 3,
   "metadata": {},
   "outputs": [
    {
     "name": "stdout",
     "output_type": "stream",
     "text": [
      "job_path = /Users/steven/academic-iCloud/Calculations/castep/work-2025/si001_surf\n",
      "Current files in this directory:\n",
      "si001_test.castep_bin\n",
      "si001_test.cell\n",
      "si001_test.check\n",
      "si001_test.geom\n",
      "si001_test.castep\n",
      "si001_test-out.cell\n",
      "si001_test.cst_esp\n",
      "si001_test.bib\n",
      "Si_C19_PBE_OTF.usp\n",
      "si001_test.bands\n",
      "si001_test.param\n"
     ]
    }
   ],
   "source": [
    "# General\n",
    "job_folder = 'work-2025/si001_surf'\n",
    "job_path = data_path / job_folder\n",
    "verbose = False             # Set this True to print out more information\n",
    "\n",
    "# Print resolved paths\n",
    "print(f\"job_path = {job_path}\")\n",
    "\n",
    "# If it doesn’t exist, create it (including any missing parent folders)\n",
    "if not os.path.isdir(job_path):\n",
    "    os.makedirs(job_path, exist_ok=True)\n",
    "\n",
    "# Now safely switch into it\n",
    "os.chdir(job_path)\n",
    "\n",
    "print('Current files in this directory:')\n",
    "for file in os.listdir():\n",
    "    print(file)"
   ]
  },
  {
   "cell_type": "markdown",
   "metadata": {},
   "source": [
    "### Base parameters of calculation and unit cell"
   ]
  },
  {
   "cell_type": "code",
   "execution_count": 19,
   "metadata": {},
   "outputs": [],
   "source": [
    "# Set up the param and cell files for the calculation\n",
    "\n",
    "filename = \"si001_surf\"\n",
    "title = \"silicon 001 surface tests\"\n",
    "\n",
    "params = {'task' : 'geomopt',\n",
    "          'xc_functional'           : 'PBE',\n",
    "          'cut_off_energy'          : 400,\n",
    "          'spin_polarised'          : 'false',\n",
    "          'write_cell_structure'    : 'true',\n",
    "          'charge'                  : 0,\n",
    "          'nextra_bands'            : 8,\n",
    "          'geom_energy_tol'         : 0.00005,          # default: 0.00005 eV \n",
    "          'geom_disp_tol'           : 0.002,            # default: 0.002 Ang.\n",
    "          'geom_max_iter'           : 100,              # default: 30\n",
    "          'geom_convergence_win'    : 2,                # default: 2\n",
    "          'max_scf_cycles'          : 300               # default: 30\n",
    "          }              \n",
    "\n",
    "lattice_cart = np.array([\n",
    "            [3.8641976,     0.0,     0.0],\n",
    "            [0.0,     3.8641976,     0.0],\n",
    "            [0.0,     0.0,     5.4648012]\n",
    "        ])\n",
    "\n",
    "positions_frac = np.array([\n",
    "            ['Si', 0.0,  0.0,  0.0],\n",
    "            ['Si', 0.5,  0.0,  0.25],\n",
    "            ['Si', 0.5,  0.5,  0.5],\n",
    "            ['Si', 0.0,  0.5,  0.75],\n",
    "        ])\n",
    "\n",
    "cell_constraints = np.array([\n",
    "            [0,  0,  0],\n",
    "            [0,  0,  0]\n",
    "        ])\n",
    "\n",
    "kpoints_mp_grid = np.array([2, 2, 2])\n",
    "\n",
    "fix_all_ions = False\n",
    "symmetry_generate=False\n",
    "symmetry_tol = 0.01\n"
   ]
  },
  {
   "cell_type": "markdown",
   "metadata": {},
   "source": [
    "### Build supercell"
   ]
  },
  {
   "cell_type": "code",
   "execution_count": 20,
   "metadata": {},
   "outputs": [],
   "source": [
    "n = [2, 2, 1] \n",
    "super_positions_frac, super_lattice_cart = ct.create_supercell_from_fractional_coords(positions_frac,lattice_cart,n)"
   ]
  },
  {
   "cell_type": "markdown",
   "metadata": {},
   "source": [
    "### Add hydrogen termination to cell bottom "
   ]
  },
  {
   "cell_type": "code",
   "execution_count": 21,
   "metadata": {},
   "outputs": [],
   "source": [
    "axis = 'z'\n",
    "criteria = \"minimum\"\n",
    "ref_value, _ = ct.find_plane_value(super_positions_frac, super_lattice_cart, axis, criteria)\n",
    "tolerance = 0.5\n",
    "labelled_positions_frac = ct.select_atoms_by_plane(super_positions_frac, super_lattice_cart, axis, ref_value,\n",
    "                          tolerance=tolerance, include=None, exclude=None)"
   ]
  },
  {
   "cell_type": "code",
   "execution_count": 22,
   "metadata": {},
   "outputs": [
    {
     "data": {
      "text/plain": [
       "[[1, False, 'Si', 0.5, 0.75, 0.75],\n",
       " [2, False, 'Si', 0.0, 0.75, 0.75],\n",
       " [3, False, 'Si', 0.5, 0.25, 0.75],\n",
       " [4, False, 'Si', 0.0, 0.25, 0.75],\n",
       " [5, False, 'Si', 0.75, 0.75, 0.5],\n",
       " [6, False, 'Si', 0.25, 0.75, 0.5],\n",
       " [7, False, 'Si', 0.75, 0.25, 0.5],\n",
       " [8, False, 'Si', 0.25, 0.25, 0.5],\n",
       " [9, False, 'Si', 0.75, 0.5, 0.25],\n",
       " [10, False, 'Si', 0.25, 0.5, 0.25],\n",
       " [11, False, 'Si', 0.75, 0.0, 0.25],\n",
       " [12, False, 'Si', 0.25, 0.0, 0.25],\n",
       " [13, True, 'Si', 0.5, 0.5, 0.0],\n",
       " [14, True, 'Si', 0.0, 0.5, 0.0],\n",
       " [15, True, 'Si', 0.5, 0.0, 0.0],\n",
       " [16, True, 'Si', 0.0, 0.0, 0.0]]"
      ]
     },
     "execution_count": 22,
     "metadata": {},
     "output_type": "execute_result"
    }
   ],
   "source": [
    "labelled_positions_frac"
   ]
  },
  {
   "cell_type": "code",
   "execution_count": 36,
   "metadata": {},
   "outputs": [],
   "source": [
    "import numpy as np\n",
    "\n",
    "def add_offset_atoms(labeled_positions_frac, lattice_cart, bond, atom=\"H\"):\n",
    "    \"\"\"\n",
    "    Parameters\n",
    "    ----------\n",
    "    labeled_positions_frac : array-like of shape (N, 6)\n",
    "        Each row: [index, flag_bool, symbol, frac_x, frac_y, frac_z]\n",
    "    lattice_cart : (3,3) array\n",
    "        Unit cell vectors in Cartesian coordinates.\n",
    "    bond : array-like of shape (3,)\n",
    "        Offset vector in Angstrom (Cartesian).\n",
    "    atom : str, optional\n",
    "        Symbol for the new atom to add (default \"H\").\n",
    "\n",
    "    Returns\n",
    "    -------\n",
    "    positions_frac : ndarray of shape (N+M, 4), dtype=object\n",
    "        Columns: [symbol, frac_x, frac_y, frac_z]\n",
    "        where M is the number of rows in input with flag=True.\n",
    "\n",
    "    new_lattice_cart : ndarray of shape (3,3)\n",
    "        A copy of lattice_cart with its [2,2] element increased by bond[2].\n",
    "    \"\"\"\n",
    "    # 1) convert bond to fractional coords\n",
    "    inv_lat = np.linalg.inv(lattice_cart)\n",
    "    bond = np.asarray(bond, dtype=float)\n",
    "    bond_frac = bond @ inv_lat\n",
    "\n",
    "    # 2) build the positions list\n",
    "    out = []\n",
    "    for idx, flag, sym, fx, fy, fz in labeled_positions_frac:\n",
    "        frac = np.array([fx, fy, fz], dtype=float)\n",
    "        out.append([sym, float(frac[0]), float(frac[1]), float(frac[2])])\n",
    "        if flag:\n",
    "            new_f = (frac + bond_frac) % 1.0\n",
    "            out.append([atom, float(new_f[0]), float(new_f[1]), float(new_f[2])])\n",
    "\n",
    "    positions_frac = np.array(out, dtype=object)\n",
    "\n",
    "    # 3) grow the c‐axis of the cell by the bond’s z‐component\n",
    "    new_lattice_cart = lattice_cart.copy()\n",
    "    new_lattice_cart[2, 2] += -bond[2]\n",
    "\n",
    "    return positions_frac, new_lattice_cart"
   ]
  },
  {
   "cell_type": "code",
   "execution_count": 38,
   "metadata": {},
   "outputs": [
    {
     "name": "stdout",
     "output_type": "stream",
     "text": [
      "[['Si' 0.5 0.75 0.75]\n",
      " ['Si' 0.0 0.75 0.75]\n",
      " ['Si' 0.5 0.25 0.75]\n",
      " ['Si' 0.0 0.25 0.75]\n",
      " ['Si' 0.75 0.75 0.5]\n",
      " ['Si' 0.25 0.75 0.5]\n",
      " ['Si' 0.75 0.25 0.5]\n",
      " ['Si' 0.25 0.25 0.5]\n",
      " ['Si' 0.75 0.5 0.25]\n",
      " ['Si' 0.25 0.5 0.25]\n",
      " ['Si' 0.75 0.0 0.25]\n",
      " ['Si' 0.25 0.0 0.25]\n",
      " ['Si' 0.5 0.5 0.0]\n",
      " ['H' 0.5 0.5 0.9085053633790009]\n",
      " ['Si' 0.0 0.5 0.0]\n",
      " ['H' 0.0 0.5 0.9085053633790009]\n",
      " ['Si' 0.5 0.0 0.0]\n",
      " ['H' 0.5 0.0 0.9085053633790009]\n",
      " ['Si' 0.0 0.0 0.0]\n",
      " ['H' 0.0 0.0 0.9085053633790009]]\n",
      "[[7.7283952 0.        0.       ]\n",
      " [0.        7.7283952 0.       ]\n",
      " [0.        0.        5.9648012]]\n"
     ]
    }
   ],
   "source": [
    "bond = np.array([0.0, 0.0, -0.5]) \n",
    "new_positions_frac, new_lattice_cart = add_offset_atoms(labelled_positions_frac,\n",
    "                                    super_lattice_cart,\n",
    "                                    bond,\n",
    "                                    atom=\"H\")\n",
    "print(new_positions_frac)\n",
    "print(new_lattice_cart)\n"
   ]
  },
  {
   "cell_type": "markdown",
   "metadata": {},
   "source": [
    "### Add vacuum spacing"
   ]
  },
  {
   "cell_type": "code",
   "execution_count": null,
   "metadata": {},
   "outputs": [],
   "source": [
    "vac = 10\n",
    "super_positions_frac, super_lattice_cart = ct.create_vacuum_spacing(super_positions_frac, super_lattice_cart, vac)"
   ]
  },
  {
   "cell_type": "markdown",
   "metadata": {},
   "source": [
    "### Add ionic contraints"
   ]
  },
  {
   "cell_type": "code",
   "execution_count": null,
   "metadata": {},
   "outputs": [],
   "source": [
    "# Create fixed ion constraints\n",
    "conditions = \"z < 2.5\"\n",
    "ionic_constraints = ct.select_atoms_by_region(super_positions_frac, super_lattice_cart, conditions)\n",
    "print(ionic_constraints)"
   ]
  },
  {
   "cell_type": "code",
   "execution_count": null,
   "metadata": {},
   "outputs": [],
   "source": [
    "filename = f\"si001_test\"\n",
    "castep_path = job_path / f\"{filename}.castep\"\n",
    "\n",
    "print('=' * 80 + f'\\nCASTEP file: {castep_path}\\n' + '=' * 80 + '\\n')   \n",
    "\n",
    "param_filename = ct.write_param_file(\n",
    "    params,\n",
    "    title = title,\n",
    "    filename=filename,\n",
    "    path=job_path,\n",
    "    display_file=True\n",
    "    )\n",
    "\n",
    "cell_filename = ct.write_cell_file(\n",
    "    title = title,\n",
    "    path=job_path,\n",
    "    filename=filename,\n",
    "    lattice_cart=super_lattice_cart,\n",
    "    positions_frac=super_positions_frac,\n",
    "    cell_constraints=cell_constraints,\n",
    "    ionic_constraints=ionic_constraints,\n",
    "    fix_all_ions=fix_all_ions,\n",
    "    symmetry_generate=symmetry_generate,\n",
    "    symmetry_tol = symmetry_tol,\n",
    "    kpoints_mp_grid=kpoints_mp_grid,\n",
    "    display_file=True\n",
    ")"
   ]
  },
  {
   "cell_type": "code",
   "execution_count": null,
   "metadata": {},
   "outputs": [],
   "source": [
    "# if str(module_path) == '/hpc/srs/Python/modules':\n",
    "#     !bash -l -c \"mpirun -np 62 castep.mpi {filename}\"\n",
    "# else:\n",
    "#     !zsh -l -c \"castepmpi {filename}\"\n"
   ]
  },
  {
   "cell_type": "code",
   "execution_count": null,
   "metadata": {},
   "outputs": [],
   "source": [
    "\n",
    "# unit_cell, a, b, c, alpha, beta, gamma = ct.get_final_lattice_parameters(castep_path)\n",
    "# energy_optimisation = ct.get_LBFGS_energies(castep_path)\n",
    "# energies = [val for _, val in energy_optimisation]\n",
    "# energy = energies[-1]\n",
    "\n",
    "# print('Optimised energy {} eV'.format(energy))\n",
    "# print('Optimised lattice constants a,b = {} Ang., c = {} Ang.'.format(a,c))\n",
    "# print('Unit cell:')\n",
    "# for line in unit_cell:\n",
    "#     print(' '*2,np.abs(line))\n"
   ]
  }
 ],
 "metadata": {
  "kernelspec": {
   "display_name": "dfttools",
   "language": "python",
   "name": "python3"
  },
  "language_info": {
   "codemirror_mode": {
    "name": "ipython",
    "version": 3
   },
   "file_extension": ".py",
   "mimetype": "text/x-python",
   "name": "python",
   "nbconvert_exporter": "python",
   "pygments_lexer": "ipython3",
   "version": "3.11.8"
  }
 },
 "nbformat": 4,
 "nbformat_minor": 2
}
