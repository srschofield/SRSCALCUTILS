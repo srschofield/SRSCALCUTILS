{
 "cells": [
  {
   "cell_type": "markdown",
   "metadata": {},
   "source": [
    "<!-- # CNN autoencoder and Clustering from MTRX data\n",
    "\n",
    "Use this notebook to load Scienta Omicron Matrix format SPM data and create standardised images for machine learning training and analysis. The code can generate both JPG image data, useful for manually checking the data, and windowed numpy data that can be loaded into ML models. \n",
    "\n",
    "The notebook then creates an autoencoder for training on a large dataset, followed by KMEANS clustering. \n",
    "\n",
    "**Author**: Steven R. Schofield  \n",
    "**Created**: November, 2024 -->"
   ]
  },
  {
   "cell_type": "markdown",
   "metadata": {},
   "source": [
    "# CASTEP output analysis\n",
    "## Steven R. Schofield (Universtiy College London) May 2025"
   ]
  },
  {
   "cell_type": "markdown",
   "metadata": {},
   "source": [
    "### Load required modules"
   ]
  },
  {
   "cell_type": "code",
   "execution_count": 12,
   "metadata": {},
   "outputs": [
    {
     "name": "stdout",
     "output_type": "stream",
     "text": [
      "module_path = /Users/steven/academic-iCloud/Python/modules\n",
      "data_path = /Users/steven/academic-iCloud/Calculations/castep\n"
     ]
    }
   ],
   "source": [
    "import sys\n",
    "from pathlib import Path\n",
    "\n",
    "# Define candidate paths using Path objects\n",
    "module_path_list = [\n",
    "    Path('/Users/steven/academic-iCloud/Python/modules'),\n",
    "    Path('/hpc/srs/Python/modules')\n",
    "]\n",
    "\n",
    "data_path_list = [\n",
    "    Path('/Users/steven/academic-iCloud/Calculations/castep/'),\n",
    "    Path('/hpc/srs/Python-data')\n",
    "]\n",
    "\n",
    "# Resolve actual paths\n",
    "module_path = next((p for p in module_path_list if p.exists()), None)\n",
    "data_path = next((p for p in data_path_list if p.exists()), None)\n",
    "\n",
    "# Check and report missing paths\n",
    "if module_path is None:\n",
    "    print(\"Error: Could not locate a valid module path.\")\n",
    "if data_path is None:\n",
    "    print(\"Error: Could not locate a valid data path.\")\n",
    "\n",
    "if module_path is None or data_path is None:\n",
    "    sys.exit(1)\n",
    "\n",
    "# Add module_path to sys.path if needed\n",
    "if str(module_path) not in sys.path:\n",
    "    sys.path.insert(0, str(module_path))\n",
    "\n",
    "# Print resolved paths\n",
    "print(f\"module_path = {module_path}\")\n",
    "print(f\"data_path = {data_path}\")"
   ]
  },
  {
   "cell_type": "code",
   "execution_count": 13,
   "metadata": {},
   "outputs": [
    {
     "name": "stdout",
     "output_type": "stream",
     "text": [
      "The autoreload extension is already loaded. To reload it, use:\n",
      "  %reload_ext autoreload\n"
     ]
    }
   ],
   "source": [
    "# # Ensure modules are reloaded \n",
    "%load_ext autoreload\n",
    "%autoreload 2\n",
    "\n",
    "# Import standard modules\n",
    "import numpy as np\n",
    "import pandas as pd\n",
    "\n",
    "# Import custom module\n",
    "import SRSCALCUTILS.castep_tools as ct\n",
    "\n",
    "from IPython.display import display, Image as StaticImage"
   ]
  },
  {
   "cell_type": "markdown",
   "metadata": {},
   "source": [
    "### Programme variable setup"
   ]
  },
  {
   "cell_type": "code",
   "execution_count": 14,
   "metadata": {},
   "outputs": [
    {
     "name": "stdout",
     "output_type": "stream",
     "text": [
      "job_path = /Users/steven/academic-iCloud/Calculations/castep/work-2025/tmp\n"
     ]
    }
   ],
   "source": [
    "# Parameters for windows creation\n",
    "# General\n",
    "job_folder = 'work-2025/tmp'\n",
    "job_path = data_path / job_folder\n",
    "verbose = False             # Set this True to print out more information\n",
    "\n",
    "# Print resolved paths\n",
    "print(f\"job_path = {job_path}\")"
   ]
  },
  {
   "cell_type": "code",
   "execution_count": 16,
   "metadata": {},
   "outputs": [
    {
     "name": "stdout",
     "output_type": "stream",
     "text": [
      "\n",
      "===========================================================================\n",
      "                          FILE: si_001_bulk.castep                         \n",
      "   PATH: /Users/steven/academic-iCloud/Calculations/castep/work-2025/tmp   \n",
      "===========================================================================\n",
      "\n",
      "Final enthalpy = -681.784652 eV.\n"
     ]
    },
    {
     "data": {
      "image/png": "[encoded data removed]",
      "text/plain": [
       "<Figure size 500x200 with 1 Axes>"
      ]
     },
     "metadata": {},
     "output_type": "display_data"
    },
    {
     "data": {
      "text/html": [
       "<div>\n",
       "<style scoped>\n",
       "    .dataframe tbody tr th:only-of-type {\n",
       "        vertical-align: middle;\n",
       "    }\n",
       "\n",
       "    .dataframe tbody tr th {\n",
       "        vertical-align: top;\n",
       "    }\n",
       "\n",
       "    .dataframe thead th {\n",
       "        text-align: right;\n",
       "    }\n",
       "</style>\n",
       "<table border=\"1\" class=\"dataframe\">\n",
       "  <thead>\n",
       "    <tr style=\"text-align: right;\">\n",
       "      <th></th>\n",
       "      <th>Cell parameters</th>\n",
       "      <th>Value</th>\n",
       "    </tr>\n",
       "  </thead>\n",
       "  <tbody>\n",
       "    <tr>\n",
       "      <th>0</th>\n",
       "      <td>ax</td>\n",
       "      <td>3.8</td>\n",
       "    </tr>\n",
       "    <tr>\n",
       "      <th>1</th>\n",
       "      <td>ay</td>\n",
       "      <td>3.8</td>\n",
       "    </tr>\n",
       "    <tr>\n",
       "      <th>2</th>\n",
       "      <td>az</td>\n",
       "      <td>5.4</td>\n",
       "    </tr>\n",
       "    <tr>\n",
       "      <th>3</th>\n",
       "      <td>nx</td>\n",
       "      <td>err</td>\n",
       "    </tr>\n",
       "    <tr>\n",
       "      <th>4</th>\n",
       "      <td>ny</td>\n",
       "      <td>err</td>\n",
       "    </tr>\n",
       "    <tr>\n",
       "      <th>5</th>\n",
       "      <td>nz</td>\n",
       "      <td>err</td>\n",
       "    </tr>\n",
       "    <tr>\n",
       "      <th>6</th>\n",
       "      <td>alpha</td>\n",
       "      <td>90.0</td>\n",
       "    </tr>\n",
       "    <tr>\n",
       "      <th>7</th>\n",
       "      <td>beta</td>\n",
       "      <td>90.0</td>\n",
       "    </tr>\n",
       "    <tr>\n",
       "      <th>8</th>\n",
       "      <td>gamma</td>\n",
       "      <td>90.0</td>\n",
       "    </tr>\n",
       "  </tbody>\n",
       "</table>\n",
       "</div>"
      ],
      "text/plain": [
       "  Cell parameters Value\n",
       "0              ax   3.8\n",
       "1              ay   3.8\n",
       "2              az   5.4\n",
       "3              nx   err\n",
       "4              ny   err\n",
       "5              nz   err\n",
       "6           alpha  90.0\n",
       "7            beta  90.0\n",
       "8           gamma  90.0"
      ]
     },
     "metadata": {},
     "output_type": "display_data"
    },
    {
     "data": {
      "text/html": [
       "<div>\n",
       "<style scoped>\n",
       "    .dataframe tbody tr th:only-of-type {\n",
       "        vertical-align: middle;\n",
       "    }\n",
       "\n",
       "    .dataframe tbody tr th {\n",
       "        vertical-align: top;\n",
       "    }\n",
       "\n",
       "    .dataframe thead th {\n",
       "        text-align: right;\n",
       "    }\n",
       "</style>\n",
       "<table border=\"1\" class=\"dataframe\">\n",
       "  <thead>\n",
       "    <tr style=\"text-align: right;\">\n",
       "      <th></th>\n",
       "      <th>General parameter</th>\n",
       "      <th>Value</th>\n",
       "    </tr>\n",
       "  </thead>\n",
       "  <tbody>\n",
       "    <tr>\n",
       "      <th>0</th>\n",
       "      <td>plane wave basis set cut-off</td>\n",
       "      <td>163.2683   eV</td>\n",
       "    </tr>\n",
       "    <tr>\n",
       "      <th>1</th>\n",
       "      <td>finite basis set correction</td>\n",
       "      <td>automatic</td>\n",
       "    </tr>\n",
       "    <tr>\n",
       "      <th>2</th>\n",
       "      <td>number of  electrons</td>\n",
       "      <td>16.0</td>\n",
       "    </tr>\n",
       "    <tr>\n",
       "      <th>3</th>\n",
       "      <td>net charge of system</td>\n",
       "      <td>0.0</td>\n",
       "    </tr>\n",
       "    <tr>\n",
       "      <th>4</th>\n",
       "      <td>number of bands</td>\n",
       "      <td>18.0</td>\n",
       "    </tr>\n",
       "    <tr>\n",
       "      <th>5</th>\n",
       "      <td>total energy / atom convergence tol.</td>\n",
       "      <td>0.1000E-04   eV</td>\n",
       "    </tr>\n",
       "    <tr>\n",
       "      <th>6</th>\n",
       "      <td>eigen-energy convergence tolerance</td>\n",
       "      <td>0.1000E-05   eV</td>\n",
       "    </tr>\n",
       "    <tr>\n",
       "      <th>7</th>\n",
       "      <td>max force / atom convergence tol.</td>\n",
       "      <td>ignored</td>\n",
       "    </tr>\n",
       "    <tr>\n",
       "      <th>8</th>\n",
       "      <td>convergence tolerance window</td>\n",
       "      <td>3   steps</td>\n",
       "    </tr>\n",
       "    <tr>\n",
       "      <th>9</th>\n",
       "      <td>smearing scheme</td>\n",
       "      <td>Gaussian</td>\n",
       "    </tr>\n",
       "    <tr>\n",
       "      <th>10</th>\n",
       "      <td>smearing width</td>\n",
       "      <td>0.2000       eV</td>\n",
       "    </tr>\n",
       "    <tr>\n",
       "      <th>11</th>\n",
       "      <td>Fermi energy convergence tolerance</td>\n",
       "      <td>0.2721E-13   eV</td>\n",
       "    </tr>\n",
       "    <tr>\n",
       "      <th>12</th>\n",
       "      <td>periodic dipole correction</td>\n",
       "      <td>NONE</td>\n",
       "    </tr>\n",
       "    <tr>\n",
       "      <th>13</th>\n",
       "      <td>kx</td>\n",
       "      <td>8</td>\n",
       "    </tr>\n",
       "    <tr>\n",
       "      <th>14</th>\n",
       "      <td>ky</td>\n",
       "      <td>8</td>\n",
       "    </tr>\n",
       "    <tr>\n",
       "      <th>15</th>\n",
       "      <td>kz</td>\n",
       "      <td>8</td>\n",
       "    </tr>\n",
       "    <tr>\n",
       "      <th>16</th>\n",
       "      <td>k_offset</td>\n",
       "      <td>(0.0, 0.0, 0.0)</td>\n",
       "    </tr>\n",
       "    <tr>\n",
       "      <th>17</th>\n",
       "      <td>n_kpoints</td>\n",
       "      <td>40</td>\n",
       "    </tr>\n",
       "  </tbody>\n",
       "</table>\n",
       "</div>"
      ],
      "text/plain": [
       "                       General parameter            Value\n",
       "0           plane wave basis set cut-off    163.2683   eV\n",
       "1            finite basis set correction        automatic\n",
       "2                   number of  electrons             16.0\n",
       "3                   net charge of system              0.0\n",
       "4                        number of bands             18.0\n",
       "5   total energy / atom convergence tol.  0.1000E-04   eV\n",
       "6     eigen-energy convergence tolerance  0.1000E-05   eV\n",
       "7      max force / atom convergence tol.          ignored\n",
       "8           convergence tolerance window        3   steps\n",
       "9                        smearing scheme         Gaussian\n",
       "10                        smearing width  0.2000       eV\n",
       "11    Fermi energy convergence tolerance  0.2721E-13   eV\n",
       "12            periodic dipole correction             NONE\n",
       "13                                    kx                8\n",
       "14                                    ky                8\n",
       "15                                    kz                8\n",
       "16                              k_offset  (0.0, 0.0, 0.0)\n",
       "17                             n_kpoints               40"
      ]
     },
     "metadata": {},
     "output_type": "display_data"
    },
    {
     "ename": "ValueError",
     "evalue": "shapes (0,) and (3,3) not aligned: 0 (dim 0) != 3 (dim 0)",
     "output_type": "error",
     "traceback": [
      "\u001b[31m---------------------------------------------------------------------------\u001b[39m",
      "\u001b[31mValueError\u001b[39m                                Traceback (most recent call last)",
      "\u001b[36mCell\u001b[39m\u001b[36m \u001b[39m\u001b[32mIn[16]\u001b[39m\u001b[32m, line 2\u001b[39m\n\u001b[32m      1\u001b[39m castep_paths = ct.find_all_files_by_extension(job_path,\u001b[33m'\u001b[39m\u001b[33mcastep\u001b[39m\u001b[33m'\u001b[39m)\n\u001b[32m----> \u001b[39m\u001b[32m2\u001b[39m \u001b[43mct\u001b[49m\u001b[43m.\u001b[49m\u001b[43moptimisation_summaries\u001b[49m\u001b[43m(\u001b[49m\u001b[43mcastep_paths\u001b[49m\u001b[43m)\u001b[49m\n",
      "\u001b[36mFile \u001b[39m\u001b[32m~/academic-iCloud/Python/modules/SRSCALCUTILS/castep_tools.py:517\u001b[39m, in \u001b[36moptimisation_summaries\u001b[39m\u001b[34m(castep_paths)\u001b[39m\n\u001b[32m    514\u001b[39m display(general_params_df) \n\u001b[32m    516\u001b[39m \u001b[38;5;66;03m# Show structure\u001b[39;00m\n\u001b[32m--> \u001b[39m\u001b[32m517\u001b[39m atoms = \u001b[43mfractional_coords_from_castep\u001b[49m\u001b[43m(\u001b[49m\u001b[43mcastep_path\u001b[49m\u001b[43m)\u001b[49m\n\u001b[32m    518\u001b[39m view = view_structure(atoms,show_structure=\u001b[38;5;28;01mFalse\u001b[39;00m)\n\u001b[32m    519\u001b[39m display(view)\n",
      "\u001b[36mFile \u001b[39m\u001b[32m~/academic-iCloud/Python/modules/SRSCALCUTILS/castep_tools.py:447\u001b[39m, in \u001b[36mfractional_coords_from_castep\u001b[39m\u001b[34m(castep_path)\u001b[39m\n\u001b[32m    442\u001b[39m cell = [[a, \u001b[32m0\u001b[39m, \u001b[32m0\u001b[39m],\n\u001b[32m    443\u001b[39m         [\u001b[32m0\u001b[39m, b, \u001b[32m0\u001b[39m],\n\u001b[32m    444\u001b[39m         [\u001b[32m0\u001b[39m, \u001b[32m0\u001b[39m, c]]\n\u001b[32m    446\u001b[39m \u001b[38;5;66;03m# 4. build the Atoms object\u001b[39;00m\n\u001b[32m--> \u001b[39m\u001b[32m447\u001b[39m atoms = \u001b[43mAtoms\u001b[49m\u001b[43m(\u001b[49m\u001b[43msymbols\u001b[49m\u001b[43m=\u001b[49m\u001b[43msymbols\u001b[49m\u001b[43m,\u001b[49m\n\u001b[32m    448\u001b[39m \u001b[43m              \u001b[49m\u001b[43mscaled_positions\u001b[49m\u001b[43m=\u001b[49m\u001b[43mscaled_positions\u001b[49m\u001b[43m,\u001b[49m\n\u001b[32m    449\u001b[39m \u001b[43m              \u001b[49m\u001b[43mcell\u001b[49m\u001b[43m=\u001b[49m\u001b[43mcell\u001b[49m\u001b[43m,\u001b[49m\n\u001b[32m    450\u001b[39m \u001b[43m              \u001b[49m\u001b[43mpbc\u001b[49m\u001b[43m=\u001b[49m\u001b[38;5;28;43;01mTrue\u001b[39;49;00m\u001b[43m)\u001b[49m\n\u001b[32m    452\u001b[39m \u001b[38;5;28;01mreturn\u001b[39;00m atoms\n",
      "\u001b[36mFile \u001b[39m\u001b[32m/opt/anaconda3/envs/dfttools/lib/python3.11/site-packages/ase/atoms.py:237\u001b[39m, in \u001b[36mAtoms.__init__\u001b[39m\u001b[34m(self, symbols, positions, numbers, tags, momenta, masses, magmoms, charges, scaled_positions, cell, pbc, celldisp, constraint, calculator, info, velocities)\u001b[39m\n\u001b[32m    235\u001b[39m     \u001b[38;5;28;01melse\u001b[39;00m:\n\u001b[32m    236\u001b[39m         \u001b[38;5;28;01massert\u001b[39;00m \u001b[38;5;28mself\u001b[39m.cell.rank == \u001b[32m3\u001b[39m\n\u001b[32m--> \u001b[39m\u001b[32m237\u001b[39m         positions = \u001b[43mnp\u001b[49m\u001b[43m.\u001b[49m\u001b[43mdot\u001b[49m\u001b[43m(\u001b[49m\u001b[43mscaled_positions\u001b[49m\u001b[43m,\u001b[49m\u001b[43m \u001b[49m\u001b[38;5;28;43mself\u001b[39;49m\u001b[43m.\u001b[49m\u001b[43mcell\u001b[49m\u001b[43m)\u001b[49m\n\u001b[32m    238\u001b[39m \u001b[38;5;28;01melse\u001b[39;00m:\n\u001b[32m    239\u001b[39m     \u001b[38;5;28;01mif\u001b[39;00m scaled_positions \u001b[38;5;129;01mis\u001b[39;00m \u001b[38;5;129;01mnot\u001b[39;00m \u001b[38;5;28;01mNone\u001b[39;00m:\n",
      "\u001b[31mValueError\u001b[39m: shapes (0,) and (3,3) not aligned: 0 (dim 0) != 3 (dim 0)"
     ]
    }
   ],
   "source": [
    "castep_paths = ct.find_all_files_by_extension(job_path,'castep')\n",
    "ct.optimisation_summaries(castep_paths)\n"
   ]
  },
  {
   "cell_type": "code",
   "execution_count": 11,
   "metadata": {},
   "outputs": [
    {
     "data": {
      "text/html": [
       "<div>\n",
       "<style scoped>\n",
       "    .dataframe tbody tr th:only-of-type {\n",
       "        vertical-align: middle;\n",
       "    }\n",
       "\n",
       "    .dataframe tbody tr th {\n",
       "        vertical-align: top;\n",
       "    }\n",
       "\n",
       "    .dataframe thead th {\n",
       "        text-align: right;\n",
       "    }\n",
       "</style>\n",
       "<table border=\"1\" class=\"dataframe\">\n",
       "  <thead>\n",
       "    <tr style=\"text-align: right;\">\n",
       "      <th></th>\n",
       "      <th>File</th>\n",
       "      <th>RelPath</th>\n",
       "      <th>nx</th>\n",
       "      <th>ny</th>\n",
       "      <th>nz</th>\n",
       "      <th>kx</th>\n",
       "      <th>ky</th>\n",
       "      <th>kz</th>\n",
       "      <th>Cut-off (eV)</th>\n",
       "      <th>Net Charge</th>\n",
       "      <th>Net Spin</th>\n",
       "      <th>Final Enthalpy (eV)</th>\n",
       "    </tr>\n",
       "  </thead>\n",
       "  <tbody>\n",
       "    <tr>\n",
       "      <th>0</th>\n",
       "      <td>si_001_bulk</td>\n",
       "      <td>.</td>\n",
       "      <td>err</td>\n",
       "      <td>err</td>\n",
       "      <td>err</td>\n",
       "      <td>8</td>\n",
       "      <td>8</td>\n",
       "      <td>8</td>\n",
       "      <td>163.2683   eV</td>\n",
       "      <td>0.0</td>\n",
       "      <td>None</td>\n",
       "      <td>-681.784652</td>\n",
       "    </tr>\n",
       "    <tr>\n",
       "      <th>1</th>\n",
       "      <td>si_bulk</td>\n",
       "      <td>.</td>\n",
       "      <td>err</td>\n",
       "      <td>err</td>\n",
       "      <td>err</td>\n",
       "      <td>8</td>\n",
       "      <td>8</td>\n",
       "      <td>8</td>\n",
       "      <td>163.2683   eV</td>\n",
       "      <td>0.0</td>\n",
       "      <td>None</td>\n",
       "      <td>-1363.427220</td>\n",
       "    </tr>\n",
       "  </tbody>\n",
       "</table>\n",
       "</div>"
      ],
      "text/plain": [
       "          File RelPath   nx   ny   nz  kx  ky  kz   Cut-off (eV)  Net Charge  \\\n",
       "0  si_001_bulk       .  err  err  err   8   8   8  163.2683   eV         0.0   \n",
       "1      si_bulk       .  err  err  err   8   8   8  163.2683   eV         0.0   \n",
       "\n",
       "  Net Spin  Final Enthalpy (eV)  \n",
       "0     None          -681.784652  \n",
       "1     None         -1363.427220  "
      ]
     },
     "metadata": {},
     "output_type": "display_data"
    }
   ],
   "source": [
    "data_summary = ct.collect_summary_table(job_path)\n",
    "with pd.option_context('display.max_rows', None, 'display.max_columns', None):\n",
    "    display(data_summary)"
   ]
  },
  {
   "cell_type": "markdown",
   "metadata": {},
   "source": []
  },
  {
   "cell_type": "code",
   "execution_count": null,
   "metadata": {},
   "outputs": [],
   "source": []
  },
  {
   "cell_type": "code",
   "execution_count": null,
   "metadata": {},
   "outputs": [],
   "source": []
  }
 ],
 "metadata": {
  "kernelspec": {
   "display_name": "dfttools",
   "language": "python",
   "name": "python3"
  },
  "language_info": {
   "codemirror_mode": {
    "name": "ipython",
    "version": 3
   },
   "file_extension": ".py",
   "mimetype": "text/x-python",
   "name": "python",
   "nbconvert_exporter": "python",
   "pygments_lexer": "ipython3",
   "version": "3.11.8"
  }
 },
 "nbformat": 4,
 "nbformat_minor": 2
}
